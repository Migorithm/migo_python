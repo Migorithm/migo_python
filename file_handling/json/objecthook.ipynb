{
 "cells": [
  {
   "cell_type": "markdown",
   "metadata": {},
   "source": [
    "### Vars() - function that returns the __dict__ attribute of the given object\n",
    "\n",
    "- vars() takes a maximum of one paramter - object \n",
    "- It can be module, class, instance, or any object having the \\_\\_dict\\_\\_ attribute\n",
    "- vars() returns the \\_\\_dict\\_\\_ attribute of the given object.\n",
    "- if the object doesn't have \\_\\_dict\\_\\_ attribute, it raises a TypeError.\n",
    "- Note that \\_\\_dict\\_\\_ is a dictionary or a mapping object. it stores object's attribute"
   ]
  },
  {
   "cell_type": "code",
   "execution_count": 33,
   "metadata": {},
   "outputs": [
    {
     "name": "stdout",
     "output_type": "stream",
     "text": [
      "{'a': 5, 'b': 10}\n"
     ]
    }
   ],
   "source": [
    "#example\n",
    "class Foo:\n",
    "    def __init__(self, a=5, b=10):\n",
    "        self.a=a\n",
    "        self.b=b\n",
    "obj = Foo()\n",
    "print(vars(object))\n"
   ]
  },
  {
   "cell_type": "markdown",
   "metadata": {},
   "source": [
    "### ObjectHook - using dot notation"
   ]
  },
  {
   "cell_type": "code",
   "execution_count": 42,
   "metadata": {},
   "outputs": [],
   "source": [
    "class Conf(object):\n",
    "    # reading config file\n",
    "    def __init__(self, result):\n",
    "        vars(self).update(result)\n",
    "\n",
    "    def __repr__(self):\n",
    "        return str(self.__dict__)\n",
    "\n",
    "    @staticmethod\n",
    "    def create_conf(conf_file_path):\n",
    "        import json\n",
    "        conf = None\n",
    "        with open(conf_file_path, 'r') as f:\n",
    "            conf = json.loads(f.read(), object_hook=Conf)\n",
    "        return conf"
   ]
  },
  {
   "cell_type": "code",
   "execution_count": 45,
   "metadata": {},
   "outputs": [],
   "source": [
    "import json \n",
    "with open(\"./sample.json\",\"r\") as f:\n",
    "    conf = json.loads(f.read(),object_hook=Conf)"
   ]
  },
  {
   "cell_type": "code",
   "execution_count": 46,
   "metadata": {},
   "outputs": [
    {
     "data": {
      "text/plain": [
       "[{'type': 'Feature', 'geometry': {'type': 'MultiPolygon', 'coordinates': [[[[961890.8077449799, 1953736.581029892], [961893.1130199432, 1953750.4278202057], [961917.7972164154, 1953742.0900211334], [961890.8077449799, 1953736.581029892]]], [[[960838.6353168488, 1954194.136220932], [960940.9321193695, 1954162.593820572], [961425.0363178253, 1954074.2266216278], [961541.5372180939, 1954011.859319687], [961541.7604198456, 1954011.7301197052], [961543.1815166473, 1954010.9038219452], [961540.5010166168, 1953875.0257205963], [961527.3246173859, 1953838.047422409], [961525.4454174042, 1953834.1209201813], [961511.738817215, 1953806.0482196808], [961504.4108982086, 1953678.9789562225], [961562.5580196381, 1953669.579919815], [961890.8077449799, 1953736.581029892], [961826.7781200409, 1953351.982919693], [961767.2971172333, 1953113.9021205902], [961597.5761165619, 1953098.5136203766], [960938.335515976, 1952978.4596691132], [960938.9459209442, 1952987.1278743744], [960941.5073223114, 1953023.5036907196], [960943.1736850739, 1953047.1710681915], [960943.2158565521, 1953048.1265277863], [960949.2551212311, 1953185.744272232], [960950.4388599396, 1953212.7208538055], [960950.2780971527, 1953213.3538532257], [960941.402059555, 1953248.3026485443], [960901.9246997833, 1953321.4300670624], [960898.8862552643, 1953327.0578708649], [960670.2702693939, 1953728.7608966827], [960643.8530521393, 1953908.143316269], [960702.7239055634, 1953967.0526371002], [960838.6353168488, 1954194.136220932]]]]}, 'properties': {'adm_cd': '1106084', 'adm_nm': '서울특별시 동대문구 전농2동', 'y': '1953580', 'x': '961238'}}]"
      ]
     },
     "execution_count": 46,
     "metadata": {},
     "output_type": "execute_result"
    }
   ],
   "source": [
    "conf.features"
   ]
  }
 ],
 "metadata": {
  "interpreter": {
   "hash": "aee8b7b246df8f9039afb4144a1f6fd8d2ca17a180786b69acc140d282b71a49"
  },
  "kernelspec": {
   "display_name": "Python 3.10.0 64-bit",
   "language": "python",
   "name": "python3"
  },
  "language_info": {
   "codemirror_mode": {
    "name": "ipython",
    "version": 3
   },
   "file_extension": ".py",
   "mimetype": "text/x-python",
   "name": "python",
   "nbconvert_exporter": "python",
   "pygments_lexer": "ipython3",
   "version": "3.10.0"
  },
  "orig_nbformat": 4
 },
 "nbformat": 4,
 "nbformat_minor": 2
}
