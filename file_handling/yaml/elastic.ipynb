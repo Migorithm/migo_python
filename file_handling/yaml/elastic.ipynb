{
 "cells": [
  {
   "cell_type": "code",
   "execution_count": 1,
   "metadata": {},
   "outputs": [
    {
     "name": "stdout",
     "output_type": "stream",
     "text": [
      "{'cluster.name': 'od-fts1', 'node.name': 'od-fts1a', 'node.master': True, 'node.data': True, 'index.number_of_shards': 2, 'index.number_of_replicas': 1, 'bootstrap.mlockall': True, 'gateway.recover_after_nodes': 1, 'gateway.recover_after_time': '10m', 'gateway.expected_nodes': 2, 'action.disable_close_all_indices': True, 'action.disable_delete_all_indices': True, 'action.disable_shutdown': True, 'indices.recovery.max_bytes_per_sec': '100mb'}\n"
     ]
    }
   ],
   "source": [
    "import yaml\n",
    "\n",
    "with open(\"elasticsearch_example.yml\") as f:\n",
    "    data = yaml.load(f,Loader=yaml.FullLoader)\n",
    "    print(data)"
   ]
  },
  {
   "cell_type": "code",
   "execution_count": 11,
   "metadata": {},
   "outputs": [
    {
     "name": "stdout",
     "output_type": "stream",
     "text": [
      "action.disable_close_all_indices: true\n",
      "action.disable_delete_all_indices: true\n",
      "action.disable_shutdown: true\n",
      "bootstrap.mlockall: true\n",
      "cluster.name: od-fts1\n",
      "gateway:\n",
      "  expected_nodes: 2\n",
      "gateway.recover_after_nodes: 1\n",
      "gateway.recover_after_time: 10m\n",
      "index.number_of_replicas: 1\n",
      "index.number_of_shards: 2\n",
      "indices.recovery.max_bytes_per_sec: 100mb\n",
      "node.data: true\n",
      "node.master: true\n",
      "node.name: od-fts1a\n",
      "\n"
     ]
    }
   ],
   "source": [
    "with open(\"elasticsearch_example.yml\") as f:\n",
    "    data =  yaml.load(f,Loader=yaml.FullLoader)\n",
    "    print(yaml.dump(data))"
   ]
  },
  {
   "cell_type": "markdown",
   "metadata": {},
   "source": [
    "### Flattening dictionary using recursive function"
   ]
  },
  {
   "cell_type": "code",
   "execution_count": 13,
   "metadata": {},
   "outputs": [],
   "source": [
    "from collections.abc import MutableMapping\n",
    "\n",
    "def flatten_dict(d: MutableMapping, parent_key:str =\"\",sep: str=\".\") -> MutableMapping:\n",
    "    items=[]\n",
    "    for k ,v in d.items():\n",
    "        new_key = parent_key + sep + k if parent_key else k\n",
    "        if isinstance(v,MutableMapping):\n",
    "            items.extend(flatten_dict(v,new_key,sep=sep).items()) #return value -> tuple\n",
    "        else:\n",
    "            items.append((new_key,v)) #add tuple\n",
    "    return dict(items)  #convert tuple into key:value"
   ]
  },
  {
   "cell_type": "code",
   "execution_count": 15,
   "metadata": {},
   "outputs": [
    {
     "name": "stdout",
     "output_type": "stream",
     "text": [
      "{'cluster.name': 'od-fts1', 'node.name': 'od-fts1a', 'node.master': True, 'node.data': True, 'index.number_of_shards': 2, 'index.number_of_replicas': 1, 'bootstrap.mlockall': True, 'gateway.recover_after_nodes': 1, 'gateway.recover_after_time': '10m', 'gateway.expected_nodes': 2, 'action.disable_close_all_indices': True, 'action.disable_delete_all_indices': True, 'action.disable_shutdown': True, 'indices.recovery.max_bytes_per_sec': '100mb'}\n"
     ]
    }
   ],
   "source": [
    "with open(\"elasticsearch_example.yml\") as f:\n",
    "    data = yaml.load(f,Loader=yaml.FullLoader)\n",
    "    dat=flatten_dict(data)\n",
    "    print(dat)"
   ]
  },
  {
   "cell_type": "code",
   "execution_count": 16,
   "metadata": {},
   "outputs": [
    {
     "name": "stdout",
     "output_type": "stream",
     "text": [
      "action.disable_close_all_indices: true\n",
      "action.disable_delete_all_indices: true\n",
      "action.disable_shutdown: true\n",
      "bootstrap.mlockall: true\n",
      "cluster.name: od-fts1\n",
      "gateway.expected_nodes: 2\n",
      "gateway.recover_after_nodes: 1\n",
      "gateway.recover_after_time: 10m\n",
      "index.number_of_replicas: 1\n",
      "index.number_of_shards: 2\n",
      "indices.recovery.max_bytes_per_sec: 100mb\n",
      "node.data: true\n",
      "node.master: true\n",
      "node.name: od-fts1a\n",
      "\n"
     ]
    }
   ],
   "source": [
    "with open(\"elasticsearch_example.yml\") as f:\n",
    "    data = yaml.load(f,Loader=yaml.FullLoader)\n",
    "    dat=flatten_dict(data)\n",
    "    print(yaml.dump(dat))"
   ]
  },
  {
   "cell_type": "markdown",
   "metadata": {},
   "source": [
    "#### performance Benchmark"
   ]
  },
  {
   "cell_type": "code",
   "execution_count": 17,
   "metadata": {},
   "outputs": [
    {
     "name": "stdout",
     "output_type": "stream",
     "text": [
      "5.52 µs ± 109 ns per loop (mean ± std. dev. of 7 runs, 100,000 loops each)\n"
     ]
    }
   ],
   "source": [
    "%timeit flatten_dict({'a': 1, 'c': {'a': 2, 'b': {'x': 3, 'y': 4, 'z': 5}}, 'd': [6, 7, 8]})"
   ]
  },
  {
   "cell_type": "markdown",
   "metadata": {},
   "source": [
    "### Flattening a Dict using recursive function + generators\n",
    "\n",
    "A much better solution is to use Python's generators which is an object that can pause execution and remembers the state that can be resumed later. By using a generator, we can get rid of the temporary list with no change in behavior."
   ]
  },
  {
   "cell_type": "code",
   "execution_count": 20,
   "metadata": {},
   "outputs": [
    {
     "data": {
      "text/plain": [
       "{'a': 1, 'c.a': 2, 'c.b.x': 3, 'c.b.y': 4, 'c.b.z': 5, 'd': [6, 7, 8]}"
      ]
     },
     "execution_count": 20,
     "metadata": {},
     "output_type": "execute_result"
    }
   ],
   "source": [
    "from collections.abc import MutableMapping\n",
    "\n",
    "def _flatten_dict_gen(d:dict,parent_key,sep):\n",
    "    for k ,v in d.items():\n",
    "        new_key = parent_key + sep + k if parent_key else k\n",
    "        if isinstance(v,MutableMapping):\n",
    "            yield from flatten_dict(v,new_key,sep=sep).items()\n",
    "        else:\n",
    "            yield new_key,v\n",
    "            \n",
    "def flatten_dict(d:MutableMapping, parent_key:str =\"\",sep:str=\".\"):\n",
    "    return dict(_flatten_dict_gen(d,parent_key,sep))\n",
    "\n",
    "flatten_dict({'a': 1, 'c': {'a': 2, 'b': {'x': 3, 'y': 4, 'z': 5}}, 'd': [6, 7, 8]})"
   ]
  },
  {
   "cell_type": "code",
   "execution_count": 21,
   "metadata": {},
   "outputs": [
    {
     "name": "stdout",
     "output_type": "stream",
     "text": [
      "5.76 µs ± 62.8 ns per loop (mean ± std. dev. of 7 runs, 100,000 loops each)\n"
     ]
    }
   ],
   "source": [
    "%timeit flatten_dict({'a': 1, 'c': {'a': 2, 'b': {'x': 3, 'y': 4, 'z': 5}}, 'd': [6, 7, 8]})"
   ]
  }
 ],
 "metadata": {
  "interpreter": {
   "hash": "3c774bbcc5b2f7006b3f86ef4be25d8d27188f10abfcd0877483362b5854f169"
  },
  "kernelspec": {
   "display_name": "Python 3.10.2 64-bit",
   "language": "python",
   "name": "python3"
  },
  "language_info": {
   "codemirror_mode": {
    "name": "ipython",
    "version": 3
   },
   "file_extension": ".py",
   "mimetype": "text/x-python",
   "name": "python",
   "nbconvert_exporter": "python",
   "pygments_lexer": "ipython3",
   "version": "3.10.2"
  },
  "orig_nbformat": 4
 },
 "nbformat": 4,
 "nbformat_minor": 2
}
