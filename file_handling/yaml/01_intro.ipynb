{
 "cells": [
  {
   "cell_type": "markdown",
   "metadata": {},
   "source": [
    "### YAML Format\n",
    "\n",
    "YAML natively supports three basic data types: scalars(string, integers, floats), lists, and associative arrays.<br>\n",
    "\n",
    "The official, recommended filename extension for YAML files has been **.yaml**. There are two modules in Python for YAML:\n",
    "- PyYAML\n",
    "- ruamel\n"
   ]
  },
  {
   "cell_type": "code",
   "execution_count": 2,
   "metadata": {},
   "outputs": [
    {
     "name": "stdout",
     "output_type": "stream",
     "text": [
      "Requirement already satisfied: pyyaml in c:\\python3_10\\python310\\lib\\site-packages (6.0)\n",
      "Note: you may need to restart the kernel to use updated packages.\n"
     ]
    },
    {
     "name": "stderr",
     "output_type": "stream",
     "text": [
      "WARNING: You are using pip version 21.2.4; however, version 22.0.4 is available.\n",
      "You should consider upgrading via the 'C:\\Python3_10\\Python310\\python.exe -m pip install --upgrade pip' command.\n"
     ]
    }
   ],
   "source": [
    "%pip install pyyaml"
   ]
  },
  {
   "cell_type": "markdown",
   "metadata": {},
   "source": [
    "In this note, I'll use the following YAML files:"
   ]
  },
  {
   "cell_type": "code",
   "execution_count": 3,
   "metadata": {},
   "outputs": [
    {
     "name": "stdout",
     "output_type": "stream",
     "text": [
      "\u001b[0mraincoat\u001b[0m\u001b[1;33m:\u001b[0m \u001b[1;36m1\u001b[0m\u001b[1;33m\n",
      "\u001b[0m\u001b[0mcoins\u001b[0m\u001b[1;33m:\u001b[0m \u001b[1;36m5\u001b[0m\u001b[1;33m\n",
      "\u001b[0m\u001b[0mbooks\u001b[0m\u001b[1;33m:\u001b[0m \u001b[1;36m23\u001b[0m\u001b[1;33m\n",
      "\u001b[0m\u001b[0mspectacles\u001b[0m\u001b[1;33m:\u001b[0m \u001b[1;36m2\u001b[0m\u001b[1;33m\n",
      "\u001b[0m\u001b[0mchairs\u001b[0m\u001b[1;33m:\u001b[0m \u001b[1;36m12\u001b[0m\u001b[1;33m\n",
      "\u001b[0m\u001b[0mpens\u001b[0m\u001b[1;33m:\u001b[0m \u001b[1;36m6\u001b[0m\u001b[1;33m\u001b[0m\u001b[1;33m\u001b[0m\u001b[0m\n"
     ]
    }
   ],
   "source": [
    "%pycat items.yaml"
   ]
  },
  {
   "cell_type": "code",
   "execution_count": 4,
   "metadata": {},
   "outputs": [
    {
     "name": "stdout",
     "output_type": "stream",
     "text": [
      "\u001b[0mcities\u001b[0m\u001b[1;33m:\u001b[0m\u001b[1;33m\n",
      "\u001b[0m  \u001b[1;33m-\u001b[0m \u001b[0mBratislava\u001b[0m\u001b[1;33m\n",
      "\u001b[0m  \u001b[1;33m-\u001b[0m \u001b[0mKosice\u001b[0m\u001b[1;33m\n",
      "\u001b[0m  \u001b[1;33m-\u001b[0m \u001b[0mTrnava\u001b[0m\u001b[1;33m\n",
      "\u001b[0m  \u001b[1;33m-\u001b[0m \u001b[0mMoldava\u001b[0m\u001b[1;33m\n",
      "\u001b[0m  \u001b[1;33m-\u001b[0m \u001b[0mTrencin\u001b[0m\u001b[1;33m\n",
      "\u001b[0m\u001b[1;33m-\u001b[0m\u001b[1;33m-\u001b[0m\u001b[1;33m-\u001b[0m\u001b[1;33m\n",
      "\u001b[0m\u001b[0mcompanies\u001b[0m\u001b[1;33m:\u001b[0m\u001b[1;33m\n",
      "\u001b[0m  \u001b[1;33m-\u001b[0m \u001b[0mEset\u001b[0m\u001b[1;33m\n",
      "\u001b[0m  \u001b[1;33m-\u001b[0m \u001b[0mSlovnaft\u001b[0m\u001b[1;33m\n",
      "\u001b[0m  \u001b[1;33m-\u001b[0m \u001b[0mDuslo\u001b[0m \u001b[0mSala\u001b[0m\u001b[1;33m\n",
      "\u001b[0m  \u001b[1;33m-\u001b[0m \u001b[0mMatador\u001b[0m \u001b[0mPuchov\u001b[0m\u001b[1;33m\u001b[0m\u001b[1;33m\u001b[0m\u001b[0m\n"
     ]
    }
   ],
   "source": [
    "%pycat data.yaml"
   ]
  },
  {
   "cell_type": "markdown",
   "metadata": {},
   "source": [
    "We open the items.yaml file and load the contents with the yaml.load method. The data is printed to the console."
   ]
  },
  {
   "cell_type": "code",
   "execution_count": 5,
   "metadata": {},
   "outputs": [
    {
     "name": "stdout",
     "output_type": "stream",
     "text": [
      "{'raincoat': 1, 'coins': 5, 'books': 23, 'spectacles': 2, 'chairs': 12, 'pens': 6}\n"
     ]
    }
   ],
   "source": [
    "import yaml\n",
    "with open(\"items.yaml\") as f:\n",
    "    data = yaml.load(f, Loader=yaml.FullLoader)\n",
    "    print(data)"
   ]
  },
  {
   "cell_type": "markdown",
   "metadata": {},
   "source": [
    "As you can see, PyYAML module transforms the scalar values into a Python dictionary\n",
    "<br><br>\n",
    "\n",
    "Multiple YAML documents are read with load_all.\n"
   ]
  },
  {
   "cell_type": "code",
   "execution_count": 6,
   "metadata": {},
   "outputs": [
    {
     "name": "stdout",
     "output_type": "stream",
     "text": [
      "cities -> ['Bratislava', 'Kosice', 'Trnava', 'Moldava', 'Trencin']\n",
      "companies -> ['Eset', 'Slovnaft', 'Duslo Sala', 'Matador Puchov']\n"
     ]
    }
   ],
   "source": [
    "with open(\"data.yaml\") as f:\n",
    "    docs = yaml.load_all(f, Loader=yaml.FullLoader)\n",
    "    \n",
    "    for doc in docs:\n",
    "        for k,v in doc.items():\n",
    "            print(k,\"->\",v)"
   ]
  },
  {
   "cell_type": "markdown",
   "metadata": {},
   "source": [
    "### When you comment out directive\n"
   ]
  },
  {
   "cell_type": "code",
   "execution_count": 10,
   "metadata": {},
   "outputs": [
    {
     "name": "stdout",
     "output_type": "stream",
     "text": [
      "\u001b[0mraincoat\u001b[0m\u001b[1;33m:\u001b[0m \u001b[1;36m1\u001b[0m\u001b[1;33m\n",
      "\u001b[0m\u001b[0mcoins\u001b[0m\u001b[1;33m:\u001b[0m \u001b[1;36m5\u001b[0m\u001b[1;33m\n",
      "\u001b[0m\u001b[0mbooks\u001b[0m\u001b[1;33m:\u001b[0m \u001b[1;36m23\u001b[0m\u001b[1;33m\n",
      "\u001b[0m\u001b[0mspectacles\u001b[0m\u001b[1;33m:\u001b[0m \u001b[1;36m2\u001b[0m\u001b[1;33m\n",
      "\u001b[0m\u001b[0mchairs\u001b[0m\u001b[1;33m:\u001b[0m \u001b[1;36m12\u001b[0m\u001b[1;33m\n",
      "\u001b[0m\u001b[1;31m#pens: 6\u001b[0m\u001b[1;33m\u001b[0m\u001b[1;33m\u001b[0m\u001b[0m\n"
     ]
    }
   ],
   "source": [
    "%pycat items.yaml"
   ]
  },
  {
   "cell_type": "code",
   "execution_count": 11,
   "metadata": {},
   "outputs": [
    {
     "name": "stdout",
     "output_type": "stream",
     "text": [
      "{'raincoat': 1, 'coins': 5, 'books': 23, 'spectacles': 2, 'chairs': 12}\n"
     ]
    }
   ],
   "source": [
    "with open(\"items.yaml\") as f:\n",
    "    data = yaml.load(f,Loader=yaml.FullLoader)\n",
    "    print(data)"
   ]
  },
  {
   "cell_type": "markdown",
   "metadata": {},
   "source": [
    "### Python YAML dump\n",
    "\n",
    "The dump method serializes a Python object into a YAML stream.\n"
   ]
  },
  {
   "cell_type": "code",
   "execution_count": 7,
   "metadata": {},
   "outputs": [
    {
     "name": "stdout",
     "output_type": "stream",
     "text": [
      "- name: John Doe\n",
      "  occupation: gardener\n",
      "- name: Lucy Black\n",
      "  occupation: teacher\n",
      "\n"
     ]
    }
   ],
   "source": [
    "import yaml\n",
    "users = [{\"name\": \"John Doe\", \"occupation\":\"gardener\"},\n",
    "         {\"name\": \"Lucy Black\", \"occupation\":\"teacher\"},\n",
    "         ]\n",
    "\n",
    "print(yaml.dump(users))"
   ]
  },
  {
   "cell_type": "markdown",
   "metadata": {},
   "source": [
    "### Python YAML write\n",
    "\n",
    "The following example writes Python data into a YAML file."
   ]
  },
  {
   "cell_type": "code",
   "execution_count": 1,
   "metadata": {},
   "outputs": [
    {
     "name": "stdout",
     "output_type": "stream",
     "text": [
      "None\n"
     ]
    }
   ],
   "source": [
    "import yaml\n",
    "users = [{\"name\": \"John Doe\", \"occupation\":\"gardener\"},\n",
    "         {\"name\": \"Lucy Black\", \"occupation\":\"teacher\"},\n",
    "         ]\n",
    "with open(\"users.yaml\",\"w\") as f:\n",
    "    yaml.dump(users,f) #This creates the file. \n",
    "    "
   ]
  },
  {
   "cell_type": "markdown",
   "metadata": {},
   "source": [
    "### Python YAML sorting keys\n",
    "We can sort keys with the dump's sort_keys parameter."
   ]
  },
  {
   "cell_type": "code",
   "execution_count": 14,
   "metadata": {},
   "outputs": [
    {
     "name": "stdout",
     "output_type": "stream",
     "text": [
      "{'raincoat': 1, 'coins': 5, 'books': 23, 'spectacles': 2, 'chairs': 12}\n",
      "books: 23\n",
      "chairs: 12\n",
      "coins: 5\n",
      "raincoat: 1\n",
      "spectacles: 2\n",
      "\n"
     ]
    }
   ],
   "source": [
    "import yaml\n",
    "with open(\"items.yaml\") as f:\n",
    "    data =  yaml.load(f,Loader=yaml.FullLoader)\n",
    "    print(data)\n",
    "    sorted = yaml.dump(data,sort_keys=True)\n",
    "    print(sorted)"
   ]
  }
 ],
 "metadata": {
  "interpreter": {
   "hash": "3c774bbcc5b2f7006b3f86ef4be25d8d27188f10abfcd0877483362b5854f169"
  },
  "kernelspec": {
   "display_name": "Python 3.10.2 64-bit",
   "language": "python",
   "name": "python3"
  },
  "language_info": {
   "codemirror_mode": {
    "name": "ipython",
    "version": 3
   },
   "file_extension": ".py",
   "mimetype": "text/x-python",
   "name": "python",
   "nbconvert_exporter": "python",
   "pygments_lexer": "ipython3",
   "version": "3.10.2"
  },
  "orig_nbformat": 4
 },
 "nbformat": 4,
 "nbformat_minor": 2
}
