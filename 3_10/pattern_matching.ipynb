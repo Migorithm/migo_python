{
 "cells": [
  {
   "cell_type": "code",
   "execution_count": 1,
   "metadata": {},
   "outputs": [
    {
     "name": "stdout",
     "output_type": "stream",
     "text": [
      "Monday\n"
     ]
    }
   ],
   "source": [
    "def weekday_name(weekday_num):\n",
    "    match weekday_num:\n",
    "        case 1:\n",
    "            return \"Monday\"\n",
    "        case 2:\n",
    "            return \"Tuesday\"\n",
    "        case 3:\n",
    "            return \"Wednesday\"\n",
    "        case 4:\n",
    "            return \"Thursday\"\n",
    "        case 5:\n",
    "            return \"Friday\"\n",
    "        case 6:\n",
    "            return \"Saturday\"\n",
    "        case 7:\n",
    "            return \"Sunday\"\n",
    "\n",
    "print(weekday_name(1))"
   ]
  },
  {
   "cell_type": "code",
   "execution_count": 6,
   "metadata": {},
   "outputs": [
    {
     "name": "stdout",
     "output_type": "stream",
     "text": [
      "get beer!\n"
     ]
    }
   ],
   "source": [
    "command = input(\"What are you doing next?\")\n",
    "\n",
    "match command.split():\n",
    "    case [\"get\"]:\n",
    "        print(\"get!\")\n",
    "    case [\"get\",\"beer\"]:\n",
    "        print(\"get beer!\")\n",
    "        \n",
    "# The match statement will check patterns from top to bottom. \n",
    "# If the pattern doesn't match the subject, \n",
    "# the next pattern will be tried. \n",
    "# \n",
    "# However, once the first matching pattern is found, \n",
    "# the body of that case is executed, \n",
    "# and all further cases are ignored. \n",
    "# This is similar to the way that \n",
    "# an if/elif/elif/... statement works."
   ]
  },
  {
   "cell_type": "code",
   "execution_count": 15,
   "metadata": {},
   "outputs": [
    {
     "name": "stdout",
     "output_type": "stream",
     "text": [
      "I don't want to believe    \n"
     ]
    }
   ],
   "source": [
    "from dataclasses import dataclass\n",
    "\n",
    "@dataclass\n",
    "class Paragraph:\n",
    "    paragraph: str\n",
    "    \n",
    "    def drop(self,*object):\n",
    "        for obj in object:\n",
    "            self.paragraph= self.paragraph.replace(obj,\"\")\n",
    "\n",
    "paragraph = Paragraph(\"I don't want to believe you took me there.\")\n",
    "\n",
    "#Matching multiple values\n",
    "command = input(\"What are you doing next?\")\n",
    "\n",
    "match command.split():\n",
    "    case [\"drop\", *objects]: \n",
    "        paragraph.drop(*objects)\n",
    "        print(paragraph.paragraph)\n",
    "    # The rest of your commands go here"
   ]
  },
  {
   "cell_type": "code",
   "execution_count": 18,
   "metadata": {},
   "outputs": [
    {
     "name": "stdout",
     "output_type": "stream",
     "text": [
      "Sorry, I couldn't understand 'whatever'\n"
     ]
    }
   ],
   "source": [
    "#wildcard\n",
    "\n",
    "command = input(\"What are you doing next?\")\n",
    "\n",
    "match command.split():\n",
    "    case [\"quit\"]: ... # Code omitted for brevity\n",
    "    case [\"go\", direction]: ...\n",
    "    case [\"drop\", *objects]: ...\n",
    "    case _:\n",
    "        print(f\"Sorry, I couldn't understand {command!r}\") \n",
    "        #The !r means that the string is to be treated as a raw string."
   ]
  },
  {
   "cell_type": "code",
   "execution_count": null,
   "metadata": {},
   "outputs": [],
   "source": []
  }
 ],
 "metadata": {
  "interpreter": {
   "hash": "3c774bbcc5b2f7006b3f86ef4be25d8d27188f10abfcd0877483362b5854f169"
  },
  "kernelspec": {
   "display_name": "Python 3.10.2 64-bit",
   "language": "python",
   "name": "python3"
  },
  "language_info": {
   "codemirror_mode": {
    "name": "ipython",
    "version": 3
   },
   "file_extension": ".py",
   "mimetype": "text/x-python",
   "name": "python",
   "nbconvert_exporter": "python",
   "pygments_lexer": "ipython3",
   "version": "3.10.2"
  },
  "orig_nbformat": 4
 },
 "nbformat": 4,
 "nbformat_minor": 2
}
