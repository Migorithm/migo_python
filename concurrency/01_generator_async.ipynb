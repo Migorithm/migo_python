{
 "cells": [
  {
   "cell_type": "markdown",
   "metadata": {},
   "source": [
    "### Generators to coroutines?\n",
    "\n",
    "PEP342 introduced \"yield\" as an expression, which means that you could now use \"yield\" on the right side of assignment. "
   ]
  },
  {
   "cell_type": "code",
   "execution_count": 1,
   "metadata": {},
   "outputs": [],
   "source": [
    "def finder(x):\n",
    "    while True:\n",
    "        input_text =yield\n",
    "        if x in input_text:\n",
    "            print(input_text)"
   ]
  },
  {
   "cell_type": "markdown",
   "metadata": {},
   "source": [
    "Whatever a user pass in as a string argument, if that string is in the input text, <br>\n",
    "then the input text would be printed to the terminal.\n",
    "<br><br>\n",
    "Likewise, if you use yield more generally, you can create co-routine which do more than <br>\n",
    "generating values but can also consume values sent TO it. \n",
    " "
   ]
  },
  {
   "cell_type": "code",
   "execution_count": 2,
   "metadata": {},
   "outputs": [
    {
     "data": {
      "text/plain": [
       "<generator object finder at 0x000002AC1D5828F0>"
      ]
     },
     "execution_count": 2,
     "metadata": {},
     "output_type": "execute_result"
    }
   ],
   "source": [
    "f = finder(\"python\")\n",
    "f"
   ]
  },
  {
   "cell_type": "markdown",
   "metadata": {},
   "source": [
    "As you see here, when you call a coroutine, nothing happens. \n",
    "\n",
    "Surprisingly, you can send values in so let's send some texts that include 'python'"
   ]
  },
  {
   "cell_type": "code",
   "execution_count": 5,
   "metadata": {},
   "outputs": [
    {
     "ename": "TypeError",
     "evalue": "can't send non-None value to a just-started generator",
     "output_type": "error",
     "traceback": [
      "\u001b[1;31m---------------------------------------------------------------------------\u001b[0m",
      "\u001b[1;31mTypeError\u001b[0m                                 Traceback (most recent call last)",
      "\u001b[1;32mc:\\migo_python\\concurrency\\generator_async.ipynb Cell 6'\u001b[0m in \u001b[0;36m<module>\u001b[1;34m\u001b[0m\n\u001b[1;32m----> <a href='vscode-notebook-cell:/c%3A/migo_python/concurrency/generator_async.ipynb#ch0000006?line=0'>1</a>\u001b[0m f\u001b[39m.\u001b[39;49msend(\u001b[39m\"\u001b[39;49m\u001b[39msome text including python\u001b[39;49m\u001b[39m\"\u001b[39;49m)\n",
      "\u001b[1;31mTypeError\u001b[0m: can't send non-None value to a just-started generator"
     ]
    }
   ],
   "source": [
    "f.send(\"some text including python\") "
   ]
  },
  {
   "cell_type": "markdown",
   "metadata": {},
   "source": [
    "When you call a generator function, it starts off in a suspended state - no lines of it have been executed as yet.<br><Br>\n",
    "\n",
    "It's only when you call next that execution begins, the line containing yield is exeucted.<br><br>\n",
    "\n",
    "This first step is known as ***\"Priming\"***."
   ]
  },
  {
   "cell_type": "code",
   "execution_count": 7,
   "metadata": {},
   "outputs": [
    {
     "name": "stdout",
     "output_type": "stream",
     "text": [
      "some text including python\n"
     ]
    }
   ],
   "source": [
    "f.send(None)\n",
    "\n",
    "f.send(\"some text including python\") "
   ]
  },
  {
   "cell_type": "code",
   "execution_count": 8,
   "metadata": {},
   "outputs": [],
   "source": [
    "f.send(\"a different string\")"
   ]
  },
  {
   "cell_type": "code",
   "execution_count": 9,
   "metadata": {},
   "outputs": [
    {
     "name": "stdout",
     "output_type": "stream",
     "text": [
      "text includes pattern\n"
     ]
    }
   ],
   "source": [
    "g = finder(\"pattern\") \n",
    "next(g) #This is the same as sending None \n",
    "g.send(\"text includes pattern\")"
   ]
  },
  {
   "cell_type": "markdown",
   "metadata": {},
   "source": [
    "### shutdown co-routine\n",
    "Otherwise, it could run indefinitely."
   ]
  },
  {
   "cell_type": "code",
   "execution_count": 10,
   "metadata": {},
   "outputs": [],
   "source": [
    "g.close()\n",
    "f.close()"
   ]
  },
  {
   "cell_type": "markdown",
   "metadata": {},
   "source": [
    "### Generator is not equal to Co-rotunes.\n",
    "\n",
    "It's sometimes confusing because methods meant for co-rotines are often described for generators. <br>\n",
    "Despite the similarities, they are two different concepts.<br>\n",
    "\n",
    "Simply put: \n",
    "- generators produce data for iteration.\n",
    "- co-routine tends to consume values. So they are a consumer of data. \n",
    "\n",
    "There is a case where yield produces a value in a co-routine as follows:"
   ]
  },
  {
   "cell_type": "code",
   "execution_count": 16,
   "metadata": {},
   "outputs": [],
   "source": [
    "def yielder(source):\n",
    "    yield from source\n",
    "    \n",
    "_ = yielder(\"xxx\")"
   ]
  },
  {
   "cell_type": "code",
   "execution_count": 17,
   "metadata": {},
   "outputs": [
    {
     "data": {
      "text/plain": [
       "'x'"
      ]
     },
     "execution_count": 17,
     "metadata": {},
     "output_type": "execute_result"
    }
   ],
   "source": [
    "next(_)"
   ]
  },
  {
   "cell_type": "markdown",
   "metadata": {},
   "source": [
    "But essentially, it's not tied to iteration.\n",
    "\n",
    "<br><br>\n",
    "\n",
    "Any next and send can be passed on to nested generators, acting as a tunnel that passes data back and forth and this is the heart of how co-routines are operated.\n",
    "\n",
    "\n",
    "### Async-await\n",
    "From python 3.5, preferred way of declaring the co-routine is with the async-await syntax and this is called native co-routine to distinguish it from generator-based one. "
   ]
  },
  {
   "cell_type": "code",
   "execution_count": 18,
   "metadata": {},
   "outputs": [],
   "source": [
    "def greet(name):\n",
    "    return \"Hello \" +name\n",
    "\n",
    "async def _greet(name):\n",
    "    return \"Hello \" + name"
   ]
  },
  {
   "cell_type": "code",
   "execution_count": 19,
   "metadata": {},
   "outputs": [
    {
     "data": {
      "text/plain": [
       "'Hello Python'"
      ]
     },
     "execution_count": 19,
     "metadata": {},
     "output_type": "execute_result"
    }
   ],
   "source": [
    "greet(\"Python\")\n"
   ]
  },
  {
   "cell_type": "code",
   "execution_count": 20,
   "metadata": {},
   "outputs": [
    {
     "data": {
      "text/plain": [
       "<coroutine object _greet at 0x000002AC1E99CC80>"
      ]
     },
     "execution_count": 20,
     "metadata": {},
     "output_type": "execute_result"
    }
   ],
   "source": [
    "_greet(\"Python\")"
   ]
  },
  {
   "cell_type": "markdown",
   "metadata": {},
   "source": [
    "Calling the co-routine left us with object.\n",
    "\n",
    "Let's assign it to variable and send None."
   ]
  },
  {
   "cell_type": "code",
   "execution_count": 21,
   "metadata": {},
   "outputs": [
    {
     "data": {
      "text/plain": [
       "<coroutine object _greet at 0x000002AC1E99CAC0>"
      ]
     },
     "execution_count": 21,
     "metadata": {},
     "output_type": "execute_result"
    }
   ],
   "source": [
    "g = _greet(\"some more substantial text here for demonstration\")\n",
    "\n",
    "g "
   ]
  },
  {
   "cell_type": "code",
   "execution_count": 22,
   "metadata": {},
   "outputs": [
    {
     "ename": "StopIteration",
     "evalue": "Hello some more substantial text here for demonstration",
     "output_type": "error",
     "traceback": [
      "\u001b[1;31m---------------------------------------------------------------------------\u001b[0m",
      "\u001b[1;31mStopIteration\u001b[0m                             Traceback (most recent call last)",
      "\u001b[1;32mc:\\migo_python\\concurrency\\generator_async.ipynb Cell 22'\u001b[0m in \u001b[0;36m<module>\u001b[1;34m\u001b[0m\n\u001b[1;32m----> <a href='vscode-notebook-cell:/c%3A/migo_python/concurrency/generator_async.ipynb#ch0000024?line=0'>1</a>\u001b[0m g\u001b[39m.\u001b[39;49msend(\u001b[39mNone\u001b[39;49;00m)\n",
      "\u001b[1;31mStopIteration\u001b[0m: Hello some more substantial text here for demonstration"
     ]
    }
   ],
   "source": [
    "g.send(None)"
   ]
  },
  {
   "cell_type": "markdown",
   "metadata": {},
   "source": [
    "We get \"StopIteration\" exception. And value attribute of the exception is what we passed in. <br>\n",
    "\n",
    "Coroutin is driven by something else: "
   ]
  },
  {
   "cell_type": "code",
   "execution_count": 25,
   "metadata": {},
   "outputs": [
    {
     "data": {
      "text/plain": [
       "'Hello Python'"
      ]
     },
     "execution_count": 25,
     "metadata": {},
     "output_type": "execute_result"
    }
   ],
   "source": [
    "def run(coroutine):\n",
    "    try:\n",
    "        coroutine.send(None)\n",
    "    except StopIteration as e:\n",
    "        return e.value\n",
    "\n",
    "run(_greet(\"Python\"))"
   ]
  },
  {
   "cell_type": "markdown",
   "metadata": {},
   "source": [
    "Async function can call other async function if you use await syntax."
   ]
  },
  {
   "cell_type": "code",
   "execution_count": 26,
   "metadata": {},
   "outputs": [
    {
     "name": "stdout",
     "output_type": "stream",
     "text": [
      "Hello LP\n"
     ]
    }
   ],
   "source": [
    "async def main():\n",
    "    print(await _greet(\"LP\"))\n",
    "    \n",
    "run(main())"
   ]
  },
  {
   "cell_type": "markdown",
   "metadata": {},
   "source": [
    "main() function runs the async _greet() function.  "
   ]
  },
  {
   "cell_type": "code",
   "execution_count": 30,
   "metadata": {},
   "outputs": [
    {
     "name": "stdout",
     "output_type": "stream",
     "text": [
      "1\n",
      "2\n",
      "3\n",
      "1\n",
      "2\n",
      "3\n",
      "1\n",
      "2\n",
      "3\n",
      "Total time elapsed: 9.094422799993481 seconds\n"
     ]
    }
   ],
   "source": [
    "import time\n",
    "\n",
    "def count():\n",
    "    time.sleep(1)\n",
    "    print(\"1\")\n",
    "    time.sleep(1)\n",
    "    print(\"2\")\n",
    "    time.sleep(1)\n",
    "    print(\"3\")\n",
    "    \n",
    "def main():\n",
    "    for i in range(3):\n",
    "        count()\n",
    "\n",
    "t = time.perf_counter()\n",
    "main()\n",
    "t2 = time.perf_counter()\n",
    "print(f\"Total time elapsed: {t2-t} seconds\")\n",
    "\n",
    "\n",
    "\n"
   ]
  },
  {
   "cell_type": "code",
   "execution_count": null,
   "metadata": {},
   "outputs": [],
   "source": []
  },
  {
   "cell_type": "code",
   "execution_count": null,
   "metadata": {},
   "outputs": [],
   "source": []
  }
 ],
 "metadata": {
  "interpreter": {
   "hash": "3c774bbcc5b2f7006b3f86ef4be25d8d27188f10abfcd0877483362b5854f169"
  },
  "kernelspec": {
   "display_name": "Python 3.10.2 64-bit",
   "language": "python",
   "name": "python3"
  },
  "language_info": {
   "codemirror_mode": {
    "name": "ipython",
    "version": 3
   },
   "file_extension": ".py",
   "mimetype": "text/x-python",
   "name": "python",
   "nbconvert_exporter": "python",
   "pygments_lexer": "ipython3",
   "version": "3.10.2"
  },
  "orig_nbformat": 4
 },
 "nbformat": 4,
 "nbformat_minor": 2
}
