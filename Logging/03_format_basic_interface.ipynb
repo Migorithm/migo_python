{
 "cells": [
  {
   "cell_type": "markdown",
   "metadata": {},
   "source": [
    "### Format\n",
    "\n",
    "You can specify the layout you want by setting format to a string that defines certain named fields.\n",
    "\n",
    "Three of them are:\n",
    "- levelname : the log level\n",
    "- message : the message\n",
    "- name : the name of the underlying logger, root for example."
   ]
  },
  {
   "cell_type": "code",
   "execution_count": 3,
   "metadata": {},
   "outputs": [],
   "source": [
    "import logging\n",
    "logging.basicConfig(format=\"Log level: %(levelname)s, msg: %(message)s\",filename=\"log2.txt\",filemode=\"w\")\n",
    "logging.error(\"Error!\")"
   ]
  },
  {
   "cell_type": "markdown",
   "metadata": {},
   "source": [
    "#### %()s ?\n",
    "This is a string formatting feature when using the % form of python stringg formatting to insert values into a string.\n"
   ]
  },
  {
   "cell_type": "code",
   "execution_count": 4,
   "metadata": {},
   "outputs": [
    {
     "name": "stdout",
     "output_type": "stream",
     "text": [
      "I live in Seoul, and 19 years old\n"
     ]
    }
   ],
   "source": [
    "values= {\"city\":\"Seoul\",\"age\":19}\n",
    "s=\"I live in %(city)s, and %(age)s years old\" % values\n",
    "print(s)"
   ]
  },
  {
   "cell_type": "markdown",
   "metadata": {},
   "source": [
    "So, we can tell that when specifying format, what's happening under the hood is it inserts hash that maps fields to format string.<br><br>\n",
    "And it turns out, the default formatting string is\n",
    "\n",
    "    %(levelname)s:%(name)s:%(message)s\n",
    "\n",
    "Many other attributes are provided. Here is a select few from the full list:\n",
    "- asctime : %(asctime)s   - human readable date/time\n",
    "- funcName : %(funcName)s - name of function containing the logging call\n",
    "- lineno : %(lineno)d  - the line number of the logging call\n"
   ]
  },
  {
   "cell_type": "code",
   "execution_count": 2,
   "metadata": {},
   "outputs": [],
   "source": [
    "import logging\n",
    "logging.basicConfig(format=\"%(levelname)s from %(funcName)s : %(message)s\",filename=\"log3.txt\",filemode=\"w\")\n",
    "def log_prac():\n",
    "    logging.error(\"fatal problem!\")\n",
    "    \n",
    "log_prac()"
   ]
  }
 ],
 "metadata": {
  "interpreter": {
   "hash": "3c774bbcc5b2f7006b3f86ef4be25d8d27188f10abfcd0877483362b5854f169"
  },
  "kernelspec": {
   "display_name": "Python 3.10.2 64-bit",
   "language": "python",
   "name": "python3"
  },
  "language_info": {
   "codemirror_mode": {
    "name": "ipython",
    "version": 3
   },
   "file_extension": ".py",
   "mimetype": "text/x-python",
   "name": "python",
   "nbconvert_exporter": "python",
   "pygments_lexer": "ipython3",
   "version": "3.10.2"
  },
  "orig_nbformat": 4
 },
 "nbformat": 4,
 "nbformat_minor": 2
}
