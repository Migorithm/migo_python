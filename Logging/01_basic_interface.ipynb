{
 "cells": [
  {
   "cell_type": "markdown",
   "metadata": {},
   "source": [
    "## The basic interface\n",
    "\n",
    "Here's the easiest way to use Python's logging module"
   ]
  },
  {
   "cell_type": "code",
   "execution_count": 1,
   "metadata": {},
   "outputs": [
    {
     "name": "stderr",
     "output_type": "stream",
     "text": [
      "WARNING:root:Look out!\n"
     ]
    }
   ],
   "source": [
    "import logging\n",
    "logging.warning(\"Look out!\")"
   ]
  },
  {
   "cell_type": "markdown",
   "metadata": {},
   "source": [
    "You see the preceding snippet printed to standard output.\n",
    "\n",
    "Notice you invoked logging.warning() and the output line starts with WARNING.\n",
    "\n",
    "You can also call\n",
    "\n",
    "    logging.error()\n",
    "    logging.critical()"
   ]
  },
  {
   "cell_type": "code",
   "execution_count": 2,
   "metadata": {},
   "outputs": [
    {
     "name": "stderr",
     "output_type": "stream",
     "text": [
      "ERROR:root:Fatal error!\n"
     ]
    }
   ],
   "source": [
    "logging.error(\"Fatal error!\")"
   ]
  },
  {
   "cell_type": "code",
   "execution_count": 3,
   "metadata": {},
   "outputs": [
    {
     "name": "stderr",
     "output_type": "stream",
     "text": [
      "CRITICAL:root:Critical error! Program shut down...\n"
     ]
    }
   ],
   "source": [
    "logging.critical(\"Critical error! Program shut down...\")"
   ]
  },
  {
   "cell_type": "markdown",
   "metadata": {},
   "source": [
    "WE say that \"warning\" and \"error\" are at different message log levels.\n",
    "You have a spectrub of log levels as follows:\n",
    "- debug\n",
    "- info\n",
    "- warning\n",
    "- error    : Due to a serious problem, the software has not been able to perform some function.\n",
    "- critical : serious error, indicating that the program itself may be unable to continue running."
   ]
  },
  {
   "cell_type": "markdown",
   "metadata": {},
   "source": [
    "### Logging threshold"
   ]
  },
  {
   "cell_type": "code",
   "execution_count": 4,
   "metadata": {},
   "outputs": [
    {
     "name": "stderr",
     "output_type": "stream",
     "text": [
      "WARNING:root:warning!\n",
      "ERROR:root:error!\n",
      "CRITICAL:root:critical!\n"
     ]
    }
   ],
   "source": [
    "logging.debug(\"debug!\")\n",
    "logging.info(\"info!\")\n",
    "logging.warning(\"warning!\")\n",
    "logging.error(\"error!\")\n",
    "logging.critical(\"critical!\")\n"
   ]
  },
  {
   "cell_type": "markdown",
   "metadata": {},
   "source": [
    "Where did the debug and info message go? As it turns out, the default logging is \n",
    "\n",
    "\"logging.warning\" which means only messages of the severity or greater are actually generated.\n",
    "\n",
    "You can change the log level threshold using basicConfig function:"
   ]
  },
  {
   "cell_type": "code",
   "execution_count": 10,
   "metadata": {},
   "outputs": [],
   "source": [
    "logging.basicConfig(level=logging.INFO)\n"
   ]
  },
  {
   "cell_type": "markdown",
   "metadata": {},
   "source": [
    "### Different way to log - Using constants\n",
    "You can use the constants in the more general logging.log function."
   ]
  },
  {
   "cell_type": "code",
   "execution_count": 14,
   "metadata": {},
   "outputs": [
    {
     "name": "stderr",
     "output_type": "stream",
     "text": [
      "WARNING:root:This is a warning message\n",
      "WARNING:root:This is a warning message\n"
     ]
    }
   ],
   "source": [
    "logging.log(logging.WARNING,\"This is a warning message\")\n",
    "\n",
    "#This is equivalent to \n",
    "logging.warning(\"This is a warning message\")"
   ]
  },
  {
   "cell_type": "markdown",
   "metadata": {},
   "source": [
    "But this lets you modify the log level dynamically at runtime:"
   ]
  },
  {
   "cell_type": "code",
   "execution_count": 15,
   "metadata": {},
   "outputs": [],
   "source": [
    "def log_results(message,level=logging.INFO):\n",
    "    logging.log(level,\"Results: \" + message)\n",
    "    "
   ]
  },
  {
   "cell_type": "code",
   "execution_count": 17,
   "metadata": {},
   "outputs": [
    {
     "name": "stderr",
     "output_type": "stream",
     "text": [
      "WARNING:root:Results: This can't happen...\n"
     ]
    }
   ],
   "source": [
    "log_results(\"This can't happen...\",logging.WARNING)"
   ]
  },
  {
   "cell_type": "code",
   "execution_count": 20,
   "metadata": {},
   "outputs": [],
   "source": [
    "logging.basicConfig(level=logging.WARNING)"
   ]
  }
 ],
 "metadata": {
  "interpreter": {
   "hash": "3c774bbcc5b2f7006b3f86ef4be25d8d27188f10abfcd0877483362b5854f169"
  },
  "kernelspec": {
   "display_name": "Python 3.10.2 64-bit",
   "language": "python",
   "name": "python3"
  },
  "language_info": {
   "codemirror_mode": {
    "name": "ipython",
    "version": 3
   },
   "file_extension": ".py",
   "mimetype": "text/x-python",
   "name": "python",
   "nbconvert_exporter": "python",
   "pygments_lexer": "ipython3",
   "version": "3.10.2"
  },
  "orig_nbformat": 4
 },
 "nbformat": 4,
 "nbformat_minor": 2
}
