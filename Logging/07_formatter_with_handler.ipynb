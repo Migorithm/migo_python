{
 "cells": [
  {
   "cell_type": "markdown",
   "metadata": {},
   "source": [
    "### Record Layout with Formatters\n",
    "We haven't covered one important detail.<br>\n",
    "\n",
    "The answer is to use a formatter.<br>\n",
    "\n",
    "The procedure is to create a Formatter object, associate with a hanlder."
   ]
  },
  {
   "cell_type": "code",
   "execution_count": 1,
   "metadata": {},
   "outputs": [
    {
     "name": "stderr",
     "output_type": "stream",
     "text": [
      "WARNING My message is: Wake uP!\n"
     ]
    }
   ],
   "source": [
    "import logging\n",
    "my_handler = logging.StreamHandler()\n",
    "fmt = logging.Formatter(\"%(levelname)s My message is: %(message)s\")\n",
    "my_handler.setFormatter(fmt)\n",
    "\n",
    "my_logger = logging.getLogger()\n",
    "my_logger.addHandler(my_handler)\n",
    "my_logger.warning(\"Wake uP!\")"
   ]
  },
  {
   "cell_type": "markdown",
   "metadata": {},
   "source": [
    "Here's the attribute table again, distilled from the full officail list:\n",
    "\n",
    "\n",
    "    Attritube       Format          Description\n",
    "    asctime         %(asctime)s     Human-readable date/time\n",
    "    funcName        %(funcName)s    Name of function containing the logging call\n",
    "    lineno          %(lineno)d      The line number of the logging call\n",
    "    message         %(message)s     message\n",
    "    pathname        %(pathname)s    full pathname of the source file of the logging call\n",
    "    levelname       %(levelname)s   Text logging level\n",
    "    name            %(name)s        The logger's name\n"
   ]
  }
 ],
 "metadata": {
  "interpreter": {
   "hash": "3c774bbcc5b2f7006b3f86ef4be25d8d27188f10abfcd0877483362b5854f169"
  },
  "kernelspec": {
   "display_name": "Python 3.10.2 64-bit",
   "language": "python",
   "name": "python3"
  },
  "language_info": {
   "codemirror_mode": {
    "name": "ipython",
    "version": 3
   },
   "file_extension": ".py",
   "mimetype": "text/x-python",
   "name": "python",
   "nbconvert_exporter": "python",
   "pygments_lexer": "ipython3",
   "version": "3.10.2"
  },
  "orig_nbformat": 4
 },
 "nbformat": 4,
 "nbformat_minor": 2
}
