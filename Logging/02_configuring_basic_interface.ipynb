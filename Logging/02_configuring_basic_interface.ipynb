{
 "cells": [
  {
   "cell_type": "markdown",
   "metadata": {},
   "source": [
    "### Configuring the basic interface\n",
    "\n",
    "You saw above you can change the loglevel threshold by calling a function called \"basicConfig\"<br>\n",
    "\n",
    "If you use it at all, basicConfig must be:\n",
    "- called exactly once, and it must happen before the first logging event.\n",
    "- called from the main thread and ONLY the main thread.\n"
   ]
  },
  {
   "cell_type": "markdown",
   "metadata": {},
   "source": [
    "We already met one of the configuration options: level. \n",
    "\n",
    "Some of other options include:\n",
    "- **filename** : write log messages to the given file, rather than stderr\n",
    "- **filemode** : set to \"a\" to append to the log file, or \"w\" to overwrite\n",
    "- format : the format of log records\n",
    "\n",
    "By default, log messages are written to standard error.<br>\n",
    "You can also write them to a file, one per line, to easily read later. <br>\n",
    "Do this by setting filename to the log file path. "
   ]
  },
  {
   "cell_type": "markdown",
   "metadata": {},
   "source": [
    "### Filename & mode"
   ]
  },
  {
   "cell_type": "code",
   "execution_count": 1,
   "metadata": {},
   "outputs": [],
   "source": [
    "import logging\n",
    "logging.basicConfig(filename=\"log.txt\",filemode=\"w\")\n",
    "logging.error(\"oops\")"
   ]
  },
  {
   "cell_type": "markdown",
   "metadata": {},
   "source": [
    "Running the above cell doesn't print to standard output but write it to a file named log.txt\n",
    "\n",
    "In terms of filemode, the default is set to \"a\" for append"
   ]
  }
 ],
 "metadata": {
  "interpreter": {
   "hash": "3c774bbcc5b2f7006b3f86ef4be25d8d27188f10abfcd0877483362b5854f169"
  },
  "kernelspec": {
   "display_name": "Python 3.10.2 64-bit",
   "language": "python",
   "name": "python3"
  },
  "language_info": {
   "codemirror_mode": {
    "name": "ipython",
    "version": 3
   },
   "file_extension": ".py",
   "mimetype": "text/x-python",
   "name": "python",
   "nbconvert_exporter": "python",
   "pygments_lexer": "ipython3",
   "version": "3.10.2"
  },
  "orig_nbformat": 4
 },
 "nbformat": 4,
 "nbformat_minor": 2
}
