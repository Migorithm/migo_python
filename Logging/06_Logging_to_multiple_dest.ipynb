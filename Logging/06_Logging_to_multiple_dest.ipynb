{
 "cells": [
  {
   "cell_type": "markdown",
   "metadata": {},
   "source": [
    "### Logging to Multiple Destinations\n",
    "\n",
    "A single logger object can have multiple handlers:<br>\n",
    "\n",
    "\n",
    "all you have to do is call addHandler multiple times."
   ]
  },
  {
   "cell_type": "code",
   "execution_count": 1,
   "metadata": {},
   "outputs": [
    {
     "name": "stderr",
     "output_type": "stream",
     "text": [
      "This goes to both the console, And multiple.txt\n"
     ]
    }
   ],
   "source": [
    "#Here is how you parrot all log messages to the console and also to the file:\n",
    "import logging\n",
    "\n",
    "logger = logging.getLogger()\n",
    "\n",
    "#SteamHandler defaults to using sys.stderr\n",
    "console_handler = logging.StreamHandler()\n",
    "logger.addHandler(console_handler)\n",
    "\n",
    "# Now the file handler\n",
    "file_handler = logging.FileHandler(\"multiple.txt\")\n",
    "logger.addHandler(file_handler)\n",
    "\n",
    "logger.warning(\"This goes to both the console, And multiple.txt\")\n",
    "\n"
   ]
  },
  {
   "cell_type": "markdown",
   "metadata": {},
   "source": [
    "### Wait,\n",
    "How do we make it so every record is written to log file but only those of logging.WARNING or higher get sent to the console screen?<br>\n",
    "\n",
    "Do this by setting **log level threshold for both logger object and the individual handlers!**\n"
   ]
  },
  {
   "cell_type": "code",
   "execution_count": 2,
   "metadata": {},
   "outputs": [
    {
     "name": "stderr",
     "output_type": "stream",
     "text": [
      "This message appears in verbose.txt ONLY.\n",
      "This message appears in both files.\n"
     ]
    }
   ],
   "source": [
    "my_logger = logging.getLogger()\n",
    "my_logger.setLevel(logging.DEBUG)\n",
    "\n",
    "#if you set the level for a logger but not its handlers, the handlers inherit from the logger.\n",
    "verbose_handler = logging.FileHandler(\"verbose.txt\")\n",
    "my_logger.addHandler(verbose_handler)\n",
    "\n",
    "terse_handler = logging.FileHandler(\"terse.txt\")\n",
    "terse_handler.setLevel(logging.WARNING)\n",
    "logger.addHandler(terse_handler)\n",
    "\n",
    "logger.debug(\"This message appears in verbose.txt ONLY.\")\n",
    "logger.warning(\"This message appears in both files.\")\n"
   ]
  }
 ],
 "metadata": {
  "interpreter": {
   "hash": "3c774bbcc5b2f7006b3f86ef4be25d8d27188f10abfcd0877483362b5854f169"
  },
  "kernelspec": {
   "display_name": "Python 3.10.2 64-bit",
   "language": "python",
   "name": "python3"
  },
  "language_info": {
   "codemirror_mode": {
    "name": "ipython",
    "version": 3
   },
   "file_extension": ".py",
   "mimetype": "text/x-python",
   "name": "python",
   "nbconvert_exporter": "python",
   "pygments_lexer": "ipython3",
   "version": "3.10.2"
  },
  "orig_nbformat": 4
 },
 "nbformat": 4,
 "nbformat_minor": 2
}
