{
 "cells": [
  {
   "cell_type": "markdown",
   "metadata": {},
   "source": [
    "### Log destinations: handlers and streams\n",
    "\n",
    "By default, loggers write to stderr. You can seleect different destination - or even several - for each log record. For example.\n",
    "- To a file\n",
    "- To a file while parroting it to stderr\n",
    "- Or to stdout, or both\n",
    "- To two different files\n",
    "- (say) INFO and higher message to one file and ERROR and higher to another\n",
    "- to a remote log server accessed via a REST HTTP API\n",
    "\n",
    "These are all managed through what are called **handlers**.\n",
    "\n",
    "In Python logging, a handler's job is to take a log record, and make sure it gets recorded in the appropriate destination.<br> \n",
    "That destination can be a file; a stream or stdout, or something more abstract like inserting into a queue, or transmitting via an RPC or HTTP call.<br><br>\n",
    "\n",
    "However, logger object don't have any handlers."
   ]
  },
  {
   "cell_type": "code",
   "execution_count": 1,
   "metadata": {},
   "outputs": [
    {
     "data": {
      "text/plain": [
       "False"
      ]
     },
     "execution_count": 1,
     "metadata": {},
     "output_type": "execute_result"
    }
   ],
   "source": [
    "import logging\n",
    "\n",
    "logger = logging.getLogger()\n",
    "logger.hasHandlers()"
   ]
  },
  {
   "cell_type": "markdown",
   "metadata": {},
   "source": [
    "With no handler, a logger has the following behaviour:\n",
    "- messages are written to stderr.\n",
    "- only the message is written, nothing else. There is no way to add fields or otherwise modify it.\n",
    "- The log level threshold is logging.WARNING. There is no way to change that. "
   ]
  },
  {
   "cell_type": "code",
   "execution_count": 2,
   "metadata": {},
   "outputs": [],
   "source": [
    "logger.info(\"hey\")"
   ]
  },
  {
   "cell_type": "code",
   "execution_count": 3,
   "metadata": {},
   "outputs": [
    {
     "name": "stderr",
     "output_type": "stream",
     "text": [
      "hey\n"
     ]
    }
   ],
   "source": [
    "logger.warning(\"hey\")"
   ]
  },
  {
   "cell_type": "markdown",
   "metadata": {},
   "source": [
    "### Adding handler\n",
    "TO change that, your first step is to create a handler. Nearly all logger object you ever use will have custom handlers. "
   ]
  },
  {
   "cell_type": "code",
   "execution_count": 4,
   "metadata": {},
   "outputs": [],
   "source": [
    "logger= logging.getLogger()\n",
    "log_file_handler = logging.FileHandler(\"handler.txt\")\n",
    "logger.addHandler(log_file_handler)\n",
    "logger.debug(\"A little detail!\")\n",
    "logger.warning(\"boo!\")"
   ]
  },
  {
   "cell_type": "markdown",
   "metadata": {},
   "source": [
    "Here, FileHandler() takes a file path argument.<br>\n",
    "\n",
    "\"handler.txt\" will contain \"boo!\" but not \"A little detail!\" because it's below the threshold. \n",
    "\n",
    "We can change that.\n"
   ]
  },
  {
   "cell_type": "code",
   "execution_count": 7,
   "metadata": {},
   "outputs": [],
   "source": [
    "logger = logging.getLogger()\n",
    "logger.setLevel(logging.DEBUG)\n",
    "log_file_handler=logging.FileHandler(\"handler2.txt\")\n",
    "logger.addHandler(log_file_handler)\n",
    "logger.debug(\"A little detail!\")\n",
    "logger.warning(\"Boo!\")"
   ]
  },
  {
   "cell_type": "markdown",
   "metadata": {},
   "source": [
    "### StreamHandler : log to stdout"
   ]
  },
  {
   "cell_type": "code",
   "execution_count": 9,
   "metadata": {},
   "outputs": [
    {
     "name": "stdout",
     "output_type": "stream",
     "text": [
      "boo!\n",
      "boo!\n"
     ]
    }
   ],
   "source": [
    "import logging\n",
    "import sys\n",
    "logger = logging.getLogger()\n",
    "out_handler = logging.StreamHandler(sys.stdout)\n",
    "logger.addHandler(out_handler)\n",
    "logger.warning(\"boo!\")\n"
   ]
  },
  {
   "cell_type": "markdown",
   "metadata": {},
   "source": [
    "Notice that StreamHandler() takes sys.stdout as its argument.\n",
    "\n",
    "If you don't pass in sys.stdout, the default is set to sys.stderr"
   ]
  }
 ],
 "metadata": {
  "interpreter": {
   "hash": "3c774bbcc5b2f7006b3f86ef4be25d8d27188f10abfcd0877483362b5854f169"
  },
  "kernelspec": {
   "display_name": "Python 3.10.2 64-bit",
   "language": "python",
   "name": "python3"
  },
  "language_info": {
   "codemirror_mode": {
    "name": "ipython",
    "version": 3
   },
   "file_extension": ".py",
   "mimetype": "text/x-python",
   "name": "python",
   "nbconvert_exporter": "python",
   "pygments_lexer": "ipython3",
   "version": "3.10.2"
  },
  "orig_nbformat": 4
 },
 "nbformat": 4,
 "nbformat_minor": 2
}
