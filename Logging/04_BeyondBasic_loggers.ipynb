{
 "cells": [
  {
   "cell_type": "markdown",
   "metadata": {},
   "source": [
    "## Why loggers?\n",
    "Basic interface is simple and easy to set up. It works well in \"single-file scripts\".\n",
    "\n",
    "Larger Python applications tend to have different logging needs, however. \n",
    "\n",
    "logging meets these needs through a richer interface, called logger objects."
   ]
  },
  {
   "cell_type": "markdown",
   "metadata": {},
   "source": [
    "When you call\n",
    "\n",
    "    logging.warning()\n",
    "\n",
    "You might've noticed that they convey messages through \"root logger\" - the primary, default logger object. \n"
   ]
  },
  {
   "cell_type": "code",
   "execution_count": 1,
   "metadata": {},
   "outputs": [
    {
     "data": {
      "text/plain": [
       "'root'"
      ]
     },
     "execution_count": 1,
     "metadata": {},
     "output_type": "execute_result"
    }
   ],
   "source": [
    "#you can fetch the actual root logger object by calling the following\n",
    "import logging\n",
    "logger = logging.getLogger()\n",
    "logger.name"
   ]
  },
  {
   "cell_type": "markdown",
   "metadata": {},
   "source": [
    "As you can see, it knows its name is \"root\". Logger object have all the same methods the logging module itself has like:\n",
    "- debug, info, warning, error, critical"
   ]
  },
  {
   "cell_type": "code",
   "execution_count": 3,
   "metadata": {},
   "outputs": [
    {
     "name": "stderr",
     "output_type": "stream",
     "text": [
      "This is a warning message.\n",
      "Uh oh, something went wrong.\n",
      "We have a big problem!\n"
     ]
    }
   ],
   "source": [
    "logger.warning(\"This is a warning message.\")\n",
    "logger.error(\"Uh oh, something went wrong.\")\n",
    "logger.critical(\"We have a big problem!\")"
   ]
  },
  {
   "cell_type": "markdown",
   "metadata": {},
   "source": [
    "Wait, where is levelname(severity) and all the other formatting?<br>\n",
    "\n",
    "Let's that inventory of what we want to control here. We want to:\n",
    "- choose our log record **format**\n",
    "- be able to control the log level threshold\n",
    "- write messages to different streams and destination\n",
    "\n",
    "And you do this with a tool called handlers."
   ]
  }
 ],
 "metadata": {
  "interpreter": {
   "hash": "3c774bbcc5b2f7006b3f86ef4be25d8d27188f10abfcd0877483362b5854f169"
  },
  "kernelspec": {
   "display_name": "Python 3.10.2 64-bit",
   "language": "python",
   "name": "python3"
  },
  "language_info": {
   "codemirror_mode": {
    "name": "ipython",
    "version": 3
   },
   "file_extension": ".py",
   "mimetype": "text/x-python",
   "name": "python",
   "nbconvert_exporter": "python",
   "pygments_lexer": "ipython3",
   "version": "3.10.2"
  },
  "orig_nbformat": 4
 },
 "nbformat": 4,
 "nbformat_minor": 2
}
