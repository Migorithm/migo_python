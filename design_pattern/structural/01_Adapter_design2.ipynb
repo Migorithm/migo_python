{
 "cells": [
  {
   "cell_type": "markdown",
   "metadata": {},
   "source": [
    "### Via inheritance\n"
   ]
  },
  {
   "cell_type": "code",
   "execution_count": 1,
   "metadata": {},
   "outputs": [],
   "source": [
    "\n",
    "class Target:\n",
    "    \"\"\"\n",
    "    The Target defines the domain-specific interface used by the client code.\n",
    "    \"\"\"\n",
    "\n",
    "    def request(self) -> str:\n",
    "        return \"Target: The default target's behavior.\"\n",
    "    \n",
    "    \n",
    "class Adaptee:\n",
    "    \"\"\"\n",
    "    The Adaptee contains some useful behavior, but its interface is incompatible\n",
    "    with the existing client code. The Adaptee needs some adaptation before the\n",
    "    client code can use it.\n",
    "    \"\"\"\n",
    "\n",
    "    def specific_request(self) -> str:\n",
    "        return \".eetpadA eht fo roivaheb laicepS\"\n",
    "    \n",
    "    \n",
    "class Adapter(Target, Adaptee):\n",
    "    \"\"\"\n",
    "    The Adapter makes the Adaptee's interface compatible with the Target's\n",
    "    interface via multiple inheritance.\n",
    "    \"\"\"\n",
    "\n",
    "    def request(self) -> str:\n",
    "        return f\"Adapter: (TRANSLATED) {self.specific_request()[::-1]}\"\n",
    "    \n",
    "\n",
    "\n",
    "def client_code(target: \"Target\") -> None:\n",
    "    \"\"\"\n",
    "    The client code supports all classes that follow the Target interface.\n",
    "    \"\"\"\n",
    "\n",
    "    print(target.request(), end=\"\")"
   ]
  },
  {
   "cell_type": "code",
   "execution_count": 2,
   "metadata": {},
   "outputs": [
    {
     "name": "stdout",
     "output_type": "stream",
     "text": [
      "Client: I can work just fine with the Target objects:\n",
      "Target: The default target's behavior.\n",
      "\n"
     ]
    }
   ],
   "source": [
    "print(\"Client: I can work just fine with the Target objects:\")\n",
    "target = Target()\n",
    "client_code(target)\n",
    "print(\"\\n\")"
   ]
  },
  {
   "cell_type": "code",
   "execution_count": 3,
   "metadata": {},
   "outputs": [
    {
     "name": "stdout",
     "output_type": "stream",
     "text": [
      "Client: The Adaptee class has a weird interface. See, I don't understand it:\n",
      "Adaptee: .eetpadA eht fo roivaheb laicepS\n",
      "\n"
     ]
    }
   ],
   "source": [
    "adaptee = Adaptee()\n",
    "print(\"Client: The Adaptee class has a weird interface. \"\n",
    "        \"See, I don't understand it:\")\n",
    "print(f\"Adaptee: {adaptee.specific_request()}\", end=\"\\n\\n\")\n",
    "\n"
   ]
  },
  {
   "cell_type": "code",
   "execution_count": 4,
   "metadata": {},
   "outputs": [
    {
     "name": "stdout",
     "output_type": "stream",
     "text": [
      "Client: But I can work with it via the Adapter:\n",
      "Adapter: (TRANSLATED) Special behavior of the Adaptee."
     ]
    }
   ],
   "source": [
    "print(\"Client: But I can work with it via the Adapter:\")\n",
    "adapter = Adapter()\n",
    "client_code(adapter)"
   ]
  },
  {
   "cell_type": "markdown",
   "metadata": {},
   "source": [
    "### Via object composition"
   ]
  },
  {
   "cell_type": "code",
   "execution_count": 5,
   "metadata": {},
   "outputs": [],
   "source": [
    "class Target:\n",
    "    \"\"\"\n",
    "    The Target defines the domain-specific interface used by the client code.\n",
    "    \"\"\"\n",
    "\n",
    "    def request(self) -> str:\n",
    "        return \"Target: The default target's behavior.\"\n",
    "\n",
    "\n",
    "class Adaptee:\n",
    "    \"\"\"\n",
    "    The Adaptee contains some useful behavior, but its interface is incompatible\n",
    "    with the existing client code. The Adaptee needs some adaptation before the\n",
    "    client code can use it.\n",
    "    \"\"\"\n",
    "\n",
    "    def specific_request(self) -> str:\n",
    "        return \".eetpadA eht fo roivaheb laicepS\"\n",
    "\n",
    "\n",
    "class Adapter(Target):\n",
    "    \"\"\"\n",
    "    The Adapter makes the Adaptee's interface compatible with the Target's\n",
    "    interface via composition.\n",
    "    \"\"\"\n",
    "\n",
    "    def __init__(self, adaptee: Adaptee) -> None:\n",
    "        self.adaptee = adaptee\n",
    "\n",
    "    def request(self) -> str:\n",
    "        return f\"Adapter: (TRANSLATED) {self.adaptee.specific_request()[::-1]}\"\n",
    "\n",
    "\n",
    "def client_code(target: Target) -> None:\n",
    "    \"\"\"\n",
    "    The client code supports all classes that follow the Target interface.\n",
    "    \"\"\"\n",
    "\n",
    "    print(target.request(), end=\"\")"
   ]
  },
  {
   "cell_type": "code",
   "execution_count": 6,
   "metadata": {},
   "outputs": [
    {
     "name": "stdout",
     "output_type": "stream",
     "text": [
      "Client: I can work just fine with the Target objects:\n",
      "Target: The default target's behavior."
     ]
    }
   ],
   "source": [
    "print(\"Client: I can work just fine with the Target objects:\")\n",
    "target = Target()\n",
    "client_code(target)\n"
   ]
  },
  {
   "cell_type": "code",
   "execution_count": 7,
   "metadata": {},
   "outputs": [
    {
     "name": "stdout",
     "output_type": "stream",
     "text": [
      "Client: The Adaptee class has a weird interface. See, I don't understand it:\n",
      "Adaptee: .eetpadA eht fo roivaheb laicepS\n",
      "\n"
     ]
    }
   ],
   "source": [
    "adaptee = Adaptee()\n",
    "print(\"Client: The Adaptee class has a weird interface. \"\n",
    "    \"See, I don't understand it:\")\n",
    "print(f\"Adaptee: {adaptee.specific_request()}\", end=\"\\n\\n\")\n"
   ]
  },
  {
   "cell_type": "code",
   "execution_count": 9,
   "metadata": {},
   "outputs": [
    {
     "name": "stdout",
     "output_type": "stream",
     "text": [
      "Client: But I can work with it via the Adapter:\n",
      "Adapter: (TRANSLATED) Special behavior of the Adaptee."
     ]
    }
   ],
   "source": [
    "print(\"Client: But I can work with it via the Adapter:\")\n",
    "adapter = Adapter(adaptee)\n",
    "client_code(adapter)"
   ]
  }
 ],
 "metadata": {
  "interpreter": {
   "hash": "3c774bbcc5b2f7006b3f86ef4be25d8d27188f10abfcd0877483362b5854f169"
  },
  "kernelspec": {
   "display_name": "Python 3.10.2 64-bit",
   "language": "python",
   "name": "python3"
  },
  "language_info": {
   "codemirror_mode": {
    "name": "ipython",
    "version": 3
   },
   "file_extension": ".py",
   "mimetype": "text/x-python",
   "name": "python",
   "nbconvert_exporter": "python",
   "pygments_lexer": "ipython3",
   "version": "3.10.2"
  },
  "orig_nbformat": 4
 },
 "nbformat": 4,
 "nbformat_minor": 2
}
