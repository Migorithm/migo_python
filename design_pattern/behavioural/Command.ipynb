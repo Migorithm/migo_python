{
 "cells": [
  {
   "cell_type": "markdown",
   "metadata": {},
   "source": [
    "## Command Design pattern\n",
    "The Command pattern is a behavioral design pattern, in which an abstraction exists between an\n",
    "object that invokes a command, and the object that performs it.<br>\n",
    "\n",
    "For example, a button will call the Invoker, that will call a pre-registered Command, that the Receiver will perform.<br>\n",
    "\n",
    "A Concrete Class will delegate a request to a command object, instead of implementing the request directly.<br>\n",
    "\n",
    "Using a command design pattern allows you to separate concerns and to solve problems of the\n",
    "concerns independently of each other. E.g., logging the execution of a command and its outcome.<br>\n",
    "\n",
    "The command pattern is a good solution for implementing **UNDO/REDO** functionality into your\n",
    "application.\n",
    "\n",
    "### USES\n",
    "-  GUI Buttons, menus\n",
    "- Macro recording\n",
    "- Multi-level undo/redo\n",
    "- Networking - send whole command objects across a network, even as a batch\n",
    "- Parallel processing or thread pools\n",
    "- Transactional behavior\n",
    "- Wizards\n",
    "\n",
    "### Terminology\n",
    "- Receiver: The object that will receive and execute the command.\n",
    "- Invoker: The object that sends the command to the receiver. E.g., A button.\n",
    "- Command Object: Itself, an object, that implements an execute, or action method, and\n",
    "contains all required information to execute it.\n",
    "\n",
    "### UML\n"
   ]
  },
  {
   "cell_type": "code",
   "execution_count": 1,
   "metadata": {},
   "outputs": [
    {
     "data": {
      "image/png": "[encoded data removed]",
      "text/plain": [
       "<PIL.PngImagePlugin.PngImageFile image mode=RGBA size=1001x634 at 0x208179EE1A0>"
      ]
     },
     "execution_count": 1,
     "metadata": {},
     "output_type": "execute_result"
    }
   ],
   "source": [
    "from PIL import Image\n",
    "\n",
    "Image.open(\"../command_pattern_uml.png\")"
   ]
  },
  {
   "cell_type": "markdown",
   "metadata": {},
   "source": [
    "### Source code\n",
    "\n",
    "1. The Client instantiates a Receiver that accepts certain commands that do things.\n",
    "\n",
    "2. The Client then creates two Command objects that will call one of the specific commands on the\n",
    "Receiver.\n",
    "\n",
    "3. The Client then creates an Invoker, E.g., a user interface with buttons, and registers both Commands\n",
    "into the Invokers dictionary of commands.\n",
    "\n",
    "4. ***The Client doesn't call the receivers commands directly,*** but the via the Invoker, that then calls the\n",
    "registered Command objects execute() method.\n",
    "\n",
    "5. This abstraction between the invoker, command and receiver, allows the Invoker to add extra\n",
    "functionality such as history, replay, UNDO/REDO, logging, alerting and any other useful things that\n",
    "may be required."
   ]
  },
  {
   "cell_type": "code",
   "execution_count": 6,
   "metadata": {},
   "outputs": [],
   "source": [
    "from abc import ABC, abstractclassmethod\n",
    "\n",
    "class ICommand(ABC):\n",
    "    \"The command interface, that all commands will implement\"\n",
    "    @staticmethod\n",
    "    @abstractclassmethod\n",
    "    def execute():\n",
    "        \"The required execute method that all command objects will use\"\n",
    "        \n",
    "class Invoker:\n",
    "    \"The Invoker Class\"\n",
    "    def __init__(self):\n",
    "        self._commands={}\n",
    "    \n",
    "    def register(self,command_name:str,command:ICommand):\n",
    "        \"Register commands in the Invoker\"\n",
    "        self._commands[command_name] = command\n",
    "    \n",
    "    def execute(self,command_name:str):\n",
    "        \"Execute any registered commands\"\n",
    "        if self._commands.get(command_name):\n",
    "            self._commands[command_name].execute()\n",
    "        else:\n",
    "            print(f\"Command [{command_name}] not recognized!\")\n",
    "            \n",
    "class Receiver:\n",
    "    \"The Receiver\"\n",
    "    \n",
    "    @staticmethod\n",
    "    def run_command_1():\n",
    "        \"A set of instructions to run\"\n",
    "        print(\"Executing command 1\")\n",
    "    \n",
    "    @staticmethod\n",
    "    def run_command_2():\n",
    "        \"A set of instructions to run\"\n",
    "        print(\"Executing Command 2\")\n",
    "\n",
    "class Command1(ICommand):\n",
    "    \"\"\"A Command object, that implements the ICommand interface and\n",
    "    runs the command on the designated receiver\"\"\"\n",
    "    def __init__(self,receiver: Receiver):\n",
    "        self._receiver = receiver\n",
    "        \n",
    "    def execute(self):\n",
    "        self._receiver.run_command_1()\n",
    "        \n",
    "class Command2(ICommand):\n",
    "    \"\"\"A Command object, that implements the ICommand interface and\n",
    "    runs the command on the designated receiver\"\"\"\n",
    "    def __init__(self,receiver: Receiver):\n",
    "        self._receiver = receiver\n",
    "        \n",
    "    def execute(self):\n",
    "        self._receiver.run_command_2()\n",
    "        \n",
    "        \n",
    "\n"
   ]
  },
  {
   "cell_type": "code",
   "execution_count": 8,
   "metadata": {},
   "outputs": [],
   "source": [
    "#The client\n",
    "#1. Create a receiver (or the executor)\n",
    "RECEIVER = Receiver()\n",
    "\n",
    "#2. Create command(which dictates what the execute does)\n",
    "COMMAND1= Command1(RECEIVER)\n",
    "COMMAND2= Command2(RECEIVER)\n",
    "\n",
    "#3 Register the commands with the invoker\n",
    "INVOKER = Invoker()\n",
    "INVOKER.register(\"1\",COMMAND1)\n",
    "INVOKER.register(\"2\",COMMAND2)\n",
    "\n",
    "INVOKER.execute(\"1\")\n",
    "INVOKER.execute(\"2\")"
   ]
  },
  {
   "cell_type": "code",
   "execution_count": null,
   "metadata": {},
   "outputs": [],
   "source": []
  }
 ],
 "metadata": {
  "interpreter": {
   "hash": "3c774bbcc5b2f7006b3f86ef4be25d8d27188f10abfcd0877483362b5854f169"
  },
  "kernelspec": {
   "display_name": "Python 3.10.2 64-bit",
   "language": "python",
   "name": "python3"
  },
  "language_info": {
   "codemirror_mode": {
    "name": "ipython",
    "version": 3
   },
   "file_extension": ".py",
   "mimetype": "text/x-python",
   "name": "python",
   "nbconvert_exporter": "python",
   "pygments_lexer": "ipython3",
   "version": "3.10.2"
  },
  "orig_nbformat": 4
 },
 "nbformat": 4,
 "nbformat_minor": 2
}
