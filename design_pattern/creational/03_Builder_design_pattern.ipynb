{
 "cells": [
  {
   "cell_type": "markdown",
   "metadata": {},
   "source": [
    "## Builder Pattern\n",
    "The intent of this design is to separate the construction of a complex object from its representation so you can use the same construction process to create different representations.\n",
    "\n",
    "### Terminology\n",
    "- Product : The Product being built.\n",
    "- Builder interface : The interface that the Concret builder should implement.\n",
    "- (Concrete) Builder : Provides methods to build and retrieve the concrete product.\n",
    "- Director : has a **construct()** method that creates a customized product using the methods of the Builder. \n",
    "\n",
    "### Builder UML diagram"
   ]
  },
  {
   "cell_type": "code",
   "execution_count": 1,
   "metadata": {},
   "outputs": [
    {
     "data": {
      "image/png": "[encoded data removed]",
      "text/plain": [
       "<PIL.PngImagePlugin.PngImageFile image mode=RGBA size=863x336 at 0x1603C9C3D90>"
      ]
     },
     "execution_count": 1,
     "metadata": {},
     "output_type": "execute_result"
    }
   ],
   "source": [
    "from PIL import Image\n",
    "Image.open(\"../builder_pattern.png\")"
   ]
  },
  {
   "cell_type": "markdown",
   "metadata": {},
   "source": [
    "### Source Code\n",
    "1. Client creates the Director\n",
    "2. The client calss the Director's construct() method that manages each stepof the build process\n",
    "3. The Director returns the product to client"
   ]
  },
  {
   "cell_type": "code",
   "execution_count": 2,
   "metadata": {},
   "outputs": [],
   "source": [
    "from  abc import ABC, abstractmethod\n",
    "\n",
    "class IBuilder(ABC):\n",
    "    \"The Builder Interface\"\n",
    "    \n",
    "    @staticmethod\n",
    "    @abstractmethod\n",
    "    def build_part_a():\n",
    "        \"Build part a\"\n",
    "\n",
    "    @staticmethod\n",
    "    @abstractmethod\n",
    "    def build_part_b():\n",
    "        \"Build part b\"\n",
    "\n",
    "    @staticmethod\n",
    "    @abstractmethod\n",
    "    def build_part_c():\n",
    "        \"Build part c\"\n",
    "        \n",
    "    @staticmethod\n",
    "    @abstractmethod\n",
    "    def get_result():\n",
    "        \"Return the final product\""
   ]
  },
  {
   "cell_type": "code",
   "execution_count": 3,
   "metadata": {},
   "outputs": [],
   "source": [
    "class Builder(IBuilder):\n",
    "    \"The Concrete Builder.\"\n",
    "    def __init__(self):\n",
    "        self.product = Product()\n",
    "        \n",
    "    def build_part_a(self):\n",
    "        self.product.parts.append('a')\n",
    "        return self\n",
    "    def build_part_b(self):\n",
    "        self.product.parts.append('b')\n",
    "        return self\n",
    "    def build_part_c(self):\n",
    "        self.product.parts.append('c')\n",
    "        return self\n",
    "    def get_result(self):\n",
    "        return self.product"
   ]
  },
  {
   "cell_type": "code",
   "execution_count": 4,
   "metadata": {},
   "outputs": [],
   "source": [
    "class Product():\n",
    "    \"The Product\"\n",
    "    def __init__(self):\n",
    "        self.parts = []"
   ]
  },
  {
   "cell_type": "code",
   "execution_count": 5,
   "metadata": {},
   "outputs": [],
   "source": [
    "class Director:\n",
    "    \"The Director, building a complex representation.\"\n",
    "    @staticmethod\n",
    "    def construct():\n",
    "        \"Constructs and returns the final product\"\n",
    "        return Builder()\\\n",
    "            .build_part_a()\\\n",
    "            .build_part_b()\\\n",
    "            .build_part_c()\\\n",
    "            .get_result()"
   ]
  },
  {
   "cell_type": "code",
   "execution_count": 6,
   "metadata": {},
   "outputs": [
    {
     "name": "stdout",
     "output_type": "stream",
     "text": [
      "['a', 'b', 'c']\n"
     ]
    }
   ],
   "source": [
    "PRODUCT = Director.construct()\n",
    "print(PRODUCT.parts)"
   ]
  },
  {
   "cell_type": "markdown",
   "metadata": {},
   "source": [
    "### Builder Use Case\n",
    "\n",
    "Using the Builder Pattern in the context of House builder.<br><br>\n",
    "\n",
    "There can be multiple directors that can create their own complex objects.<br><br>\n",
    "\n",
    "The build can construct complex objects in any order and include/exclude whichever parts it likes.<br><br>"
   ]
  },
  {
   "cell_type": "code",
   "execution_count": 7,
   "metadata": {},
   "outputs": [
    {
     "data": {
      "image/png": "[encoded data removed]",
      "text/plain": [
       "<PIL.PngImagePlugin.PngImageFile image mode=RGBA size=824x627 at 0x1603C829DE0>"
      ]
     },
     "execution_count": 7,
     "metadata": {},
     "output_type": "execute_result"
    }
   ],
   "source": [
    "Image.open(\"../builder_pattern_example.png\")"
   ]
  },
  {
   "cell_type": "code",
   "execution_count": null,
   "metadata": {},
   "outputs": [],
   "source": []
  },
  {
   "cell_type": "code",
   "execution_count": 17,
   "metadata": {},
   "outputs": [],
   "source": [
    "#./builder/house.py\n",
    "class House():\n",
    "    \"The product\"\n",
    "    def __init__(self,building_type:str=\"Apartment\",doors=0,windows=0,wall_material=\"Brick\"):\n",
    "        self.wall_material=wall_material\n",
    "        self.building_type=building_type\n",
    "        self.doors= doors\n",
    "        self.windows=windows\n",
    "        \n",
    "    def construction(self):\n",
    "        \"Return a string describing the construction\"\n",
    "        return f\"This is {self.wall_material} {self.building_type} with {self.doors} doors and {self.windows} windows.\""
   ]
  },
  {
   "cell_type": "code",
   "execution_count": 13,
   "metadata": {},
   "outputs": [],
   "source": [
    "#./builder/house_builder.py\n",
    "from abc import ABC,abstractclassmethod\n",
    "\n",
    "class IHouseBuilder(ABC):\n",
    "    \"The House Builder Interface\"\n",
    "    \n",
    "    @staticmethod\n",
    "    @abstractmethod\n",
    "    def set_building_type(building_type:str):\n",
    "        \"Building Type\"\n",
    "\n",
    "    @staticmethod\n",
    "    @abstractmethod\n",
    "    def set_wall_material(wall_material:str):\n",
    "        \"wall_material\"\n",
    "        \n",
    "    @staticmethod\n",
    "    @abstractmethod\n",
    "    def set_number_doors(number:int):\n",
    "        \"number_doors\"\n",
    "\n",
    "    @staticmethod\n",
    "    @abstractmethod\n",
    "    def set_number_windows(number:int):\n",
    "        \"number_windows\"    \n",
    "        \n",
    "    @staticmethod\n",
    "    @abstractmethod\n",
    "    def get_result():\n",
    "        \"Return the final product\"  \n",
    "        \n",
    "class HouseBuilder(IHouseBuilder):\n",
    "    \"The house builder\"\n",
    "    def __init__(self):\n",
    "        self.house=House()\n",
    "\n",
    "    def set_building_type(self,building_type:str):\n",
    "        self.house.building_type = building_type\n",
    "        return self\n",
    "\n",
    "\n",
    "    def set_wall_material(self,wall_material:str):\n",
    "        self.house.wall_material = wall_material\n",
    "        return self\n",
    "\n",
    "    def set_number_doors(self,number:int):\n",
    "        self.house.doors = number\n",
    "        return self\n",
    "\n",
    "\n",
    "    def set_number_windows(self,number:int):\n",
    "        self.house.windows = number\n",
    "        return self\n",
    "        \n",
    "    def get_result(self):\n",
    "        return self.house"
   ]
  },
  {
   "cell_type": "code",
   "execution_count": 14,
   "metadata": {},
   "outputs": [],
   "source": [
    "#./builder/directors.py\n",
    "\n",
    "class IglooDirector:\n",
    "    \"One of the Directors, that can build a complex representation.\"\n",
    "    \n",
    "    @staticmethod\n",
    "    def construct():\n",
    "        \"\"\"Constructs and returns the final product.\n",
    "            Note that in this IglooDirector, it has omitted the set_number_of\n",
    "            windows call since this Igloo will have no windows.\n",
    "        \"\"\"\n",
    "        return HouseBuilder() \\\n",
    "            .set_building_type(\"Igloo\")\\\n",
    "            .set_wall_material(\"Ice\")\\\n",
    "            .set_number_doors(1)\\\n",
    "            .get_result()\n",
    "\n",
    "\n",
    "class CastleDirector:\n",
    "    \"One of the Directors, that can build a complex representation.\"\n",
    "    \n",
    "    @staticmethod\n",
    "    def construct():\n",
    "        \"\"\"Constructs and returns the final product.\n",
    "        \"\"\"\n",
    "        return HouseBuilder() \\\n",
    "            .set_building_type(\"Igloo\")\\\n",
    "            .set_wall_material(\"Ice\")\\\n",
    "            .set_number_doors(100)\\\n",
    "            .set_number_windows(200)\\\n",
    "            .get_result()\n",
    "\n",
    "class HouseBoatDirector: \n",
    "    \"One of the Directors, that can build a complex representation.\"\n",
    "    @staticmethod\n",
    "    def construct():\n",
    "        \"Constructs and returns the final product\"\n",
    "        return HouseBuilder()\\\n",
    "        .set_building_type(\"House Boat\")\\\n",
    "        .set_wall_material(\"Wood\")\\\n",
    "        .set_number_doors(6)\\\n",
    "        .set_number_windows(8)\\\n",
    "        .get_result()"
   ]
  },
  {
   "cell_type": "code",
   "execution_count": 19,
   "metadata": {},
   "outputs": [],
   "source": [
    "#./builder/client.py\n",
    "\n",
    "IGLOO = IglooDirector.construct()\n",
    "CASTLE = CastleDirector.construct()\n",
    "HOUSEBOAT = HouseBoatDirector.construct()"
   ]
  },
  {
   "cell_type": "code",
   "execution_count": 22,
   "metadata": {},
   "outputs": [
    {
     "name": "stdout",
     "output_type": "stream",
     "text": [
      "This is Ice Igloo with 1 doors and 0 windows.\n",
      "This is Ice Igloo with 100 doors and 200 windows.\n",
      "This is Wood House Boat with 6 doors and 8 windows.\n"
     ]
    }
   ],
   "source": [
    "print(IGLOO.construction())\n",
    "print(CASTLE.construction())\n",
    "print(HOUSEBOAT.construction())"
   ]
  },
  {
   "cell_type": "markdown",
   "metadata": {},
   "source": [
    "### Summary\n",
    "\n",
    "- The Builder pattern is a creational pattern that is used to create more complex objects than you'd expect from a factory.<br><br>\n",
    "\n",
    "- The Builder pattern should be able to construct complex objects in any order and include/exclude whichever available components it likes.<br><br>\n",
    "\n",
    "- You can use an **Abstract Factory** to add an abstraction between the client and Director.<br><br>"
   ]
  },
  {
   "cell_type": "code",
   "execution_count": null,
   "metadata": {},
   "outputs": [],
   "source": []
  }
 ],
 "metadata": {
  "interpreter": {
   "hash": "3c774bbcc5b2f7006b3f86ef4be25d8d27188f10abfcd0877483362b5854f169"
  },
  "kernelspec": {
   "display_name": "Python 3.10.2 64-bit",
   "language": "python",
   "name": "python3"
  },
  "language_info": {
   "codemirror_mode": {
    "name": "ipython",
    "version": 3
   },
   "file_extension": ".py",
   "mimetype": "text/x-python",
   "name": "python",
   "nbconvert_exporter": "python",
   "pygments_lexer": "ipython3",
   "version": "3.10.2"
  },
  "orig_nbformat": 4
 },
 "nbformat": 4,
 "nbformat_minor": 2
}
