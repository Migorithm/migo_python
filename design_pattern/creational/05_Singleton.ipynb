{
 "cells": [
  {
   "cell_type": "markdown",
   "metadata": {},
   "source": [
    "## Singleton Design Pattern\n",
    "\n",
    "Sometimes you need an object in an application where there is only one instance. For example, database connection, or score instance which must be just one not many because otherwise you can't count score properly.<br>\n",
    "\n",
    "In this case, you want to ensure all classes use the same instance.<br><br>\n",
    "By creating a class and use Singleton pattern, you can enforce **even if any number of instances were created, they will still refer to the original class.**<br><br>\n",
    "\n",
    "This can be accessible globally but it is not global variable. It is a class that can be instanced at any time but after it is first initialized, any new instances will point to the same instance as the first.<br><br>\n",
    "\n",
    "For a class to behave as a Singletone, it should NOT contain any references to \"self\" but use static variables, static methods and/or class methods."
   ]
  },
  {
   "cell_type": "code",
   "execution_count": 1,
   "metadata": {},
   "outputs": [
    {
     "data": {
      "image/png": "[encoded data removed]",
      "text/plain": [
       "<PIL.PngImagePlugin.PngImageFile image mode=RGBA size=745x267 at 0x189F2C62440>"
      ]
     },
     "execution_count": 1,
     "metadata": {},
     "output_type": "execute_result"
    }
   ],
   "source": [
    "from PIL import Image\n",
    "Image.open(\"../singleton.png\")"
   ]
  },
  {
   "cell_type": "markdown",
   "metadata": {},
   "source": [
    "### Source code\n",
    "\n",
    "We will override the class's \\_\\_new\\_\\_ method to return a reference to itself. This then makes the \\_\\_init\\_\\_ method irrelevant.<br><br>\n",
    "\n",
    "Note that if you comment out \\_\\_new\\_\\_ method, id of instance will no longer point to the same memory."
   ]
  },
  {
   "cell_type": "code",
   "execution_count": 2,
   "metadata": {},
   "outputs": [],
   "source": [
    "#./singleton/singleton_concept.py\n",
    "\n",
    "import copy\n",
    "\n",
    "class Singleton():\n",
    "    \"The Singleton Class\"\n",
    "    value =[]\n",
    "    \n",
    "    def __new__(cls):\n",
    "        return cls\n",
    "    \n",
    "    # def __init__(self):\n",
    "    #     print(\"in init\")\n",
    "    \n",
    "    @staticmethod\n",
    "    def static_method():\n",
    "        \"Use @staticmethod if no inner variables required\"\n",
    "    \n",
    "    @classmethod\n",
    "    def class_method(cls):\n",
    "        \"Use @classmethod to access class level variables\"\n",
    "        print(cls.value)"
   ]
  },
  {
   "cell_type": "code",
   "execution_count": 3,
   "metadata": {},
   "outputs": [
    {
     "name": "stdout",
     "output_type": "stream",
     "text": [
      "id(Singleton)\t=1691975965888\n"
     ]
    }
   ],
   "source": [
    "print(f\"id(Singleton)\\t={id(Singleton)}\")"
   ]
  },
  {
   "cell_type": "code",
   "execution_count": 4,
   "metadata": {},
   "outputs": [
    {
     "name": "stdout",
     "output_type": "stream",
     "text": [
      "id(OBJECT1)\t= 1691975965888\n"
     ]
    }
   ],
   "source": [
    "OBJECT1=Singleton()\n",
    "print(f\"id(OBJECT1)\\t= {id(OBJECT1)}\")"
   ]
  },
  {
   "cell_type": "code",
   "execution_count": 5,
   "metadata": {},
   "outputs": [
    {
     "name": "stdout",
     "output_type": "stream",
     "text": [
      "id(OBJECT2)\t= 1691975965888\n"
     ]
    }
   ],
   "source": [
    "OBJECT2 = copy.deepcopy(OBJECT1)\n",
    "print(f\"id(OBJECT2)\\t= {id(OBJECT2)}\")"
   ]
  },
  {
   "cell_type": "code",
   "execution_count": 6,
   "metadata": {},
   "outputs": [
    {
     "name": "stdout",
     "output_type": "stream",
     "text": [
      "id(OBJECT1)\t= 1691975965888\n"
     ]
    }
   ],
   "source": [
    "OBJECT3 = Singleton()\n",
    "print(f\"id(OBJECT1)\\t= {id(OBJECT3)}\")"
   ]
  },
  {
   "cell_type": "code",
   "execution_count": 9,
   "metadata": {},
   "outputs": [],
   "source": [
    "OBJECT1.value.append(1)"
   ]
  },
  {
   "cell_type": "code",
   "execution_count": 11,
   "metadata": {},
   "outputs": [
    {
     "data": {
      "text/plain": [
       "[1]"
      ]
     },
     "execution_count": 11,
     "metadata": {},
     "output_type": "execute_result"
    }
   ],
   "source": [
    "Singleton.value"
   ]
  },
  {
   "cell_type": "code",
   "execution_count": 12,
   "metadata": {},
   "outputs": [
    {
     "data": {
      "text/plain": [
       "[1]"
      ]
     },
     "execution_count": 12,
     "metadata": {},
     "output_type": "execute_result"
    }
   ],
   "source": [
    "OBJECT3.value"
   ]
  },
  {
   "cell_type": "markdown",
   "metadata": {},
   "source": [
    "#### Notes\n",
    "Variables declared at class level are static variables that can be accessed directly using the class name without the class needing to be instantiated first.<br>\n",
    "\n",
    "- cls : a reference to the class\n",
    "- self : a reference to the instance of the class\n",
    "- \\_\\_new\\_\\_ : gets called before \\_\\_init\\_\\_\n",
    "- \\_\\_new\\_\\_ : has access to class level variables\n",
    "- \\_\\_init\\_\\_ : references self that is created when the class is instantiated. \n",
    "<br>\n",
    "\n",
    "In summary, by using \\_\\_new\\_\\_, and returning the reference to cls, we can force the class to act as a singleton."
   ]
  },
  {
   "cell_type": "markdown",
   "metadata": {},
   "source": [
    "### Use case\n",
    "\n",
    "Say, there are three games created. The three games are all independent instances created from their own class. But they all share the same leaderboard. The leaderboard is a singleton.<br><br>\n",
    "\n",
    "Each game independently adds a winner, and all games can read the altered leaderboard regardless of which game updated it. "
   ]
  },
  {
   "cell_type": "code",
   "execution_count": 13,
   "metadata": {},
   "outputs": [
    {
     "data": {
      "image/png": "[encoded data removed]",
      "text/plain": [
       "<PIL.PngImagePlugin.PngImageFile image mode=RGBA size=955x656 at 0x189F2E5F2B0>"
      ]
     },
     "execution_count": 13,
     "metadata": {},
     "output_type": "execute_result"
    }
   ],
   "source": [
    "Image.open(\"../singleton_use_case.png\")"
   ]
  },
  {
   "cell_type": "code",
   "execution_count": 14,
   "metadata": {},
   "outputs": [],
   "source": [
    "#./singleton/leaderboard.py\n",
    "\n",
    "class Leaderboard():\n",
    "    \"The leaderboard as a Signleton\"\n",
    "    _table = {}\n",
    "    \n",
    "    def __new__(cls):\n",
    "        return cls\n",
    "\n",
    "    @classmethod\n",
    "    def print(cls):\n",
    "        \"A class level method\"\n",
    "        print(\"----------Leaderboard----------\")\n",
    "        for key,value in sorted(cls._table.items()):\n",
    "            print(f\"\\t{key}\\t|\\t{value}\\t|\")\n",
    "        print()\n",
    "    \n",
    "    @classmethod\n",
    "    def add_winner(cls,position,name):\n",
    "        \"A class level method\"\n",
    "        cls._table[position] = name"
   ]
  },
  {
   "cell_type": "code",
   "execution_count": 15,
   "metadata": {},
   "outputs": [],
   "source": [
    "#./singleton/games.py\n",
    "\n",
    "from abc import ABC,abstractmethod\n",
    "class IGame(ABC):\n",
    "    \"A Game Interface\"\n",
    "    @staticmethod\n",
    "    @abstractmethod\n",
    "    def add_winner(position,name):\n",
    "        \"Must implement add_winner\"\n",
    "        \n",
    "\n",
    "class Game1(IGame):\n",
    "    \"Game1 implements IGame\"\n",
    "    def __init__(self):\n",
    "        self.leaderboard = Leaderboard()\n",
    "    \n",
    "    def add_winner(self,position,name):\n",
    "        self.leaderboard.add_winner(position,name)\n",
    "        \n",
    "\n",
    "class Game2(IGame):\n",
    "    \"Game2 implements IGame\"\n",
    "    def __init__(self):\n",
    "        self.leaderboard = Leaderboard()\n",
    "    \n",
    "    def add_winner(self,position,name):\n",
    "        self.leaderboard.add_winner(position,name)\n",
    "        \n",
    "class Game3(Game2):\n",
    "    \"Game3 inherits from Game2 instaed of from IGame\"\n",
    "    "
   ]
  },
  {
   "cell_type": "markdown",
   "metadata": {},
   "source": []
  },
  {
   "cell_type": "code",
   "execution_count": 16,
   "metadata": {},
   "outputs": [
    {
     "name": "stdout",
     "output_type": "stream",
     "text": [
      "----------Leaderboard----------\n",
      "\t1\t|\tEmmy\t|\n",
      "\t2\t|\tCosmo\t|\n",
      "\t3\t|\tSean\t|\n",
      "\n",
      "----------Leaderboard----------\n",
      "\t1\t|\tEmmy\t|\n",
      "\t2\t|\tCosmo\t|\n",
      "\t3\t|\tSean\t|\n",
      "\n",
      "----------Leaderboard----------\n",
      "\t1\t|\tEmmy\t|\n",
      "\t2\t|\tCosmo\t|\n",
      "\t3\t|\tSean\t|\n",
      "\n"
     ]
    }
   ],
   "source": [
    "GAME1 = Game1()\n",
    "GAME1.add_winner(2,\"Cosmo\")\n",
    "\n",
    "GAME2=Game2()\n",
    "GAME2.add_winner(3,\"Sean\")\n",
    "\n",
    "GAME3 = Game3()\n",
    "GAME2.add_winner(1,\"Emmy\")\n",
    "\n",
    "GAME1.leaderboard.print()\n",
    "GAME2.leaderboard.print()\n",
    "GAME3.leaderboard.print()\n"
   ]
  },
  {
   "cell_type": "markdown",
   "metadata": {},
   "source": [
    "### Summary\n",
    "\n",
    "- To be a Singleton, there must be only one copy of the Singleton, no matter how.\n",
    "\n",
    "- You want the attribues or methods to be globally accessible across your application, so other classes may be able to use the Singleton.\n",
    "\n",
    "- You can use Singletons in other classes, as in **LeaderBoard** example. \n",
    "\n",
    "- For a class to act as a singleton, it shouldn't contain any reference to **self**."
   ]
  },
  {
   "cell_type": "code",
   "execution_count": null,
   "metadata": {},
   "outputs": [],
   "source": []
  },
  {
   "cell_type": "code",
   "execution_count": null,
   "metadata": {},
   "outputs": [],
   "source": []
  }
 ],
 "metadata": {
  "interpreter": {
   "hash": "3c774bbcc5b2f7006b3f86ef4be25d8d27188f10abfcd0877483362b5854f169"
  },
  "kernelspec": {
   "display_name": "Python 3.10.2 64-bit",
   "language": "python",
   "name": "python3"
  },
  "language_info": {
   "codemirror_mode": {
    "name": "ipython",
    "version": 3
   },
   "file_extension": ".py",
   "mimetype": "text/x-python",
   "name": "python",
   "nbconvert_exporter": "python",
   "pygments_lexer": "ipython3",
   "version": "3.10.2"
  },
  "orig_nbformat": 4
 },
 "nbformat": 4,
 "nbformat_minor": 2
}
