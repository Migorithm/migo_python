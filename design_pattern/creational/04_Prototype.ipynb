{
 "cells": [
  {
   "cell_type": "markdown",
   "metadata": {},
   "source": [
    "## Prototype\n",
    "\n",
    "The Prototype design pattern is good for when creating new objects requires more resources than you want to use or have available. You can save resources by just creating a **copy** of any existing object that is already in memory.<br><br>\n",
    "\n",
    "E.g., A file you've downloaded from a server may be large, but since it is already in memory, you could just clone it, and work on the new copy independently of the original.<br><br>\n",
    "\n",
    "In the Prototype patterns interface, you create a **\"static clone method\"** that should be implemented by all classes that use the interface. How the clone method is implemented in the concrete class is up to you. You will need to decide whether a shallow or deep copy is required.<br><br>\n",
    "\n",
    "### New concept\n",
    "In Python, you have mutable objects such as Lists, Dictionaries, Sets  and any custom Objects. A Shallow copy will create new copies of the objects with new references in memory but the underlying data will point to the same memory location as the original list/object being copied. So changing any elements of a copied list will also affect the original list.\n",
    "\n",
    "### Terminology\n",
    "- Prototype Interface: The interface that describes the clone() method.\n",
    "- Prototype: The Object/Product that implements the Prototype interface.\n",
    "- Client: The client application that uses and creates the ProtoType."
   ]
  },
  {
   "cell_type": "code",
   "execution_count": 1,
   "metadata": {},
   "outputs": [
    {
     "data": {
      "image/png": "[encoded data removed]",
      "text/plain": [
       "<PIL.PngImagePlugin.PngImageFile image mode=RGBA size=767x468 at 0x22B850828C0>"
      ]
     },
     "execution_count": 1,
     "metadata": {},
     "output_type": "execute_result"
    }
   ],
   "source": [
    "from PIL import Image\n",
    "Image.open(\"../prototype.png\")"
   ]
  },
  {
   "cell_type": "markdown",
   "metadata": {},
   "source": [
    "### Source Code"
   ]
  },
  {
   "cell_type": "code",
   "execution_count": 12,
   "metadata": {},
   "outputs": [],
   "source": [
    "#./prototype/prototype_concept.py\n",
    "\n",
    "from abc import ABC, abstractmethod\n",
    "\n",
    "class IProtoType(ABC):\n",
    "    \"Interface with clone method\"\n",
    "    @staticmethod\n",
    "    @abstractmethod\n",
    "    def clone():\n",
    "        \"\"\"The clone, deep or shallow.\n",
    "        It's up ti you how you want to implement the details in\n",
    "        your concrete class.\n",
    "    \"\"\"\n",
    "\n",
    "class MyClass(IProtoType):\n",
    "    \"A Concrete Class\"\n",
    "    def __init__(self,field):\n",
    "        self.field = field #any value of any type\n",
    "        \n",
    "    def clone(self):\n",
    "        # This clone method uses a shallow copy technique\n",
    "        return type(self)(self.field) #level1 \n",
    "                #type(self)(self.field.copy()) level2\n",
    "                \n",
    "            # Shallow copy is returned .\n",
    "            # \"self.field.copy()\" is also a shallow copy but has also copied the first level of field.\n",
    "            # So it's essentially a shallow copy but 2 levels deep.  \n",
    "        \n",
    "        \n",
    "    def __str__(self):\n",
    "        return f\"{id(self)}\\tfield={self.field}\\ttype={type(self.field)}\""
   ]
  },
  {
   "cell_type": "code",
   "execution_count": 13,
   "metadata": {},
   "outputs": [
    {
     "name": "stdout",
     "output_type": "stream",
     "text": [
      "OBJECT1 2385942638416\tfield=[1, 2, 3, 4]\ttype=<class 'list'>\n"
     ]
    }
   ],
   "source": [
    "OBJECT1=MyClass([1,2,3,4]) # Create the object\n",
    "print(f\"OBJECT1 {OBJECT1}\")"
   ]
  },
  {
   "cell_type": "code",
   "execution_count": 14,
   "metadata": {},
   "outputs": [],
   "source": [
    "#Clone\n",
    "OBJECT2 = OBJECT1.clone()\n",
    "\n",
    "#Change the value of one of the list element in OBJECT2,\n",
    "# To see if it also modifies the list element in OBJECT1. \n",
    "# If it changed OBJECT1's copy too, then the clone was done suing a 1level shallow copy process.\n",
    "\n",
    "OBJECT2.field[1]=101"
   ]
  },
  {
   "cell_type": "code",
   "execution_count": 15,
   "metadata": {},
   "outputs": [
    {
     "name": "stdout",
     "output_type": "stream",
     "text": [
      "OBJECT2 2385942637216\tfield=[1, 101, 3, 4]\ttype=<class 'list'>\n",
      "OBJECT1 2385942638416\tfield=[1, 2, 3, 4]\ttype=<class 'list'>\n"
     ]
    }
   ],
   "source": [
    "print(f\"OBJECT2 {OBJECT2}\")\n",
    "print(f\"OBJECT1 {OBJECT1}\")"
   ]
  },
  {
   "cell_type": "markdown",
   "metadata": {},
   "source": [
    "### Caveat\n",
    "The 2-level shallow copy only copies collections(list,dictionary,set) one level deep.<br>"
   ]
  },
  {
   "cell_type": "code",
   "execution_count": 19,
   "metadata": {},
   "outputs": [],
   "source": [
    "a = [1,2,[3,4]]\n",
    "b = type(a)(a.copy())"
   ]
  },
  {
   "cell_type": "code",
   "execution_count": 20,
   "metadata": {},
   "outputs": [
    {
     "name": "stdout",
     "output_type": "stream",
     "text": [
      "[1, 2, [3, 4]]\n",
      "[5, 2, [3, 4]]\n"
     ]
    }
   ],
   "source": [
    "b[0] =  5 \n",
    "\n",
    "print(a)\n",
    "print(b)\n",
    "#This doesn't affect a"
   ]
  },
  {
   "cell_type": "code",
   "execution_count": 21,
   "metadata": {},
   "outputs": [
    {
     "name": "stdout",
     "output_type": "stream",
     "text": [
      "[1, 2, [6, 4]]\n",
      "[5, 2, [6, 4]]\n"
     ]
    }
   ],
   "source": [
    "# But when you go one level deeper, it's not the case\n",
    "b[2][0] = 6\n",
    "\n",
    "print(a)\n",
    "print(b)"
   ]
  },
  {
   "cell_type": "code",
   "execution_count": 26,
   "metadata": {},
   "outputs": [
    {
     "name": "stdout",
     "output_type": "stream",
     "text": [
      "[1, 2, [3, 6]]\n",
      "[1, 2, [3, 6]]\n",
      "[1, 2, [3, 6]]\n",
      "[5, 2, [3, 6]]\n"
     ]
    }
   ],
   "source": [
    "a = [1,2,[3,4]]\n",
    "b = a[:] #This is also simple technique to shallow copy two level deep\n",
    "\n",
    "b[2][1]= 6\n",
    "\n",
    "print(a)\n",
    "print(b)\n",
    "b[0]=5\n",
    "\n",
    "print(a)\n",
    "print(b)"
   ]
  },
  {
   "cell_type": "markdown",
   "metadata": {},
   "source": [
    "### Prototype Use Case\n",
    "\n",
    "In this example, an object called document is cloned using shallow, 2 level shallow, and full recursive deep methods."
   ]
  },
  {
   "cell_type": "code",
   "execution_count": 28,
   "metadata": {},
   "outputs": [],
   "source": [
    "#./prototype/interface_prototype.py\n",
    "\n",
    "from abc import ABC , abstractmethod\n",
    "\n",
    "class IProtoType(ABC):\n",
    "    \"Interface with clone method\"\n",
    "    @staticmethod\n",
    "    @abstractmethod\n",
    "    def clone(mode):\n",
    "        \"\"\"The clone, deep, or shallow. \"\"\"\n",
    "        \n",
    "        \n",
    "import copy\n",
    "\n",
    "class Document(IProtoType):\n",
    "    \"A Concrete Class\"\n",
    "    def __init__(self,name,l):\n",
    "        self.name=name\n",
    "        self.list=l\n",
    "    \n",
    "    def clone(self,mode):\n",
    "        \"This clone method uses different copy techniques\"\n",
    "        if mode ==1:\n",
    "            # 1 level shallow copy \n",
    "            doc_list=self.list\n",
    "        if mode ==2:\n",
    "            doc_list=self.list.copy()\n",
    "        if mode ==3:\n",
    "            doc_list=copy.deepcopy(self.list)\n",
    "        \n",
    "        return type(self)(\n",
    "            self.name, \n",
    "            doc_list\n",
    "            )\n",
    "    \n",
    "    def __str__(self):\n",
    "        return f\"{id(self)}\\tname={self.name}\\tlist={self.list}\"\n"
   ]
  },
  {
   "cell_type": "code",
   "execution_count": 29,
   "metadata": {},
   "outputs": [
    {
     "name": "stdout",
     "output_type": "stream",
     "text": [
      "2385946607728\tname=Original\tlist=[[1, 2, 3, 4], [5, 6, 7, 8]]\n"
     ]
    }
   ],
   "source": [
    "#./prototype/client.py\n",
    "\n",
    "ORIGINAL_DOCUMENT = Document(\"Original\",[[1,2,3,4],[5,6,7,8]])\n",
    "print(ORIGINAL_DOCUMENT)"
   ]
  },
  {
   "cell_type": "code",
   "execution_count": 30,
   "metadata": {},
   "outputs": [
    {
     "name": "stdout",
     "output_type": "stream",
     "text": [
      "2385942671088\tname=Copy 1\tlist=[[1, 2, 3, 4], [5, 6, 200, 8]]\n",
      "2385946607728\tname=Original\tlist=[[1, 2, 3, 4], [5, 6, 200, 8]]\n"
     ]
    }
   ],
   "source": [
    "DOCUMENT_COPY_1 = ORIGINAL_DOCUMENT.clone(1)\n",
    "DOCUMENT_COPY_1.name = \"Copy 1\"\n",
    "#This also modified ORIGINAL_DOCUMENT because it's 1 level deep\n",
    "\n",
    "DOCUMENT_COPY_1.list[1][2]= 200\n",
    "print(DOCUMENT_COPY_1)\n",
    "print(ORIGINAL_DOCUMENT)"
   ]
  },
  {
   "cell_type": "code",
   "execution_count": 33,
   "metadata": {},
   "outputs": [
    {
     "name": "stdout",
     "output_type": "stream",
     "text": [
      "2385942640624\tname=Copy2\tlist=[[1, 2, 3, 4], [9, 10, 11, 12]]\n",
      "2385946607728\tname=Original\tlist=[[1, 2, 3, 4], [5, 6, 200, 8]]\n"
     ]
    }
   ],
   "source": [
    "DOCUMENT_COPY_2=ORIGINAL_DOCUMENT.clone(2) #2 level\n",
    "DOCUMENT_COPY_2.name = \"Copy2\"\n",
    "\n",
    "#This does NOT modify ORIGINAL_DOCUMENT because it changes the list[1] referencec that was deep copied \n",
    "#when using mode 2\n",
    "\n",
    "DOCUMENT_COPY_2.list[1]=[9,10,11,12]\n",
    "print(DOCUMENT_COPY_2)\n",
    "print(ORIGINAL_DOCUMENT)"
   ]
  },
  {
   "cell_type": "code",
   "execution_count": 35,
   "metadata": {},
   "outputs": [
    {
     "name": "stdout",
     "output_type": "stream",
     "text": [
      "2385946610608\tname=COPY 3\tlist=[[1, 2, 3, 4], ['1234', 6, 200, 8]]\n",
      "2385946607728\tname=Original\tlist=[[1, 2, 3, 4], ['1234', 6, 200, 8]]\n"
     ]
    }
   ],
   "source": [
    "DOCUMENT_COPY_3 = ORIGINAL_DOCUMENT.clone(2) # Still level 2\n",
    "DOCUMENT_COPY_3.name = \"COPY 3\"\n",
    "\n",
    "DOCUMENT_COPY_3.list[1][0] = \"1234\"\n",
    "print(DOCUMENT_COPY_3)\n",
    "print(ORIGINAL_DOCUMENT)\n",
    "\n",
    "## This does modify ORIGINAL_DOCUMENT because it changes the element of\n",
    "# list[1][0] that was NOT deep copied recursively when using mode 2"
   ]
  },
  {
   "cell_type": "code",
   "execution_count": 36,
   "metadata": {},
   "outputs": [
    {
     "name": "stdout",
     "output_type": "stream",
     "text": [
      "2385942637408\tname=Copy 4\tlist=[[1, 2, 3, 4], ['5678', 6, 200, 8]]\n",
      "2385946607728\tname=Original\tlist=[[1, 2, 3, 4], ['1234', 6, 200, 8]]\n",
      "\n"
     ]
    }
   ],
   "source": [
    "DOCUMENT_COPY_4 = ORIGINAL_DOCUMENT.clone(3) # deep copy (recursive)\n",
    "DOCUMENT_COPY_4.name = \"Copy 4\"\n",
    "\n",
    "# This does NOT modify ORIGINAL_DOCUMENT because it\n",
    "# deep copies all levels recursively when using mode 3\n",
    "\n",
    "DOCUMENT_COPY_4.list[1][0] = \"5678\"\n",
    "print(DOCUMENT_COPY_4)\n",
    "print(ORIGINAL_DOCUMENT)\n",
    "print()"
   ]
  },
  {
   "cell_type": "markdown",
   "metadata": {},
   "source": [
    "### New coding concepts\n",
    "\n",
    "- id() function\n",
    "    - This returns the memory address of an object\n",
    "    - All objects in Python will have a memory address\n"
   ]
  },
  {
   "cell_type": "code",
   "execution_count": null,
   "metadata": {},
   "outputs": [],
   "source": []
  }
 ],
 "metadata": {
  "interpreter": {
   "hash": "3c774bbcc5b2f7006b3f86ef4be25d8d27188f10abfcd0877483362b5854f169"
  },
  "kernelspec": {
   "display_name": "Python 3.10.2 64-bit",
   "language": "python",
   "name": "python3"
  },
  "language_info": {
   "codemirror_mode": {
    "name": "ipython",
    "version": 3
   },
   "file_extension": ".py",
   "mimetype": "text/x-python",
   "name": "python",
   "nbconvert_exporter": "python",
   "pygments_lexer": "ipython3",
   "version": "3.10.2"
  },
  "orig_nbformat": 4
 },
 "nbformat": 4,
 "nbformat_minor": 2
}
