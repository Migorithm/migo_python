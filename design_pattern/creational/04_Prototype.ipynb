{
 "cells": [
  {
   "cell_type": "markdown",
   "metadata": {},
   "source": [
    "## Prototype\n",
    "\n",
    "The Prototype design pattern is good for when creating new objects requires more resources than you want to use or have available. You can save resources by just creating a **copy** of any existing object that is already in memory.<br><br>\n",
    "\n",
    "E.g., A file you've downloaded from a server may be large, but since it is already in memory, you could just clone it, and work on the new copy independently of the original.<br><br>\n",
    "\n",
    "In the Prototype patterns interface, you create a **\"static clone method\"** that should be implemented by all classes that use the interface. How the clone method is implemented in the concrete class is up to you. You will need to decide whether a shallow or deep copy is required.<br><br>\n",
    "\n",
    "### New concept\n",
    "In Python, you have mutable objects such as Lists, Dictionaries, Sets  and any custom Objects. A Shallow copy will create new copies of the objects with new references in memory but the underlying data will point to the same memory location as the original list/object being copied. So changing any elements of a copied list will also affect the original list.\n",
    "\n",
    "### Terminology\n",
    "- Prototype Interface: The interface that describes the clone() method.\n",
    "- Prototype: The Object/Product that implements the Prototype interface.\n",
    "- Client: The client application that uses and creates the ProtoType."
   ]
  },
  {
   "cell_type": "code",
   "execution_count": 1,
   "metadata": {},
   "outputs": [
    {
     "data": {
      "image/png": "[encoded data removed]",
      "text/plain": [
       "<PIL.PngImagePlugin.PngImageFile image mode=RGBA size=767x468 at 0x22B850828C0>"
      ]
     },
     "execution_count": 1,
     "metadata": {},
     "output_type": "execute_result"
    }
   ],
   "source": [
    "from PIL import Image\n",
    "Image.open(\"../prototype.png\")"
   ]
  },
  {
   "cell_type": "markdown",
   "metadata": {},
   "source": [
    "### Source Code"
   ]
  },
  {
   "cell_type": "code",
   "execution_count": 9,
   "metadata": {},
   "outputs": [],
   "source": [
    "#./prototype/prototype_concept.py\n",
    "\n",
    "from abc import ABC, abstractmethod\n",
    "\n",
    "class IProtoType(ABC):\n",
    "    \"Interface with clone method\"\n",
    "    @staticmethod\n",
    "    @abstractmethod\n",
    "    def clone():\n",
    "        \"\"\"The clone, deep or shallow.\n",
    "        It's up ti you how you want to implement the details in\n",
    "        your concrete class.\n",
    "    \"\"\"\n",
    "\n",
    "class MyClass(IProtoType):\n",
    "    \"A Concrete Class\"\n",
    "    def __init__(self,field):\n",
    "        self.field = field #any value of any type\n",
    "        \n",
    "    def clone(self):\n",
    "        # This clone method uses a shallow copy technique\n",
    "        return type(self)(self.field.copy())\n",
    "            \n",
    "            #type(self)(self.field) \n",
    "            # Shallow copy is returned .\n",
    "            # \"self.field.copy()\" is also a shallow copy but has also copied the first level of field.\n",
    "            # So it's essentially a shallow copy but 2 levels deep.  \n",
    "        \n",
    "        \n",
    "    def __str__(self):\n",
    "        return f\"{id(self)}\\tfield={self.field}\\ttype={type(self.field)}\""
   ]
  },
  {
   "cell_type": "code",
   "execution_count": 10,
   "metadata": {},
   "outputs": [
    {
     "name": "stdout",
     "output_type": "stream",
     "text": [
      "OBJECT1 2385940836992\tfield=[1, 2, 3, 4]\ttype=<class 'list'>\n"
     ]
    }
   ],
   "source": [
    "OBJECT1=MyClass([1,2,3,4]) # Create the object\n",
    "print(f\"OBJECT1 {OBJECT1}\")"
   ]
  },
  {
   "cell_type": "code",
   "execution_count": 11,
   "metadata": {},
   "outputs": [
    {
     "ename": "AttributeError",
     "evalue": "'list' object has no attribute 'field'",
     "output_type": "error",
     "traceback": [
      "\u001b[1;31m---------------------------------------------------------------------------\u001b[0m",
      "\u001b[1;31mAttributeError\u001b[0m                            Traceback (most recent call last)",
      "\u001b[1;32mc:\\migo_python\\design_pattern\\creational\\04_Prototype.ipynb Cell 6'\u001b[0m in \u001b[0;36m<module>\u001b[1;34m\u001b[0m\n\u001b[0;32m      <a href='vscode-notebook-cell:/c%3A/migo_python/design_pattern/creational/04_Prototype.ipynb#ch0000005?line=1'>2</a>\u001b[0m OBJECT2 \u001b[39m=\u001b[39m OBJECT1\u001b[39m.\u001b[39mclone()\n\u001b[0;32m      <a href='vscode-notebook-cell:/c%3A/migo_python/design_pattern/creational/04_Prototype.ipynb#ch0000005?line=3'>4</a>\u001b[0m \u001b[39m#Change the value of one of the list element in OBJECT2,\u001b[39;00m\n\u001b[0;32m      <a href='vscode-notebook-cell:/c%3A/migo_python/design_pattern/creational/04_Prototype.ipynb#ch0000005?line=4'>5</a>\u001b[0m \u001b[39m# To see if it also modifies the list element in OBJECT1. \u001b[39;00m\n\u001b[0;32m      <a href='vscode-notebook-cell:/c%3A/migo_python/design_pattern/creational/04_Prototype.ipynb#ch0000005?line=5'>6</a>\u001b[0m \u001b[39m# If it changed OBJECT1's copy too, then the clone was done suing a 1level shallow copy process.\u001b[39;00m\n\u001b[1;32m----> <a href='vscode-notebook-cell:/c%3A/migo_python/design_pattern/creational/04_Prototype.ipynb#ch0000005?line=7'>8</a>\u001b[0m OBJECT2\u001b[39m.\u001b[39;49mfield[\u001b[39m1\u001b[39m]\u001b[39m=\u001b[39m\u001b[39m101\u001b[39m\n",
      "\u001b[1;31mAttributeError\u001b[0m: 'list' object has no attribute 'field'"
     ]
    }
   ],
   "source": [
    "#Clone\n",
    "OBJECT2 = OBJECT1.clone()\n",
    "\n",
    "#Change the value of one of the list element in OBJECT2,\n",
    "# To see if it also modifies the list element in OBJECT1. \n",
    "# If it changed OBJECT1's copy too, then the clone was done suing a 1level shallow copy process.\n",
    "\n",
    "OBJECT2.field[1]=101"
   ]
  },
  {
   "cell_type": "code",
   "execution_count": 8,
   "metadata": {},
   "outputs": [
    {
     "name": "stdout",
     "output_type": "stream",
     "text": [
      "OBJECT2 2385940833104\tfield=[1, 101, 3, 4]\ttype=<class 'list'>\n",
      "OBJECT1 2385940840352\tfield=[1, 101, 3, 4]\ttype=<class 'list'>\n"
     ]
    }
   ],
   "source": [
    "print(f\"OBJECT2 {OBJECT2}\")\n",
    "print(f\"OBJECT1 {OBJECT1}\")"
   ]
  },
  {
   "cell_type": "code",
   "execution_count": null,
   "metadata": {},
   "outputs": [],
   "source": []
  },
  {
   "cell_type": "code",
   "execution_count": null,
   "metadata": {},
   "outputs": [],
   "source": []
  }
 ],
 "metadata": {
  "interpreter": {
   "hash": "3c774bbcc5b2f7006b3f86ef4be25d8d27188f10abfcd0877483362b5854f169"
  },
  "kernelspec": {
   "display_name": "Python 3.10.2 64-bit",
   "language": "python",
   "name": "python3"
  },
  "language_info": {
   "codemirror_mode": {
    "name": "ipython",
    "version": 3
   },
   "file_extension": ".py",
   "mimetype": "text/x-python",
   "name": "python",
   "nbconvert_exporter": "python",
   "pygments_lexer": "ipython3",
   "version": "3.10.2"
  },
  "orig_nbformat": 4
 },
 "nbformat": 4,
 "nbformat_minor": 2
}
