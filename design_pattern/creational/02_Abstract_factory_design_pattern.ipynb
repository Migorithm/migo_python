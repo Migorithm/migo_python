{
 "cells": [
  {
   "cell_type": "markdown",
   "metadata": {},
   "source": [
    "### Terminology\n",
    "\n",
    "- Client : client application that calls the Abstract Factory, the same process as the Concrete Creator in the factory design pattern.<br><br>\n",
    "- Abstract Factory : Common interface over all of the sub factories.<br><br>\n",
    "- Concrete Factory : The subfactory of the Abstract Factory.<br><br>\n",
    "- Abstract Product : The interface for the product that the subfactory returns <br><br>\n",
    "- Concrete Product : The object that is finally returned. <br><br>"
   ]
  },
  {
   "cell_type": "code",
   "execution_count": 1,
   "metadata": {},
   "outputs": [
    {
     "data": {
      "image/png": "[encoded data removed]",
      "text/plain": [
       "<PIL.PngImagePlugin.PngImageFile image mode=RGBA size=973x835 at 0x20285263D60>"
      ]
     },
     "execution_count": 1,
     "metadata": {},
     "output_type": "execute_result"
    }
   ],
   "source": [
    "from PIL import Image\n",
    "Image.open(\"Abstract_Factory.png\")"
   ]
  },
  {
   "cell_type": "markdown",
   "metadata": {},
   "source": [
    "### Source Code"
   ]
  },
  {
   "cell_type": "code",
   "execution_count": 13,
   "metadata": {},
   "outputs": [],
   "source": [
    "from abc import ABC ,abstractmethod\n",
    "#from factory_a import FactoryA\n",
    "#from factory_b import FactoryB\n",
    "\n",
    "class IAbstractFactory(ABC):\n",
    "    \"\"\"Abstract Factory Interface\"\"\"\n",
    "    @staticmethod\n",
    "    @abstractmethod\n",
    "    def create_object(factory):\n",
    "        \"The static  abstract factory interface method\"\n",
    "\n",
    "class AbstractFactory(IAbstractFactory):\n",
    "    \"The Abstract Factory Concrete Class\"\n",
    "    \n",
    "    @staticmethod\n",
    "    def create_object(factory):\n",
    "        \"Static get_factory method\"\n",
    "        try:\n",
    "            if factory in [\"aa\",\"ab\",\"ac\"]:\n",
    "                return FactoryA().create_object(factory[1])\n",
    "            if factory in [\"ba\",\"bb\",\"bc\"] : \n",
    "                return FactoryB().create_object(factory[1])\n",
    "            raise Exception(\"No Factory Found!\")\n",
    "        except Exception as _e:\n",
    "            print(_e)\n",
    "        return None\n",
    "\n"
   ]
  },
  {
   "cell_type": "code",
   "execution_count": 11,
   "metadata": {},
   "outputs": [],
   "source": [
    "#./factory_a.py\n",
    "\n",
    "from abc import ABC, abstractmethod\n",
    "\n",
    "class IProductA(ABC):\n",
    "    \"A Hypothetical Class Interface (Product)\"\n",
    "    \n",
    "    @staticmethod\n",
    "    @abstractmethod\n",
    "    def create_object():\n",
    "        \"An abstract interface method\"\n",
    "        \n",
    "\n",
    "class ConcreteProductA_A(IProductA):\n",
    "    \"A Concrete Class that implements the IProduct interface\"\n",
    "    \n",
    "    def __init__(self):\n",
    "        self.name = \"ConcreteProductA\"\n",
    "    def create_object(self):\n",
    "        return self\n",
    "    \n",
    "class ConcreteProductA_B(IProductA):\n",
    "    \"A Concrete Class that implements the IProduct interface\"\n",
    "    \n",
    "    def __init__(self):\n",
    "        self.name = \"ConcreteProductB\"\n",
    "    def create_object(self):\n",
    "        return self\n",
    "\n",
    "class ConcreteProductA_C(IProductA):\n",
    "    \"A Concrete Class that implements the IProduct interface\"\n",
    "    \n",
    "    def __init__(self):\n",
    "        self.name = \"ConcreteProductC\"\n",
    "    def create_object(self):\n",
    "        return self\n",
    "    \n",
    "class FactoryA:\n",
    "    \"The FactoryA Class\"\n",
    "    \n",
    "    @staticmethod\n",
    "    def create_object(some_property):\n",
    "        \"A static method to get a concrete product\"\n",
    "        try:\n",
    "            if some_property == \"a\":\n",
    "                return ConcreteProductA_A()\n",
    "            if some_property == \"b\":\n",
    "                return ConcreteProductA_B()\n",
    "            if some_property == \"c\":\n",
    "                return ConcreteProductA_C()\n",
    "            \n",
    "            raise Exception(\"Class Not Found\")\n",
    "        except Exception as _e:\n",
    "            print(_e)\n",
    "        return None"
   ]
  },
  {
   "cell_type": "code",
   "execution_count": 10,
   "metadata": {},
   "outputs": [],
   "source": [
    "from abc import ABC, abstractmethod\n",
    "\n",
    "class IProductB(ABC):\n",
    "    \"A Hypothetical Class Interface (Product)\"\n",
    "    \n",
    "    @staticmethod\n",
    "    @abstractmethod\n",
    "    def create_object():\n",
    "        \"An abstract interface method\"\n",
    "        \n",
    "\n",
    "class ConcreteProductB_A(IProductB):\n",
    "    \"A Concrete Class that implements the IProduct interface\"\n",
    "    \n",
    "    def __init__(self):\n",
    "        self.name = \"ConcreteProductA\"\n",
    "    def create_object(self):\n",
    "        return self\n",
    "    \n",
    "class ConcreteProductB_B(IProductB):\n",
    "    \"A Concrete Class that implements the IProduct interface\"\n",
    "    \n",
    "    def __init__(self):\n",
    "        self.name = \"ConcreteProductB\"\n",
    "    def create_object(self):\n",
    "        return self\n",
    "\n",
    "class ConcreteProductB_C(IProductB):\n",
    "    \"A Concrete Class that implements the IProduct interface\"\n",
    "    \n",
    "    def __init__(self):\n",
    "        self.name = \"ConcreteProductC\"\n",
    "    def create_object(self):\n",
    "        return self\n",
    "    \n",
    "class FactoryB:\n",
    "    \"The FactoryA Class\"\n",
    "    \n",
    "    @staticmethod\n",
    "    def create_object(some_property):\n",
    "        \"A static method to get a concrete product\"\n",
    "        try:\n",
    "            if some_property == \"a\":\n",
    "                return ConcreteProductB_A()\n",
    "            if some_property == \"b\":\n",
    "                return ConcreteProductB_B()\n",
    "            if some_property == \"c\":\n",
    "                return ConcreteProductB_C()\n",
    "            \n",
    "            raise Exception(\"Class Not Found\")\n",
    "        except Exception as _e:\n",
    "            print(_e)\n",
    "        return None"
   ]
  },
  {
   "cell_type": "code",
   "execution_count": 14,
   "metadata": {},
   "outputs": [
    {
     "name": "stdout",
     "output_type": "stream",
     "text": [
      "<class '__main__.ConcreteProductA_B'>\n",
      "<class '__main__.ConcreteProductB_C'>\n"
     ]
    }
   ],
   "source": [
    "#The Client\n",
    "PRODUCT = AbstractFactory.create_object(\"ab\")\n",
    "print(f\"{PRODUCT.__class__}\")\n",
    "\n",
    "PRODUCT = AbstractFactory.create_object(\"bc\")\n",
    "print(f\"{PRODUCT.__class__}\")"
   ]
  },
  {
   "cell_type": "markdown",
   "metadata": {},
   "source": [
    "### Use case\n",
    "\n",
    "An example use case may be that you have a furniture shop front. You sell many different kinds of furniture.<br>\n",
    "You sell chairs and tables. And they are manufactured at different factories using different <br>\n",
    "unrelated processes that are not important for your concern"
   ]
  },
  {
   "cell_type": "code",
   "execution_count": 20,
   "metadata": {},
   "outputs": [],
   "source": [
    "from abc import ABC, abstractmethod\n",
    "\n",
    "class IFunitureFactory(ABC):\n",
    "    @staticmethod\n",
    "    @abstractmethod\n",
    "    def get_furniture(type):\n",
    "        pass\n",
    "\n",
    "class FunitureFactory(IFunitureFactory) :\n",
    "    @staticmethod\n",
    "    def get_furniture(type):\n",
    "        try:\n",
    "            if type in [\"cs\",\"cm\",\"cl\"]:\n",
    "                return ChairFactory().get_chair(type[1])\n",
    "            if type in [\"ts\",\"tm\",\"tl\"]:\n",
    "                return TableFactory().get_table(type[1])\n",
    "            raise Exception(\"Not Factory found!\")\n",
    "        except Exception as _e:\n",
    "            print(_e)\n",
    "        return None\n",
    "\n",
    "\n",
    "### Chair line\n",
    "class IChair(ABC):\n",
    "    \"\"\"Interface for chair\"\"\"\n",
    "    @staticmethod\n",
    "    @abstractmethod\n",
    "    def get_dimensions() -> dict: \n",
    "        pass\n",
    "    \n",
    "class SmallChair(IChair):\n",
    "    _height: int = 40\n",
    "    _width: int = 40 \n",
    "    _depth : int = 40\n",
    "    \n",
    "    def get_dimensions(self):\n",
    "        return {\"height\":self._height,\n",
    "                \"width\": self._width,\n",
    "                \"depth\":self._depth}\n",
    "\n",
    "class MediumChair(IChair):\n",
    "    _height: int = 60\n",
    "    _width: int = 60\n",
    "    _depth : int = 60\n",
    "        \n",
    "    def get_dimensions(self):\n",
    "        return {\"height\":self._height,\n",
    "                \"width\": self._width,\n",
    "                \"depth\":self._depth}\n",
    "\n",
    "class LargeChair(IChair):\n",
    "    _height: int = 80\n",
    "    _width: int = 80\n",
    "    _depth : int = 80\n",
    "    \n",
    "    def get_dimensions(self):\n",
    "        return {\"height\":self._height,\n",
    "                \"width\": self._width,\n",
    "                \"depth\":self._depth}\n",
    "        \n",
    "class ChairFactory:\n",
    "    @staticmethod\n",
    "    def get_chair(type):\n",
    "        if type == \"s\":\n",
    "            return SmallChair()\n",
    "        if type == \"m\":\n",
    "            return MediumChair()\n",
    "        if type == \"l\":\n",
    "            return LargeChair()\n",
    "        \n",
    "\n",
    "### Table line\n",
    "\n",
    "class ITable(ABC):\n",
    "    \"\"\"Interface for table\"\"\"\n",
    "    @staticmethod\n",
    "    @abstractmethod\n",
    "    def get_dimensions() -> dict: \n",
    "        pass\n",
    "    \n",
    "class SmallTable(ITable):\n",
    "    _height: int = 40\n",
    "    _width: int = 40 \n",
    "    _depth : int = 40\n",
    "    \n",
    "    def get_dimensions(self):\n",
    "        return {\"height\":self._height,\n",
    "                \"width\": self._width,\n",
    "                \"depth\":self._depth}\n",
    "\n",
    "class MediumTable(ITable):\n",
    "    _height: int = 60\n",
    "    _width: int = 60\n",
    "    _depth : int = 60\n",
    "        \n",
    "    def get_dimensions(self):\n",
    "        return {\"height\":self._height,\n",
    "                \"width\": self._width,\n",
    "                \"depth\":self._depth}\n",
    "\n",
    "class LargeTable(ITable):\n",
    "    _height: int = 80\n",
    "    _width: int = 80\n",
    "    _depth : int = 80\n",
    "    \n",
    "    def get_dimensions(self):\n",
    "        return {\"height\":self._height,\n",
    "                \"width\": self._width,\n",
    "                \"depth\":self._depth}\n",
    "        \n",
    "class TableFactory:\n",
    "    @staticmethod\n",
    "    def get_table(type):\n",
    "        if type == \"s\":\n",
    "            return SmallTable()\n",
    "        if type == \"m\":\n",
    "            return MediumTable()\n",
    "        if type == \"l\":\n",
    "            return LargeTable()\n",
    "\n",
    "\n",
    "### client\n",
    "CHAIR_SMALL= FunitureFactory.get_furniture(\"cs\")\n",
    "MEDIUM_TABLE= FunitureFactory.get_furniture(\"tm\")"
   ]
  },
  {
   "cell_type": "code",
   "execution_count": 21,
   "metadata": {},
   "outputs": [
    {
     "data": {
      "text/plain": [
       "{'height': 40, 'width': 40, 'depth': 40}"
      ]
     },
     "execution_count": 21,
     "metadata": {},
     "output_type": "execute_result"
    }
   ],
   "source": [
    "CHAIR_SMALL.get_dimensions()\n"
   ]
  },
  {
   "cell_type": "code",
   "execution_count": 22,
   "metadata": {},
   "outputs": [
    {
     "data": {
      "text/plain": [
       "{'height': 60, 'width': 60, 'depth': 60}"
      ]
     },
     "execution_count": 22,
     "metadata": {},
     "output_type": "execute_result"
    }
   ],
   "source": [
    "MEDIUM_TABLE.get_dimensions()"
   ]
  }
 ],
 "metadata": {
  "interpreter": {
   "hash": "3c774bbcc5b2f7006b3f86ef4be25d8d27188f10abfcd0877483362b5854f169"
  },
  "kernelspec": {
   "display_name": "Python 3.10.2 64-bit",
   "language": "python",
   "name": "python3"
  },
  "language_info": {
   "codemirror_mode": {
    "name": "ipython",
    "version": 3
   },
   "file_extension": ".py",
   "mimetype": "text/x-python",
   "name": "python",
   "nbconvert_exporter": "python",
   "pygments_lexer": "ipython3",
   "version": "3.10.2"
  },
  "orig_nbformat": 4
 },
 "nbformat": 4,
 "nbformat_minor": 2
}
