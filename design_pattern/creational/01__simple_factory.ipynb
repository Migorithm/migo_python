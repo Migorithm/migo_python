{
 "cells": [
  {
   "cell_type": "markdown",
   "metadata": {},
   "source": [
    "### Alternative constructors: The simple factory"
   ]
  },
  {
   "cell_type": "code",
   "execution_count": 1,
   "metadata": {},
   "outputs": [],
   "source": [
    "class Money:\n",
    "    def __init__(self,dollars,cents):\n",
    "        self.dollars = dollars\n",
    "        self.cents = cents"
   ]
  },
  {
   "cell_type": "markdown",
   "metadata": {},
   "source": [
    "Let's focus on interface. "
   ]
  },
  {
   "cell_type": "code",
   "execution_count": 2,
   "metadata": {},
   "outputs": [],
   "source": [
    "total_pennies = 3274\n",
    "dollars = total_pennies//100\n",
    "cents = total_pennies % 100\n",
    "\n",
    "total_cash = Money(dollars,cents)\n"
   ]
  },
  {
   "cell_type": "markdown",
   "metadata": {},
   "source": [
    "Suppose your code splits pennies into dollars and cents over and over, and you're tired of repeating this calculation.<br>\n",
    "You may be able to change the constructor(\\_\\_init\\_\\_), but that means refactoring Money class.<br><br>\n",
    "\n",
    "Some languages let you define several constructors, but Python makes you pick just one.<br>\n",
    "In this case, you can usefully create factory function taking argument you want, creating and returning the object.\n"
   ]
  },
  {
   "cell_type": "code",
   "execution_count": 3,
   "metadata": {},
   "outputs": [],
   "source": [
    "def money_from_pennies(total_cents):\n",
    "    dollars = total_cents//100\n",
    "    cents = total_cents % 100\n",
    "    return Money(dollars,cents)"
   ]
  },
  {
   "cell_type": "markdown",
   "metadata": {},
   "source": [
    "But this time, imagine that you also routinely need to parse a string like \"$140.75\"."
   ]
  },
  {
   "cell_type": "code",
   "execution_count": 19,
   "metadata": {},
   "outputs": [],
   "source": [
    "import re\n",
    "def money_from_string(amount):\n",
    "    match= re.search(\n",
    "        r\"^\\$(?P<dollars>\\d+)\\.?(?P<cents>\\d\\d)?\", amount #P stands for paramter. This can be used later \n",
    "    )\n",
    "    if match is None:\n",
    "        raise ValueError(\"Invalid amount: %r\"+repr(amount))\n",
    "    dollars = int(match.group(\"dollars\"))               # extract the value of the given paramter.\n",
    "    cents = int(match.group(\"cents\"))\n",
    "    return Money(dollars,cents)"
   ]
  },
  {
   "cell_type": "markdown",
   "metadata": {},
   "source": [
    "These are **effectively** alternative constructors: But this has some problems;\n",
    "- it's awkward to have them as separate functions. \n",
    "- what happens if you subclass Money? As it returns \"Money\" object, it becomes worthless. \n",
    "\n",
    "Python solves these problems in unique way which may be absent in other languages: the **classmethod** decorator."
   ]
  },
  {
   "cell_type": "code",
   "execution_count": 85,
   "metadata": {},
   "outputs": [],
   "source": [
    "class Money:\n",
    "    def __init__(self,dollars,cents):\n",
    "        self.dollars = dollars\n",
    "        self.cents = cents \n",
    "    \n",
    "    @classmethod\n",
    "    def from_pennies(cls,total_cents):\n",
    "        dollars = total_cents//100\n",
    "        cents = total_cents % 100\n",
    "        return cls(dollars,cents) #Initialization point 1\n",
    "    \n",
    "    @classmethod\n",
    "    def from_string(cls,amount):\n",
    "        match= re.search(\n",
    "        r'^\\$(?P<dollars>\\d+)\\.(?P<cents>[0-9]{1,2})$', amount) #parameter\n",
    "        \n",
    "        if match is None:\n",
    "            raise ValueError(\"Invalid amount: \"+repr(amount))\n",
    "        dollars = int(match.group(\"dollars\"))\n",
    "        cents = int(match.group(\"cents\"))\n",
    "        return cls(dollars,cents) #Initialization point 2"
   ]
  },
  {
   "cell_type": "markdown",
   "metadata": {},
   "source": [
    "When applied to a method definition, classmethod modifies how that method is invoked and interpreted.<br>\n",
    "The first argument is now the class itself. \"cls\" is a variable holding the **current class object**.<br>\n",
    "So the last line is creating a new instance of Money in this case.<br>\n",
    "\n",
    "As you can imagine, the real benefit of using classmethod is when you subclass them."
   ]
  },
  {
   "cell_type": "code",
   "execution_count": 28,
   "metadata": {},
   "outputs": [
    {
     "data": {
      "text/plain": [
       "__main__.TipMoney"
      ]
     },
     "execution_count": 28,
     "metadata": {},
     "output_type": "execute_result"
    }
   ],
   "source": [
    "class TipMoney(Money):\n",
    "    pass\n",
    "tip = TipMoney.from_pennies(475)\n",
    "type(tip)"
   ]
  },
  {
   "cell_type": "code",
   "execution_count": 29,
   "metadata": {},
   "outputs": [
    {
     "data": {
      "text/plain": [
       "75"
      ]
     },
     "execution_count": 29,
     "metadata": {},
     "output_type": "execute_result"
    }
   ],
   "source": [
    "tip.cents"
   ]
  },
  {
   "cell_type": "code",
   "execution_count": 87,
   "metadata": {},
   "outputs": [
    {
     "ename": "ValueError",
     "evalue": "Invalid amount: '$14'",
     "output_type": "error",
     "traceback": [
      "\u001b[1;31m---------------------------------------------------------------------------\u001b[0m",
      "\u001b[1;31mValueError\u001b[0m                                Traceback (most recent call last)",
      "\u001b[1;32mc:\\migo_python\\design_pattern\\creational\\01__simple_factory.ipynb Cell 14'\u001b[0m in \u001b[0;36m<module>\u001b[1;34m\u001b[0m\n\u001b[1;32m----> <a href='vscode-notebook-cell:/c%3A/migo_python/design_pattern/creational/01__simple_factory.ipynb#ch0000014?line=0'>1</a>\u001b[0m tip2 \u001b[39m=\u001b[39m TipMoney\u001b[39m.\u001b[39;49mfrom_string(\u001b[39m\"\u001b[39;49m\u001b[39m$14\u001b[39;49m\u001b[39m\"\u001b[39;49m)\n\u001b[0;32m      <a href='vscode-notebook-cell:/c%3A/migo_python/design_pattern/creational/01__simple_factory.ipynb#ch0000014?line=1'>2</a>\u001b[0m \u001b[39mprint\u001b[39m(tip2\u001b[39m.\u001b[39mdollars)\n\u001b[0;32m      <a href='vscode-notebook-cell:/c%3A/migo_python/design_pattern/creational/01__simple_factory.ipynb#ch0000014?line=2'>3</a>\u001b[0m \u001b[39mprint\u001b[39m(tip2\u001b[39m.\u001b[39mcents)\n",
      "\u001b[1;32mc:\\migo_python\\design_pattern\\creational\\01__simple_factory.ipynb Cell 10'\u001b[0m in \u001b[0;36mMoney.from_string\u001b[1;34m(cls, amount)\u001b[0m\n\u001b[0;32m     <a href='vscode-notebook-cell:/c%3A/migo_python/design_pattern/creational/01__simple_factory.ipynb#ch0000009?line=13'>14</a>\u001b[0m match\u001b[39m=\u001b[39m re\u001b[39m.\u001b[39msearch(\n\u001b[0;32m     <a href='vscode-notebook-cell:/c%3A/migo_python/design_pattern/creational/01__simple_factory.ipynb#ch0000009?line=14'>15</a>\u001b[0m \u001b[39mr\u001b[39m\u001b[39m'\u001b[39m\u001b[39m^\u001b[39m\u001b[39m\\\u001b[39m\u001b[39m$(?P<dollars>\u001b[39m\u001b[39m\\\u001b[39m\u001b[39md+)\u001b[39m\u001b[39m\\\u001b[39m\u001b[39m.(?P<cents>[0-9]\u001b[39m\u001b[39m{\u001b[39m\u001b[39m1,2})$\u001b[39m\u001b[39m'\u001b[39m, amount)\n\u001b[0;32m     <a href='vscode-notebook-cell:/c%3A/migo_python/design_pattern/creational/01__simple_factory.ipynb#ch0000009?line=16'>17</a>\u001b[0m \u001b[39mif\u001b[39;00m match \u001b[39mis\u001b[39;00m \u001b[39mNone\u001b[39;00m:\n\u001b[1;32m---> <a href='vscode-notebook-cell:/c%3A/migo_python/design_pattern/creational/01__simple_factory.ipynb#ch0000009?line=17'>18</a>\u001b[0m     \u001b[39mraise\u001b[39;00m \u001b[39mValueError\u001b[39;00m(\u001b[39m\"\u001b[39m\u001b[39mInvalid amount: \u001b[39m\u001b[39m\"\u001b[39m\u001b[39m+\u001b[39m\u001b[39mrepr\u001b[39m(amount))\n\u001b[0;32m     <a href='vscode-notebook-cell:/c%3A/migo_python/design_pattern/creational/01__simple_factory.ipynb#ch0000009?line=18'>19</a>\u001b[0m dollars \u001b[39m=\u001b[39m \u001b[39mint\u001b[39m(match\u001b[39m.\u001b[39mgroup(\u001b[39m\"\u001b[39m\u001b[39mdollars\u001b[39m\u001b[39m\"\u001b[39m))\n\u001b[0;32m     <a href='vscode-notebook-cell:/c%3A/migo_python/design_pattern/creational/01__simple_factory.ipynb#ch0000009?line=19'>20</a>\u001b[0m cents \u001b[39m=\u001b[39m \u001b[39mint\u001b[39m(match\u001b[39m.\u001b[39mgroup(\u001b[39m\"\u001b[39m\u001b[39mcents\u001b[39m\u001b[39m\"\u001b[39m))\n",
      "\u001b[1;31mValueError\u001b[0m: Invalid amount: '$14'"
     ]
    }
   ],
   "source": [
    "tip2 = TipMoney.from_string(\"$14\")\n",
    "print(tip2.dollars)\n",
    "print(tip2.cents)"
   ]
  },
  {
   "cell_type": "markdown",
   "metadata": {},
   "source": [
    "Plus, if you want to change the name of the Money class, you only have to change it in one place(in Money) not in the all subclasses. \n",
    "\n",
    "### Simple factory? or Alternative constructor?\n",
    "\n",
    "Although this form of factory pattern is called \"simple factory\", it may be more appropriate to call it \"alternative constructor.\""
   ]
  }
 ],
 "metadata": {
  "interpreter": {
   "hash": "3c774bbcc5b2f7006b3f86ef4be25d8d27188f10abfcd0877483362b5854f169"
  },
  "kernelspec": {
   "display_name": "Python 3.10.2 64-bit",
   "language": "python",
   "name": "python3"
  },
  "language_info": {
   "codemirror_mode": {
    "name": "ipython",
    "version": 3
   },
   "file_extension": ".py",
   "mimetype": "text/x-python",
   "name": "python",
   "nbconvert_exporter": "python",
   "pygments_lexer": "ipython3",
   "version": "3.10.2"
  },
  "orig_nbformat": 4
 },
 "nbformat": 4,
 "nbformat_minor": 2
}
