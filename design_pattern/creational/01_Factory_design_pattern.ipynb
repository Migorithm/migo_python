{
 "cells": [
  {
   "cell_type": "markdown",
   "metadata": {},
   "source": [
    "### Terminology\n",
    "\n",
    "- Concrete Creator : class or method that calls the creator\n",
    "- Product Interface : interface that describes the attributes and methods that are required for Factory\n",
    "- Creator : Factory class.\n",
    "- Concrete product : The object returned from the factory. "
   ]
  },
  {
   "cell_type": "markdown",
   "metadata": {},
   "source": [
    "### Source code\n",
    "In this concept exmpla,e the client wants an object named b.<br>\n",
    "Rather than creating b directly, it asks the creator (factory) for the object instead.<br>\n",
    "\n",
    "The factory finds the relevant class using some kind of logic from the attributes of the request. "
   ]
  },
  {
   "cell_type": "code",
   "execution_count": 6,
   "metadata": {},
   "outputs": [
    {
     "data": {
      "image/png": "[encoded data removed]",
      "text/plain": [
       "<PIL.PngImagePlugin.PngImageFile image mode=RGBA size=821x501 at 0x24862DC0D00>"
      ]
     },
     "execution_count": 6,
     "metadata": {},
     "output_type": "execute_result"
    }
   ],
   "source": [
    "from PIL import Image\n",
    "im = Image.open(\"Factory.png\")\n",
    "im"
   ]
  },
  {
   "cell_type": "code",
   "execution_count": 18,
   "metadata": {},
   "outputs": [
    {
     "name": "stdout",
     "output_type": "stream",
     "text": [
      "ConcreteProductB\n",
      "ConcreteProductA\n"
     ]
    }
   ],
   "source": [
    "from abc import ABC, abstractmethod\n",
    "\n",
    "class IProduct(ABC):\n",
    "    \"A Hypothetical Class Interface (Product)\"\n",
    "    \n",
    "    @staticmethod\n",
    "    @abstractmethod\n",
    "    def create_object():\n",
    "        \"An abstract interface method\"\n",
    "        \n",
    "\n",
    "class ConcreteProductA(IProduct):\n",
    "    \"A Concrete Class that implements the IProduct interface\"\n",
    "    \n",
    "    def __init__(self):\n",
    "        self.name = \"ConcreteProductA\"\n",
    "    def create_object(self):\n",
    "        return self\n",
    "    \n",
    "class ConcreteProductB(IProduct):\n",
    "    \"A Concrete Class that implements the IProduct interface\"\n",
    "    \n",
    "    def __init__(self):\n",
    "        self.name = \"ConcreteProductB\"\n",
    "    def create_object(self):\n",
    "        return self\n",
    "\n",
    "class ConcreteProductC(IProduct):\n",
    "    \"A Concrete Class that implements the IProduct interface\"\n",
    "    \n",
    "    def __init__(self):\n",
    "        self.name = \"ConcreteProductC\"\n",
    "    def create_object(self):\n",
    "        return self\n",
    "    \n",
    "class Creator:\n",
    "    \"The Factory Class\"\n",
    "    @staticmethod\n",
    "    def create_object(some_property):\n",
    "        \"A Static method to get a concrete product\"\n",
    "        if some_property == \"a\":\n",
    "            return ConcreteProductA()\n",
    "        if some_property == 'b':\n",
    "            return ConcreteProductB()\n",
    "        if some_property == \"c\":\n",
    "            return ConcreteProductC()\n",
    "        return None\n",
    "    \n",
    "#The Client\n",
    "PRODUCT = Creator.create_object(\"b\") \n",
    "PRODUCT2 = Creator().create_object(\"a\")\n",
    "print(PRODUCT.name)\n",
    "print(PRODUCT2.name)"
   ]
  },
  {
   "cell_type": "markdown",
   "metadata": {},
   "source": [
    "### Use case\n",
    "An example use case is a user interface where the user can select from a menu of items such as chairs"
   ]
  },
  {
   "cell_type": "code",
   "execution_count": 25,
   "metadata": {},
   "outputs": [
    {
     "name": "stdout",
     "output_type": "stream",
     "text": [
      "{'height': 40, 'width': 40, 'depth': 40}\n"
     ]
    }
   ],
   "source": [
    "from abc import ABC, abstractmethod\n",
    "from dataclasses import dataclass\n",
    "\n",
    "class IChair(ABC):\n",
    "    \"An abstract interface (Chair)\"\n",
    "    @staticmethod\n",
    "    @abstractmethod\n",
    "    def get_dimensions()-> dict:\n",
    "        \"An abstract interface for dimensions\" \n",
    "\n",
    "@dataclass\n",
    "class SmallChair(IChair):\n",
    "    _height : int = 40\n",
    "    _width : int = 40\n",
    "    _depth : int =40 \n",
    "    \n",
    "    def get_dimensions(self) -> dict:\n",
    "        return {\n",
    "            \"height\":self._height,\n",
    "            \"width\":self._width,\n",
    "            \"depth\":self._depth\n",
    "        }\n",
    "        \n",
    "@dataclass\n",
    "class MediumChair(IChair):\n",
    "    _height : int = 60\n",
    "    _width : int = 60\n",
    "    _depth : int = 60\n",
    "    \n",
    "    def get_dimensions(self) -> dict:\n",
    "        return {\n",
    "            \"height\":self._height,\n",
    "            \"width\":self._width,\n",
    "            \"depth\":self._depth\n",
    "        }\n",
    "\n",
    "@dataclass\n",
    "class BigChair(IChair):\n",
    "    _height : int = 80\n",
    "    _width : int = 80\n",
    "    _depth : int = 80\n",
    "    \n",
    "    def get_dimensions(self) -> dict:\n",
    "        return {\n",
    "            \"height\":self._height,\n",
    "            \"width\":self._width,\n",
    "            \"depth\":self._depth\n",
    "        }\n",
    "        \n",
    "class ChairFactory:\n",
    "    CHOICE ={\"BigChair\":BigChair(),\n",
    "             \"MediumChair\":MediumChair(),\n",
    "             \"SmallChair\":SmallChair()}\n",
    "    \n",
    "    @staticmethod\n",
    "    def get_chair(chair):\n",
    "        if chair in ChairFactory.CHOICE :\n",
    "            return ChairFactory.CHOICE[chair]\n",
    "\n",
    "CHAIR = ChairFactory.get_chair(\"SmallChair\")\n",
    "print(CHAIR.get_dimensions())"
   ]
  },
  {
   "cell_type": "markdown",
   "metadata": {},
   "source": [
    "### Conding concepts\n",
    "\n",
    "#### ABC(Abstract Base Class)\n",
    "The benefit of using ABC classes is that your IDE and IDE and Pylint will indicate to you at development time whether your inheriting classes conform to the class definition. <br><br>\n",
    "\n",
    "While it's possible to ensure your classes are correct without using ABC, it's often easier to use ABC as a backup method of checking correctness.<br><br>\n",
    "\n",
    "Note that in the example above, ABC didn't require a *self* or *cls* due to the use of @staticmethod. \n",
    "\n"
   ]
  }
 ],
 "metadata": {
  "interpreter": {
   "hash": "3c774bbcc5b2f7006b3f86ef4be25d8d27188f10abfcd0877483362b5854f169"
  },
  "kernelspec": {
   "display_name": "Python 3.10.2 64-bit",
   "language": "python",
   "name": "python3"
  },
  "language_info": {
   "codemirror_mode": {
    "name": "ipython",
    "version": 3
   },
   "file_extension": ".py",
   "mimetype": "text/x-python",
   "name": "python",
   "nbconvert_exporter": "python",
   "pygments_lexer": "ipython3",
   "version": "3.10.2"
  },
  "orig_nbformat": 4
 },
 "nbformat": 4,
 "nbformat_minor": 2
}
