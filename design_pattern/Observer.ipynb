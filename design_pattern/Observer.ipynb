{
 "cells": [
  {
   "cell_type": "markdown",
   "metadata": {},
   "source": [
    "## Observer pattern\n",
    "\n",
    "The idea of observer pattern is you have:\n",
    "- some root object that would be changed(or Observable or Publisher)\n",
    "- satelite objects that want to know when the changes would happen(or Observer or Subscriber).\n"
   ]
  },
  {
   "cell_type": "code",
   "execution_count": 9,
   "metadata": {},
   "outputs": [],
   "source": [
    "class Subscriber:\n",
    "    def __init__(self, name):\n",
    "        self.name = name\n",
    "\n",
    "    #Each Subscriber must implement a common method. In this case,\n",
    "    # it's 'update'\n",
    "    def update(self, message):\n",
    "        print(\"{} got message '{}'\".format(self.name,message))\n",
    "        \n",
    "class Publisher:\n",
    "    def __init__(self):\n",
    "        self.subscribers =set()\n",
    "    def register_all(self,people):\n",
    "        for who in people:\n",
    "            self.register(who)\n",
    "    def register(self,who):\n",
    "        self.subscribers.add(who)\n",
    "    def unregister(self,who):\n",
    "        self.subscribers.discard(who)\n",
    "    def dispatch(self,message):\n",
    "        for subscriber in self.subscribers:\n",
    "            subscriber.update(message)"
   ]
  },
  {
   "cell_type": "code",
   "execution_count": 10,
   "metadata": {},
   "outputs": [],
   "source": [
    "pub = Publisher()\n",
    "\n",
    "bob = Subscriber(\"Bob\")\n",
    "alice = Subscriber(\"Alice\")\n",
    "john = Subscriber(\"John\")\n",
    "\n",
    "pub.register_all([bob,alice,john])"
   ]
  },
  {
   "cell_type": "code",
   "execution_count": 11,
   "metadata": {},
   "outputs": [
    {
     "name": "stdout",
     "output_type": "stream",
     "text": [
      "Bob got message 'It's lunchtime!'\n",
      "John got message 'It's lunchtime!'\n",
      "Alice got message 'It's lunchtime!'\n",
      "Bob got message 'Time for dinner'\n",
      "Alice got message 'Time for dinner'\n"
     ]
    }
   ],
   "source": [
    "pub.dispatch(\"It's lunchtime!\")\n",
    "pub.unregister(john)\n",
    "pub.dispatch(\"Time for dinner\")"
   ]
  },
  {
   "cell_type": "markdown",
   "metadata": {},
   "source": [
    "### Key note\n",
    "- Subscribers share a method called the same. \n",
    "- Publisher initialize empty set(or dict)\n",
    "- Publisher registers subscribers in set(or dict)\n",
    "- Loop it over"
   ]
  },
  {
   "cell_type": "markdown",
   "metadata": {},
   "source": [
    "## Python refinement\n",
    "\n",
    "Python gives more flexibility as it treats function as first class citizen.<br>\n",
    "\n",
    "You can Subscriber can register themselves even if they didn't implement update.<br>\n",
    "\n"
   ]
  },
  {
   "cell_type": "code",
   "execution_count": 12,
   "metadata": {},
   "outputs": [],
   "source": [
    "class SubscriberOne:\n",
    "    def __init__(self, name):\n",
    "        self.name = name\n",
    "    def update(self, message):\n",
    "        print(\"{} got message '{}'\".format(self.name,message))\n",
    "        \n",
    "\n",
    "class SubscriberTwo:\n",
    "    def __init__(self, name):\n",
    "        self.name = name\n",
    "    \n",
    "    #It has different method! How are you going to make \n",
    "    # SubscriberTwo receives the method with the publisher?\n",
    "    def receive(self, message):\n",
    "        print(\"{} got message '{}'\".format(self.name,message))\n",
    "        "
   ]
  },
  {
   "cell_type": "code",
   "execution_count": 26,
   "metadata": {},
   "outputs": [],
   "source": [
    "class Publisher:\n",
    "    def __init__(self):\n",
    "        self.subscribers =dict() #use dict() instead\n",
    "\n",
    "    #we would call function as callback because we want\n",
    "    # the observer to have callback function invoked \n",
    "    # when notification goes out.\n",
    "    def register(self,who,callback=None): \n",
    "        if callback is None:\n",
    "            callback =getattr(who,\"update\")\n",
    "        self.subscribers[who] = callback\n",
    "    def unregister(self,who):\n",
    "        del self.subscribers[who]\n",
    "    def dispatch(self,message):\n",
    "        for subscriber, callback in self.subscribers.items():\n",
    "            callback(message)"
   ]
  },
  {
   "cell_type": "code",
   "execution_count": 39,
   "metadata": {},
   "outputs": [
    {
     "name": "stdout",
     "output_type": "stream",
     "text": [
      "Bob got message 'It's lunchtime!'\n",
      "Alice got message 'It's lunchtime!'\n",
      "Bob got message 'Time for dinner!'\n",
      "Alice got message 'Time for dinner!'\n"
     ]
    }
   ],
   "source": [
    "publisher = Publisher()\n",
    "bob = SubscriberOne(\"Bob\")\n",
    "alice = SubscriberTwo(\"Alice\")\n",
    "john = SubscriberOne(\"John\")\n",
    "\n",
    "publisher.register(bob,bob.update)\n",
    "publisher.register(alice,alice.receive)\n",
    "publisher.register(john,john.update)\n",
    "\n",
    "pub.dispatch(\"It's lunchtime!\")\n",
    "pub.unregister(john)\n",
    "pub.dispatch(\"Time for dinner!\")"
   ]
  },
  {
   "cell_type": "code",
   "execution_count": 40,
   "metadata": {},
   "outputs": [],
   "source": [
    "callback= getattr(john,\"update\")"
   ]
  },
  {
   "cell_type": "code",
   "execution_count": 41,
   "metadata": {},
   "outputs": [
    {
     "data": {
      "text/plain": [
       "<bound method SubscriberOne.update of <__main__.SubscriberOne object at 0x000001A49A9E16F0>>"
      ]
     },
     "execution_count": 41,
     "metadata": {},
     "output_type": "execute_result"
    }
   ],
   "source": [
    "callback"
   ]
  },
  {
   "cell_type": "code",
   "execution_count": null,
   "metadata": {},
   "outputs": [],
   "source": []
  },
  {
   "cell_type": "code",
   "execution_count": null,
   "metadata": {},
   "outputs": [],
   "source": []
  }
 ],
 "metadata": {
  "interpreter": {
   "hash": "3c774bbcc5b2f7006b3f86ef4be25d8d27188f10abfcd0877483362b5854f169"
  },
  "kernelspec": {
   "display_name": "Python 3.10.2 64-bit",
   "language": "python",
   "name": "python3"
  },
  "language_info": {
   "codemirror_mode": {
    "name": "ipython",
    "version": 3
   },
   "file_extension": ".py",
   "mimetype": "text/x-python",
   "name": "python",
   "nbconvert_exporter": "python",
   "pygments_lexer": "ipython3",
   "version": "3.10.2"
  },
  "orig_nbformat": 4
 },
 "nbformat": 4,
 "nbformat_minor": 2
}
