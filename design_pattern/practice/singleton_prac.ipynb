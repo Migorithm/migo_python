{
 "cells": [
  {
   "cell_type": "code",
   "execution_count": 1,
   "metadata": {},
   "outputs": [],
   "source": [
    "class Singleton():\n",
    "    \"The singleton class\"\n",
    "    value =[]\n",
    "    \n",
    "    def __new__(cls):\n",
    "        print(\"in init\")\n",
    "        return cls\n",
    "        \n",
    "    @staticmethod\n",
    "    def static_method():\n",
    "        pass\n",
    "\n",
    "    @classmethod\n",
    "    def class_method(cls):\n",
    "        print(cls.value)"
   ]
  },
  {
   "cell_type": "code",
   "execution_count": 2,
   "metadata": {},
   "outputs": [
    {
     "name": "stdout",
     "output_type": "stream",
     "text": [
      "in init\n",
      "in init\n",
      "ID of A : 3231402878544\n",
      "ID of A : 3231402878544\n"
     ]
    }
   ],
   "source": [
    "A = Singleton()\n",
    "B = Singleton()\n",
    "\n",
    "print(\"ID of A : {}\".format(id(A)))\n",
    "print(\"ID of A : {}\".format(id(B)))"
   ]
  },
  {
   "cell_type": "code",
   "execution_count": 3,
   "metadata": {},
   "outputs": [
    {
     "name": "stdout",
     "output_type": "stream",
     "text": [
      "in init\n",
      "['A', 'C', 'D']\n",
      "id(Singleton)\t=3231402878544\n",
      "id(Singleton)\t=3231402878544\n",
      "id(Singleton)\t=3231402878544\n",
      "id(Singleton)\t=3231402878544\n"
     ]
    }
   ],
   "source": [
    "A.value.append(\"A\")\n",
    "\n",
    "B.value.append(\"C\")\n",
    "\n",
    "Singleton.value.append(\"D\")\n",
    "\n",
    "D = Singleton()\n",
    "\n",
    "print(D.value)\n",
    "\n",
    "print(f\"id(Singleton)\\t={id(Singleton)}\")\n",
    "print(f\"id(Singleton)\\t={id(A)}\")\n",
    "print(f\"id(Singleton)\\t={id(B)}\")\n",
    "print(f\"id(Singleton)\\t={id(D)}\")\n"
   ]
  },
  {
   "cell_type": "code",
   "execution_count": 4,
   "metadata": {},
   "outputs": [
    {
     "name": "stdout",
     "output_type": "stream",
     "text": [
      "79941632\n"
     ]
    }
   ],
   "source": [
    "#Is there any way to find out the memory footprint?\n",
    "\n",
    "import os, psutil\n",
    "process = psutil.Process(os.getpid())\n",
    "print(process.memory_info().rss)\n"
   ]
  },
  {
   "cell_type": "code",
   "execution_count": 5,
   "metadata": {},
   "outputs": [
    {
     "name": "stdout",
     "output_type": "stream",
     "text": [
      "ID of A : 3231422611664\n",
      "ID of A : 3231422611664\n"
     ]
    }
   ],
   "source": [
    "from functools import wraps\n",
    "\n",
    "def singleton(class_):\n",
    "    instances ={}\n",
    "    @wraps(class_)\n",
    "    def wrapper(*args, **kwargs):\n",
    "        if class_ not in instances:\n",
    "            instances[class_] = class_(*args, **kwargs)\n",
    "        return instances[class_]\n",
    "    return wrapper\n",
    "\n",
    "@singleton\n",
    "class MyClass():\n",
    "    pass\n",
    "\n",
    "A = MyClass()\n",
    "B = MyClass()\n",
    "\n",
    "print(\"ID of A : {}\".format(id(A)))\n",
    "print(\"ID of A : {}\".format(id(B)))"
   ]
  },
  {
   "cell_type": "code",
   "execution_count": 6,
   "metadata": {},
   "outputs": [
    {
     "name": "stdout",
     "output_type": "stream",
     "text": [
      "79966208\n"
     ]
    }
   ],
   "source": [
    "\n",
    "process = psutil.Process(os.getpid())\n",
    "print(process.memory_info().rss)"
   ]
  },
  {
   "cell_type": "markdown",
   "metadata": {},
   "source": [
    "### Real life example\n",
    "\n",
    "- Database connection"
   ]
  },
  {
   "cell_type": "code",
   "execution_count": 11,
   "metadata": {},
   "outputs": [],
   "source": [
    "#Game!\n",
    "\n",
    "class RankBoard:\n",
    "    \"The rankboard as a Singleton\"\n",
    "    _rank ={}\n",
    "    \n",
    "    def __new__(cls):\n",
    "        return cls\n",
    "    \n",
    "    @classmethod\n",
    "    def print(cls):\n",
    "        \"A class level method\"\n",
    "        print(\"----------RankBoard----------\")\n",
    "        for key,value in sorted(cls._rank.items(),key=lambda x:x[1],reverse=True):\n",
    "            print(f\"\\t{key}\\t|\\t{value}\\t|\")\n",
    "        print()\n",
    "        \n",
    "    @classmethod\n",
    "    def add_player(cls,name,score):\n",
    "        \"A class level method\"\n",
    "        cls._rank[name] = score\n",
    "    \n",
    "from abc import ABC,abstractmethod\n",
    "class IPlayer(ABC):\n",
    "    \"A Player interface\"\n",
    "    @staticmethod\n",
    "    @abstractmethod\n",
    "    def add_player(name,score):\n",
    "        \"you must implement this!\"\n",
    "        \n",
    "        \n",
    "class Player(IPlayer):\n",
    "    \n",
    "    def __init__(self):\n",
    "        self.rankboard= RankBoard()\n",
    "        \n",
    "    def add_player(self,name,score):\n",
    "        self.rankboard.add_player(name,score)\n",
    "\n",
    "class WeeklyLottery:\n",
    "    def __init__(self):\n",
    "        self.rankboard = RankBoard()\n",
    "    \n",
    "    def select_ten(self):\n",
    "        self.current_rank = sorted(self.rankboard._rank,key=lambda x:x[1])\n",
    "        cnt=0\n",
    "        while cnt<10 :\n",
    "            cnt+=1\n",
    "            return self.current_rank\n",
    "\n",
    "\n",
    "        "
   ]
  },
  {
   "cell_type": "code",
   "execution_count": null,
   "metadata": {},
   "outputs": [],
   "source": [
    "a= WeeklyLottery()\n",
    "a.select_ten()"
   ]
  },
  {
   "cell_type": "code",
   "execution_count": 10,
   "metadata": {},
   "outputs": [
    {
     "name": "stdout",
     "output_type": "stream",
     "text": [
      "----------RankBoard----------\n",
      "\tMigo\t|\t99\t|\n",
      "\tShaun\t|\t32\t|\n",
      "\n"
     ]
    }
   ],
   "source": [
    "Player1 = Player()\n",
    "Player1.add_player(\"Migo\",99)\n",
    "\n",
    "Player2 = Player()\n",
    "Player2.add_player(\"Shaun\",32)\n",
    "\n",
    "Player2.rankboard.print()\n",
    "\n"
   ]
  },
  {
   "cell_type": "code",
   "execution_count": null,
   "metadata": {},
   "outputs": [],
   "source": [
    "class HiveHandler:\n",
    "    \"\"\"\n",
    "    hive handler 클래스 입니다.\n",
    "    \"\"\"\n",
    "\n",
    "    def __init__(self, database=\"default\", hadoop_cluster=None):\n",
    "        self._hadoop_cluster = HadoopCluster(hadoop_cluster)\n",
    "\n",
    "        hive_secret = get_secret()[\"hive\"][\n",
    "            self._hadoop_cluster.value.replace(\"-\", \"_\")\n",
    "        ]\n",
    "        self._service_discovery_mode = hive_secret.get(\n",
    "            \"service_discovery_mode\"\n",
    "        )\n",
    "        self._host = hive_secret.get(\"host\", \"\")\n",
    "        self._port = hive_secret.get(\"port\", 10000)\n",
    "        self._database = database\n",
    "\n",
    "        self._conn = None\n",
    "        self._cursor = None\n",
    "\n",
    "    def __del__(self):\n",
    "        if self._conn:\n",
    "            Logger.info(\"closing hive connection...\")\n",
    "            self._conn.close()\n",
    "            self._conn = None\n",
    "\n",
    "    def _get_connection(self):\n",
    "        \"\"\"\n",
    "        hive database와 연결합니다.\n",
    "        :return: connection\n",
    "        \"\"\"\n",
    "        Logger.info(\n",
    "            \"Connecting Hive ... (cluster: %s, database: %s)\",\n",
    "            self._hadoop_cluster.value,\n",
    "            self._database,\n",
    "        )\n",
    "        if self._service_discovery_mode is None:\n",
    "            return hive.Connection(\n",
    "                host=self._host,\n",
    "                port=self._port,\n",
    "                database=self._database,\n",
    "                auth=\"KERBEROS\",\n",
    "                kerberos_service_name=\"hive\",\n",
    "            )\n",
    "\n",
    "        if (\n",
    "            ServiceDiscoveryMode(self._service_discovery_mode)\n",
    "            == ServiceDiscoveryMode.ZOO_KEEPER\n",
    "        ):\n",
    "            return self._get_hive_connection_discovered_by_zoo_keeper()\n",
    "\n",
    "        raise ServiceDiscoveryModeNotFoundError"
   ]
  },
  {
   "cell_type": "code",
   "execution_count": null,
   "metadata": {},
   "outputs": [],
   "source": [
    "\"\"\"\n",
    "spark handler 클래스를 구현합니다.\n",
    "\"\"\"\n",
    "import os\n",
    "\n",
    "from pyspark.sql import SparkSession\n",
    "\n",
    "from src.config.enums import SourcingClusterType\n",
    "\n",
    "from .. import logger\n",
    "from ..kerberos_handler import KerberosHandler\n",
    "\n",
    "ACTIVE_SPARK_SESSION_CLUSTER = \"ACTIVE_SPARK_SESSION_CLUSTER\"\n",
    "\n",
    "\n",
    "class SparkHandler:  # pylint: disable=too-few-public-methods\n",
    "    \"\"\"\n",
    "    SparkHandler class\n",
    "    \"\"\"\n",
    "\n",
    "    def __init__(self, cluster=\"hadoop-dev\", master=\"local[*]\"):\n",
    "        self._cluster = SourcingClusterType(cluster).value\n",
    "        self._master = master  # yarn 적용이 필요하다면 master를 yarn으로 변경\n",
    "        self._hadoop_client_home = \"/hadoop-client-env-v2/target\"\n",
    "        self._spark = None\n",
    "\n",
    "    def _set_env(self) -> None:\n",
    "        \"\"\"\n",
    "        spark를 사용하기 위한 env를 set합니다.\n",
    "        :return: None\n",
    "        \"\"\"\n",
    "        os.environ[ACTIVE_SPARK_SESSION_CLUSTER] = self._cluster\n",
    "        logger.info(\n",
    "            f\"spark env set... ({ACTIVE_SPARK_SESSION_CLUSTER}: \"\n",
    "            f\"{os.environ[ACTIVE_SPARK_SESSION_CLUSTER]})\"\n",
    "        )\n",
    "\n",
    "        logger.info(\n",
    "            \"set environ variables... \"\n",
    "            \"(JAVA_HOME, SPARK_HOME, HADOOP_HOME, HADOOP_CONF_DIR, HIVE_HOME)\"\n",
    "        )\n",
    "        os.environ[\n",
    "            \"JAVA_HOME\"\n",
    "        ] = f\"{self._hadoop_client_home}/jdk/jdk8u242-b08\"\n",
    "        os.environ[\n",
    "            \"SPARK_HOME\"\n",
    "        ] = f\"{self._hadoop_client_home}/{self._cluster}/spark\"\n",
    "        os.environ[\n",
    "            \"HADOOP_HOME\"\n",
    "        ] = f\"{self._hadoop_client_home}/{self._cluster}/hadoop\"\n",
    "        os.environ[\n",
    "            \"HADOOP_CONF_DIR\"\n",
    "        ] = f\"{self._hadoop_client_home}/{self._cluster}/hadoop/conf\"\n",
    "        os.environ[\n",
    "            \"HIVE_HOME\"\n",
    "        ] = f\"{self._hadoop_client_home}/{self._cluster}/hive\"\n",
    "\n",
    "        KerberosHandler().issue_ticket()\n",
    "\n",
    "    def _get_spark_session(self) -> SparkSession:\n",
    "        \"\"\"\n",
    "        spark sessions을 set합니다.\n",
    "        :return: None\n",
    "        \"\"\"\n",
    "        if os.environ.get(ACTIVE_SPARK_SESSION_CLUSTER) is None:\n",
    "            self._set_env()\n",
    "        return (\n",
    "            SparkSession.builder.master(self._master)\n",
    "            .appName(\"andromeda-operator\")\n",
    "            .enableHiveSupport()\n",
    "            .getOrCreate()\n",
    "        )\n",
    "\n",
    "    @property\n",
    "    def spark(self) -> SparkSession:\n",
    "        \"\"\"\n",
    "        spark session을 반환합니다.\n",
    "        :return: spark sessions\n",
    "        \"\"\"\n",
    "        if self._spark is None:\n",
    "            self._spark = self._get_spark_session()\n",
    "        return self._spark\n",
    "\n",
    "    def stop(self) -> None:\n",
    "        \"\"\"\n",
    "        spark sessions을 종료합니다.\n",
    "        :return: None\n",
    "        \"\"\"\n",
    "        self.spark.stop()\n",
    "        os.environ.pop(ACTIVE_SPARK_SESSION_CLUSTER)\n",
    "        logger.info(\n",
    "            f\"spark stopped... ({ACTIVE_SPARK_SESSION_CLUSTER}: \"\n",
    "            f\"{os.environ.get(ACTIVE_SPARK_SESSION_CLUSTER)})\"\n",
    "        )"
   ]
  }
 ],
 "metadata": {
  "interpreter": {
   "hash": "3c774bbcc5b2f7006b3f86ef4be25d8d27188f10abfcd0877483362b5854f169"
  },
  "kernelspec": {
   "display_name": "Python 3.10.2 64-bit",
   "language": "python",
   "name": "python3"
  },
  "language_info": {
   "codemirror_mode": {
    "name": "ipython",
    "version": 3
   },
   "file_extension": ".py",
   "mimetype": "text/x-python",
   "name": "python",
   "nbconvert_exporter": "python",
   "pygments_lexer": "ipython3",
   "version": "3.10.2"
  },
  "orig_nbformat": 4
 },
 "nbformat": 4,
 "nbformat_minor": 2
}
