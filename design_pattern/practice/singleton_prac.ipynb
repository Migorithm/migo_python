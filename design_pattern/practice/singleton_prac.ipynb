{
 "cells": [
  {
   "cell_type": "code",
   "execution_count": 1,
   "metadata": {},
   "outputs": [],
   "source": [
    "class Singleton():\n",
    "    \"The singleton class\"\n",
    "    value =[]\n",
    "    \n",
    "    def __new__(cls):\n",
    "        print(\"in init\")\n",
    "        return cls\n",
    "        \n",
    "    @staticmethod\n",
    "    def static_method():\n",
    "        pass\n",
    "\n",
    "    @classmethod\n",
    "    def class_method(cls):\n",
    "        print(cls.value)"
   ]
  },
  {
   "cell_type": "code",
   "execution_count": 2,
   "metadata": {},
   "outputs": [
    {
     "name": "stdout",
     "output_type": "stream",
     "text": [
      "in init\n",
      "in init\n",
      "ID of A : 3231402878544\n",
      "ID of A : 3231402878544\n"
     ]
    }
   ],
   "source": [
    "A = Singleton()\n",
    "B = Singleton()\n",
    "\n",
    "print(\"ID of A : {}\".format(id(A)))\n",
    "print(\"ID of A : {}\".format(id(B)))"
   ]
  },
  {
   "cell_type": "code",
   "execution_count": 3,
   "metadata": {},
   "outputs": [
    {
     "name": "stdout",
     "output_type": "stream",
     "text": [
      "in init\n",
      "['A', 'C', 'D']\n",
      "id(Singleton)\t=3231402878544\n",
      "id(Singleton)\t=3231402878544\n",
      "id(Singleton)\t=3231402878544\n",
      "id(Singleton)\t=3231402878544\n"
     ]
    }
   ],
   "source": [
    "A.value.append(\"A\")\n",
    "\n",
    "B.value.append(\"C\")\n",
    "\n",
    "Singleton.value.append(\"D\")\n",
    "\n",
    "D = Singleton()\n",
    "\n",
    "print(D.value)\n",
    "\n",
    "print(f\"id(Singleton)\\t={id(Singleton)}\")\n",
    "print(f\"id(Singleton)\\t={id(A)}\")\n",
    "print(f\"id(Singleton)\\t={id(B)}\")\n",
    "print(f\"id(Singleton)\\t={id(D)}\")\n"
   ]
  },
  {
   "cell_type": "code",
   "execution_count": 4,
   "metadata": {},
   "outputs": [
    {
     "name": "stdout",
     "output_type": "stream",
     "text": [
      "79941632\n"
     ]
    }
   ],
   "source": [
    "#Is there any way to find out the memory footprint?\n",
    "\n",
    "import os, psutil\n",
    "process = psutil.Process(os.getpid())\n",
    "print(process.memory_info().rss)\n"
   ]
  },
  {
   "cell_type": "code",
   "execution_count": 5,
   "metadata": {},
   "outputs": [
    {
     "name": "stdout",
     "output_type": "stream",
     "text": [
      "ID of A : 3231422611664\n",
      "ID of A : 3231422611664\n"
     ]
    }
   ],
   "source": [
    "from functools import wraps\n",
    "\n",
    "def singleton(class_):\n",
    "    instances ={}\n",
    "    @wraps(class_)\n",
    "    def wrapper(*args, **kwargs):\n",
    "        if class_ not in instances:\n",
    "            instances[class_] = class_(*args, **kwargs)\n",
    "        return instances[class_]\n",
    "    return wrapper\n",
    "\n",
    "@singleton\n",
    "class MyClass():\n",
    "    pass\n",
    "\n",
    "A = MyClass()\n",
    "B = MyClass()\n",
    "\n",
    "print(\"ID of A : {}\".format(id(A)))\n",
    "print(\"ID of A : {}\".format(id(B)))"
   ]
  },
  {
   "cell_type": "code",
   "execution_count": 6,
   "metadata": {},
   "outputs": [
    {
     "name": "stdout",
     "output_type": "stream",
     "text": [
      "79966208\n"
     ]
    }
   ],
   "source": [
    "\n",
    "process = psutil.Process(os.getpid())\n",
    "print(process.memory_info().rss)"
   ]
  },
  {
   "cell_type": "markdown",
   "metadata": {},
   "source": [
    "### Real life example\n",
    "\n",
    "- Database connection"
   ]
  },
  {
   "cell_type": "code",
   "execution_count": 16,
   "metadata": {},
   "outputs": [],
   "source": [
    "#Game!\n",
    "\n",
    "class RankBoard:\n",
    "    \"The rankboard as a Singleton\"\n",
    "    _rank ={}\n",
    "    \n",
    "    def __new__(cls):\n",
    "        return cls\n",
    "    \n",
    "    @classmethod\n",
    "    def print(cls):\n",
    "        \"A class level method\"\n",
    "        print(\"----------RankBoard----------\")\n",
    "        for key,value in sorted(cls._rank.items(),key=lambda x:x[1],reverse=True):\n",
    "            print(f\"\\t{key}\\t|\\t{value}\\t|\")\n",
    "        print()\n",
    "        \n",
    "    @classmethod\n",
    "    def add_player(cls,name,score):\n",
    "        \"A class level method\"\n",
    "        cls._rank[name] = score\n",
    "    \n",
    "from abc import ABC,abstractmethod\n",
    "class IPlayer(ABC):\n",
    "    \"A Player interface\"\n",
    "    @staticmethod\n",
    "    @abstractmethod\n",
    "    def add_player(name,score):\n",
    "        \"you must implement this!\"\n",
    "        \n",
    "        \n",
    "class Player(IPlayer):\n",
    "    \n",
    "    def __init__(self):\n",
    "        self.rankboard= RankBoard()\n",
    "        \n",
    "    def add_player(self,name,score):\n",
    "        self.rankboard.add_player(name,score)\n",
    "\n",
    "class WeeklyLottery:\n",
    "    def __init__(self):\n",
    "        self.rankboard = RankBoard()\n",
    "    \n",
    "    def select_ten(self):\n",
    "        self.current_rank = sorted(self.rankboard._rank,key=lambda x:x[1])\n",
    "        cnt=0\n",
    "        while cnt<10 :\n",
    "            cnt+=1\n",
    "            return self.current_rank\n",
    "\n",
    "\n",
    "        "
   ]
  },
  {
   "cell_type": "code",
   "execution_count": 34,
   "metadata": {},
   "outputs": [
    {
     "data": {
      "text/plain": [
       "['Shaun', 'Shady', 'Migo']"
      ]
     },
     "execution_count": 34,
     "metadata": {},
     "output_type": "execute_result"
    }
   ],
   "source": [
    "a= WeeklyLottery().select_ten()\n",
    "a"
   ]
  },
  {
   "cell_type": "code",
   "execution_count": 33,
   "metadata": {},
   "outputs": [
    {
     "name": "stdout",
     "output_type": "stream",
     "text": [
      "----------RankBoard----------\n",
      "\tMigo\t|\t99\t|\n",
      "\tShaun\t|\t32\t|\n",
      "\tShady\t|\t32\t|\n",
      "\n"
     ]
    }
   ],
   "source": [
    "Player1 = Player()\n",
    "Player1.add_player(\"Migo\",99)\n",
    "\n",
    "Player2 = Player()\n",
    "Player2.add_player(\"Shaun\",32)\n",
    "Player2.add_player(\"Shady\",32)\n",
    "\n",
    "Player2.rankboard.print()\n",
    "\n"
   ]
  },
  {
   "cell_type": "code",
   "execution_count": 36,
   "metadata": {},
   "outputs": [
    {
     "data": {
      "text/plain": [
       "[('a', 123), ('b', 345)]"
      ]
     },
     "execution_count": 36,
     "metadata": {},
     "output_type": "execute_result"
    }
   ],
   "source": [
    "sorted({\"a\": 123, \"b\": 345}.items(), key=lambda x: x[1])"
   ]
  }
 ],
 "metadata": {
  "interpreter": {
   "hash": "3c774bbcc5b2f7006b3f86ef4be25d8d27188f10abfcd0877483362b5854f169"
  },
  "kernelspec": {
   "display_name": "Python 3.10.2 64-bit",
   "language": "python",
   "name": "python3"
  },
  "language_info": {
   "codemirror_mode": {
    "name": "ipython",
    "version": 3
   },
   "file_extension": ".py",
   "mimetype": "text/x-python",
   "name": "python",
   "nbconvert_exporter": "python",
   "pygments_lexer": "ipython3",
   "version": "3.10.2"
  },
  "orig_nbformat": 4
 },
 "nbformat": 4,
 "nbformat_minor": 2
}
