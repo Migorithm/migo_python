{
 "cells": [
  {
   "cell_type": "code",
   "execution_count": null,
   "metadata": {},
   "outputs": [
    {
     "data": {
      "image/png": "[encoded data removed]",
      "text/plain": [
       "<PIL.PngImagePlugin.PngImageFile image mode=RGBA size=861x448 at 0x1CD97223310>"
      ]
     },
     "execution_count": 1,
     "metadata": {},
     "output_type": "execute_result"
    }
   ],
   "source": [
    "from PIL import Image\n",
    "\n",
    "Image.open(\"../Observer.png\")"
   ]
  },
  {
   "cell_type": "code",
   "execution_count": 6,
   "metadata": {},
   "outputs": [
    {
     "name": "stdout",
     "output_type": "stream",
     "text": [
      "Ray got message 'It's techtalk!' \n",
      "Migo got message 'It's techtalk!' \n"
     ]
    }
   ],
   "source": [
    "from abc import ABC, abstractmethod\n",
    "\n",
    "class Subscriber(ABC):\n",
    "    @staticmethod\n",
    "    @abstractmethod\n",
    "    def get_message(message):\n",
    "        pass\n",
    "    \n",
    "class Publisher:\n",
    "    def __init__(self):\n",
    "        self.subscribers = set()\n",
    "    \n",
    "    def register(self,who:Subscriber):\n",
    "        self.subscribers.add(who)\n",
    "    \n",
    "    def unregister(self,who:Subscriber):\n",
    "        self.subscribers.remove(who)\n",
    "    \n",
    "    def dispatch(self,message):\n",
    "        for subscriber in self.subscribers:\n",
    "            subscriber.get_message(message)\n",
    "            \n",
    "            \n",
    "\n",
    "class SubscriberA(Subscriber):\n",
    "    def __init__(self,name:str)-> None:\n",
    "        self.name =name\n",
    "    \n",
    "    def get_message(self,message):\n",
    "        print(f\"{self.name} got message '{message}' \")\n",
    "\n",
    "class SubscriberB(Subscriber):\n",
    "    def __init__(self,name:str)-> None:\n",
    "        self.name =name\n",
    "    \n",
    "    def get_message(self,message):\n",
    "        print(f\"{self.name} got message '{message}' \")\n",
    "        \n",
    "class SubscriberC(Subscriber):\n",
    "    def __init__(self,name:str)-> None:\n",
    "        self.name =name\n",
    "    \n",
    "    def get_message(self,message):\n",
    "        print(f\"{self.name} got message '{message}' \")\n",
    "        \n",
    "pub = Publisher()\n",
    "Ray = SubscriberA(\"Ray\")\n",
    "Migo = SubscriberB(\"Migo\")\n",
    "\n",
    "pub.register(Ray)\n",
    "pub.register(Migo)\n",
    "\n",
    "pub.dispatch(\"It's techtalk!\")\n",
    "        "
   ]
  },
  {
   "cell_type": "code",
   "execution_count": 7,
   "metadata": {},
   "outputs": [],
   "source": [
    "class Subscriber(ABC):\n",
    "    pass\n",
    "\n",
    "class SubscriberOne(Subscriber):\n",
    "    def __init__(self,name):\n",
    "        self.name =name\n",
    "    \n",
    "    def update(self,message):\n",
    "        print(f\"{self.name} got message '{message}' \")\n",
    "        \n",
    "class SubscriberTwo(Subscriber):\n",
    "    def __init__(self,name):\n",
    "        self.name =name\n",
    "    \n",
    "    def receive(self,message):\n",
    "        print(f\"{self.name} got message '{message}' \")\n",
    "        \n",
    "class Publisher:\n",
    "    def __init__(self):\n",
    "        self.subscribers = dict()\n",
    "    \n",
    "    def register(self,who:Subscriber,callback=None):\n",
    "        if callback is None:\n",
    "            callback = getattr(who,\"update\")\n",
    "        self.subscribers[who] = callback\n",
    "        \n",
    "    def unregister(self,who: Subscriber):\n",
    "        del self.subscribers[who]\n",
    "    \n",
    "    def dispatch(self,message):\n",
    "        for user,itsfunction in self.subscribers.items():\n",
    "            itsfunction(message)\n",
    "        "
   ]
  },
  {
   "cell_type": "code",
   "execution_count": 10,
   "metadata": {},
   "outputs": [
    {
     "name": "stdout",
     "output_type": "stream",
     "text": [
      "Bob got message 'Hey, It's lunchtime!' \n",
      "Ryan got message 'Hey, It's lunchtime!' \n",
      "Migo got message 'Hey, It's lunchtime!' \n",
      "Bob got message 'Hey, It's Dinner time!' \n",
      "Ryan got message 'Hey, It's Dinner time!' \n"
     ]
    }
   ],
   "source": [
    "pub = Publisher()\n",
    "Bob = SubscriberOne(\"Bob\")\n",
    "Ryan = SubscriberTwo(\"Ryan\")\n",
    "Migo = SubscriberOne(\"Migo\")\n",
    "\n",
    "pub.register(Bob,Bob.update)\n",
    "pub.register(Ryan,Ryan.receive)\n",
    "pub.register(Migo,Migo.update)\n",
    "\n",
    "pub.dispatch(\"Hey, It's lunchtime!\")\n",
    "pub.unregister(Migo)\n",
    "\n",
    "pub.dispatch(\"Hey, It's Dinner time!\")\n"
   ]
  },
  {
   "cell_type": "code",
   "execution_count": null,
   "metadata": {},
   "outputs": [],
   "source": []
  },
  {
   "cell_type": "code",
   "execution_count": null,
   "metadata": {},
   "outputs": [],
   "source": []
  },
  {
   "cell_type": "code",
   "execution_count": null,
   "metadata": {},
   "outputs": [],
   "source": []
  }
 ],
 "metadata": {
  "interpreter": {
   "hash": "3c774bbcc5b2f7006b3f86ef4be25d8d27188f10abfcd0877483362b5854f169"
  },
  "kernelspec": {
   "display_name": "Python 3.10.2 64-bit",
   "language": "python",
   "name": "python3"
  },
  "language_info": {
   "codemirror_mode": {
    "name": "ipython",
    "version": 3
   },
   "file_extension": ".py",
   "mimetype": "text/x-python",
   "name": "python",
   "nbconvert_exporter": "python",
   "pygments_lexer": "ipython3",
   "version": "3.10.2"
  },
  "orig_nbformat": 4
 },
 "nbformat": 4,
 "nbformat_minor": 2
}
