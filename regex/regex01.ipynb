{
 "cells": [
  {
   "cell_type": "markdown",
   "id": "cd50268b-01fc-488b-b392-faa4cc57a71e",
   "metadata": {},
   "source": [
    "### Why regular expression? "
   ]
  },
  {
   "cell_type": "markdown",
   "id": "1a6794a6-2feb-4182-b795-717225cf0038",
   "metadata": {},
   "source": [
    "#### Suppose you want to extract log process ID from the following:\n",
    "    \"July 31 07:51:48 mycomputer bad_process[12345]: Error Performing package upgrade\"\n",
    "    \n",
    "You may be able to process that as follows."
   ]
  },
  {
   "cell_type": "code",
   "execution_count": 2,
   "id": "42115022-9400-445a-85ca-0a10ee29065d",
   "metadata": {},
   "outputs": [
    {
     "name": "stdout",
     "output_type": "stream",
     "text": [
      "12345\n"
     ]
    }
   ],
   "source": [
    "log = \"July 31 07:51:48 mycomputer bad_process[12345]: Error Performing package upgrade\"    \n",
    "index= log.index(\"[\")\n",
    "print(log[index+1:index+6])"
   ]
  },
  {
   "cell_type": "markdown",
   "id": "29df52ea-7c69-40d7-8591-3f348e6a01e2",
   "metadata": {},
   "source": [
    "#### But what if?\n",
    "- process id is not a 5-digit long?\n",
    "- another \"[\" is included in the string?"
   ]
  },
  {
   "cell_type": "markdown",
   "id": "7cebd8d0-ab13-43a2-852c-0cbfbad7768d",
   "metadata": {},
   "source": [
    "#### Here comes regular expression!\n"
   ]
  },
  {
   "cell_type": "code",
   "execution_count": 3,
   "id": "6d8bcf08-056c-4be5-8954-c50e4a35e5a9",
   "metadata": {},
   "outputs": [],
   "source": [
    "import re"
   ]
  },
  {
   "cell_type": "code",
   "execution_count": 4,
   "id": "fe6968c6-8bad-49f9-9b60-34578aa42c52",
   "metadata": {},
   "outputs": [],
   "source": [
    "log = \"July 31 07:51:48 mycomputer bad_process[12345]: Error Performing package upgrade\"    \n",
    "regex = r\"\\[(\\d+)\\]\"\n",
    "result = re.search(regex,log)\n"
   ]
  },
  {
   "cell_type": "code",
   "execution_count": 11,
   "id": "7c34a931-836a-4f24-a011-af1f651104fc",
   "metadata": {},
   "outputs": [
    {
     "data": {
      "text/plain": [
       "'[12345]'"
      ]
     },
     "execution_count": 11,
     "metadata": {},
     "output_type": "execute_result"
    }
   ],
   "source": [
    "result[0]"
   ]
  },
  {
   "cell_type": "code",
   "execution_count": 12,
   "id": "de5f11f0-c857-463c-a512-ec01da762168",
   "metadata": {},
   "outputs": [
    {
     "data": {
      "text/plain": [
       "'12345'"
      ]
     },
     "execution_count": 12,
     "metadata": {},
     "output_type": "execute_result"
    }
   ],
   "source": [
    "result[1]"
   ]
  },
  {
   "cell_type": "code",
   "execution_count": 7,
   "id": "7e96a406-eb48-41c2-a8cd-52370c4dceaf",
   "metadata": {},
   "outputs": [
    {
     "data": {
      "text/plain": [
       "'[12345]'"
      ]
     },
     "execution_count": 7,
     "metadata": {},
     "output_type": "execute_result"
    }
   ],
   "source": [
    "result.group()"
   ]
  },
  {
   "cell_type": "markdown",
   "id": "a6fd407b-b0fd-4d5b-b2d6-da1518157df2",
   "metadata": {},
   "source": [
    "#### Functions\n",
    "- search : to find regular expression"
   ]
  }
 ],
 "metadata": {
  "kernelspec": {
   "display_name": "Python 3 (ipykernel)",
   "language": "python",
   "name": "python3"
  },
  "language_info": {
   "codemirror_mode": {
    "name": "ipython",
    "version": 3
   },
   "file_extension": ".py",
   "mimetype": "text/x-python",
   "name": "python",
   "nbconvert_exporter": "python",
   "pygments_lexer": "ipython3",
   "version": "3.9.4"
  }
 },
 "nbformat": 4,
 "nbformat_minor": 5
}
