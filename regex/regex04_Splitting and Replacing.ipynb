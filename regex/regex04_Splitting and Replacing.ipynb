{
 "cells": [
  {
   "cell_type": "code",
   "execution_count": 1,
   "id": "69ad8194-d48a-485b-bda0-2bb1e0d56ad9",
   "metadata": {},
   "outputs": [],
   "source": [
    "import re"
   ]
  },
  {
   "cell_type": "markdown",
   "id": "dcb49cc7-0b9d-43be-9bad-112b10239a2e",
   "metadata": {},
   "source": [
    "#### re.split()\n",
    "\n",
    "- It works similarly to the split function that we used before with strings. \n",
    "- But instead of taking a string as a separator, you can **take any regular expression** as a separator."
   ]
  },
  {
   "cell_type": "code",
   "execution_count": 4,
   "id": "f5aba8a4-5489-446f-b78a-3fb667b107c1",
   "metadata": {},
   "outputs": [
    {
     "data": {
      "text/plain": [
       "['One sentence', ' Another one', ' And the Last one', '']"
      ]
     },
     "execution_count": 4,
     "metadata": {},
     "output_type": "execute_result"
    }
   ],
   "source": [
    "re.split(r\"[.?!]\",\"One sentence. Another one? And the Last one!\")"
   ]
  },
  {
   "cell_type": "markdown",
   "id": "867372b4-23c0-4eda-9150-d03123f087d6",
   "metadata": {},
   "source": [
    "##### If we want our split list to include the elements that we're using to split the values we can use capturing parentheses like this."
   ]
  },
  {
   "cell_type": "code",
   "execution_count": 5,
   "id": "9bcf3809-8940-4d58-94c0-cefa837d3c32",
   "metadata": {},
   "outputs": [
    {
     "data": {
      "text/plain": [
       "['One sentence', '.', ' Another one', '?', ' And the Last one', '!', '']"
      ]
     },
     "execution_count": 5,
     "metadata": {},
     "output_type": "execute_result"
    }
   ],
   "source": [
    "re.split(r\"([.?!])\",\"One sentence. Another one? And the Last one!\")"
   ]
  },
  {
   "cell_type": "markdown",
   "id": "7323b437-4b74-493c-bb4c-9acfe5f4ce78",
   "metadata": {},
   "source": [
    "#### re.sub()\n",
    " It's used for creating new strings by substituting all or part of them for a different string, similar to the replace string method but using regular expressions for both the matching and the replacing."
   ]
  },
  {
   "cell_type": "markdown",
   "id": "020bfaba-0c4c-42b5-875f-e0f898d1269c",
   "metadata": {},
   "source": [
    "#### problem\n",
    " we had some logs in our system that included e-mail addresses of users and we wanted to anonymize the data by removing all the addresses. We could do that by using an expression."
   ]
  },
  {
   "cell_type": "code",
   "execution_count": 10,
   "id": "21dc8c84-1287-470e-8b4b-c1d53769b619",
   "metadata": {},
   "outputs": [
    {
     "data": {
      "text/plain": [
       "'Received an email for [REDACTED]'"
      ]
     },
     "execution_count": 10,
     "metadata": {},
     "output_type": "execute_result"
    }
   ],
   "source": [
    "re.sub(r\"[\\w.%+-]+@[\\w.-]+\",\"[REDACTED]\",\"Received an email for go_nuts95@my.example.com\")"
   ]
  },
  {
   "cell_type": "markdown",
   "id": "724871db-81ae-4612-a60f-2ccd05ed9b21",
   "metadata": {},
   "source": [
    "#### "
   ]
  },
  {
   "cell_type": "markdown",
   "id": "a655d483-f8fb-49bf-b958-bc120919178b",
   "metadata": {},
   "source": [
    "#### Indicating captured group with sub"
   ]
  },
  {
   "cell_type": "code",
   "execution_count": 16,
   "id": "5e30c56c-495e-40ea-bb8d-db6bee05a322",
   "metadata": {},
   "outputs": [
    {
     "data": {
      "text/plain": [
       "'Ada Lovelace Lovelace Lovelace Lovelace'"
      ]
     },
     "execution_count": 16,
     "metadata": {},
     "output_type": "execute_result"
    }
   ],
   "source": [
    "re.sub(r\"^([\\w .-]*), ([\\w .-]*)$\",r\"\\2 \\1 \\1 \\1 \\1\",  \"Lovelace, Ada\")"
   ]
  },
  {
   "cell_type": "code",
   "execution_count": 13,
   "id": "a176cc0b-ac6d-4c4f-91aa-5a02d63fe8d7",
   "metadata": {},
   "outputs": [],
   "source": [
    "#in this example, if matched, \"\\2\" will indicate the second group captured and \"\\1\" for the first one."
   ]
  },
  {
   "cell_type": "markdown",
   "id": "32d81d68-32ff-4064-b251-f5659b65c176",
   "metadata": {},
   "source": [
    "#### WHen referring to captured groups...\n",
    "- A backslash followed by a number indicates the corresponding captured group.\n",
    "- Plus, we can also use them to match patterns that repeat themselves which use capturing groups as back references."
   ]
  }
 ],
 "metadata": {
  "kernelspec": {
   "display_name": "Python 3 (ipykernel)",
   "language": "python",
   "name": "python3"
  },
  "language_info": {
   "codemirror_mode": {
    "name": "ipython",
    "version": 3
   },
   "file_extension": ".py",
   "mimetype": "text/x-python",
   "name": "python",
   "nbconvert_exporter": "python",
   "pygments_lexer": "ipython3",
   "version": "3.9.4"
  }
 },
 "nbformat": 4,
 "nbformat_minor": 5
}
