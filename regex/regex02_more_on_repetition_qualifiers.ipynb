{
 "cells": [
  {
   "cell_type": "code",
   "execution_count": 1,
   "id": "f9359545-707c-4b8b-b574-a442989799c7",
   "metadata": {},
   "outputs": [],
   "source": [
    "import re"
   ]
  },
  {
   "cell_type": "markdown",
   "id": "43283768-3cf9-4d8e-9cd8-a179a1c4c32b",
   "metadata": {},
   "source": [
    "#### numeric repetition qualifiers"
   ]
  },
  {
   "cell_type": "markdown",
   "id": "b3761dd4-c344-48fe-b64c-6325367610a9",
   "metadata": {},
   "source": [
    "For example, to match any string of exactly five letters, we can use an expression like this one"
   ]
  },
  {
   "cell_type": "code",
   "execution_count": 2,
   "id": "dd46598d-559c-425c-8fe2-ba0274bae4dc",
   "metadata": {},
   "outputs": [
    {
     "data": {
      "text/plain": [
       "<re.Match object; span=(2, 7), match='ghost'>"
      ]
     },
     "execution_count": 2,
     "metadata": {},
     "output_type": "execute_result"
    }
   ],
   "source": [
    "re.search(r\"[a-zA-Z]{5}\",\"a ghost\")"
   ]
  },
  {
   "cell_type": "code",
   "execution_count": 3,
   "id": "22291969-d0c2-4184-abdb-4f5a3d5ea2aa",
   "metadata": {},
   "outputs": [
    {
     "data": {
      "text/plain": [
       "<re.Match object; span=(0, 1), match='a'>"
      ]
     },
     "execution_count": 3,
     "metadata": {},
     "output_type": "execute_result"
    }
   ],
   "source": [
    "re.search(r\"[a-zA-Z]{1,5}\",\"a ghost\")"
   ]
  },
  {
   "cell_type": "code",
   "execution_count": 7,
   "id": "2716a626-74d8-4821-8166-24670e1709ac",
   "metadata": {},
   "outputs": [
    {
     "data": {
      "text/plain": [
       "<re.Match object; span=(2, 7), match='ghost'>"
      ]
     },
     "execution_count": 7,
     "metadata": {},
     "output_type": "execute_result"
    }
   ],
   "source": [
    "re.search(r\"[a-zA-Z]{4,5}\",\"a ghost\")"
   ]
  },
  {
   "cell_type": "code",
   "execution_count": 8,
   "id": "dd7fcc20-c53b-444b-8e5f-ee59ece0d82f",
   "metadata": {},
   "outputs": [
    {
     "data": {
      "text/plain": [
       "['scary', 'ghost', 'appea']"
      ]
     },
     "execution_count": 8,
     "metadata": {},
     "output_type": "execute_result"
    }
   ],
   "source": [
    "re.findall(r\"[a-zA-Z]{5}\",\"a scary ghost appeared\")"
   ]
  },
  {
   "cell_type": "markdown",
   "id": "d431f7b4-3c61-4465-a507-8a0b5ccdd425",
   "metadata": {},
   "source": [
    "#### What if we wanted to match all the words that are exactly five letters long? \n",
    "\n",
    " We can do that using \\b, which matches word limits at the beginning and end of the pattern, to indicate that we want full words, like this"
   ]
  },
  {
   "cell_type": "code",
   "execution_count": 9,
   "id": "e2896937-3fc6-4922-91ae-94182abdeb6c",
   "metadata": {},
   "outputs": [
    {
     "data": {
      "text/plain": [
       "['scary', 'ghost']"
      ]
     },
     "execution_count": 9,
     "metadata": {},
     "output_type": "execute_result"
    }
   ],
   "source": [
    "re.findall(r\"\\b[a-zA-Z]{5}\\b\",\"A scary ghost appeared\")"
   ]
  },
  {
   "cell_type": "markdown",
   "id": "ffc50d0e-60ce-4cd2-be23-1b46ad195e88",
   "metadata": {},
   "source": [
    "#### Putting range of 5 to 10 letters"
   ]
  },
  {
   "cell_type": "code",
   "execution_count": 10,
   "id": "c0d59ecf-9de7-44f3-b360-ab1cee898e31",
   "metadata": {},
   "outputs": [
    {
     "data": {
      "text/plain": [
       "['really', 'strawberri']"
      ]
     },
     "execution_count": 10,
     "metadata": {},
     "output_type": "execute_result"
    }
   ],
   "source": [
    "re.findall(r\"\\w{5,10}\",\"I really like strawberries\")"
   ]
  },
  {
   "cell_type": "code",
   "execution_count": 11,
   "id": "19789f6a-cf9d-4c8e-b220-ae8aacb24412",
   "metadata": {},
   "outputs": [
    {
     "data": {
      "text/plain": [
       "<re.Match object; span=(14, 26), match='strawberries'>"
      ]
     },
     "execution_count": 11,
     "metadata": {},
     "output_type": "execute_result"
    }
   ],
   "source": [
    "re.search(r\"s\\w{,20}\",\"I really like strawberries\")"
   ]
  },
  {
   "cell_type": "markdown",
   "id": "67a6b91d-2527-45da-8b5b-c404b30f8587",
   "metadata": {},
   "source": [
    "#### Problem\n",
    "The long_words function returns all words that are at least 7 characters. Fill in the regular expression to complete this function."
   ]
  },
  {
   "cell_type": "code",
   "execution_count": 12,
   "id": "9e0074e8-eee3-4b8d-9438-ca0964fa25f8",
   "metadata": {},
   "outputs": [
    {
     "name": "stdout",
     "output_type": "stream",
     "text": [
      "['morning']\n",
      "['chocolate', 'afternoon']\n",
      "[]\n"
     ]
    }
   ],
   "source": [
    "def long_words(text):\n",
    "    pattern = r\"[a-zA-Z]{7,}\"\n",
    "    result = re.findall(pattern, text)\n",
    "    return result\n",
    "\n",
    "print(long_words(\"I like to drink coffee in the morning.\")) # ['morning']\n",
    "print(long_words(\"I also have a taste for hot chocolate in the afternoon.\")) # ['chocolate', 'afternoon']\n",
    "print(long_words(\"I never drink tea late at night.\")) # []"
   ]
  },
  {
   "cell_type": "code",
   "execution_count": null,
   "id": "9723b7b1-1235-4023-a01f-cf46825cd745",
   "metadata": {},
   "outputs": [],
   "source": []
  },
  {
   "cell_type": "code",
   "execution_count": null,
   "id": "847cecf9-2c60-458c-b5f6-ef9566e86718",
   "metadata": {},
   "outputs": [],
   "source": []
  }
 ],
 "metadata": {
  "kernelspec": {
   "display_name": "Python 3 (ipykernel)",
   "language": "python",
   "name": "python3"
  },
  "language_info": {
   "codemirror_mode": {
    "name": "ipython",
    "version": 3
   },
   "file_extension": ".py",
   "mimetype": "text/x-python",
   "name": "python",
   "nbconvert_exporter": "python",
   "pygments_lexer": "ipython3",
   "version": "3.9.4"
  }
 },
 "nbformat": 4,
 "nbformat_minor": 5
}
