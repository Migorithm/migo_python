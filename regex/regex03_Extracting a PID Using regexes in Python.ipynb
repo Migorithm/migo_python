{
 "cells": [
  {
   "cell_type": "code",
   "execution_count": 1,
   "id": "4163547e-fe4c-4b0b-8d1a-d472d17dea7c",
   "metadata": {},
   "outputs": [],
   "source": [
    "import re"
   ]
  },
  {
   "cell_type": "code",
   "execution_count": 2,
   "id": "eac4c184-66d0-4975-955b-857895dea2f6",
   "metadata": {},
   "outputs": [
    {
     "name": "stdout",
     "output_type": "stream",
     "text": [
      "12345\n"
     ]
    }
   ],
   "source": [
    "log =\"July 31 07:51:48 mycomputer bad_process[12345]: ERROR Performing package upgrade\"\n",
    "regex= r\"\\[(\\d+)\\]\"\n",
    "result=re.search(regex,log)\n",
    "print(result[1])"
   ]
  },
  {
   "cell_type": "code",
   "execution_count": 4,
   "id": "4d5ebc61-0378-4840-874b-f02dada0e6a9",
   "metadata": {},
   "outputs": [
    {
     "data": {
      "text/plain": [
       "'34567'"
      ]
     },
     "execution_count": 4,
     "metadata": {},
     "output_type": "execute_result"
    }
   ],
   "source": [
    "result=re.search(regex,\"A completely different string that also has numbers [34567]\")\n",
    "result[1]"
   ]
  },
  {
   "cell_type": "markdown",
   "id": "fb8ae2bb-e414-4c5b-be98-3e924f8a152e",
   "metadata": {},
   "source": [
    "####  what if our string didn't actually have a block of numbers between the square brackets?"
   ]
  },
  {
   "cell_type": "code",
   "execution_count": 5,
   "id": "67ae642b-7821-4def-9ca4-5d422bacaffe",
   "metadata": {},
   "outputs": [],
   "source": [
    "result=re.search(regex,\"99 elephants in a [cage]\")"
   ]
  },
  {
   "cell_type": "code",
   "execution_count": 7,
   "id": "c86d9cf2-4776-481f-8a71-13975777c81a",
   "metadata": {},
   "outputs": [
    {
     "ename": "TypeError",
     "evalue": "'NoneType' object is not subscriptable",
     "output_type": "error",
     "traceback": [
      "\u001b[1;31m---------------------------------------------------------------------------\u001b[0m",
      "\u001b[1;31mTypeError\u001b[0m                                 Traceback (most recent call last)",
      "\u001b[1;32mC:\\Users\\ADMINI~1\\AppData\\Local\\Temp/ipykernel_22460/2994649360.py\u001b[0m in \u001b[0;36m<module>\u001b[1;34m\u001b[0m\n\u001b[1;32m----> 1\u001b[1;33m \u001b[0mresult\u001b[0m\u001b[1;33m[\u001b[0m\u001b[1;36m1\u001b[0m\u001b[1;33m]\u001b[0m\u001b[1;33m\u001b[0m\u001b[1;33m\u001b[0m\u001b[0m\n\u001b[0m",
      "\u001b[1;31mTypeError\u001b[0m: 'NoneType' object is not subscriptable"
     ]
    }
   ],
   "source": [
    "result[1]"
   ]
  },
  {
   "cell_type": "markdown",
   "id": "12fb767c-390f-479f-b190-83e706ba4df0",
   "metadata": {},
   "source": [
    "#### In case of the result being None, we have to check if it is not None "
   ]
  },
  {
   "cell_type": "code",
   "execution_count": 11,
   "id": "6d6ee64d-e005-46a5-baca-bc215e7288c4",
   "metadata": {},
   "outputs": [],
   "source": [
    "def extract_pid(log_line):\n",
    "    regex = r\"\\[(\\d+)\\]\"\n",
    "    result=re.search(regex,log_line)\n",
    "    if result:\n",
    "        return result[1]\n",
    "    else:\n",
    "        return \"\"\n"
   ]
  },
  {
   "cell_type": "code",
   "execution_count": 12,
   "id": "56252110-2e31-4e72-acce-374aa13794dd",
   "metadata": {},
   "outputs": [
    {
     "data": {
      "text/plain": [
       "''"
      ]
     },
     "execution_count": 12,
     "metadata": {},
     "output_type": "execute_result"
    }
   ],
   "source": [
    "extract_pid(\"99 elephants in a [cage]\")"
   ]
  },
  {
   "cell_type": "code",
   "execution_count": 13,
   "id": "e7220069-6d40-4f1d-8413-05f61738aa60",
   "metadata": {},
   "outputs": [
    {
     "data": {
      "text/plain": [
       "'34567'"
      ]
     },
     "execution_count": 13,
     "metadata": {},
     "output_type": "execute_result"
    }
   ],
   "source": [
    "extract_pid(\"A completely different string that also has numbers [34567]\")\n"
   ]
  },
  {
   "cell_type": "markdown",
   "id": "695b2a9f-7f10-4104-b2ad-d13a3f266bbb",
   "metadata": {},
   "source": [
    "#### problem\n",
    "Add to the regular expression used in the extract_pid function, to return the uppercase message in parenthesis, after the process id.\n"
   ]
  },
  {
   "cell_type": "code",
   "execution_count": 22,
   "id": "e87dbc05-8eea-4114-bf27-81c5181c87ef",
   "metadata": {},
   "outputs": [
    {
     "name": "stdout",
     "output_type": "stream",
     "text": [
      "12345 (ERROR)\n",
      "None\n",
      "None\n",
      "67890 (RUNNING)\n"
     ]
    }
   ],
   "source": [
    "def extract_pid(log_line):\n",
    "    regex = r\"\\[(\\d+)\\]:?\\s([A-Z]+)\"\n",
    "    result = re.search(regex, log_line)\n",
    "\n",
    "    if result is None:\n",
    "        return None\n",
    "    return \"{} ({})\".format(result[1],result[2])\n",
    "\n",
    "print(extract_pid(\"July 31 07:51:48 mycomputer bad_process[12345]: ERROR Performing package upgrade\")) # 12345 (ERROR)\n",
    "print(extract_pid(\"99 elephants in a [cage]\")) # None\n",
    "print(extract_pid(\"A string that also has numbers [34567] but no uppercase message\")) # None\n",
    "print(extract_pid(\"July 31 08:08:08 mycomputer new_process[67890]: RUNNING Performing backup\")) # 67890 (RUNNING)\n"
   ]
  }
 ],
 "metadata": {
  "kernelspec": {
   "display_name": "Python 3 (ipykernel)",
   "language": "python",
   "name": "python3"
  },
  "language_info": {
   "codemirror_mode": {
    "name": "ipython",
    "version": 3
   },
   "file_extension": ".py",
   "mimetype": "text/x-python",
   "name": "python",
   "nbconvert_exporter": "python",
   "pygments_lexer": "ipython3",
   "version": "3.9.4"
  }
 },
 "nbformat": 4,
 "nbformat_minor": 5
}
