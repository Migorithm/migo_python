{
 "cells": [
  {
   "cell_type": "markdown",
   "metadata": {},
   "source": [
    "### Flattening dictionary using recusrive function"
   ]
  },
  {
   "cell_type": "code",
   "execution_count": 1,
   "metadata": {},
   "outputs": [],
   "source": [
    "\n",
    "from collections.abc import MutableMapping\n",
    "def flatten_dict(d:MutableMapping, parent_key:str=\"\",sep:str=\".\") -> MutableMapping:\n",
    "    items=[]\n",
    "    for k,v in d.items():\n",
    "        new_key = parent_key + sep + k if parent_key else k\n",
    "        if isinstance(v,MutableMapping):\n",
    "            items.extend(flatten_dict(v,new_key,sep=sep).items())\n",
    "        else:\n",
    "            items.append((new_key,v))\n",
    "    return dict(items)"
   ]
  },
  {
   "cell_type": "markdown",
   "metadata": {},
   "source": [
    "### Flattening a Dict using recursive function + generators"
   ]
  },
  {
   "cell_type": "code",
   "execution_count": 2,
   "metadata": {},
   "outputs": [],
   "source": [
    "from collections.abc import MutableMapping\n",
    "\n",
    "def _flatten_dict_gen(d:dict,parent_key,sep):\n",
    "    for k ,v in d.items():\n",
    "        new_key = parent_key + sep + k if parent_key else k\n",
    "        if isinstance(v,MutableMapping):\n",
    "            yield from flatten_dict(v,new_key,sep=sep).items()\n",
    "        else:\n",
    "            yield new_key,v\n",
    "            \n",
    "def flatten_dict(d:MutableMapping, parent_key:str =\"\",sep:str=\".\"):\n",
    "    return dict(_flatten_dict_gen(d,parent_key,sep))"
   ]
  },
  {
   "cell_type": "code",
   "execution_count": 3,
   "metadata": {},
   "outputs": [
    {
     "data": {
      "text/plain": [
       "{'a.b': 1, 'b.d.a': 1, 'b.d.b': 2, 'b.c': 2}"
      ]
     },
     "execution_count": 3,
     "metadata": {},
     "output_type": "execute_result"
    }
   ],
   "source": [
    "dic= {\"a\":{\"b\":1}, \"b\":{\"d\":1,\"c\":2,\"d\":{\"a\":1,\"b\":2}}}\n",
    "flatten_dict(dic)\n"
   ]
  }
 ],
 "metadata": {
  "interpreter": {
   "hash": "3c774bbcc5b2f7006b3f86ef4be25d8d27188f10abfcd0877483362b5854f169"
  },
  "kernelspec": {
   "display_name": "Python 3.10.2 64-bit",
   "language": "python",
   "name": "python3"
  },
  "language_info": {
   "codemirror_mode": {
    "name": "ipython",
    "version": 3
   },
   "file_extension": ".py",
   "mimetype": "text/x-python",
   "name": "python",
   "nbconvert_exporter": "python",
   "pygments_lexer": "ipython3",
   "version": "3.10.2"
  },
  "orig_nbformat": 4
 },
 "nbformat": 4,
 "nbformat_minor": 2
}
