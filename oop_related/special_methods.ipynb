{
 "cells": [
  {
   "cell_type": "markdown",
   "metadata": {},
   "source": [
    "### Special methods \n",
    "This is what enables (1 + 1) to become 2 while ('a' + 'b') is to be \"ab\"<br>\n",
    "This special methods are always surrounded by double underscores(\\_\\_) (also pronounced as dunder)<br>\n",
    "Which include:\n",
    "\n",
    "    __init__\n",
    "    __repr__\n",
    "    __str__"
   ]
  },
  {
   "cell_type": "code",
   "execution_count": 1,
   "metadata": {},
   "outputs": [
    {
     "name": "stdout",
     "output_type": "stream",
     "text": [
      "3\n"
     ]
    }
   ],
   "source": [
    "print(int.__add__(1,2))"
   ]
  },
  {
   "cell_type": "code",
   "execution_count": 2,
   "metadata": {},
   "outputs": [
    {
     "name": "stdout",
     "output_type": "stream",
     "text": [
      "ab\n"
     ]
    }
   ],
   "source": [
    "print(str.__add__(\"a\",\"b\"))"
   ]
  },
  {
   "cell_type": "markdown",
   "metadata": {},
   "source": [
    "So, imagine you want to calculate the sum of salaries of two (or more) instances"
   ]
  },
  {
   "cell_type": "code",
   "execution_count": 3,
   "metadata": {},
   "outputs": [],
   "source": [
    "class Employee():\n",
    "    def __init__(self,name,email,pay):\n",
    "        self.name=name\n",
    "        self.email=email\n",
    "        self.pay=pay\n",
    "    def __repr__(self):\n",
    "        return f\"<{self.name} : {self.email}>\"\n",
    "    \n",
    "    def __add__(self,other):\n",
    "        return self.pay + other.pay"
   ]
  },
  {
   "cell_type": "code",
   "execution_count": 6,
   "metadata": {},
   "outputs": [
    {
     "name": "stdout",
     "output_type": "stream",
     "text": [
      "<John : example1.com> <Doh : example2.com>\n",
      "6530\n"
     ]
    }
   ],
   "source": [
    "emp1=Employee(\"John\",\"example1.com\",3000)\n",
    "emp2=Employee(\"Doh\",\"example2.com\",3530)\n",
    "\n",
    "print(emp1,emp2)\n",
    "print(emp1+emp2)"
   ]
  },
  {
   "cell_type": "markdown",
   "metadata": {},
   "source": [
    "### dunder methods you can use\n",
    "\n",
    "    __add__ (+)\n",
    "    __sub__ (-)\n",
    "    __mul__ (*)\n",
    "    __truediv__ (/)\n",
    "    __pow__ (**)\n",
    "    __len__ (len(instance))"
   ]
  },
  {
   "cell_type": "code",
   "execution_count": 36,
   "metadata": {},
   "outputs": [],
   "source": [
    "#len example\n",
    "class Employee():\n",
    "    emp_lst=[]\n",
    "    def __init__(self,name,email,pay):\n",
    "        self.name=name\n",
    "        self.email=email\n",
    "        self.pay=pay\n",
    "        Employee.emp_lst.append(self.name)\n",
    "    def __repr__(self):\n",
    "        return f\"<{self.name} : {self.email}>\"\n",
    "    \n",
    "    def __add__(self,other):\n",
    "        return self.pay + other.pay\n",
    "    \n",
    "\n",
    "    def __len__(self):\n",
    "        return len(Employee.emp_lst)\n",
    "        \n",
    "\n"
   ]
  },
  {
   "cell_type": "code",
   "execution_count": 37,
   "metadata": {},
   "outputs": [
    {
     "name": "stdout",
     "output_type": "stream",
     "text": [
      "['John']\n"
     ]
    }
   ],
   "source": [
    "emp1 = Employee(\"John\",\"Doh@example.com\",1000)\n",
    "print(emp1.emp_lst)"
   ]
  },
  {
   "cell_type": "code",
   "execution_count": 39,
   "metadata": {},
   "outputs": [],
   "source": [
    "emp2 =  Employee(\"Author\",\"Doh@example.com\",1000)"
   ]
  },
  {
   "cell_type": "code",
   "execution_count": 43,
   "metadata": {},
   "outputs": [
    {
     "name": "stdout",
     "output_type": "stream",
     "text": [
      "['John', 'Author', 'Author']\n",
      "3\n"
     ]
    }
   ],
   "source": [
    "print(emp1.emp_lst)\n",
    "print(len(emp1))\n"
   ]
  }
 ],
 "metadata": {
  "interpreter": {
   "hash": "f22a20af907fde35ff19e1e892fdb271353fb19b11c7ebd774491472e685293c"
  },
  "kernelspec": {
   "display_name": "Python 3.9.7 64-bit",
   "language": "python",
   "name": "python3"
  },
  "language_info": {
   "codemirror_mode": {
    "name": "ipython",
    "version": 3
   },
   "file_extension": ".py",
   "mimetype": "text/x-python",
   "name": "python",
   "nbconvert_exporter": "python",
   "pygments_lexer": "ipython3",
   "version": "3.9.7"
  },
  "orig_nbformat": 4
 },
 "nbformat": 4,
 "nbformat_minor": 2
}
