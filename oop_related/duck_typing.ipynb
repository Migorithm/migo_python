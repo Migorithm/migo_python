{
 "cells": [
  {
   "cell_type": "markdown",
   "metadata": {},
   "source": [
    "## DuckTyping"
   ]
  },
  {
   "cell_type": "code",
   "execution_count": 1,
   "metadata": {},
   "outputs": [],
   "source": [
    "class Duck:\n",
    "    def quack(self):\n",
    "        print(\"Quack Qauck\")\n",
    "    def fly(self):\n",
    "        print(\"Flap, Flap!\")\n",
    "    \n",
    "class Person:\n",
    "    def quack(self):\n",
    "        print(\"I'm quacking like a duck!\")\n",
    "    def fly(self):\n",
    "        print(\"I'm flapping my arms!!\")"
   ]
  },
  {
   "cell_type": "code",
   "execution_count": 2,
   "metadata": {},
   "outputs": [
    {
     "name": "stdout",
     "output_type": "stream",
     "text": [
      "Quack Qauck\n",
      "Flap, Flap!\n",
      "\n",
      "This has to be a Duck!\n",
      "\n"
     ]
    }
   ],
   "source": [
    "#Non pythonic way\n",
    "def quack_and_fly(thing):\n",
    "    if isinstance(thing,Duck):\n",
    "        thing.quack()\n",
    "        thing.fly()\n",
    "    else:\n",
    "        print(\"This has to be a Duck!\")\n",
    "    print()\n",
    "    \n",
    "d = Duck()\n",
    "p = Person()\n",
    "\n",
    "quack_and_fly(d)\n",
    "quack_and_fly(p)"
   ]
  },
  {
   "cell_type": "code",
   "execution_count": 3,
   "metadata": {},
   "outputs": [
    {
     "name": "stdout",
     "output_type": "stream",
     "text": [
      "Quack Qauck\n",
      "Flap, Flap!\n",
      "I'm quacking like a duck!\n",
      "I'm flapping my arms!\n"
     ]
    }
   ],
   "source": [
    "#Pythonic way but risky as it doesn't care what object argument is \n",
    "def quack_and_fly(thing):\n",
    "    thing.quack()\n",
    "    thing.fly()\n",
    "\n",
    "quack_and_fly(d)\n",
    "quack_and_fly(p)\n",
    "    "
   ]
  },
  {
   "cell_type": "markdown",
   "metadata": {},
   "source": [
    "### Easier to ask forgiveness than permission(EAFP)"
   ]
  },
  {
   "cell_type": "code",
   "execution_count": 5,
   "metadata": {},
   "outputs": [
    {
     "name": "stdout",
     "output_type": "stream",
     "text": [
      "Quack Qauck\n",
      "Flap, Flap!\n",
      "'Duck' object has no attribute 'bark'\n",
      "\n",
      "I'm quacking like a duck!\n",
      "I'm flapping my arms!\n",
      "'Person' object has no attribute 'bark'\n",
      "\n"
     ]
    }
   ],
   "source": [
    "# First let's take a look at non-pythonic way(Permission)\n",
    "# This is also caled LBYL(Look before you leap)\n",
    "def quack_and_fly(thing):\n",
    "    if hasattr(thing,\"quack\"):\n",
    "        if callable(thing.quack):\n",
    "            thing.quack()\n",
    "    if hasattr(thing,\"fly\"):\n",
    "        if callable(thing.fly):\n",
    "            thing.fly\n",
    "    print()\n",
    "\n",
    "\n",
    "#Pythonic way is more about \n",
    "# \"Let's try to do something and if it doesn't work, we'll handle it\"\n",
    "\n",
    "def quack_and_fly(thing):\n",
    "    #EAFP (pythonic)\n",
    "    try:\n",
    "        thing.quack()\n",
    "        thing.fly()\n",
    "        thing.bark()\n",
    "    except AttributeError as e:\n",
    "        print(e)\n",
    "    print()\n",
    "\n",
    "quack_and_fly(d)\n",
    "quack_and_fly(p)"
   ]
  },
  {
   "cell_type": "code",
   "execution_count": 8,
   "metadata": {},
   "outputs": [
    {
     "name": "stdout",
     "output_type": "stream",
     "text": [
      "I'm Jess. I'm 23 years old and I'm a Programmer\n",
      "Missing 'job' key\n"
     ]
    }
   ],
   "source": [
    "#Another example of EAFP\n",
    "\n",
    "person = {\"name\":\"Jess\",\"age\":23,\"job\":\"Programmer\"}\n",
    "\n",
    "#LBYL (Non-pythonic)\n",
    "if \"name\" in person and \"age\" in person and \"job\" in person:\n",
    "    print(\"I'm {name}. I'm {age} years old and I'm a {job}\".format(**person))\n",
    "else:\n",
    "    print(\"Missing some keys\")\n",
    "    \n",
    "\n",
    "person = {\"name\":\"Jess\",\"age\":23}\n",
    "# EAFP(Pythonic)\n",
    "try:\n",
    "    print(\"I'm {name}. I'm {age} years old and I'm a {job}\".format(**person))\n",
    "except KeyError as e:\n",
    "    print(\"Missing {} key\".format(e))"
   ]
  },
  {
   "cell_type": "markdown",
   "metadata": {},
   "source": [
    "### Why EAFP than LBYL?\n",
    "\n",
    "1. It's slightly faster in a situation where you don't expect a lot of exception. because whenever you ask for permission, you have to access your object multiple times. <br><br>\n",
    "\n",
    "2. Readability.<br><br>\n",
    "\n",
    "3. To avoid race condition<br><br>\n",
    "\n",
    "To shed a light on what it means by \"avoiding race condition\", let's take a look at the example. \n"
   ]
  },
  {
   "cell_type": "code",
   "execution_count": 13,
   "metadata": {},
   "outputs": [
    {
     "name": "stdout",
     "output_type": "stream",
     "text": [
      "File can not be accessed\n",
      "File can not be accessed\n"
     ]
    }
   ],
   "source": [
    "import os\n",
    "my_file = \"./test.txt\"\n",
    "\n",
    "# Race condition\n",
    "if os.access(my_file,os.R_OK):\n",
    "    # by the time we get down here, there is chance where\n",
    "    # we can't access the file anymore. \n",
    "    with open(my_file) as f:\n",
    "        print(f.read())\n",
    "else: \n",
    "    print(\"File can not be accessed\")\n",
    "\n",
    "# No Race-Condition\n",
    "try:\n",
    "    f = open(my_file)\n",
    "except IOError as e:\n",
    "    print(\"File can not be accessed\")\n",
    "else:\n",
    "    with f:\n",
    "        print(f.read())"
   ]
  },
  {
   "cell_type": "code",
   "execution_count": 12,
   "metadata": {},
   "outputs": [
    {
     "data": {
      "text/plain": [
       "4"
      ]
     },
     "execution_count": 12,
     "metadata": {},
     "output_type": "execute_result"
    }
   ],
   "source": []
  }
 ],
 "metadata": {
  "interpreter": {
   "hash": "3c774bbcc5b2f7006b3f86ef4be25d8d27188f10abfcd0877483362b5854f169"
  },
  "kernelspec": {
   "display_name": "Python 3.10.2 64-bit",
   "language": "python",
   "name": "python3"
  },
  "language_info": {
   "codemirror_mode": {
    "name": "ipython",
    "version": 3
   },
   "file_extension": ".py",
   "mimetype": "text/x-python",
   "name": "python",
   "nbconvert_exporter": "python",
   "pygments_lexer": "ipython3",
   "version": "3.10.2"
  },
  "orig_nbformat": 4
 },
 "nbformat": 4,
 "nbformat_minor": 2
}
