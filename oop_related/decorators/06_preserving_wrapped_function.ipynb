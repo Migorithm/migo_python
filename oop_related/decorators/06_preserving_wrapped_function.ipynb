{
 "cells": [
  {
   "cell_type": "markdown",
   "metadata": {},
   "source": [
    "### Preserving the Wrapped Function\n",
    "\n",
    "The techniques in this chapter for creating decorators are time-tested, and valuable in many situations. But the resulting decorators have a few problems:\n",
    "\n",
    "- Function objects automatically have certain attributes, like \n",
    "    - \\_\\_name\\_\\_ \n",
    "    - \\_\\_doc\\_\\_\n",
    "    - \\_\\_module\\_\\_ \n",
    "    - etc.  \n",
    "\n",
    "<br>\n",
    "\n",
    "- Decorators interfere with introspection - masking the wrapped function’s signature, and blocking inspect.getsource().\n",
    "<br><br>\n",
    "\n",
    "- Decorators cannot be applied in certain more exotic situations - like class methods, or descriptors - without going through some heroic contortions.\n",
    "\n"
   ]
  },
  {
   "cell_type": "markdown",
   "metadata": {},
   "source": [
    "### First problem... : functools"
   ]
  },
  {
   "cell_type": "code",
   "execution_count": 2,
   "metadata": {},
   "outputs": [
    {
     "data": {
      "text/plain": [
       "'wrapper'"
      ]
     },
     "execution_count": 2,
     "metadata": {},
     "output_type": "execute_result"
    }
   ],
   "source": [
    "import functools\n",
    "def printlog(func):\n",
    "    #@functools.wraps(func)\n",
    "    def wrapper(*args, **kwargs):\n",
    "        print('CALLING: {}'.format(func.__name__))\n",
    "        return func(*args, **kwargs)\n",
    "    return wrapper\n",
    "\n",
    "@printlog\n",
    "def foo(x):\n",
    "    print(x+2)\n",
    "    \n",
    "foo.__name__"
   ]
  },
  {
   "cell_type": "code",
   "execution_count": 4,
   "metadata": {},
   "outputs": [
    {
     "data": {
      "text/plain": [
       "'foo'"
      ]
     },
     "execution_count": 4,
     "metadata": {},
     "output_type": "execute_result"
    }
   ],
   "source": [
    "import functools\n",
    "def printlog(func):\n",
    "    @functools.wraps(func)\n",
    "    def wrapper(*args, **kwargs):\n",
    "        print('CALLING: {}'.format(func.__name__))\n",
    "        return func(*args, **kwargs)\n",
    "    return wrapper\n",
    "\n",
    "@printlog\n",
    "def foo(x):\n",
    "    print(x+2)\n",
    "    \n",
    "foo.__name__"
   ]
  },
  {
   "cell_type": "markdown",
   "metadata": {},
   "source": [
    "When applied to the wrapper function, it essentially copies certain attributes from the wrapped function to the wrapper. It is equivalent to this:"
   ]
  },
  {
   "cell_type": "code",
   "execution_count": null,
   "metadata": {},
   "outputs": [],
   "source": [
    "def printlog(func):\n",
    "    def wrapper(*args, **kwargs):\n",
    "        print('CALLING: {}'.format(func.__name__))\n",
    "        return func(*args, **kwargs)\n",
    "    wrapper.__name__ = func.__name__\n",
    "    wrapper.__doc__ = func.__doc__\n",
    "    wrapper.__module__ = func.__module__\n",
    "    wrapper.__annotations__ = func.__annotations__\n",
    "    return wrapper"
   ]
  },
  {
   "cell_type": "markdown",
   "metadata": {},
   "source": [
    "functools.wraps is a actually a convenient shortcut of the more general update_wrapper. \n",
    "\n",
    "\n",
    "Since **functools.wraps only works with function-based decorators**, your class-based decorators must use update_wrapper instead:"
   ]
  },
  {
   "cell_type": "code",
   "execution_count": null,
   "metadata": {},
   "outputs": [],
   "source": [
    "import functools\n",
    "class PrintLog:\n",
    "    def __init__(self, func):\n",
    "        self.func = func\n",
    "        functools.update_wrapper(self, func)\n",
    "        \n",
    "    def __call__(self, *args, **kwargs):\n",
    "        print('CALLING: {}'.format(self.func.__name__))\n",
    "        return self.func(*args, **kwargs)"
   ]
  },
  {
   "cell_type": "markdown",
   "metadata": {},
   "source": [
    "While useful for copying over \\_\\_name\\_\\_, \\_\\_doc\\_\\_, and the other attributes\n",
    "- wraps \n",
    "- update_wrapper \n",
    "\n",
    "do not help with the other problems mentioned above.\n",
    "\n",
    "So what should you do in practice?"
   ]
  }
 ],
 "metadata": {
  "interpreter": {
   "hash": "3c774bbcc5b2f7006b3f86ef4be25d8d27188f10abfcd0877483362b5854f169"
  },
  "kernelspec": {
   "display_name": "Python 3.10.2 64-bit",
   "language": "python",
   "name": "python3"
  },
  "language_info": {
   "codemirror_mode": {
    "name": "ipython",
    "version": 3
   },
   "file_extension": ".py",
   "mimetype": "text/x-python",
   "name": "python",
   "nbconvert_exporter": "python",
   "pygments_lexer": "ipython3",
   "version": "3.10.2"
  },
  "orig_nbformat": 4
 },
 "nbformat": 4,
 "nbformat_minor": 2
}
