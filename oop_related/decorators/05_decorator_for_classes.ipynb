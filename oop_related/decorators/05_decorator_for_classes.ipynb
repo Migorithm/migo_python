{
 "cells": [
  {
   "cell_type": "markdown",
   "metadata": {},
   "source": [
    "### Decorators For Classes\n",
    "\n",
    "To introduce an example, let me explain Python’s built-in repr() function.<br><br>\n",
    "\n",
    "When called with one argument, this returns a string, meant to represent the passed object.<br><br>\n",
    "\n",
    "It may sound similar to str(); the difference is that \n",
    "- while str() returns a human-readable string, \n",
    "- repr() is meant to return a string version of Python code needed to recreate it. \n",
    "\n",
    "For example: \n"
   ]
  },
  {
   "cell_type": "code",
   "execution_count": 4,
   "metadata": {},
   "outputs": [],
   "source": [
    "class Peso:\n",
    "    value=1\n",
    "    \n",
    "peso=Peso()\n"
   ]
  },
  {
   "cell_type": "code",
   "execution_count": 5,
   "metadata": {},
   "outputs": [
    {
     "data": {
      "text/plain": [
       "'<__main__.Peso object at 0x00000272FB567F40>'"
      ]
     },
     "execution_count": 5,
     "metadata": {},
     "output_type": "execute_result"
    }
   ],
   "source": [
    "repr(peso)"
   ]
  },
  {
   "cell_type": "markdown",
   "metadata": {},
   "source": [
    "Ideally, repr(peso) should return the string \"Peso()\". \n",
    "\n",
    "You fix this by implementing :\n",
    "\n",
    "    __repr__ \n",
    "\n"
   ]
  },
  {
   "cell_type": "code",
   "execution_count": 6,
   "metadata": {},
   "outputs": [],
   "source": [
    "class Peso:\n",
    "    value =1\n",
    "    def __repr__(self):\n",
    "        return \"Peso()\"\n",
    "\n",
    "peso = Peso()\n",
    "\n"
   ]
  },
  {
   "cell_type": "code",
   "execution_count": 8,
   "metadata": {},
   "outputs": [
    {
     "data": {
      "text/plain": [
       "'Peso()'"
      ]
     },
     "execution_count": 8,
     "metadata": {},
     "output_type": "execute_result"
    }
   ],
   "source": [
    "repr(peso)"
   ]
  },
  {
   "cell_type": "markdown",
   "metadata": {},
   "source": [
    "You can create a decorator that will automatically add a \\_\\_repr\\_\\_ method to any class.<br><br>\n",
    "\n",
    "Guess how? - instead of a wrapper function, the decorator returns a class"
   ]
  },
  {
   "cell_type": "code",
   "execution_count": 86,
   "metadata": {},
   "outputs": [],
   "source": [
    "def autorepr(klass):\n",
    "    def cls_repr(self):\n",
    "        print(2)\n",
    "        return '{}()'.format(klass.__name__)\n",
    "    print(1)\n",
    "    klass.__repr__ = cls_repr #define __repr__ method here. \n",
    "\n",
    "    return klass \n",
    "\n",
    "#this will return class"
   ]
  },
  {
   "cell_type": "code",
   "execution_count": 89,
   "metadata": {},
   "outputs": [
    {
     "name": "stdout",
     "output_type": "stream",
     "text": [
      "1\n",
      "2\n"
     ]
    },
    {
     "data": {
      "text/plain": [
       "Penny()"
      ]
     },
     "execution_count": 89,
     "metadata": {},
     "output_type": "execute_result"
    }
   ],
   "source": [
    "@autorepr\n",
    "class Penny:\n",
    "    value =1\n",
    "    \n",
    "penny = Penny()\n",
    "penny"
   ]
  },
  {
   "cell_type": "markdown",
   "metadata": {},
   "source": [
    "This is the same as the following"
   ]
  },
  {
   "cell_type": "code",
   "execution_count": 88,
   "metadata": {},
   "outputs": [
    {
     "name": "stdout",
     "output_type": "stream",
     "text": [
      "1\n",
      "2\n"
     ]
    },
    {
     "data": {
      "text/plain": [
       "Peco()"
      ]
     },
     "execution_count": 88,
     "metadata": {},
     "output_type": "execute_result"
    }
   ],
   "source": [
    "class Peco:\n",
    "    value =1 \n",
    "\n",
    "peco = autorepr(Peco)()\n",
    "\n",
    "peco"
   ]
  },
  {
   "cell_type": "markdown",
   "metadata": {},
   "source": [
    "Another strategy for decorating classes is closer in spirit:\n",
    "\n",
    "creating a new subclass within the decorator, returning that in its place:"
   ]
  },
  {
   "cell_type": "code",
   "execution_count": 54,
   "metadata": {},
   "outputs": [],
   "source": [
    "def autorepr_subclass(klass):\n",
    "    class NewClass(klass):\n",
    "        def __repr__(self):\n",
    "            return '{}()'.format(klass.__name__)\n",
    "    return NewClass"
   ]
  },
  {
   "cell_type": "code",
   "execution_count": 58,
   "metadata": {},
   "outputs": [
    {
     "data": {
      "text/plain": [
       "Nickel()"
      ]
     },
     "execution_count": 58,
     "metadata": {},
     "output_type": "execute_result"
    }
   ],
   "source": [
    "@autorepr_subclass\n",
    "class Nickel:\n",
    "    value =5\n",
    "    \n",
    "nickel = Nickel()\n",
    "nickel"
   ]
  },
  {
   "cell_type": "markdown",
   "metadata": {},
   "source": [
    "This has the disadvantage of creating a new type:"
   ]
  },
  {
   "cell_type": "code",
   "execution_count": 59,
   "metadata": {},
   "outputs": [
    {
     "data": {
      "text/plain": [
       "__main__.autorepr_subclass.<locals>.NewClass"
      ]
     },
     "execution_count": 59,
     "metadata": {},
     "output_type": "execute_result"
    }
   ],
   "source": [
    "type(nickel)"
   ]
  },
  {
   "cell_type": "markdown",
   "metadata": {},
   "source": [
    "Class decorators tend to be less useful in practice than those for functions and methods. \n",
    "\n",
    "When they are used, it’s often to *automatically generate and add methods*. \n",
    "\n",
    "But they are more flexible than that. \n",
    "\n",
    "You can even express the singleton pattern using class decorators:"
   ]
  },
  {
   "cell_type": "code",
   "execution_count": 64,
   "metadata": {},
   "outputs": [],
   "source": [
    "def singleton(klass):\n",
    "    instances = {} #This technique again!\n",
    "    def get_instance():\n",
    "        if klass not in instances:\n",
    "            instances[klass] = klass()\n",
    "        return instances[klass]\n",
    "    return get_instance\n",
    "    # There is only one Elvis.\n",
    "\n",
    "@singleton\n",
    "class Elvis:\n",
    "    pass"
   ]
  },
  {
   "cell_type": "code",
   "execution_count": 61,
   "metadata": {},
   "outputs": [],
   "source": [
    "elvis1 = Elvis()\n",
    "elvis2 = Elvis()\n",
    "\n"
   ]
  },
  {
   "cell_type": "code",
   "execution_count": 62,
   "metadata": {},
   "outputs": [
    {
     "data": {
      "text/plain": [
       "2692867842416"
      ]
     },
     "execution_count": 62,
     "metadata": {},
     "output_type": "execute_result"
    }
   ],
   "source": [
    "id(elvis1)"
   ]
  }
 ],
 "metadata": {
  "interpreter": {
   "hash": "3c774bbcc5b2f7006b3f86ef4be25d8d27188f10abfcd0877483362b5854f169"
  },
  "kernelspec": {
   "display_name": "Python 3.10.2 64-bit",
   "language": "python",
   "name": "python3"
  },
  "language_info": {
   "codemirror_mode": {
    "name": "ipython",
    "version": 3
   },
   "file_extension": ".py",
   "mimetype": "text/x-python",
   "name": "python",
   "nbconvert_exporter": "python",
   "pygments_lexer": "ipython3",
   "version": "3.10.2"
  },
  "orig_nbformat": 4
 },
 "nbformat": 4,
 "nbformat_minor": 2
}
