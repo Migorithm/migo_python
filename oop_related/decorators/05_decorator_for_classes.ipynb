{
 "cells": [
  {
   "cell_type": "markdown",
   "metadata": {},
   "source": [
    "### Decorators For Classes\n",
    "\n",
    "To introduce an example, let me explain Python’s built-in repr() function.<br><br>\n",
    "\n",
    "When called with one argument, this returns a string, meant to represent the passed object.<br><br>\n",
    "\n",
    "It may sound similar to str(); the difference is that \n",
    "- while str() returns a human-readable string, \n",
    "- repr() is meant to return a string version of Python code needed to recreate it. \n",
    "\n",
    "For example: \n"
   ]
  },
  {
   "cell_type": "code",
   "execution_count": 4,
   "metadata": {},
   "outputs": [],
   "source": [
    "class Peso:\n",
    "    value=1\n",
    "    \n",
    "peso=Peso()\n"
   ]
  },
  {
   "cell_type": "code",
   "execution_count": 5,
   "metadata": {},
   "outputs": [
    {
     "data": {
      "text/plain": [
       "'<__main__.Peso object at 0x00000272FB567F40>'"
      ]
     },
     "execution_count": 5,
     "metadata": {},
     "output_type": "execute_result"
    }
   ],
   "source": [
    "repr(peso)"
   ]
  },
  {
   "cell_type": "markdown",
   "metadata": {},
   "source": [
    "Ideally, repr(peso) should return the string \"Peso()\". \n",
    "\n",
    "You fix this by implementing :\n",
    "\n",
    "    __repr__ \n",
    "\n"
   ]
  },
  {
   "cell_type": "code",
   "execution_count": 6,
   "metadata": {},
   "outputs": [],
   "source": [
    "class Peso:\n",
    "    value =1\n",
    "    def __repr__(self):\n",
    "        return \"Peso()\"\n",
    "\n",
    "peso = Peso()\n",
    "\n"
   ]
  },
  {
   "cell_type": "code",
   "execution_count": 8,
   "metadata": {},
   "outputs": [
    {
     "data": {
      "text/plain": [
       "'Peso()'"
      ]
     },
     "execution_count": 8,
     "metadata": {},
     "output_type": "execute_result"
    }
   ],
   "source": [
    "repr(peso)"
   ]
  },
  {
   "cell_type": "markdown",
   "metadata": {},
   "source": [
    "You can create a decorator that will automatically add a \\_\\_repr\\_\\_ method to any class.<br><br>\n",
    "\n",
    "Guess how? - instead of a wrapper function, the decorator returns a class"
   ]
  },
  {
   "cell_type": "code",
   "execution_count": 47,
   "metadata": {},
   "outputs": [],
   "source": [
    "def autorepr(cls):\n",
    "    def cls_repr(self):\n",
    "        print(2)\n",
    "        return '{}()'.format(cls.__name__)\n",
    "    print(1)\n",
    "    cls.__repr__ = cls_repr #define __repr__ method here. \n",
    "    return cls \n",
    "\n",
    "#this will return class"
   ]
  },
  {
   "cell_type": "code",
   "execution_count": 45,
   "metadata": {},
   "outputs": [
    {
     "name": "stdout",
     "output_type": "stream",
     "text": [
      "3\n",
      "2\n"
     ]
    },
    {
     "data": {
      "text/plain": [
       "Penny()"
      ]
     },
     "execution_count": 45,
     "metadata": {},
     "output_type": "execute_result"
    }
   ],
   "source": [
    "@autorepr\n",
    "class Penny:\n",
    "    value =1\n",
    "    \n",
    "penny = Penny()\n",
    "penny"
   ]
  },
  {
   "cell_type": "code",
   "execution_count": 48,
   "metadata": {},
   "outputs": [
    {
     "name": "stdout",
     "output_type": "stream",
     "text": [
      "1\n"
     ]
    }
   ],
   "source": [
    "class Peso:\n",
    "    value =1 \n",
    "    \n",
    "peso = autorepr(Peso())\n"
   ]
  },
  {
   "cell_type": "code",
   "execution_count": 49,
   "metadata": {},
   "outputs": [
    {
     "data": {
      "text/plain": [
       "__main__.Peso"
      ]
     },
     "execution_count": 49,
     "metadata": {},
     "output_type": "execute_result"
    }
   ],
   "source": [
    "type(peso)"
   ]
  },
  {
   "cell_type": "code",
   "execution_count": 34,
   "metadata": {},
   "outputs": [
    {
     "data": {
      "text/plain": [
       "<__main__.Peso at 0x272fba7bee0>"
      ]
     },
     "execution_count": 34,
     "metadata": {},
     "output_type": "execute_result"
    }
   ],
   "source": []
  }
 ],
 "metadata": {
  "interpreter": {
   "hash": "3c774bbcc5b2f7006b3f86ef4be25d8d27188f10abfcd0877483362b5854f169"
  },
  "kernelspec": {
   "display_name": "Python 3.10.2 64-bit",
   "language": "python",
   "name": "python3"
  },
  "language_info": {
   "codemirror_mode": {
    "name": "ipython",
    "version": 3
   },
   "file_extension": ".py",
   "mimetype": "text/x-python",
   "name": "python",
   "nbconvert_exporter": "python",
   "pygments_lexer": "ipython3",
   "version": "3.10.2"
  },
  "orig_nbformat": 4
 },
 "nbformat": 4,
 "nbformat_minor": 2
}
