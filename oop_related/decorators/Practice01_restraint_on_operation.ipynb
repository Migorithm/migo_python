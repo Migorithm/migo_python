{
 "cells": [
  {
   "cell_type": "markdown",
   "metadata": {},
   "source": [
    "### Say you want to limit the number of executions of a certain function"
   ]
  },
  {
   "cell_type": "code",
   "execution_count": 8,
   "metadata": {},
   "outputs": [],
   "source": [
    "\n",
    "def decorator(func):\n",
    "    data={\"count\":0}\n",
    "    def wrapper(*args,**kwargs):\n",
    "        if data[\"count\"] >= 5:\n",
    "            raise ReferenceError(\"This function has been used more than 5\")\n",
    "        else:\n",
    "            data[\"count\"] +=1\n",
    "        print(\"It's {} times of executions\".format(data[\"count\"]))\n",
    "        return func(*args,**kwargs)\n",
    "    return wrapper\n",
    "\n",
    "@decorator\n",
    "def random_function(x):\n",
    "    return x+5"
   ]
  },
  {
   "cell_type": "code",
   "execution_count": 9,
   "metadata": {},
   "outputs": [
    {
     "name": "stdout",
     "output_type": "stream",
     "text": [
      "It's 1 times of executions\n"
     ]
    },
    {
     "data": {
      "text/plain": [
       "6"
      ]
     },
     "execution_count": 9,
     "metadata": {},
     "output_type": "execute_result"
    }
   ],
   "source": [
    "random_function(1)"
   ]
  },
  {
   "cell_type": "code",
   "execution_count": 10,
   "metadata": {},
   "outputs": [
    {
     "name": "stdout",
     "output_type": "stream",
     "text": [
      "It's 2 times of executions\n",
      "It's 3 times of executions\n",
      "It's 4 times of executions\n",
      "It's 5 times of executions\n"
     ]
    },
    {
     "data": {
      "text/plain": [
       "14"
      ]
     },
     "execution_count": 10,
     "metadata": {},
     "output_type": "execute_result"
    }
   ],
   "source": [
    "random_function(5)\n",
    "random_function(3)\n",
    "random_function(6)\n",
    "random_function(9)\n"
   ]
  },
  {
   "cell_type": "code",
   "execution_count": 11,
   "metadata": {},
   "outputs": [
    {
     "ename": "ReferenceError",
     "evalue": "This function has been used more than 5",
     "output_type": "error",
     "traceback": [
      "\u001b[1;31m---------------------------------------------------------------------------\u001b[0m",
      "\u001b[1;31mReferenceError\u001b[0m                            Traceback (most recent call last)",
      "\u001b[1;32mc:\\migo_python\\oop_related\\decorators\\practice.ipynb Cell 4'\u001b[0m in \u001b[0;36m<module>\u001b[1;34m\u001b[0m\n\u001b[1;32m----> <a href='vscode-notebook-cell:/c%3A/migo_python/oop_related/decorators/practice.ipynb#ch0000003?line=0'>1</a>\u001b[0m random_function(\u001b[39m1\u001b[39;49m)\n",
      "\u001b[1;32mc:\\migo_python\\oop_related\\decorators\\practice.ipynb Cell 1'\u001b[0m in \u001b[0;36mdecorator.<locals>.wrapper\u001b[1;34m(*args, **kwargs)\u001b[0m\n\u001b[0;32m      <a href='vscode-notebook-cell:/c%3A/migo_python/oop_related/decorators/practice.ipynb#ch0000000?line=2'>3</a>\u001b[0m \u001b[39mdef\u001b[39;00m \u001b[39mwrapper\u001b[39m(\u001b[39m*\u001b[39margs,\u001b[39m*\u001b[39m\u001b[39m*\u001b[39mkwargs):\n\u001b[0;32m      <a href='vscode-notebook-cell:/c%3A/migo_python/oop_related/decorators/practice.ipynb#ch0000000?line=3'>4</a>\u001b[0m     \u001b[39mif\u001b[39;00m data[\u001b[39m\"\u001b[39m\u001b[39mcount\u001b[39m\u001b[39m\"\u001b[39m] \u001b[39m>\u001b[39m\u001b[39m=\u001b[39m \u001b[39m5\u001b[39m:\n\u001b[1;32m----> <a href='vscode-notebook-cell:/c%3A/migo_python/oop_related/decorators/practice.ipynb#ch0000000?line=4'>5</a>\u001b[0m         \u001b[39mraise\u001b[39;00m \u001b[39mReferenceError\u001b[39;00m(\u001b[39m\"\u001b[39m\u001b[39mThis function has been used more than 5\u001b[39m\u001b[39m\"\u001b[39m)\n\u001b[0;32m      <a href='vscode-notebook-cell:/c%3A/migo_python/oop_related/decorators/practice.ipynb#ch0000000?line=5'>6</a>\u001b[0m     \u001b[39melse\u001b[39;00m:\n\u001b[0;32m      <a href='vscode-notebook-cell:/c%3A/migo_python/oop_related/decorators/practice.ipynb#ch0000000?line=6'>7</a>\u001b[0m         data[\u001b[39m\"\u001b[39m\u001b[39mcount\u001b[39m\u001b[39m\"\u001b[39m] \u001b[39m+\u001b[39m\u001b[39m=\u001b[39m\u001b[39m1\u001b[39m\n",
      "\u001b[1;31mReferenceError\u001b[0m: This function has been used more than 5"
     ]
    }
   ],
   "source": [
    "random_function(1)"
   ]
  }
 ],
 "metadata": {
  "interpreter": {
   "hash": "3c774bbcc5b2f7006b3f86ef4be25d8d27188f10abfcd0877483362b5854f169"
  },
  "kernelspec": {
   "display_name": "Python 3.10.2 64-bit",
   "language": "python",
   "name": "python3"
  },
  "language_info": {
   "codemirror_mode": {
    "name": "ipython",
    "version": 3
   },
   "file_extension": ".py",
   "mimetype": "text/x-python",
   "name": "python",
   "nbconvert_exporter": "python",
   "pygments_lexer": "ipython3",
   "version": "3.10.2"
  },
  "orig_nbformat": 4
 },
 "nbformat": 4,
 "nbformat_minor": 2
}
