{
 "cells": [
  {
   "cell_type": "markdown",
   "metadata": {},
   "source": [
    "### Decorators That Take Arguments\n",
    "\n",
    "Using flask, you will see some syntax like this:\n",
    "\n",
    "    @app.route(\"/\")\n",
    "    def hello():\n",
    "        return \"<html><body>Hello world!</body></html>\"\n",
    "\n",
    "How do we write decorators that can take argument?<br>\n",
    "\n",
    "For example, imagine a family of decorators adding a number to the return value of a function:"
   ]
  },
  {
   "cell_type": "code",
   "execution_count": 1,
   "metadata": {},
   "outputs": [],
   "source": [
    "def add2(func):\n",
    "    def wrapper(n):\n",
    "        return func(n) + 2\n",
    "    return wrapper\n",
    "\n",
    "def add4(func):\n",
    "    def wrapper(n):\n",
    "        return func(n) +4\n",
    "    return wrapper\n",
    "\n",
    "@add2\n",
    "def foo(x):\n",
    "    return x **2\n",
    "\n",
    "@add4\n",
    "def bar(n):\n",
    "    return n*2\n"
   ]
  },
  {
   "cell_type": "markdown",
   "metadata": {},
   "source": [
    "For very similar wrappers, we had to make two separate decorators; it's very repetitive, and poorly maintainable. <br><br>\n",
    "\n",
    "Wouldn't it be great if we could do something like this: \n",
    "\n",
    "    @add(2)\n",
    "    def foo(x):\n",
    "        return x**2\n",
    "    \n",
    "    @add(4)\n",
    "    def bar(n):\n",
    "        return *2"
   ]
  },
  {
   "cell_type": "markdown",
   "metadata": {},
   "source": [
    "Well, we can. They key is to understand that **add* is actually **NOT** a decorator.*<br>\n",
    "\n",
    "It's a function that returns a decorator.<br>\n",
    "\n",
    "To make this work, we write a function called add, which create and returns the decorator."
   ]
  },
  {
   "cell_type": "code",
   "execution_count": 2,
   "metadata": {},
   "outputs": [],
   "source": [
    "def add(increment):\n",
    "    def decorator(func):\n",
    "        def wrapper(*args,**kwargs):\n",
    "            return func(*args,**kwargs) + increment\n",
    "        return wrapper\n",
    "    return decorator"
   ]
  },
  {
   "cell_type": "code",
   "execution_count": 2,
   "metadata": {},
   "outputs": [
    {
     "data": {
      "text/plain": [
       "30"
      ]
     },
     "execution_count": 2,
     "metadata": {},
     "output_type": "execute_result"
    }
   ],
   "source": [
    "@add(5)\n",
    "def f(n):\n",
    "    return n**2\n",
    "\n",
    "f(5)\n"
   ]
  },
  {
   "cell_type": "code",
   "execution_count": 3,
   "metadata": {},
   "outputs": [
    {
     "data": {
      "text/plain": [
       "35"
      ]
     },
     "execution_count": 3,
     "metadata": {},
     "output_type": "execute_result"
    }
   ],
   "source": []
  },
  {
   "cell_type": "markdown",
   "metadata": {},
   "source": [
    "As you see now, **add** actually returns function. So, you can store **increment first** and use it as follows.  "
   ]
  },
  {
   "cell_type": "code",
   "execution_count": 18,
   "metadata": {},
   "outputs": [
    {
     "data": {
      "text/plain": [
       "27"
      ]
     },
     "execution_count": 18,
     "metadata": {},
     "output_type": "execute_result"
    }
   ],
   "source": [
    "add2 = add(2) #add 2\n",
    "\n",
    "@add2\n",
    "def bar(x):\n",
    "    return x**2\n",
    "\n",
    "bar(5)"
   ]
  },
  {
   "cell_type": "markdown",
   "metadata": {},
   "source": [
    "Which is translated into this:\n",
    "\n",
    "    def bar(x):\n",
    "        return x**2\n",
    "    \n",
    "    bar = add(2)(bar)"
   ]
  },
  {
   "cell_type": "code",
   "execution_count": 7,
   "metadata": {},
   "outputs": [],
   "source": [
    "bar = add(5)(bar)"
   ]
  },
  {
   "cell_type": "markdown",
   "metadata": {},
   "source": [
    "You may find the expression :\n",
    "    \n",
    "    add(5)(bar)\n",
    "\n",
    "is interesting. Python parses this left-to-right. So it first executes add(5) and it returns a function object.<br><br>\n",
    "\n",
    "And then the function takes another function object(bar). And then you can pass the argument to finalize the execution. "
   ]
  }
 ],
 "metadata": {
  "interpreter": {
   "hash": "3c774bbcc5b2f7006b3f86ef4be25d8d27188f10abfcd0877483362b5854f169"
  },
  "kernelspec": {
   "display_name": "Python 3.10.2 64-bit",
   "language": "python",
   "name": "python3"
  },
  "language_info": {
   "codemirror_mode": {
    "name": "ipython",
    "version": 3
   },
   "file_extension": ".py",
   "mimetype": "text/x-python",
   "name": "python",
   "nbconvert_exporter": "python",
   "pygments_lexer": "ipython3",
   "version": "3.10.2"
  },
  "orig_nbformat": 4
 },
 "nbformat": 4,
 "nbformat_minor": 2
}
