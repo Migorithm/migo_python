{
 "cells": [
  {
   "cell_type": "markdown",
   "metadata": {},
   "source": [
    "### Basic decorator\n",
    "A decorator works by adding behaviour around a function - meaning, lines of code which are executed before that function begins, after it returns, or both.<br><br>\n",
    "\n",
    "First - Understand that a <u>decorator is just a function</u>. \n",
    " \n",
    "    ------------\n",
    "    def some_function(arg):\n",
    "        #blah blah\n",
    "    \n",
    "    def some_decorator(func):\n",
    "        def wrapper(arg):\n",
    "            print(\"calling: {}\",format(func.__name__))\n",
    "            return func(arg)\n",
    "        return wrapper\n",
    "    -----------\n",
    "    \n",
    "    becomes...\n",
    "    \n",
    "    @some_decorator\n",
    "    def some_function(arg):\n",
    "        #blah blah\n",
    "    "
   ]
  },
  {
   "cell_type": "code",
   "execution_count": 1,
   "metadata": {},
   "outputs": [],
   "source": [
    "def printlog(func):\n",
    "    def wrapper(arg):\n",
    "        print('CALLING: {}'.format(func.__name__))\n",
    "        return func(arg)\n",
    "    return wrapper\n",
    "\n",
    "@printlog\n",
    "def foo(x):\n",
    "    print(x + 2)"
   ]
  },
  {
   "cell_type": "code",
   "execution_count": 2,
   "metadata": {},
   "outputs": [
    {
     "name": "stdout",
     "output_type": "stream",
     "text": [
      "CALLING: foo\n",
      "7\n"
     ]
    }
   ],
   "source": [
    "foo(5)"
   ]
  },
  {
   "cell_type": "markdown",
   "metadata": {},
   "source": [
    "Notice this decorator creates a new function, called wrapper, and returns that.<br><br>\n",
    "\n",
    "This is then assigned to the variable foo, replacing the undecorated, bare function:<br><br>\n",
    "\n",
    "The limitation of the above decorator is however, you can't pass in more than 1 arguement to solve it, you can use *args, **kwargs"
   ]
  },
  {
   "cell_type": "code",
   "execution_count": 3,
   "metadata": {},
   "outputs": [],
   "source": [
    "def printlog(func):\n",
    "    def wrapper(*args, **kwargs):\n",
    "        print('CALLING: {}'.format(func.__name__))\n",
    "        return func(*args, **kwargs)\n",
    "    return wrapper"
   ]
  },
  {
   "cell_type": "code",
   "execution_count": 4,
   "metadata": {},
   "outputs": [],
   "source": [
    "@printlog\n",
    "def foo(x):\n",
    "    print(x + 2)\n",
    "    \n",
    "@printlog\n",
    "def baz(x,y):\n",
    "    return x**y\n"
   ]
  },
  {
   "cell_type": "code",
   "execution_count": 5,
   "metadata": {},
   "outputs": [
    {
     "name": "stdout",
     "output_type": "stream",
     "text": [
      "CALLING: foo\n",
      "9\n"
     ]
    }
   ],
   "source": [
    "foo(7)"
   ]
  },
  {
   "cell_type": "code",
   "execution_count": 6,
   "metadata": {},
   "outputs": [
    {
     "name": "stdout",
     "output_type": "stream",
     "text": [
      "CALLING: baz\n"
     ]
    },
    {
     "data": {
      "text/plain": [
       "161558713389263217748322010169914619837072677910327911376953125"
      ]
     },
     "execution_count": 6,
     "metadata": {},
     "output_type": "execute_result"
    }
   ],
   "source": [
    "baz(5,89)"
   ]
  },
  {
   "cell_type": "markdown",
   "metadata": {},
   "source": [
    "#### Applying decorators to methods\n",
    "\n",
    "Decorators apply to methods just as well as to functions. And <u>you often don’t need to change anything</u>: when the wrapper has a signature of wrapper(*args, **kwargs), like printlog does, it works just fine with any object’s method. But sometimes you will see code like this:\n",
    "\n",
    "    def printlog_for_method(func):\n",
    "        def wrapper(self, *args, **kwargs):\n",
    "            print('CALLING: {}'.format(func.__name__))\n",
    "            return func(self, *args, **kwargs)\n",
    "        return wrapper\n",
    "\n",
    "Although it works fine, it's not necessary"
   ]
  }
 ],
 "metadata": {
  "interpreter": {
   "hash": "3c774bbcc5b2f7006b3f86ef4be25d8d27188f10abfcd0877483362b5854f169"
  },
  "kernelspec": {
   "display_name": "Python 3.10.2 64-bit",
   "language": "python",
   "name": "python3"
  },
  "language_info": {
   "codemirror_mode": {
    "name": "ipython",
    "version": 3
   },
   "file_extension": ".py",
   "mimetype": "text/x-python",
   "name": "python",
   "nbconvert_exporter": "python",
   "pygments_lexer": "ipython3",
   "version": "3.10.2"
  },
  "orig_nbformat": 4
 },
 "nbformat": 4,
 "nbformat_minor": 2
}
