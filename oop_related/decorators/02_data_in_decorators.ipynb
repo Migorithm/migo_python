{
 "cells": [
  {
   "cell_type": "markdown",
   "metadata": {},
   "source": [
    "### Data In Decorators\n",
    "\n",
    "Some of the most valuable decorator patterns rely on using variables inside the decorator function itself. <br><br>\n",
    "\n",
    "<u>This is not the same</u> as using variables inside the wrapper function. <br><br>\n",
    "\n",
    "Imagine you need to keep a running average of what some function returns."
   ]
  },
  {
   "cell_type": "code",
   "execution_count": 1,
   "metadata": {},
   "outputs": [],
   "source": [
    "def running_average(func):\n",
    "    data = {\"total\" : 0, \"count\" : 0}\n",
    "    def wrapper(*args, **kwargs):\n",
    "        val = func(*args, **kwargs)\n",
    "        data[\"total\"] += val\n",
    "        data[\"count\"] += 1\n",
    "        print(\"Average of {} so far: {:.01f}\".format(\n",
    "        func.__name__, data[\"total\"] / data[\"count\"]))\n",
    "        return func(*args, **kwargs)\n",
    "    return wrapper"
   ]
  },
  {
   "cell_type": "markdown",
   "metadata": {},
   "source": [
    "Each time the function is called, the average of all calls so far is printed out.<br><br>\n",
    "\n",
    "<u>Decorator functions are called ***ONCE***</u> for each function they are applied to.<br><br>\n",
    "\n",
    "***Then, each time that function is called in the code, the wrapper function is what’s actually executed.***<br><br>\n",
    "\n",
    "So imagine applying it to a function like this:"
   ]
  },
  {
   "cell_type": "code",
   "execution_count": 2,
   "metadata": {},
   "outputs": [
    {
     "name": "stdout",
     "output_type": "stream",
     "text": [
      "Average of foo so far: 3.0\n"
     ]
    },
    {
     "data": {
      "text/plain": [
       "3"
      ]
     },
     "execution_count": 2,
     "metadata": {},
     "output_type": "execute_result"
    }
   ],
   "source": [
    "@running_average\n",
    "def foo(x):\n",
    "    return x+2\n",
    "\n",
    "foo(1)"
   ]
  },
  {
   "cell_type": "code",
   "execution_count": 3,
   "metadata": {},
   "outputs": [
    {
     "name": "stdout",
     "output_type": "stream",
     "text": [
      "Average of foo so far: 7.5\n"
     ]
    },
    {
     "data": {
      "text/plain": [
       "12"
      ]
     },
     "execution_count": 3,
     "metadata": {},
     "output_type": "execute_result"
    }
   ],
   "source": [
    "foo(10)"
   ]
  },
  {
   "cell_type": "code",
   "execution_count": 4,
   "metadata": {},
   "outputs": [
    {
     "name": "stdout",
     "output_type": "stream",
     "text": [
      "Average of foo so far: 6.0\n"
     ]
    },
    {
     "data": {
      "text/plain": [
       "3"
      ]
     },
     "execution_count": 4,
     "metadata": {},
     "output_type": "execute_result"
    }
   ],
   "source": [
    "foo(1)"
   ]
  },
  {
   "cell_type": "markdown",
   "metadata": {},
   "source": [
    "As you see, this creates an internal dictionary, named data, used to keep track of foo's metrics. <br><br><br>\n",
    "\n",
    "\n",
    "The placement of data is important. Pop quiz:\n",
    "\n",
    "    1. What happens if you move the line defining data up one line, outside the running_average function? \n",
    "    -> Then \"data\" will be global variable, the scope will not be restricted to the inside of \"decorated\" function.\n",
    "\n",
    "    2. What happens if you that line down, into the wrapper function?\n",
    "    -> Every time it will regenerate the data, not being able to keeping track of metrics."
   ]
  },
  {
   "cell_type": "markdown",
   "metadata": {},
   "source": [
    "#### So when exactly is running_average executed? \n",
    "\n",
    "The decorator function itself is executed exactly once for every function it decorates. If you \"decorate\" N functions, running_average is executed N times, so we get N different data dictionaries, each tied to one of the resulting decorated functions.<br><br>\n",
    "\n",
    "This has nothing to do with how many times a decorated function is executed. The decorated function is, basically, one of the created wrapper functions.\n",
    "\n",
    "\n",
    "#### what if you want to peek into data? \n",
    "The way we’ve written running_average, you can’t.<br>\n",
    "data persists because of the reference inside of wrapper, <br>\n",
    "but there is no way you can access it directly in normal Python code.<br><br>\n",
    "\n",
    "But when you ***do*** need to do this, there is a very easy solution: <br>\n",
    "simply assign data as an attribute to wrapper. For example:"
   ]
  },
  {
   "cell_type": "code",
   "execution_count": 5,
   "metadata": {},
   "outputs": [],
   "source": [
    "# collectstats is much like running_average, but lets\n",
    "# you access the data dictionary directly, instead\n",
    "# of printing it out.\n",
    "def collectstats(func):\n",
    "    data = {\"total\" : 0, \"count\" : 0}\n",
    "    def wrapper(*args, **kwargs):\n",
    "        val = func(*args, **kwargs)\n",
    "        data[\"total\"] += val\n",
    "        data[\"count\"] += 1\n",
    "        return func(*args, **kwargs)\n",
    "    wrapper.data = data\n",
    "    return wrapper"
   ]
  },
  {
   "cell_type": "markdown",
   "metadata": {},
   "source": [
    "See that line \n",
    "    \n",
    "    wrapper.data = data\n",
    "\n",
    "Yes, you can do that - <u>A function in Python is just an object</u>. And in Python, you can add new attribute to objects by just assining them. This conveniently annotataes the decorated function:"
   ]
  },
  {
   "cell_type": "code",
   "execution_count": 6,
   "metadata": {},
   "outputs": [
    {
     "data": {
      "text/plain": [
       "{'total': 0, 'count': 0}"
      ]
     },
     "execution_count": 6,
     "metadata": {},
     "output_type": "execute_result"
    }
   ],
   "source": [
    "@collectstats\n",
    "def foo(x):\n",
    "    return x+2\n",
    "foo.data"
   ]
  },
  {
   "cell_type": "code",
   "execution_count": 7,
   "metadata": {},
   "outputs": [
    {
     "data": {
      "text/plain": [
       "3"
      ]
     },
     "execution_count": 7,
     "metadata": {},
     "output_type": "execute_result"
    }
   ],
   "source": [
    "foo(1)"
   ]
  },
  {
   "cell_type": "code",
   "execution_count": 8,
   "metadata": {},
   "outputs": [
    {
     "data": {
      "text/plain": [
       "{'total': 3, 'count': 1}"
      ]
     },
     "execution_count": 8,
     "metadata": {},
     "output_type": "execute_result"
    }
   ],
   "source": [
    "foo.data"
   ]
  },
  {
   "cell_type": "code",
   "execution_count": 9,
   "metadata": {},
   "outputs": [
    {
     "data": {
      "text/plain": [
       "{'total': 7, 'count': 2}"
      ]
     },
     "execution_count": 9,
     "metadata": {},
     "output_type": "execute_result"
    }
   ],
   "source": [
    "foo(2)\n",
    "foo.data"
   ]
  },
  {
   "cell_type": "markdown",
   "metadata": {},
   "source": [
    "### Nonlocal\n",
    "Let’s switch to a another problem you might run into.<br>\n",
    "Here is an decorator that counts how many times a function has been called."
   ]
  },
  {
   "cell_type": "code",
   "execution_count": 10,
   "metadata": {},
   "outputs": [],
   "source": [
    "count = 0\n",
    "def countcalls(func):\n",
    "    def wrapper(*args, **kwargs):\n",
    "        global count\n",
    "        count += 1\n",
    "        print('# of calls: {}'.format(count))\n",
    "        return func(*args, **kwargs)\n",
    "    return wrapper\n",
    "\n",
    "@countcalls\n",
    "def foo(x): return x + 2\n",
    "@countcalls\n",
    "def bar(x): return 3 * x"
   ]
  },
  {
   "cell_type": "markdown",
   "metadata": {},
   "source": [
    "This version of countcalls has a bug, Can you spot it?<br>\n",
    "-> Yes, it stores count as a global variable, meaning every function that is decorated will use the same variable.\n"
   ]
  },
  {
   "cell_type": "code",
   "execution_count": 11,
   "metadata": {},
   "outputs": [
    {
     "name": "stdout",
     "output_type": "stream",
     "text": [
      "# of calls: 1\n"
     ]
    },
    {
     "data": {
      "text/plain": [
       "3"
      ]
     },
     "execution_count": 11,
     "metadata": {},
     "output_type": "execute_result"
    }
   ],
   "source": [
    "foo(1)"
   ]
  },
  {
   "cell_type": "code",
   "execution_count": 12,
   "metadata": {},
   "outputs": [
    {
     "name": "stdout",
     "output_type": "stream",
     "text": [
      "# of calls: 2\n"
     ]
    },
    {
     "data": {
      "text/plain": [
       "4"
      ]
     },
     "execution_count": 12,
     "metadata": {},
     "output_type": "execute_result"
    }
   ],
   "source": [
    "foo(2)"
   ]
  },
  {
   "cell_type": "code",
   "execution_count": 13,
   "metadata": {},
   "outputs": [
    {
     "name": "stdout",
     "output_type": "stream",
     "text": [
      "# of calls: 3\n"
     ]
    },
    {
     "data": {
      "text/plain": [
       "9"
      ]
     },
     "execution_count": 13,
     "metadata": {},
     "output_type": "execute_result"
    }
   ],
   "source": [
    "bar(3)"
   ]
  },
  {
   "cell_type": "markdown",
   "metadata": {},
   "source": [
    "But the solution is tricker than it seems. Here's one attempt"
   ]
  },
  {
   "cell_type": "code",
   "execution_count": 18,
   "metadata": {},
   "outputs": [
    {
     "ename": "UnboundLocalError",
     "evalue": "local variable 'count' referenced before assignment",
     "output_type": "error",
     "traceback": [
      "\u001b[1;31m---------------------------------------------------------------------------\u001b[0m",
      "\u001b[1;31mUnboundLocalError\u001b[0m                         Traceback (most recent call last)",
      "\u001b[1;32mc:\\migo_python\\oop_related\\decorators\\02_data_in_decorators.ipynb Cell 22'\u001b[0m in \u001b[0;36m<module>\u001b[1;34m\u001b[0m\n\u001b[0;32m      <a href='vscode-notebook-cell:/c%3A/migo_python/oop_related/decorators/02_data_in_decorators.ipynb#ch0000029?line=8'>9</a>\u001b[0m \u001b[39m@countcalls\u001b[39m\n\u001b[0;32m     <a href='vscode-notebook-cell:/c%3A/migo_python/oop_related/decorators/02_data_in_decorators.ipynb#ch0000029?line=9'>10</a>\u001b[0m \u001b[39mdef\u001b[39;00m \u001b[39mfoo\u001b[39m(x): \n\u001b[0;32m     <a href='vscode-notebook-cell:/c%3A/migo_python/oop_related/decorators/02_data_in_decorators.ipynb#ch0000029?line=10'>11</a>\u001b[0m     \u001b[39mreturn\u001b[39;00m x \u001b[39m+\u001b[39m \u001b[39m2\u001b[39m\n\u001b[1;32m---> <a href='vscode-notebook-cell:/c%3A/migo_python/oop_related/decorators/02_data_in_decorators.ipynb#ch0000029?line=12'>13</a>\u001b[0m foo(\u001b[39m1\u001b[39;49m)\n",
      "\u001b[1;32mc:\\migo_python\\oop_related\\decorators\\02_data_in_decorators.ipynb Cell 22'\u001b[0m in \u001b[0;36mcountcalls.<locals>.wrapper\u001b[1;34m(*args, **kwargs)\u001b[0m\n\u001b[0;32m      <a href='vscode-notebook-cell:/c%3A/migo_python/oop_related/decorators/02_data_in_decorators.ipynb#ch0000029?line=2'>3</a>\u001b[0m \u001b[39mdef\u001b[39;00m \u001b[39mwrapper\u001b[39m(\u001b[39m*\u001b[39margs, \u001b[39m*\u001b[39m\u001b[39m*\u001b[39mkwargs):\n\u001b[1;32m----> <a href='vscode-notebook-cell:/c%3A/migo_python/oop_related/decorators/02_data_in_decorators.ipynb#ch0000029?line=3'>4</a>\u001b[0m     count\u001b[39m+\u001b[39m\u001b[39m=\u001b[39m\u001b[39m1\u001b[39m\n\u001b[0;32m      <a href='vscode-notebook-cell:/c%3A/migo_python/oop_related/decorators/02_data_in_decorators.ipynb#ch0000029?line=4'>5</a>\u001b[0m     \u001b[39mprint\u001b[39m(\u001b[39mf\u001b[39m\u001b[39m\"\u001b[39m\u001b[39m# of calls: \u001b[39m\u001b[39m{\u001b[39;00mcount\u001b[39m}\u001b[39;00m\u001b[39m\"\u001b[39m)\n\u001b[0;32m      <a href='vscode-notebook-cell:/c%3A/migo_python/oop_related/decorators/02_data_in_decorators.ipynb#ch0000029?line=5'>6</a>\u001b[0m     \u001b[39mreturn\u001b[39;00m func(\u001b[39m*\u001b[39margs,\u001b[39m*\u001b[39m\u001b[39m*\u001b[39mkwargs)\n",
      "\u001b[1;31mUnboundLocalError\u001b[0m: local variable 'count' referenced before assignment"
     ]
    }
   ],
   "source": [
    "def countcalls(func):\n",
    "    count=0\n",
    "    def wrapper(*args, **kwargs):\n",
    "        count+=1\n",
    "        print(f\"# of calls: {count}\")\n",
    "        return func(*args,**kwargs)\n",
    "    return wrapper\n",
    "\n",
    "@countcalls\n",
    "def foo(x): \n",
    "    return x + 2\n",
    "\n",
    "foo(1)"
   ]
  },
  {
   "cell_type": "markdown",
   "metadata": {},
   "source": [
    "We can’t use global, because it’s not global. But in Python 3, we can use the nonlocal keyword:"
   ]
  },
  {
   "cell_type": "code",
   "execution_count": 19,
   "metadata": {},
   "outputs": [
    {
     "name": "stdout",
     "output_type": "stream",
     "text": [
      "# of calls: 1\n"
     ]
    },
    {
     "data": {
      "text/plain": [
       "3"
      ]
     },
     "execution_count": 19,
     "metadata": {},
     "output_type": "execute_result"
    }
   ],
   "source": [
    "def countcalls(func):\n",
    "    count = 0\n",
    "    def wrapper(*args, **kwargs):\n",
    "        nonlocal count\n",
    "        count += 1\n",
    "        print('# of calls: {}'.format(count))\n",
    "        return func(*args, **kwargs)\n",
    "    return wrapper\n",
    "\n",
    "@countcalls\n",
    "def foo(x):\n",
    "    return x+2\n",
    "\n",
    "foo(1)"
   ]
  },
  {
   "cell_type": "code",
   "execution_count": 20,
   "metadata": {},
   "outputs": [
    {
     "name": "stdout",
     "output_type": "stream",
     "text": [
      "# of calls: 2\n"
     ]
    },
    {
     "data": {
      "text/plain": [
       "4"
      ]
     },
     "execution_count": 20,
     "metadata": {},
     "output_type": "execute_result"
    }
   ],
   "source": [
    "foo(2)"
   ]
  },
  {
   "cell_type": "markdown",
   "metadata": {},
   "source": [
    "#### Why didn't we get error when trying \"running_average\" example?\n",
    "For reference:\n",
    "\n",
    "    def running_average(func):\n",
    "        data={\"total\":0,\"count\":0}\n",
    "        def wrapper(*args,**kwargs):\n",
    "            val=func(*args,**kwargs)\n",
    "            data[\"total\"] +=val\n",
    "            data[\"count\"] +=1\n",
    "            print(\"Average of {} so far: {:.01f}\".format(\n",
    "                func.__name__, data[\"total\"] / data[\"count\"])))\n",
    "            return func(\"*args,**kwargs)\n",
    "        return wrapper\n",
    "    \n",
    "\n"
   ]
  },
  {
   "cell_type": "markdown",
   "metadata": {},
   "source": [
    "When we have a line like :\n",
    "\n",
    "    count +=1 \n",
    "\n",
    "that's actually modifying the value of the count variable itself - because it really means: \n",
    "\n",
    "    count = count + 1\n",
    "\n",
    "And whenever you modify(instaed of just read) a variable that was created in a larger scope, Python requires you to declare that's what you actually want, with:\n",
    "- global\n",
    "- nonlocal\n",
    "<br>\n",
    "<br>\n",
    "\n",
    "Here is the sneaky thing tho: when you write:\n",
    "\n",
    "    data[\"count\"] +=1 \n",
    "\n",
    "<u>This is not actually modifying data!</u> Or rather, it's not modifying the variable named data, which points to a dictionary object.<br><br>\n",
    "\n",
    "Instaed, the statement **data[\"count\"] +=1** invoked a method on the data object. This does change the state of the dictionary, but it doesn't make data point to a different dictionary object.<br><br>\n",
    "\n",
    "**count+=1** on the other hand, makes \"count\" variable point to a different integer, so we need to use nonlocal there. \n"
   ]
  }
 ],
 "metadata": {
  "interpreter": {
   "hash": "3c774bbcc5b2f7006b3f86ef4be25d8d27188f10abfcd0877483362b5854f169"
  },
  "kernelspec": {
   "display_name": "Python 3.10.2 64-bit",
   "language": "python",
   "name": "python3"
  },
  "language_info": {
   "codemirror_mode": {
    "name": "ipython",
    "version": 3
   },
   "file_extension": ".py",
   "mimetype": "text/x-python",
   "name": "python",
   "nbconvert_exporter": "python",
   "pygments_lexer": "ipython3",
   "version": "3.10.2"
  },
  "orig_nbformat": 4
 },
 "nbformat": 4,
 "nbformat_minor": 2
}
