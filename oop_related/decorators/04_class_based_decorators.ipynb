{
 "cells": [
  {
   "cell_type": "markdown",
   "metadata": {},
   "source": [
    "### Class-based Decorators\n",
    "\n",
    "It's also possible to implement a decorator using classes, in fact, any decorator that you can implement as a function can be done with a class instead. <br><br>\n",
    "\n",
    "But then, why would you do this? Basically, for certain kinds of more complex decorators, classes are better suited, more readable or easier to work with. <br><br>\n",
    "\n",
    "The secret to decorating with classes is the magic method:\n",
    "\n",
    "    __call__\n",
    "\n",
    "Any object can implement \\_\\_call\\_\\_ to make it callable, meaning the object can be called like a function. A simple example follows:\n",
    "\n"
   ]
  },
  {
   "cell_type": "code",
   "execution_count": 2,
   "metadata": {},
   "outputs": [
    {
     "data": {
      "text/plain": [
       "'Simion says: Get up and dance!'"
      ]
     },
     "execution_count": 2,
     "metadata": {},
     "output_type": "execute_result"
    }
   ],
   "source": [
    "class Prefixer:\n",
    "    def __init__(self,prefix):\n",
    "        self.prefix = prefix\n",
    "    def __call__(self,message):\n",
    "        return self.prefix + message\n",
    "\n",
    "migosays = Prefixer(\"Simion says: \")\n",
    "migosays(\"Get up and dance!\")"
   ]
  },
  {
   "cell_type": "markdown",
   "metadata": {},
   "source": [
    "Just looking at simonsays(\"Get up and dance!\") in isolation, you’d never guess it is\n",
    "anything other than a normal function. In fact, it’s an instance of Prefixer.<br><br>\n",
    "\n",
    "You can use \\_\\_call\\_\\_ to implement decorators, in a very different way.<br><br>\n",
    "\n",
    "Quiz yourself: \n",
    "\n",
    "    using this information about __call__, how might you implement printlog as a class instead of a function?"
   ]
  },
  {
   "cell_type": "code",
   "execution_count": 3,
   "metadata": {},
   "outputs": [],
   "source": [
    "class Printlog:\n",
    "    def __init__(self,func):\n",
    "        self.func = func\n",
    "    \n",
    "    def __call__(self,*args,**kwargs):\n",
    "        print(\"Calling: {}\".format(self.func.__name__))\n",
    "        return self.func(*args,**kwargs)\n",
    "\n",
    "\n",
    "# compare to the function version\n",
    "def printlog(func):\n",
    "    def wrapper(*args,**kwargs):\n",
    "        print(\"Calling: {}\".format(func.__name__))\n",
    "        return func(*args,**kwargs)\n",
    "    return wrapper"
   ]
  },
  {
   "cell_type": "code",
   "execution_count": 5,
   "metadata": {},
   "outputs": [
    {
     "name": "stdout",
     "output_type": "stream",
     "text": [
      "Calling: foo\n",
      "9\n"
     ]
    }
   ],
   "source": [
    "@Printlog\n",
    "def foo(x):\n",
    "    print(x+2)\n",
    "    \n",
    "@Printlog\n",
    "def baz(x,y):\n",
    "    return x+y\n",
    "\n",
    "foo(7)\n"
   ]
  },
  {
   "cell_type": "code",
   "execution_count": 6,
   "metadata": {},
   "outputs": [
    {
     "name": "stdout",
     "output_type": "stream",
     "text": [
      "Calling: baz\n"
     ]
    },
    {
     "data": {
      "text/plain": [
       "5"
      ]
     },
     "execution_count": 6,
     "metadata": {},
     "output_type": "execute_result"
    }
   ],
   "source": [
    "baz(3,2)"
   ]
  },
  {
   "cell_type": "markdown",
   "metadata": {},
   "source": [
    "The above is the same as below"
   ]
  },
  {
   "cell_type": "code",
   "execution_count": 7,
   "metadata": {},
   "outputs": [
    {
     "name": "stdout",
     "output_type": "stream",
     "text": [
      "Calling: bar\n"
     ]
    },
    {
     "data": {
      "text/plain": [
       "25"
      ]
     },
     "execution_count": 7,
     "metadata": {},
     "output_type": "execute_result"
    }
   ],
   "source": [
    "def bar(x):\n",
    "    return x**2\n",
    "\n",
    "Printlog(bar)(5)\n"
   ]
  },
  {
   "cell_type": "markdown",
   "metadata": {},
   "source": [
    "Class-based decorators have a few advantages over function-based. \n",
    "\n",
    "For one thing, the decorator is a class, which means \n",
    "\n",
    "you can leverage inheritance. For example:"
   ]
  },
  {
   "cell_type": "code",
   "execution_count": 9,
   "metadata": {},
   "outputs": [],
   "source": [
    "import sys\n",
    "\n",
    "class ResultAnnouncer:\n",
    "    stream  = sys.stdout\n",
    "    prefix = \"RESULT\"\n",
    "    def __init__(self,func):\n",
    "        self.func = func\n",
    "        \n",
    "    def __call__(self,*args,**kwargs):\n",
    "        value = self.func(*args,**kwargs)\n",
    "        self.stream.write(\"{}: {}\\n\".format(self.prefix,value))\n",
    "        return value\n",
    "\n",
    "class StdErrResultAnnouncer(ResultAnnouncer):\n",
    "    stream = sys.stderr\n",
    "    prefix= \"ERROR\""
   ]
  },
  {
   "cell_type": "markdown",
   "metadata": {},
   "source": [
    "Another benefic is when you prefer to accumulate state in object attribute.<br>\n",
    "\n",
    "For example, the Countcalls function decorator above could be implemented as a class\n",
    "\n"
   ]
  },
  {
   "cell_type": "code",
   "execution_count": 10,
   "metadata": {},
   "outputs": [],
   "source": [
    "class CountCalls:\n",
    "    def __init__(self,func):\n",
    "        self.func = func\n",
    "        self.count = 1\n",
    "        \n",
    "    def __call__(self,*args,**kwargs):\n",
    "        print(\"# of calls: {}\".format(self.count))\n",
    "        self.count +=1 \n",
    "        return self.func(*args,**kwargs)\n",
    "    \n",
    "@CountCalls\n",
    "def foo(x):\n",
    "    return x+2\n"
   ]
  },
  {
   "cell_type": "code",
   "execution_count": 11,
   "metadata": {},
   "outputs": [
    {
     "name": "stdout",
     "output_type": "stream",
     "text": [
      "# of calls: 1\n"
     ]
    },
    {
     "data": {
      "text/plain": [
       "7"
      ]
     },
     "execution_count": 11,
     "metadata": {},
     "output_type": "execute_result"
    }
   ],
   "source": [
    "foo(5)"
   ]
  },
  {
   "cell_type": "code",
   "execution_count": 12,
   "metadata": {},
   "outputs": [
    {
     "name": "stdout",
     "output_type": "stream",
     "text": [
      "# of calls: 2\n"
     ]
    },
    {
     "data": {
      "text/plain": [
       "5"
      ]
     },
     "execution_count": 12,
     "metadata": {},
     "output_type": "execute_result"
    }
   ],
   "source": [
    "foo(3)"
   ]
  },
  {
   "cell_type": "markdown",
   "metadata": {},
   "source": [
    "Notice this also lets us access foo.count, if we want to check the count outside the decorated function, it's such a nice way. "
   ]
  },
  {
   "cell_type": "code",
   "execution_count": 19,
   "metadata": {},
   "outputs": [
    {
     "name": "stdout",
     "output_type": "stream",
     "text": [
      "# of calls: 3\n"
     ]
    },
    {
     "data": {
      "text/plain": [
       "7"
      ]
     },
     "execution_count": 19,
     "metadata": {},
     "output_type": "execute_result"
    }
   ],
   "source": [
    "foo(5)"
   ]
  },
  {
   "cell_type": "code",
   "execution_count": 20,
   "metadata": {},
   "outputs": [
    {
     "data": {
      "text/plain": [
       "4"
      ]
     },
     "execution_count": 20,
     "metadata": {},
     "output_type": "execute_result"
    }
   ],
   "source": [
    "foo.count"
   ]
  },
  {
   "cell_type": "markdown",
   "metadata": {},
   "source": [
    "### How to pass argument just as in function decoration?\n",
    "\n",
    "In this case, the constructor accepts not the func object to be decorated but the parameter on the decorator line. <br><br>\n",
    "\n",
    "The \\_\\_call\\_\\_ method must take the ***func*** object, define a wrapper function and return it. "
   ]
  },
  {
   "cell_type": "code",
   "execution_count": 21,
   "metadata": {},
   "outputs": [],
   "source": [
    "class Add:\n",
    "    def __init__(self,increment):\n",
    "        self.increment = increment\n",
    "    \n",
    "    def __call__(self,func):\n",
    "        def wrapper(*args,**kwargs):\n",
    "            return func(*args,**kwargs) + self.increment\n",
    "        return wrapper\n"
   ]
  },
  {
   "cell_type": "code",
   "execution_count": 22,
   "metadata": {},
   "outputs": [
    {
     "data": {
      "text/plain": [
       "27"
      ]
     },
     "execution_count": 22,
     "metadata": {},
     "output_type": "execute_result"
    }
   ],
   "source": [
    "@Add(2)\n",
    "def foo(x):\n",
    "    return x**2\n",
    "\n",
    "foo(5)"
   ]
  },
  {
   "cell_type": "code",
   "execution_count": 23,
   "metadata": {},
   "outputs": [
    {
     "data": {
      "text/plain": [
       "158"
      ]
     },
     "execution_count": 23,
     "metadata": {},
     "output_type": "execute_result"
    }
   ],
   "source": [
    "@Add(4)\n",
    "def bar(n):\n",
    "    return n*2\n",
    "\n",
    "bar(77)"
   ]
  },
  {
   "cell_type": "markdown",
   "metadata": {},
   "source": [
    "As you can see, any function-based decorator can be implemented as a class-based one.\n",
    "<br><br>\n",
    "\n",
    "But it's possible to design class-based decorators which CANNOT be translated into a function-based form.<br><br>\n",
    "\n",
    "\n"
   ]
  }
 ],
 "metadata": {
  "interpreter": {
   "hash": "3c774bbcc5b2f7006b3f86ef4be25d8d27188f10abfcd0877483362b5854f169"
  },
  "kernelspec": {
   "display_name": "Python 3.10.2 64-bit",
   "language": "python",
   "name": "python3"
  },
  "language_info": {
   "codemirror_mode": {
    "name": "ipython",
    "version": 3
   },
   "file_extension": ".py",
   "mimetype": "text/x-python",
   "name": "python",
   "nbconvert_exporter": "python",
   "pygments_lexer": "ipython3",
   "version": "3.10.2"
  },
  "orig_nbformat": 4
 },
 "nbformat": 4,
 "nbformat_minor": 2
}
