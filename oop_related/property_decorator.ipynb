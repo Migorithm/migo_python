{
 "cells": [
  {
   "cell_type": "markdown",
   "metadata": {},
   "source": [
    "## Property Decorator\n",
    "This allows us to give our class attributes:\n",
    "- getter\n",
    "- sette\n",
    "- leader"
   ]
  },
  {
   "cell_type": "code",
   "execution_count": 1,
   "metadata": {},
   "outputs": [],
   "source": [
    "class Employee:\n",
    "    def __init__(self,first,last):\n",
    "        self.first = first\n",
    "        self.last= last\n",
    "        self.email = first + \".\" + last +\"@email.com\"\n",
    "    def fullname(self):\n",
    "        return '{} {}'.format(self.first,self.last)\n",
    "        "
   ]
  },
  {
   "cell_type": "code",
   "execution_count": 4,
   "metadata": {},
   "outputs": [
    {
     "name": "stdout",
     "output_type": "stream",
     "text": [
      "Jonh\n",
      "Jonh.Smith@email.com\n",
      "Jonh Smith\n"
     ]
    }
   ],
   "source": [
    "emp_1 = Employee(\"Jonh\",\"Smith\")\n",
    "print(emp_1.first)\n",
    "print(emp_1.email)\n",
    "print(emp_1.fullname())"
   ]
  },
  {
   "cell_type": "code",
   "execution_count": 5,
   "metadata": {},
   "outputs": [
    {
     "name": "stdout",
     "output_type": "stream",
     "text": [
      "Jim\n",
      "Jonh.Smith@email.com\n",
      "Jim Smith\n"
     ]
    }
   ],
   "source": [
    "#If you want to change the attribute:\n",
    "\n",
    "emp_1.first = \"Jim\"\n",
    "print(emp_1.first)\n",
    "print(emp_1.email)\n",
    "print(emp_1.fullname())"
   ]
  },
  {
   "cell_type": "markdown",
   "metadata": {},
   "source": [
    "As you can see, the email has not been changed! <br>\n",
    "How do you update the email automatically?"
   ]
  },
  {
   "cell_type": "code",
   "execution_count": 6,
   "metadata": {},
   "outputs": [],
   "source": [
    "class Employee:\n",
    "    def __init__(self,first,last):\n",
    "        self.first = first\n",
    "        self.last= last\n",
    "\n",
    "    def email(self):\n",
    "        return '{}.{}@email.com'.format(self.first,self.last)\n",
    "        \n",
    "    def fullname(self):\n",
    "        return '{} {}'.format(self.first,self.last)\n",
    "        "
   ]
  },
  {
   "cell_type": "code",
   "execution_count": 7,
   "metadata": {},
   "outputs": [
    {
     "name": "stdout",
     "output_type": "stream",
     "text": [
      "Shadun\n",
      "Shadun.Freuduh@email.com\n",
      "Shadun Freuduh\n"
     ]
    }
   ],
   "source": [
    "emp_3 = Employee(\"Shadun\",\"Freuduh\")\n",
    "print(emp_3.first)\n",
    "print(emp_3.email())\n",
    "print(emp_3.fullname())"
   ]
  },
  {
   "cell_type": "markdown",
   "metadata": {},
   "source": [
    "As you may have noticed, \n",
    "\n",
    "    instance.email\n",
    "    ->\n",
    "    instance.email() \n",
    "\n",
    "It means that anyone who uses this class has to change their code; which is undesirable.<br>\n",
    "<br>\n",
    "\n",
    "### in order to continue accessing email like an attribute...\n",
    "Just add ***@property*** decorator"
   ]
  },
  {
   "cell_type": "code",
   "execution_count": 8,
   "metadata": {},
   "outputs": [],
   "source": [
    "class Employee:\n",
    "    def __init__(self,first,last):\n",
    "        self.first = first\n",
    "        self.last= last\n",
    "\n",
    "    @property\n",
    "    def email(self):\n",
    "        return '{}.{}@email.com'.format(self.first,self.last)\n",
    "        \n",
    "    def fullname(self):\n",
    "        return '{} {}'.format(self.first,self.last)"
   ]
  },
  {
   "cell_type": "code",
   "execution_count": 10,
   "metadata": {},
   "outputs": [
    {
     "name": "stdout",
     "output_type": "stream",
     "text": [
      "Shadun\n",
      "Shadun.Freuduh@email.com\n",
      "Shadun Freuduh\n"
     ]
    }
   ],
   "source": [
    "emp_4 = Employee(\"Shadun\",\"Freuduh\")\n",
    "print(emp_4.first)\n",
    "print(emp_4.email)\n",
    "print(emp_4.fullname())"
   ]
  },
  {
   "cell_type": "markdown",
   "metadata": {},
   "source": [
    "### setter"
   ]
  },
  {
   "cell_type": "code",
   "execution_count": 11,
   "metadata": {},
   "outputs": [],
   "source": [
    "class Employee:\n",
    "    def __init__(self,first,last):\n",
    "        self.first = first\n",
    "        self.last= last\n",
    "\n",
    "    @property\n",
    "    def email(self):\n",
    "        return '{}.{}@email.com'.format(self.first,self.last)\n",
    "    \n",
    "    @property\n",
    "    def fullname(self):\n",
    "        return '{} {}'.format(self.first,self.last)\n",
    "\n",
    "    @fullname.setter\n",
    "    def fullname(self,name):\n",
    "        first, last = name.split(\" \")\n",
    "        self.first = first\n",
    "        self.last = last\n"
   ]
  },
  {
   "cell_type": "code",
   "execution_count": 13,
   "metadata": {},
   "outputs": [
    {
     "name": "stdout",
     "output_type": "stream",
     "text": [
      "Carey Curture\n",
      "Carey.Curture@email.com\n",
      "John Corner\n",
      "John.Corner@email.com\n"
     ]
    }
   ],
   "source": [
    "emp_5 = Employee(\"Carey\",\"Curture\")\n",
    "print(emp_5.fullname)\n",
    "print(emp_5.email)\n",
    "\n",
    "emp_5.fullname = \"John Corner\"\n",
    "print(emp_5.fullname)\n",
    "print(emp_5.email)\n",
    "\n"
   ]
  },
  {
   "cell_type": "markdown",
   "metadata": {},
   "source": [
    "### deleter"
   ]
  },
  {
   "cell_type": "code",
   "execution_count": 16,
   "metadata": {},
   "outputs": [],
   "source": [
    "class Employee:\n",
    "    def __init__(self,first,last):\n",
    "        self.first = first\n",
    "        self.last= last\n",
    "\n",
    "    @property\n",
    "    def email(self):\n",
    "        return '{}.{}@email.com'.format(self.first,self.last)\n",
    "    \n",
    "    @property\n",
    "    def fullname(self):\n",
    "        return '{} {}'.format(self.first,self.last)\n",
    "\n",
    "    @fullname.setter\n",
    "    def fullname(self,name):\n",
    "        first, last = name.split(\" \")\n",
    "        self.first = first\n",
    "        self.last = last\n",
    "    \n",
    "    @fullname.deleter\n",
    "    def fullname(self):\n",
    "        print(\"Delete Name!\")\n",
    "        self.first = None\n",
    "        self.last = None\n",
    "        "
   ]
  },
  {
   "cell_type": "code",
   "execution_count": 17,
   "metadata": {},
   "outputs": [
    {
     "name": "stdout",
     "output_type": "stream",
     "text": [
      "Conan Obryan\n",
      "Conan.Obryan@email.com\n",
      "Peter Parker\n",
      "Peter.Parker@email.com\n",
      "Delete Name!\n",
      "None None\n",
      "None.None@email.com\n"
     ]
    }
   ],
   "source": [
    "emp_6 = Employee(\"Conan\",\"Obryan\")\n",
    "print(emp_6.fullname)\n",
    "print(emp_6.email)\n",
    "\n",
    "emp_6.fullname = \"Peter Parker\"\n",
    "print(emp_6.fullname)\n",
    "print(emp_6.email)\n",
    "\n",
    "#Use del in this case\n",
    "del emp_6.fullname\n",
    "print(emp_6.fullname)\n",
    "print(emp_6.email)"
   ]
  }
 ],
 "metadata": {
  "interpreter": {
   "hash": "f22a20af907fde35ff19e1e892fdb271353fb19b11c7ebd774491472e685293c"
  },
  "kernelspec": {
   "display_name": "Python 3.9.7 64-bit",
   "language": "python",
   "name": "python3"
  },
  "language_info": {
   "codemirror_mode": {
    "name": "ipython",
    "version": 3
   },
   "file_extension": ".py",
   "mimetype": "text/x-python",
   "name": "python",
   "nbconvert_exporter": "python",
   "pygments_lexer": "ipython3",
   "version": "3.9.7"
  },
  "orig_nbformat": 4
 },
 "nbformat": 4,
 "nbformat_minor": 2
}
