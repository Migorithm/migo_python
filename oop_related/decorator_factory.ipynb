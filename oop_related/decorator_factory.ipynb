{
 "cells": [
  {
   "cell_type": "markdown",
   "metadata": {},
   "source": [
    "### Decorator Factory\n",
    "A decorator factory is a function that returns a decorator.<br> \n",
    "Instead of returning a function (inner in our case), we will return a decorator (named “dec”).<br> \n",
    "Lets see this:"
   ]
  },
  {
   "cell_type": "code",
   "execution_count": 1,
   "metadata": {},
   "outputs": [
    {
     "name": "stdout",
     "output_type": "stream",
     "text": [
      "a: 5\n",
      "b: 3\n"
     ]
    }
   ],
   "source": [
    "\n",
    "from functools import wraps\n",
    "\n",
    "def inject_variables(context):\n",
    "    \"\"\" Decorator factory. \"\"\"\n",
    "\n",
    "    def variable_injector(func):\n",
    "        \"\"\" Decorator. \"\"\"\n",
    "        @wraps(func)\n",
    "        def decorator(*args, **kwargs):\n",
    "            func_globals = func.__globals__\n",
    "\n",
    "            # Save copy of any global values that will be replaced.\n",
    "            saved_values = {key: func_globals[key] for key in context\n",
    "                                                        if key in func_globals}\n",
    "            func_globals.update(context)\n",
    "            try:\n",
    "                result = func(*args, **kwargs)\n",
    "            finally:\n",
    "                func_globals.update(saved_values)  # Restore replaced globals.\n",
    "\n",
    "            return result\n",
    "\n",
    "        return decorator\n",
    "\n",
    "    return variable_injector\n",
    "\n",
    "\n",
    "\n",
    "namespace = dict(a=5, b=3)\n",
    "\n",
    "@inject_variables(namespace)\n",
    "def test():\n",
    "    print('a:', a)\n",
    "    print('b:', b)\n",
    "\n",
    "test()"
   ]
  },
  {
   "cell_type": "code",
   "execution_count": 4,
   "metadata": {},
   "outputs": [],
   "source": [
    "from time import perf_counter\n",
    "\n",
    "def decorator_factory(loops_num):\n",
    "    def decorating(fn): #wrapped function\n",
    "        def inner(num):   \n",
    "            total_elapsed = 0\n",
    "            for i in range(loops_num):\n",
    "                start = perf_counter()\n",
    "                result = fn(num) #wrapped function\n",
    "                end = perf_counter()\n",
    "                total_elapsed += end - start\n",
    "            avg_run_time = total_elapsed/loops_num\n",
    "            print('result is', result)    \n",
    "            print('num of loops is', loops_num)\n",
    "            print('avg time elapsed', avg_run_time)\n",
    "        return inner\n",
    "    return decorating"
   ]
  },
  {
   "cell_type": "markdown",
   "metadata": {},
   "source": [
    "See that here we return both :\n",
    "- inner function \n",
    "- decorating function. \n",
    "\n",
    "What we are returning, is a decorator.<br>\n",
    "\n",
    "This enables the inner function to have access to some additional parameters<br>\n",
    "(e.g a, b) and use them."
   ]
  },
  {
   "cell_type": "code",
   "execution_count": 5,
   "metadata": {},
   "outputs": [
    {
     "name": "stdout",
     "output_type": "stream",
     "text": [
      "result is 24\n",
      "num of loops is 500\n",
      "avg time elapsed 6.25296000293929e-07\n"
     ]
    }
   ],
   "source": [
    "@decorator_factory(500)\n",
    "def calc_factorial2(num):\n",
    "    if num < 0:\n",
    "        raise ValueError('Please use a number not smaller than 0')\n",
    "    product = 1\n",
    "    for i in range(num):\n",
    "        product = product * (i+1)\n",
    "    return product\n",
    "\n",
    "calc_factorial2(4)"
   ]
  },
  {
   "cell_type": "markdown",
   "metadata": {},
   "source": [
    "## Class Decorator Factory\n",
    "Lets now look at an alternative way to generate the same behavior, but with a class.<br>\n",
    "\n",
    "A class is sometimes easier to make more complicated operations with,<br>\n",
    "\n",
    "and so its an important tool to have.<br>\n",
    "\n",
    "Lets do exactly what we did with the decorator factory function, this time with a class."
   ]
  },
  {
   "cell_type": "code",
   "execution_count": 6,
   "metadata": {},
   "outputs": [],
   "source": [
    "class Decorator_Factory_Class:\n",
    "    def __init__(self, num_loops):\n",
    "        self.num_loops = num_loops\n",
    "    def __call__(self, fn):\n",
    "          def inner(num):   \n",
    "            total_elapsed = 0\n",
    "            for i in range(self.num_loops):\n",
    "                start = perf_counter()\n",
    "                result = fn(num)\n",
    "                end = perf_counter()\n",
    "                total_elapsed += end - start\n",
    "            avg_run_time = total_elapsed/self.num_loops\n",
    "            print('num of loops is', self.num_loops)\n",
    "            return result\n",
    "          return inner"
   ]
  },
  {
   "cell_type": "code",
   "execution_count": 7,
   "metadata": {},
   "outputs": [
    {
     "name": "stdout",
     "output_type": "stream",
     "text": [
      "num of loops is 5\n"
     ]
    },
    {
     "data": {
      "text/plain": [
       "24"
      ]
     },
     "execution_count": 7,
     "metadata": {},
     "output_type": "execute_result"
    }
   ],
   "source": [
    "@Decorator_Factory_Class(5)\n",
    "def calc_factorial2(num):\n",
    "    if num < 0:\n",
    "        raise ValueError('Please use a number not smaller than 0')\n",
    "    product = 1\n",
    "    for i in range(num):\n",
    "        product = product * (i+1)\n",
    "    return product\n",
    "calc_factorial2(4)"
   ]
  }
 ],
 "metadata": {
  "interpreter": {
   "hash": "f22a20af907fde35ff19e1e892fdb271353fb19b11c7ebd774491472e685293c"
  },
  "kernelspec": {
   "display_name": "Python 3.9.7 64-bit",
   "language": "python",
   "name": "python3"
  },
  "language_info": {
   "codemirror_mode": {
    "name": "ipython",
    "version": 3
   },
   "file_extension": ".py",
   "mimetype": "text/x-python",
   "name": "python",
   "nbconvert_exporter": "python",
   "pygments_lexer": "ipython3",
   "version": "3.9.7"
  },
  "orig_nbformat": 4
 },
 "nbformat": 4,
 "nbformat_minor": 2
}
