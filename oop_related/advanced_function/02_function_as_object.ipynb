{
 "cells": [
  {
   "cell_type": "markdown",
   "metadata": {},
   "source": [
    "### Functions As Objects\n",
    "\n",
    "Many algorithms can be cleanly expressed using min, max, or sorted, along with an appropriate\n",
    "key function.<br>\n",
    "\n",
    "Sometimes a built-in (like int or abs) will provide what you need, but often you’ll\n",
    "want to create a custom function."
   ]
  },
  {
   "cell_type": "code",
   "execution_count": 1,
   "metadata": {},
   "outputs": [
    {
     "data": {
      "text/plain": [
       "[{'gpa': 3.4, 'major': 'literature', 'name': 'Zoe Fox'},\n",
       " {'gpa': 3.7, 'major': 'physics', 'name': 'Joe Smith'},\n",
       " {'gpa': 3.8, 'major': 'chemistry', 'name': 'Jane Jones'}]"
      ]
     },
     "execution_count": 1,
     "metadata": {},
     "output_type": "execute_result"
    }
   ],
   "source": [
    "student_joe = {'gpa': 3.7, 'major': 'physics','name': 'Joe Smith'}\n",
    "student_jane = {'gpa': 3.8, 'major': 'chemistry','name': 'Jane Jones'}\n",
    "student_zoe = {'gpa': 3.4, 'major': 'literature','name': 'Zoe Fox'}\n",
    "\n",
    "students= [student_jane,student_joe,student_zoe]\n",
    "\n",
    "def get_gpa(who:dict):\n",
    "    return who.get(\"gpa\")\n",
    "\n",
    "sorted(students,key=get_gpa)"
   ]
  },
  {
   "cell_type": "markdown",
   "metadata": {},
   "source": [
    "Alternatively, the **operator** module's ***itemgetter*** creates and<br>\n",
    "\n",
    "returns a key function that looks up a names dictionary field.\n",
    "\n"
   ]
  },
  {
   "cell_type": "code",
   "execution_count": 2,
   "metadata": {},
   "outputs": [
    {
     "data": {
      "text/plain": [
       "[{'gpa': 3.4, 'major': 'literature', 'name': 'Zoe Fox'},\n",
       " {'gpa': 3.7, 'major': 'physics', 'name': 'Joe Smith'},\n",
       " {'gpa': 3.8, 'major': 'chemistry', 'name': 'Jane Jones'}]"
      ]
     },
     "execution_count": 2,
     "metadata": {},
     "output_type": "execute_result"
    }
   ],
   "source": [
    "from operator import itemgetter\n",
    "sorted(students,key=itemgetter(\"gpa\"))"
   ]
  },
  {
   "cell_type": "code",
   "execution_count": 4,
   "metadata": {},
   "outputs": [
    {
     "data": {
      "text/plain": [
       "[{'gpa': 3.8, 'major': 'chemistry', 'name': 'Jane Jones'},\n",
       " {'gpa': 3.4, 'major': 'literature', 'name': 'Zoe Fox'},\n",
       " {'gpa': 3.7, 'major': 'physics', 'name': 'Joe Smith'}]"
      ]
     },
     "execution_count": 4,
     "metadata": {},
     "output_type": "execute_result"
    }
   ],
   "source": [
    "#new sort by major\n",
    "\n",
    "sorted(students,key=itemgetter(\"major\"))"
   ]
  },
  {
   "cell_type": "markdown",
   "metadata": {},
   "source": [
    "You can use itemgetter also for tuples and lists"
   ]
  },
  {
   "cell_type": "code",
   "execution_count": 7,
   "metadata": {},
   "outputs": [
    {
     "data": {
      "text/plain": [
       "[('Zoe Fox', 'literature', 3.4),\n",
       " ('Joe Smith', 'physics', 3.7),\n",
       " ('Jane Jones', 'chemistry', 3.8)]"
      ]
     },
     "execution_count": 7,
     "metadata": {},
     "output_type": "execute_result"
    }
   ],
   "source": [
    "student_rows = [\n",
    "(\"Joe Smith\", \"physics\", 3.7),\n",
    "(\"Jane Jones\", \"chemistry\", 3.8),\n",
    "(\"Zoe Fox\", \"literature\", 3.4),\n",
    "]\n",
    "\n",
    "sorted(student_rows,key=itemgetter(2)) #Note that it's not square bracket"
   ]
  },
  {
   "cell_type": "markdown",
   "metadata": {},
   "source": [
    "operator also provides \n",
    "- **attrgetter** for keying off an attribute of the element\n",
    "- **methodcaller** for keying off a method’s return value"
   ]
  },
  {
   "cell_type": "code",
   "execution_count": 8,
   "metadata": {},
   "outputs": [],
   "source": [
    "class Student:\n",
    "    def __init__(self,name,major,gpa):\n",
    "        self.name=name\n",
    "        self.major=major\n",
    "        self.gpa = gpa\n",
    "    \n",
    "    def __repr__(self):\n",
    "        return f\"{self.name}: {self.gpa}\"\n",
    "\n",
    "student_objs = [\n",
    " Student(\"Joe Smith\", \"physics\", 3.7),\n",
    " Student(\"Jane Jones\", \"chemistry\", 3.8),\n",
    " Student(\"Zoe Fox\", \"literature\", 3.4),\n",
    "]"
   ]
  },
  {
   "cell_type": "code",
   "execution_count": 11,
   "metadata": {},
   "outputs": [],
   "source": [
    "from operator import attrgetter\n",
    "students= sorted(student_objs, key=attrgetter(\"gpa\"))"
   ]
  },
  {
   "cell_type": "code",
   "execution_count": 13,
   "metadata": {},
   "outputs": [
    {
     "name": "stdout",
     "output_type": "stream",
     "text": [
      "Zoe Fox: 3.4\n",
      "literature\n"
     ]
    }
   ],
   "source": [
    "print(students[0])\n",
    "print(students[0].major)"
   ]
  },
  {
   "cell_type": "code",
   "execution_count": null,
   "metadata": {},
   "outputs": [],
   "source": []
  }
 ],
 "metadata": {
  "interpreter": {
   "hash": "3c774bbcc5b2f7006b3f86ef4be25d8d27188f10abfcd0877483362b5854f169"
  },
  "kernelspec": {
   "display_name": "Python 3.10.2 64-bit",
   "language": "python",
   "name": "python3"
  },
  "language_info": {
   "codemirror_mode": {
    "name": "ipython",
    "version": 3
   },
   "file_extension": ".py",
   "mimetype": "text/x-python",
   "name": "python",
   "nbconvert_exporter": "python",
   "pygments_lexer": "ipython3",
   "version": "3.10.2"
  },
  "orig_nbformat": 4
 },
 "nbformat": 4,
 "nbformat_minor": 2
}
