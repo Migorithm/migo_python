{
 "cells": [
  {
   "cell_type": "markdown",
   "metadata": {},
   "source": [
    "### accepting_and_passing_variable_argument"
   ]
  },
  {
   "cell_type": "code",
   "execution_count": 2,
   "metadata": {},
   "outputs": [],
   "source": [
    "#Note the asterisk, that's the magic part\n",
    "\n",
    "def takes_any_args(*args):\n",
    "    print(\"Type of args: \" +str(type(args)))\n",
    "    print(\"Value of args: \" +str(args))"
   ]
  },
  {
   "cell_type": "code",
   "execution_count": 3,
   "metadata": {},
   "outputs": [
    {
     "name": "stdout",
     "output_type": "stream",
     "text": [
      "Type of args: <class 'tuple'>\n",
      "Value of args: ('x', 'y', 'z')\n"
     ]
    }
   ],
   "source": [
    "takes_any_args(\"x\",\"y\",\"z\")"
   ]
  },
  {
   "cell_type": "code",
   "execution_count": 4,
   "metadata": {},
   "outputs": [
    {
     "name": "stdout",
     "output_type": "stream",
     "text": [
      "Type of args: <class 'tuple'>\n",
      "Value of args: (1,)\n"
     ]
    }
   ],
   "source": [
    "takes_any_args(1)"
   ]
  },
  {
   "cell_type": "code",
   "execution_count": 5,
   "metadata": {},
   "outputs": [
    {
     "name": "stdout",
     "output_type": "stream",
     "text": [
      "Type of args: <class 'tuple'>\n",
      "Value of args: (['first', 'list'], ['another', 'list'])\n"
     ]
    }
   ],
   "source": [
    "takes_any_args([\"first\",\"list\"],[\"another\",\"list\"])"
   ]
  },
  {
   "cell_type": "markdown",
   "metadata": {},
   "source": [
    "All the arguments passed in is treated as a tuple composed of those arguments in order.\n",
    "\n",
    "\n",
    "#### Argument Unpacking\n",
    "The star modifier works in the other direction too. "
   ]
  },
  {
   "cell_type": "code",
   "execution_count": 8,
   "metadata": {},
   "outputs": [],
   "source": [
    "def order_book(title,author,isbn):\n",
    "    \"\"\"\n",
    "    Place an order for a book\n",
    "    \"\"\"\n",
    "    print(f\"Ordering '{title}' by {author} ({isbn})\")\n",
    "    \n",
    "def get_required_textbook(class_id):\n",
    "    \"\"\"\n",
    "    Return tuple(title,author,ISBN)\n",
    "    \"\"\"\n",
    "    return \"title\",\"author\",\"ISBN\"\n",
    "    "
   ]
  },
  {
   "cell_type": "markdown",
   "metadata": {},
   "source": [
    "Imagine that you need to get a return from *get_required_textbook* function and put them into *order_book.*<br><br>\n",
    "\n",
    "you can do that by *function"
   ]
  },
  {
   "cell_type": "code",
   "execution_count": 9,
   "metadata": {},
   "outputs": [
    {
     "name": "stdout",
     "output_type": "stream",
     "text": [
      "Ordering 'title' by author (ISBN)\n"
     ]
    }
   ],
   "source": [
    "order_book(*get_required_textbook(1))"
   ]
  },
  {
   "cell_type": "markdown",
   "metadata": {},
   "source": [
    "#### Variable Keyword Arguments\n",
    "Keyword argument won't be captured by the *args idiom.<br>\n",
    "\n",
    "For that, use two asterisk intead of one. "
   ]
  },
  {
   "cell_type": "code",
   "execution_count": 10,
   "metadata": {},
   "outputs": [
    {
     "name": "stdout",
     "output_type": "stream",
     "text": [
      "hero -> Homer\n",
      "antihero -> Bart\n"
     ]
    }
   ],
   "source": [
    "def print_kwargs(**kwargs):\n",
    "    for key, value in kwargs.items():\n",
    "        print(f\"{key} -> {value}\")\n",
    "        \n",
    "print_kwargs(hero=\"Homer\",antihero=\"Bart\")"
   ]
  },
  {
   "cell_type": "markdown",
   "metadata": {},
   "source": [
    "#### Keyword unpacking\n",
    "Just like with *args, double-star works the other way too. "
   ]
  },
  {
   "cell_type": "code",
   "execution_count": 11,
   "metadata": {},
   "outputs": [
    {
     "name": "stdout",
     "output_type": "stream",
     "text": [
      "a: 7 b: 5 c: 3\n"
     ]
    }
   ],
   "source": [
    "def normal_function(a,b,c):\n",
    "    print(\"a: {} b: {} c: {}\".format(a,b,c))\n",
    "\n",
    "numbers= {\"a\":7,\"b\":5,\"c\":3}\n",
    "normal_function(**numbers)"
   ]
  },
  {
   "cell_type": "markdown",
   "metadata": {},
   "source": [
    "Note the keys of the dictionary must match up with how the function was declared. Otherwise you get\n",
    "an error:"
   ]
  },
  {
   "cell_type": "code",
   "execution_count": 12,
   "metadata": {},
   "outputs": [
    {
     "ename": "TypeError",
     "evalue": "normal_function() got an unexpected keyword argument 'z'",
     "output_type": "error",
     "traceback": [
      "\u001b[1;31m---------------------------------------------------------------------------\u001b[0m",
      "\u001b[1;31mTypeError\u001b[0m                                 Traceback (most recent call last)",
      "\u001b[1;32mc:\\migo_python\\oop_related\\advanced_function\\accepting_and_passing_variable_argument.ipynb Cell 15'\u001b[0m in \u001b[0;36m<module>\u001b[1;34m\u001b[0m\n\u001b[0;32m      <a href='vscode-notebook-cell:/c%3A/migo_python/oop_related/advanced_function/accepting_and_passing_variable_argument.ipynb#ch0000019?line=0'>1</a>\u001b[0m bad_numbers \u001b[39m=\u001b[39m {\u001b[39m\"\u001b[39m\u001b[39ma\u001b[39m\u001b[39m\"\u001b[39m: \u001b[39m7\u001b[39m, \u001b[39m\"\u001b[39m\u001b[39mb\u001b[39m\u001b[39m\"\u001b[39m: \u001b[39m5\u001b[39m, \u001b[39m\"\u001b[39m\u001b[39mz\u001b[39m\u001b[39m\"\u001b[39m: \u001b[39m3\u001b[39m}\n\u001b[1;32m----> <a href='vscode-notebook-cell:/c%3A/migo_python/oop_related/advanced_function/accepting_and_passing_variable_argument.ipynb#ch0000019?line=1'>2</a>\u001b[0m normal_function(\u001b[39m*\u001b[39m\u001b[39m*\u001b[39mbad_numbers)\n",
      "\u001b[1;31mTypeError\u001b[0m: normal_function() got an unexpected keyword argument 'z'"
     ]
    }
   ],
   "source": [
    "bad_numbers = {\"a\": 7, \"b\": 5, \"z\": 3}\n",
    "normal_function(**bad_numbers)"
   ]
  },
  {
   "cell_type": "markdown",
   "metadata": {},
   "source": [
    "#### Combining Positional and Keyword Arguments\n",
    "declaring a function like \n",
    "    \n",
    "    def general_function(*args, **kwargs)\n",
    "\n",
    "is the most general way to define a function in Python"
   ]
  }
 ],
 "metadata": {
  "interpreter": {
   "hash": "3c774bbcc5b2f7006b3f86ef4be25d8d27188f10abfcd0877483362b5854f169"
  },
  "kernelspec": {
   "display_name": "Python 3.10.2 64-bit",
   "language": "python",
   "name": "python3"
  },
  "language_info": {
   "codemirror_mode": {
    "name": "ipython",
    "version": 3
   },
   "file_extension": ".py",
   "mimetype": "text/x-python",
   "name": "python",
   "nbconvert_exporter": "python",
   "pygments_lexer": "ipython3",
   "version": "3.10.2"
  },
  "orig_nbformat": 4
 },
 "nbformat": 4,
 "nbformat_minor": 2
}
