{
 "cells": [
  {
   "cell_type": "markdown",
   "metadata": {},
   "source": [
    "### iter()\n",
    "\n",
    "Python has a built-in function called iter(). When you pass it a collection, you get back an iterator object:"
   ]
  },
  {
   "cell_type": "code",
   "execution_count": 1,
   "metadata": {},
   "outputs": [
    {
     "data": {
      "text/plain": [
       "<list_iterator at 0x20d06127ac0>"
      ]
     },
     "execution_count": 1,
     "metadata": {},
     "output_type": "execute_result"
    }
   ],
   "source": [
    "numbers = [7, 4, 11, 3]\n",
    "iter(numbers)"
   ]
  },
  {
   "cell_type": "code",
   "execution_count": 2,
   "metadata": {},
   "outputs": [
    {
     "name": "stdout",
     "output_type": "stream",
     "text": [
      "7\n",
      "4\n",
      "11\n",
      "3\n"
     ]
    }
   ],
   "source": [
    "numbers_iter=iter(numbers)\n",
    "for num in numbers_iter:\n",
    "    print(num)"
   ]
  },
  {
   "cell_type": "markdown",
   "metadata": {},
   "source": [
    "You don't normally need to do this. If you instead write:\n",
    "\n",
    "    for num in numbers:\n",
    "\n",
    "what python effectively does under the hood is call **iter()** on that collection.\n",
    "<br>\n",
    "\n",
    "How does iter() actually get the iterator? It can do this in several ways, but on relies on a magic method called **\\_\\_iter\\_\\_()**\n",
    "\n",
    "Python makes a distinction between objects which are iterators, and objects which are iterable. \n",
    "\n",
    "We say an object is iterable if and only if you can pass it to iter(), and get a ready-to-use iterator. If that object has an __iter__ method, iter() will call it to get the iterator.\n",
    "\n",
    "\n",
    "#### for loop\n",
    "\n",
    "A for loop is the most common way to step through a sequence. But sometimes your code needs to step through in a more fine-grained way. \n",
    "\n",
    "For this, use the built-in function *next()*. You normally call it with a single argument, which is an iterator. Each time you call it, next(my_iterator)\n",
    "fetches and returns the next element:"
   ]
  },
  {
   "cell_type": "code",
   "execution_count": 4,
   "metadata": {},
   "outputs": [
    {
     "name": "stdout",
     "output_type": "stream",
     "text": [
      "John\n",
      "Hunt\n",
      "Deckol\n"
     ]
    }
   ],
   "source": [
    "names= [\"John\",\"Hunt\",\"Deckol\"]\n",
    "\n",
    "names_it = iter(names)\n",
    "\n",
    "print(next(names_it))\n",
    "print(next(names_it))\n",
    "print(next(names_it))\n"
   ]
  },
  {
   "cell_type": "code",
   "execution_count": 5,
   "metadata": {},
   "outputs": [
    {
     "ename": "StopIteration",
     "evalue": "",
     "output_type": "error",
     "traceback": [
      "\u001b[1;31m---------------------------------------------------------------------------\u001b[0m",
      "\u001b[1;31mStopIteration\u001b[0m                             Traceback (most recent call last)",
      "\u001b[1;32mc:\\migo_python\\oop_related\\__iter__.ipynb Cell 6'\u001b[0m in \u001b[0;36m<module>\u001b[1;34m\u001b[0m\n\u001b[0;32m      <a href='vscode-notebook-cell:/c%3A/migo_python/oop_related/__iter__.ipynb#ch0000004?line=0'>1</a>\u001b[0m \u001b[39m#What happens? if you call print(next(names_it)) again? \u001b[39;00m\n\u001b[1;32m----> <a href='vscode-notebook-cell:/c%3A/migo_python/oop_related/__iter__.ipynb#ch0000004?line=1'>2</a>\u001b[0m \u001b[39mprint\u001b[39m(\u001b[39mnext\u001b[39;49m(names_it))\n",
      "\u001b[1;31mStopIteration\u001b[0m: "
     ]
    }
   ],
   "source": [
    "#What happens? if you call print(next(names_it)) again? \n",
    "print(next(names_it))\n"
   ]
  },
  {
   "cell_type": "markdown",
   "metadata": {},
   "source": [
    "next() will raise a special built-in exception, called StopIteration:\n",
    "\n",
    "When using next() yourself, you can provide a second argument, for the default value. If you do, next() will return that instead of raising StopIteration at the end:"
   ]
  },
  {
   "cell_type": "code",
   "execution_count": 6,
   "metadata": {},
   "outputs": [
    {
     "name": "stdout",
     "output_type": "stream",
     "text": [
      "Tom\n",
      "Shelly\n",
      "Garth\n",
      "Rick\n"
     ]
    }
   ],
   "source": [
    "names = [\"Tom\", \"Shelly\", \"Garth\"]\n",
    "new_names_it = iter(names)\n",
    "print(next(new_names_it,\"Rick\"))\n",
    "print(next(new_names_it,\"Rick\"))\n",
    "print(next(new_names_it,\"Rick\"))\n",
    "print(next(new_names_it,\"Rick\"))\n"
   ]
  },
  {
   "cell_type": "code",
   "execution_count": 7,
   "metadata": {},
   "outputs": [
    {
     "ename": "StopIteration",
     "evalue": "",
     "output_type": "error",
     "traceback": [
      "\u001b[1;31m---------------------------------------------------------------------------\u001b[0m",
      "\u001b[1;31mStopIteration\u001b[0m                             Traceback (most recent call last)",
      "\u001b[1;32mc:\\migo_python\\oop_related\\__iter__.ipynb Cell 9'\u001b[0m in \u001b[0;36m<module>\u001b[1;34m\u001b[0m\n\u001b[1;32m----> <a href='vscode-notebook-cell:/c%3A/migo_python/oop_related/__iter__.ipynb#ch0000006?line=0'>1</a>\u001b[0m \u001b[39mprint\u001b[39m(\u001b[39mnext\u001b[39;49m(new_names_it))\n",
      "\u001b[1;31mStopIteration\u001b[0m: "
     ]
    }
   ],
   "source": [
    "print(next(new_names_it))"
   ]
  },
  {
   "cell_type": "code",
   "execution_count": 8,
   "metadata": {},
   "outputs": [
    {
     "name": "stdout",
     "output_type": "stream",
     "text": [
      "Errick\n"
     ]
    }
   ],
   "source": [
    "print(next(new_names_it,\"Errick\"))"
   ]
  },
  {
   "cell_type": "markdown",
   "metadata": {},
   "source": [
    "### Memory footprint of sequence"
   ]
  },
  {
   "cell_type": "code",
   "execution_count": 9,
   "metadata": {},
   "outputs": [
    {
     "name": "stdout",
     "output_type": "stream",
     "text": [
      "0\n",
      "1\n",
      "4\n",
      "9\n",
      "16\n"
     ]
    }
   ],
   "source": [
    "def fetch_squares(max_root):\n",
    "    squares=[]\n",
    "    for n in range(max_root):\n",
    "        squares.append(n**2)\n",
    "    return squares\n",
    "\n",
    "MAX = 5\n",
    "\n",
    "for square in fetch_squares(MAX):\n",
    "    print(square)"
   ]
  },
  {
   "cell_type": "markdown",
   "metadata": {},
   "source": [
    "This works fine. But what if **MAX** is not just 5 but 1000000000? Your memory footprint is pointelessly dreadful. There's gonna be a massive list, uses it once and throw it away. <br><br>\n",
    "\n",
    "To top it off, the second loop (for square in fetch_squares(1000000000)) cannot even start until the entire list of squares has been fully calculated. <br><br>\n",
    "\n",
    "The solution is to create an iterator to start with, lazily computing each value only when needed. Then each cycle through the loop happens just in time."
   ]
  },
  {
   "cell_type": "code",
   "execution_count": 11,
   "metadata": {},
   "outputs": [
    {
     "name": "stdout",
     "output_type": "stream",
     "text": [
      "0\n",
      "1\n",
      "4\n",
      "9\n",
      "16\n"
     ]
    }
   ],
   "source": [
    "class SquaresIterator:\n",
    "    def __init__(self,max_root_value):\n",
    "        self.max_root_value = max_root_value\n",
    "        self.current_root_value=0\n",
    "    def __iter__(self):\n",
    "        return self\n",
    "    def __next__(self):\n",
    "        if self.current_root_value >= self.max_root_value:\n",
    "            raise StopIteration\n",
    "        square_value = self.current_root_value**2\n",
    "        self.current_root_value +=1\n",
    "        return square_value\n",
    "\n",
    "#you can use it like this\n",
    "for square in SquaresIterator(5):\n",
    "    print(square)"
   ]
  },
  {
   "cell_type": "markdown",
   "metadata": {},
   "source": [
    "### It's way too mouthful. There's got to be a better way; and here comes generator."
   ]
  },
  {
   "cell_type": "code",
   "execution_count": 12,
   "metadata": {},
   "outputs": [
    {
     "name": "stdout",
     "output_type": "stream",
     "text": [
      "0\n",
      "1\n",
      "2\n",
      "3\n"
     ]
    }
   ],
   "source": [
    "def gen_nums():\n",
    "    n = 0\n",
    "    while n < 4:\n",
    "        yield n\n",
    "        n += 1\n",
    "\n",
    "for num in gen_nums():\n",
    "    print(num)"
   ]
  },
  {
   "cell_type": "code",
   "execution_count": 18,
   "metadata": {},
   "outputs": [
    {
     "data": {
      "text/plain": [
       "generator"
      ]
     },
     "execution_count": 18,
     "metadata": {},
     "output_type": "execute_result"
    }
   ],
   "source": [
    "#When you call gen_nums() like a function, it immediately returns a generator object:\n",
    "\n",
    "sequence = gen_nums()\n",
    "type(sequence)"
   ]
  },
  {
   "cell_type": "markdown",
   "metadata": {},
   "source": [
    "A function is a generator function if and only if it uses \"yield\" instead of \"return\"."
   ]
  },
  {
   "cell_type": "code",
   "execution_count": 19,
   "metadata": {},
   "outputs": [
    {
     "name": "stdout",
     "output_type": "stream",
     "text": [
      "0\n",
      "1\n",
      "2\n",
      "3\n",
      "Bicky\n"
     ]
    }
   ],
   "source": [
    "print(next(sequence))\n",
    "print(next(sequence))\n",
    "print(next(sequence))\n",
    "print(next(sequence))\n",
    "print(next(sequence,\"Bicky\"))"
   ]
  },
  {
   "cell_type": "markdown",
   "metadata": {},
   "source": [
    "So far, this is much like a regular function. But the next time next() is called - or, equivalently, the next time through the for loop - the function doesn’t start at the beginning again. \n",
    "\n",
    "It starts on the line AFTER the yield statement. Let's look at the gen_nums() again:"
   ]
  },
  {
   "cell_type": "code",
   "execution_count": 20,
   "metadata": {},
   "outputs": [],
   "source": [
    "def gen_nums():\n",
    "    n = 0\n",
    "    while n < 4:\n",
    "        yield n\n",
    "        n += 1"
   ]
  },
  {
   "cell_type": "markdown",
   "metadata": {},
   "source": [
    "gen_num() is more than a function; but coroutine;<br>\n",
    "\n",
    "Coroutin is like a function except it has several possible entry points.<br>\n",
    "It starts with the first line, like a normal function. But when it \"returns\",<br>\n",
    "the coroutine isn't existing, so much as ***pausing***. \n",
    "\n",
    "Subsequent calls with next() start at that yield statement again, right where it left off; the re-entry point is the line after the yield statement. And that's the key:\n",
    "\n",
    "    Each yield statement simultaneously defines an exit point, and a re-entry\n",
    "    point.\n",
    "    \n",
    "Plus, In fact, you can have multiple yield statements in a generator:"
   ]
  },
  {
   "cell_type": "code",
   "execution_count": 21,
   "metadata": {},
   "outputs": [],
   "source": [
    "def gen_extra_nums():\n",
    "    n = 0\n",
    "    while n < 4:\n",
    "        yield n\n",
    "        n += 1\n",
    "    yield 42 # Second yield"
   ]
  },
  {
   "cell_type": "code",
   "execution_count": 22,
   "metadata": {},
   "outputs": [
    {
     "name": "stdout",
     "output_type": "stream",
     "text": [
      "0\n",
      "1\n",
      "2\n",
      "3\n",
      "42\n"
     ]
    }
   ],
   "source": [
    "for num in gen_extra_nums():\n",
    "    print(num)"
   ]
  },
  {
   "cell_type": "markdown",
   "metadata": {},
   "source": [
    "Let’s revisit the earlier example, of cycling through a sequence of squares.<br>\n",
    "\n",
    "This is how we first did it.\n"
   ]
  },
  {
   "cell_type": "code",
   "execution_count": 26,
   "metadata": {},
   "outputs": [
    {
     "name": "stdout",
     "output_type": "stream",
     "text": [
      "\n",
      "0\n",
      "1\n",
      "4\n",
      "9\n",
      "16\n"
     ]
    }
   ],
   "source": [
    "def fetch_squares(max_root):\n",
    "    squares = []\n",
    "    for n in range(max_root):\n",
    "        squares.append(n**2)\n",
    "    return squares\n",
    "MAX = 5\n",
    "print()\n",
    "for square in fetch_squares(MAX):\n",
    "    print(square)"
   ]
  },
  {
   "cell_type": "code",
   "execution_count": 27,
   "metadata": {},
   "outputs": [
    {
     "name": "stdout",
     "output_type": "stream",
     "text": [
      "0\n",
      "1\n",
      "4\n",
      "9\n",
      "16\n"
     ]
    }
   ],
   "source": [
    "#see if you can write a gen_squares generator function that accomplishes the same thing.\n",
    "\n",
    "def fetch_squares(max_root):\n",
    "    for n in range(max_root):\n",
    "        yield n**2\n",
    "\n",
    "for square in fetch_squares(5):\n",
    "    print(square)"
   ]
  },
  {
   "cell_type": "markdown",
   "metadata": {},
   "source": [
    "let’s look at the SquaresIterator class again:"
   ]
  },
  {
   "cell_type": "code",
   "execution_count": null,
   "metadata": {},
   "outputs": [],
   "source": []
  },
  {
   "cell_type": "code",
   "execution_count": null,
   "metadata": {},
   "outputs": [],
   "source": []
  },
  {
   "cell_type": "code",
   "execution_count": null,
   "metadata": {},
   "outputs": [],
   "source": []
  }
 ],
 "metadata": {
  "interpreter": {
   "hash": "3c774bbcc5b2f7006b3f86ef4be25d8d27188f10abfcd0877483362b5854f169"
  },
  "kernelspec": {
   "display_name": "Python 3.10.2 64-bit",
   "language": "python",
   "name": "python3"
  },
  "language_info": {
   "codemirror_mode": {
    "name": "ipython",
    "version": 3
   },
   "file_extension": ".py",
   "mimetype": "text/x-python",
   "name": "python",
   "nbconvert_exporter": "python",
   "pygments_lexer": "ipython3",
   "version": "3.10.2"
  },
  "orig_nbformat": 4
 },
 "nbformat": 4,
 "nbformat_minor": 2
}
