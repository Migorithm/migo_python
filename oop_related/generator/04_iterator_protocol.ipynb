{
 "cells": [
  {
   "cell_type": "markdown",
   "metadata": {},
   "source": [
    "### The Iterator Protocol\n",
    "\n",
    "Python makes a distinction between iterators, versus objects that are iterable.<br><br>\n",
    "\n",
    "Informally, an iterator is something you can pass to next(), or use exactly once in a for loop.<br><br>\n",
    "\n",
    "More formally, an object in Python 3 is an iterator if follows the iterator protocol: \n",
    "- It defines a method named \\_\\_next\\_\\_, called with no arguments.\n",
    "- Each time \\_\\_next\\_\\_() is called, it produces the next item in the sequence.\n",
    "- All items have been produced. Then, subsequent calls to \\_\\_next\\_\\_() raise StopIteration.\n",
    "- It also defines a boilerplate method named \\_\\_iter\\_\\_, called with no arguments, and returning\n",
    "the same iterator. Its body is literally *return self*.\n"
   ]
  },
  {
   "cell_type": "code",
   "execution_count": 1,
   "metadata": {},
   "outputs": [],
   "source": [
    "class UniqueList:\n",
    "    def __init__(self, items):\n",
    "        self.items = []\n",
    "        for item in items:\n",
    "            self.append(item)\n",
    "    def append(self, item):\n",
    "        if item not in self.items:\n",
    "            self.items.append(item)\n",
    "    def __getitem__(self, index):\n",
    "        return self.items[index]"
   ]
  },
  {
   "cell_type": "code",
   "execution_count": 2,
   "metadata": {},
   "outputs": [],
   "source": [
    "u_iter = iter(UniqueList([1,2,3,4,5])) #See, we put object not just list."
   ]
  },
  {
   "cell_type": "code",
   "execution_count": 3,
   "metadata": {},
   "outputs": [
    {
     "data": {
      "text/plain": [
       "iterator"
      ]
     },
     "execution_count": 3,
     "metadata": {},
     "output_type": "execute_result"
    }
   ],
   "source": [
    "type(u_iter)"
   ]
  },
  {
   "cell_type": "code",
   "execution_count": 4,
   "metadata": {},
   "outputs": [
    {
     "name": "stdout",
     "output_type": "stream",
     "text": [
      "1\n",
      "2\n",
      "3\n",
      "4\n",
      "5\n"
     ]
    }
   ],
   "source": [
    "for num in u_iter:\n",
    "    print(num)"
   ]
  },
  {
   "cell_type": "code",
   "execution_count": null,
   "metadata": {},
   "outputs": [],
   "source": []
  },
  {
   "cell_type": "code",
   "execution_count": null,
   "metadata": {},
   "outputs": [],
   "source": []
  }
 ],
 "metadata": {
  "interpreter": {
   "hash": "3c774bbcc5b2f7006b3f86ef4be25d8d27188f10abfcd0877483362b5854f169"
  },
  "kernelspec": {
   "display_name": "Python 3.10.2 64-bit",
   "language": "python",
   "name": "python3"
  },
  "language_info": {
   "codemirror_mode": {
    "name": "ipython",
    "version": 3
   },
   "file_extension": ".py",
   "mimetype": "text/x-python",
   "name": "python",
   "nbconvert_exporter": "python",
   "pygments_lexer": "ipython3",
   "version": "3.10.2"
  },
  "orig_nbformat": 4
 },
 "nbformat": 4,
 "nbformat_minor": 2
}
