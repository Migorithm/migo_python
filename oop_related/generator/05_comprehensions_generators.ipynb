{
 "cells": [
  {
   "cell_type": "markdown",
   "metadata": {},
   "source": [
    "### Comprehensions and Generators\n",
    "\n",
    "List comprehensions create lists:"
   ]
  },
  {
   "cell_type": "code",
   "execution_count": 1,
   "metadata": {},
   "outputs": [
    {
     "data": {
      "text/plain": [
       "list"
      ]
     },
     "execution_count": 1,
     "metadata": {},
     "output_type": "execute_result"
    }
   ],
   "source": [
    "squares = [ n*n for n in range(6) ]\n",
    "type(squares)\n"
   ]
  },
  {
   "cell_type": "markdown",
   "metadata": {},
   "source": [
    "When you need a list, that's great but sometimes you don't need them. "
   ]
  },
  {
   "cell_type": "code",
   "execution_count": 2,
   "metadata": {},
   "outputs": [
    {
     "name": "stdout",
     "output_type": "stream",
     "text": [
      "Memory (before): [76.5078125]MB\n",
      "Memory (after): [457.96484375]MB\n",
      "Took 0.5794539451599121 seconds\n"
     ]
    }
   ],
   "source": [
    "import memory_profiler as mem_profile\n",
    "import time\n",
    "\n",
    "NUM_SQUARES=10*1000*1000\n",
    "\n",
    "print(\"Memory (before): {}MB\".format(mem_profile.memory_usage()))\n",
    "t1 = time.time()\n",
    "many_squares = [n*n for n in range(NUM_SQUARES)]\n",
    "t2 = time.time()\n",
    "print(\"Memory (after): {}MB\".format(mem_profile.memory_usage()))\n",
    "print(\"Took {} seconds\".format(t2-t1))"
   ]
  },
  {
   "cell_type": "code",
   "execution_count": 3,
   "metadata": {},
   "outputs": [
    {
     "name": "stdout",
     "output_type": "stream",
     "text": [
      "Memory (before): [457.97265625]MB\n",
      "Memory (after): [80.62890625]MB\n",
      "Took 0.07399916648864746 seconds\n"
     ]
    }
   ],
   "source": [
    "print(\"Memory (before): {}MB\".format(mem_profile.memory_usage()))\n",
    "t1 = time.time()\n",
    "many_squares = (n*n for n in range(NUM_SQUARES))\n",
    "t2 = time.time()\n",
    "print(\"Memory (after): {}MB\".format(mem_profile.memory_usage()))\n",
    "print(\"Took {} seconds\".format(t2-t1))"
   ]
  },
  {
   "cell_type": "code",
   "execution_count": 4,
   "metadata": {},
   "outputs": [
    {
     "data": {
      "text/plain": [
       "generator"
      ]
     },
     "execution_count": 4,
     "metadata": {},
     "output_type": "execute_result"
    }
   ],
   "source": [
    "type(many_squares)"
   ]
  },
  {
   "cell_type": "markdown",
   "metadata": {},
   "source": [
    "Any list comprehension you can write, you can use to create an equivalent generator object, just by swapping \"(\" and \")\" for \"[\" and \"]\"."
   ]
  },
  {
   "cell_type": "markdown",
   "metadata": {},
   "source": [
    "### Generator Expression or List Comprehension?\n",
    "\n",
    "If generator expressions are so great, why would you use list comprehensions? Generally speaking, when deciding which to use, your code will be more scalable and responsive if you use a generator expression. Except, of course, when you actually need a list. There are several considerations.\n",
    "\n",
    "- If the sequence is unlikely to be very big(minimum of thousands elements long)\n",
    "- If you need mutability -- if you need random access or you might need to append or remove element, use list."
   ]
  },
  {
   "cell_type": "code",
   "execution_count": null,
   "metadata": {},
   "outputs": [],
   "source": []
  },
  {
   "cell_type": "code",
   "execution_count": null,
   "metadata": {},
   "outputs": [],
   "source": []
  },
  {
   "cell_type": "code",
   "execution_count": null,
   "metadata": {},
   "outputs": [],
   "source": []
  }
 ],
 "metadata": {
  "interpreter": {
   "hash": "3c774bbcc5b2f7006b3f86ef4be25d8d27188f10abfcd0877483362b5854f169"
  },
  "kernelspec": {
   "display_name": "Python 3.10.2 64-bit",
   "language": "python",
   "name": "python3"
  },
  "language_info": {
   "codemirror_mode": {
    "name": "ipython",
    "version": 3
   },
   "file_extension": ".py",
   "mimetype": "text/x-python",
   "name": "python",
   "nbconvert_exporter": "python",
   "pygments_lexer": "ipython3",
   "version": "3.10.2"
  },
  "orig_nbformat": 4
 },
 "nbformat": 4,
 "nbformat_minor": 2
}
