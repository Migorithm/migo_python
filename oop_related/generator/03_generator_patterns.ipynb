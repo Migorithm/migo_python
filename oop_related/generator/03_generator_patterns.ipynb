{
 "cells": [
  {
   "cell_type": "markdown",
   "metadata": {},
   "source": [
    "### Generator Patterns and Scalable Composability\n",
    "\n",
    "Here's a little generator function"
   ]
  },
  {
   "cell_type": "code",
   "execution_count": 1,
   "metadata": {},
   "outputs": [],
   "source": [
    "def matching_line_from_file(path,pattern):\n",
    "    with open(path) as handle:\n",
    "        for line in handle:\n",
    "            if pattern in line:\n",
    "                yield line.rstrip('\\n')"
   ]
  },
  {
   "cell_type": "markdown",
   "metadata": {},
   "source": [
    "When writing generator functions, you want to ask yourself \n",
    "    \n",
    "    \"what is the maximum memory footprint of this function, and how can I minimize it?\" \n",
    "    \n",
    "You can think of scalability as inversely proportional to this footprint. <br>\n",
    "For matching_lines_from_file(), it will be about equal to the size of the longest line in the text file.<br><br>\n",
    "\n",
    "Now, suppose a log file contains lines like this:"
   ]
  },
  {
   "cell_type": "code",
   "execution_count": 2,
   "metadata": {},
   "outputs": [
    {
     "name": "stdout",
     "output_type": "stream",
     "text": [
      "\u001b[0mWARNING\u001b[0m\u001b[1;33m:\u001b[0m \u001b[0mDisk\u001b[0m \u001b[0musage\u001b[0m \u001b[0mexceeding\u001b[0m \u001b[1;36m85\u001b[0m\u001b[1;33m%\u001b[0m\u001b[1;33m\n",
      "\u001b[0m\u001b[0mDEBUG\u001b[0m\u001b[1;33m:\u001b[0m \u001b[0mUser\u001b[0m \u001b[1;34m'tinytim'\u001b[0m \u001b[0mupgraded\u001b[0m \u001b[0mto\u001b[0m \u001b[0mPro\u001b[0m \u001b[0mversion\u001b[0m\u001b[1;33m\n",
      "\u001b[0m\u001b[0mINFO\u001b[0m\u001b[1;33m:\u001b[0m \u001b[0mSent\u001b[0m \u001b[0memail\u001b[0m \u001b[0mcampaign\u001b[0m\u001b[1;33m,\u001b[0m \u001b[0mcompleted\u001b[0m \u001b[0mnormally\u001b[0m\u001b[1;33m\n",
      "\u001b[0m\u001b[0mWARNING\u001b[0m\u001b[1;33m:\u001b[0m \u001b[0mAlmost\u001b[0m \u001b[0mout\u001b[0m \u001b[0mof\u001b[0m \u001b[0mbeer\u001b[0m\u001b[1;33m\u001b[0m\u001b[1;33m\u001b[0m\u001b[0m\n"
     ]
    }
   ],
   "source": [
    "%pycat log.txt"
   ]
  },
  {
   "cell_type": "code",
   "execution_count": 3,
   "metadata": {},
   "outputs": [
    {
     "name": "stdout",
     "output_type": "stream",
     "text": [
      "WARNING: Disk usage exceeding 85%\n",
      "WARNING: Almost out of beer\n"
     ]
    }
   ],
   "source": [
    "for line in matching_line_from_file(\"log.txt\",\"WARNING:\"):\n",
    "    print(line)"
   ]
  }
 ],
 "metadata": {
  "interpreter": {
   "hash": "3c774bbcc5b2f7006b3f86ef4be25d8d27188f10abfcd0877483362b5854f169"
  },
  "kernelspec": {
   "display_name": "Python 3.10.2 64-bit",
   "language": "python",
   "name": "python3"
  },
  "language_info": {
   "codemirror_mode": {
    "name": "ipython",
    "version": 3
   },
   "file_extension": ".py",
   "mimetype": "text/x-python",
   "name": "python",
   "nbconvert_exporter": "python",
   "pygments_lexer": "ipython3",
   "version": "3.10.2"
  },
  "orig_nbformat": 4
 },
 "nbformat": 4,
 "nbformat_minor": 2
}
