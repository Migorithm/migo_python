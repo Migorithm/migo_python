{
 "cells": [
  {
   "cell_type": "markdown",
   "metadata": {},
   "source": [
    "### Why generator?\n",
    "- It's faster\n",
    "- Hold smaller memory footprint"
   ]
  },
  {
   "cell_type": "code",
   "execution_count": 5,
   "metadata": {},
   "outputs": [],
   "source": [
    "def square_numbers(nums):\n",
    "    result =[]\n",
    "    for i in nums:\n",
    "        result.append(i*i)\n",
    "    return result"
   ]
  },
  {
   "cell_type": "code",
   "execution_count": 6,
   "metadata": {},
   "outputs": [
    {
     "name": "stdout",
     "output_type": "stream",
     "text": [
      "[1, 4, 9, 16, 25]\n"
     ]
    }
   ],
   "source": [
    "my_nums = square_numbers([1,2,3,4,5])\n",
    "print(my_nums)"
   ]
  },
  {
   "cell_type": "code",
   "execution_count": 7,
   "metadata": {},
   "outputs": [],
   "source": [
    "#Generator version\n",
    "def square_numbers(nums):\n",
    "    for i in nums:\n",
    "        yield i*i"
   ]
  },
  {
   "cell_type": "code",
   "execution_count": 9,
   "metadata": {},
   "outputs": [
    {
     "name": "stdout",
     "output_type": "stream",
     "text": [
      "<generator object square_numbers at 0x10c2e6030>\n"
     ]
    }
   ],
   "source": [
    "\n",
    "my_nums = square_numbers([1,2,3,4,5])\n",
    "print(my_nums)"
   ]
  },
  {
   "cell_type": "markdown",
   "metadata": {},
   "source": [
    "You got geneator object above.<br>\n",
    "The reason for this is generator objects don't hold the entire result in memory.<br>\n",
    "It yields one result at a time. So, it hasn't computed anything yet.<br>\n",
    "<br>\n",
    "***But, if you do the following, you get the result***"
   ]
  },
  {
   "cell_type": "code",
   "execution_count": 10,
   "metadata": {},
   "outputs": [
    {
     "name": "stdout",
     "output_type": "stream",
     "text": [
      "1\n"
     ]
    }
   ],
   "source": [
    "print(next(my_nums))"
   ]
  },
  {
   "cell_type": "code",
   "execution_count": 11,
   "metadata": {},
   "outputs": [
    {
     "name": "stdout",
     "output_type": "stream",
     "text": [
      "4\n"
     ]
    }
   ],
   "source": [
    "print(next(my_nums))"
   ]
  },
  {
   "cell_type": "code",
   "execution_count": 12,
   "metadata": {},
   "outputs": [
    {
     "name": "stdout",
     "output_type": "stream",
     "text": [
      "9\n",
      "16\n",
      "25\n"
     ]
    }
   ],
   "source": [
    "for i in my_nums:\n",
    "    print(i)"
   ]
  },
  {
   "cell_type": "markdown",
   "metadata": {},
   "source": [
    "### Comprehension"
   ]
  },
  {
   "cell_type": "code",
   "execution_count": 13,
   "metadata": {},
   "outputs": [
    {
     "name": "stdout",
     "output_type": "stream",
     "text": [
      "[1, 4, 9, 16, 25]\n"
     ]
    }
   ],
   "source": [
    "#List version\n",
    "my_nums = [x*x for x in [1,2,3,4,5]]\n",
    "print(my_nums)"
   ]
  },
  {
   "cell_type": "code",
   "execution_count": 15,
   "metadata": {},
   "outputs": [
    {
     "name": "stdout",
     "output_type": "stream",
     "text": [
      "<generator object <genexpr> at 0x10c2e6f80>\n"
     ]
    }
   ],
   "source": [
    "#Generator\n",
    "my_nums = (x*x for x in [1,2,3,4,5])\n",
    "print(my_nums)"
   ]
  },
  {
   "cell_type": "markdown",
   "metadata": {},
   "source": [
    "### Performance comparison\n"
   ]
  },
  {
   "cell_type": "code",
   "execution_count": 2,
   "metadata": {},
   "outputs": [],
   "source": [
    "import memory_profiler as mem_profile\n",
    "import random, time\n"
   ]
  },
  {
   "cell_type": "code",
   "execution_count": 12,
   "metadata": {},
   "outputs": [
    {
     "name": "stdout",
     "output_type": "stream",
     "text": [
      "Memory (before): [72.62890625]MB\n",
      "Memory (After): [337.2734375]Mb\n",
      "Took 1.3832800388336182 seconds\n"
     ]
    }
   ],
   "source": [
    "names= [\"John\",\"Corey\",\"Adam\",\"Steve\",\"Rick\",\"Thomas\"]\n",
    "majors=[\"Math\",\"Engineering\",\"CompSci\",\"Arts\",\"Business\"]\n",
    "print(\"Memory (before): {}MB\".format(mem_profile.memory_usage()))\n",
    "\n",
    "#List\n",
    "def people_list(num_people):\n",
    "    result=[]\n",
    "    for i in range(num_people):\n",
    "        person = {\n",
    "            \"id\":i,\n",
    "            \"name\": random.choice(names),\n",
    "            \"major\":random.choice(majors)\n",
    "        }\n",
    "        result.append(person)\n",
    "    return result\n",
    "\n",
    "def people_generator(num_people):\n",
    "    for i in range(num_people):\n",
    "        person = {\n",
    "            \"id\":i,\n",
    "            \"name\": random.choice(names),\n",
    "            \"major\":random.choice(majors)\n",
    "        }\n",
    "        yield person\n",
    "\n",
    "t1 = time.time()\n",
    "people = people_list(1000000)\n",
    "t2 = time.time()\n",
    "\n",
    "print(\"Memory (After): {}Mb\".format(mem_profile.memory_usage()))\n",
    "print(\"Took {} seconds\".format(t2-t1))\n"
   ]
  },
  {
   "cell_type": "code",
   "execution_count": 14,
   "metadata": {},
   "outputs": [
    {
     "name": "stdout",
     "output_type": "stream",
     "text": [
      "Memory (before): [81.05078125]MB\n",
      "Memory (after): [81.05078125]MB\n",
      "Took 6.127357482910156e-05 seconds\n"
     ]
    }
   ],
   "source": [
    "print(\"Memory (before): {}MB\".format(mem_profile.memory_usage()))\n",
    "t1 = time.time()\n",
    "people = people_generator(1000000)\n",
    "t2 = time.time()\n",
    "print(\"Memory (after): {}MB\".format(mem_profile.memory_usage()))\n",
    "print(\"Took {} seconds\".format(t2-t1))"
   ]
  },
  {
   "cell_type": "markdown",
   "metadata": {},
   "source": [
    "You can see here, I saved a lot of time and memory as generator actually doesn't hold those values in memory;<br>\n",
    "It's just waiting for me to grab the next one or loop through those and it would give me those one at a time. "
   ]
  }
 ],
 "metadata": {
  "interpreter": {
   "hash": "aee8b7b246df8f9039afb4144a1f6fd8d2ca17a180786b69acc140d282b71a49"
  },
  "kernelspec": {
   "display_name": "Python 3.10.0 64-bit",
   "language": "python",
   "name": "python3"
  },
  "language_info": {
   "codemirror_mode": {
    "name": "ipython",
    "version": 3
   },
   "file_extension": ".py",
   "mimetype": "text/x-python",
   "name": "python",
   "nbconvert_exporter": "python",
   "pygments_lexer": "ipython3",
   "version": "3.9.7"
  },
  "orig_nbformat": 4
 },
 "nbformat": 4,
 "nbformat_minor": 2
}
