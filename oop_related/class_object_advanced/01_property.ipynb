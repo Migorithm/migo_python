{
 "cells": [
  {
   "cell_type": "markdown",
   "metadata": {},
   "source": [
    "## Properties\n",
    "\n",
    "It's a special sort of object attribute; almost a cross between a method and an attritube. "
   ]
  },
  {
   "cell_type": "code",
   "execution_count": 1,
   "metadata": {},
   "outputs": [],
   "source": [
    "#example\n",
    "\n",
    "class Person:\n",
    "    def __init__(self, firstname, lastname):\n",
    "        self.firstname = firstname\n",
    "        self.lastname = lastname\n",
    "    @property\n",
    "    def fullname(self):\n",
    "        return self.firstname + \" \" + self.lastname"
   ]
  },
  {
   "cell_type": "code",
   "execution_count": 2,
   "metadata": {},
   "outputs": [
    {
     "data": {
      "text/plain": [
       "'Joe Smith'"
      ]
     },
     "execution_count": 2,
     "metadata": {},
     "output_type": "execute_result"
    }
   ],
   "source": [
    "joe = Person(\"Joe\",\"Smith\")\n",
    "joe.fullname"
   ]
  },
  {
   "cell_type": "code",
   "execution_count": 3,
   "metadata": {},
   "outputs": [
    {
     "ename": "TypeError",
     "evalue": "'str' object is not callable",
     "output_type": "error",
     "traceback": [
      "\u001b[1;31m---------------------------------------------------------------------------\u001b[0m",
      "\u001b[1;31mTypeError\u001b[0m                                 Traceback (most recent call last)",
      "\u001b[1;32mc:\\migo_python\\oop_related\\class_object_advanced\\01_property.ipynb Cell 4'\u001b[0m in \u001b[0;36m<module>\u001b[1;34m\u001b[0m\n\u001b[1;32m----> <a href='vscode-notebook-cell:/c%3A/migo_python/oop_related/class_object_advanced/01_property.ipynb#ch0000004?line=0'>1</a>\u001b[0m joe\u001b[39m.\u001b[39;49mfullname()\n",
      "\u001b[1;31mTypeError\u001b[0m: 'str' object is not callable"
     ]
    }
   ],
   "source": [
    "joe.fullname()"
   ]
  },
  {
   "cell_type": "markdown",
   "metadata": {},
   "source": [
    "As defined above, fullname is ***read-only***. we can't modify it. "
   ]
  },
  {
   "cell_type": "code",
   "execution_count": 4,
   "metadata": {},
   "outputs": [
    {
     "ename": "AttributeError",
     "evalue": "can't set attribute 'fullname'",
     "output_type": "error",
     "traceback": [
      "\u001b[1;31m---------------------------------------------------------------------------\u001b[0m",
      "\u001b[1;31mAttributeError\u001b[0m                            Traceback (most recent call last)",
      "\u001b[1;32mc:\\migo_python\\oop_related\\class_object_advanced\\01_property.ipynb Cell 6'\u001b[0m in \u001b[0;36m<module>\u001b[1;34m\u001b[0m\n\u001b[1;32m----> <a href='vscode-notebook-cell:/c%3A/migo_python/oop_related/class_object_advanced/01_property.ipynb#ch0000009?line=0'>1</a>\u001b[0m joe\u001b[39m.\u001b[39mfullname \u001b[39m=\u001b[39m \u001b[39m\"\u001b[39m\u001b[39mJoseph Smith\u001b[39m\u001b[39m\"\u001b[39m\n",
      "\u001b[1;31mAttributeError\u001b[0m: can't set attribute 'fullname'"
     ]
    }
   ],
   "source": [
    "joe.fullname = \"Joseph Smith\""
   ]
  },
  {
   "cell_type": "markdown",
   "metadata": {},
   "source": [
    "In other word, Python properties are read-only by default.<br>\n",
    "Another way of saying this is that @property dedfines a getter, but not a setter."
   ]
  },
  {
   "cell_type": "markdown",
   "metadata": {},
   "source": [
    "## Setter"
   ]
  },
  {
   "cell_type": "code",
   "execution_count": 5,
   "metadata": {},
   "outputs": [],
   "source": [
    "class Person:\n",
    "    def __init__(self, firstname, lastname):\n",
    "        self.firstname = firstname\n",
    "        self.lastname = lastname\n",
    "    @property\n",
    "    def fullname(self):\n",
    "        return self.firstname + \" \" + self.lastname\n",
    "    @fullname.setter\n",
    "    def fullname(self, value):\n",
    "        self.firstname, self.lastname = value.split(\" \", 1)"
   ]
  },
  {
   "cell_type": "code",
   "execution_count": 6,
   "metadata": {},
   "outputs": [
    {
     "data": {
      "text/plain": [
       "'Joe'"
      ]
     },
     "execution_count": 6,
     "metadata": {},
     "output_type": "execute_result"
    }
   ],
   "source": [
    "joe = Person(\"Joe\",\"Smith\")\n",
    "joe.firstname"
   ]
  },
  {
   "cell_type": "code",
   "execution_count": 8,
   "metadata": {},
   "outputs": [
    {
     "data": {
      "text/plain": [
       "'Smith'"
      ]
     },
     "execution_count": 8,
     "metadata": {},
     "output_type": "execute_result"
    }
   ],
   "source": [
    "joe.lastname"
   ]
  },
  {
   "cell_type": "code",
   "execution_count": 9,
   "metadata": {},
   "outputs": [
    {
     "data": {
      "text/plain": [
       "'Joseph'"
      ]
     },
     "execution_count": 9,
     "metadata": {},
     "output_type": "execute_result"
    }
   ],
   "source": [
    "joe.fullname = \"Joseph Smith\"\n",
    "joe.firstname"
   ]
  },
  {
   "cell_type": "markdown",
   "metadata": {},
   "source": [
    "You may be wondering \"Why is 'fullname' defined twice? and why is the second decorator named @fullname.setter?\" <br><br>\n",
    "\n",
    "The code is actually correct. The following must come first \n",
    "    \n",
    "    @property \n",
    "    def fullname():\n",
    "\n",
    "Craeting property means that an object named the function name will exist in the namespace of the class, and it has a method named @function_name.setter \n",
    "<br><br>\n",
    "\n",
    "Properties enable a useful collection of design patterns. One is in creating read-only member variables. <br><br>\n",
    "\n",
    "It's also common to have the property backed by a single, non-public member variable. See the example: \n"
   ]
  },
  {
   "cell_type": "code",
   "execution_count": 10,
   "metadata": {},
   "outputs": [],
   "source": [
    "class Coupon:\n",
    "    def __init__(self,amount):\n",
    "        self._amount=amount\n",
    "    @property\n",
    "    def amount(self):\n",
    "        return self._amount"
   ]
  },
  {
   "cell_type": "markdown",
   "metadata": {},
   "source": [
    "In Python, prefixing a member variable by a single underscore signals the variable is non-public, i.e.\n",
    "\n",
    "it should only be accessed internally, inside methods of that class, or its subclasses.\n",
    "\n",
    "What this pattern says is \"you can access this variable, but not change it\"."
   ]
  },
  {
   "cell_type": "markdown",
   "metadata": {},
   "source": [
    "### UseCase 1 - ticketing\n",
    "\n",
    "Suppose my event-management application has a Ticket class, representing tickets sold to concert-goers: "
   ]
  },
  {
   "cell_type": "code",
   "execution_count": 11,
   "metadata": {},
   "outputs": [],
   "source": [
    "class Ticket:\n",
    "    def __init__(self, price):\n",
    "        self.price = price\n",
    "# And some other methods..."
   ]
  },
  {
   "cell_type": "markdown",
   "metadata": {},
   "source": [
    "One day, we find a bug in our web UI, which lets some shifty customers adjust the price to a negative value… so we ended up actually paying them to go to the concert. Not good!<br><br>\n",
    "\n",
    "The first priority is, of course, to fix the bug in the UI. \n",
    "But how do we modify our code to prevent this from ever happening again? <br><br>\n",
    "\n",
    "Before reading further, look at the Ticket class and ponder - how could you use properties to make this kind of bug impossible in the future? The answer: verify the new price is non-zero in the setter:"
   ]
  },
  {
   "cell_type": "code",
   "execution_count": 12,
   "metadata": {},
   "outputs": [],
   "source": [
    "class Ticket:\n",
    "    def __init__(self,price):\n",
    "        self._price = price\n",
    "    \n",
    "    @property\n",
    "    def price(self):\n",
    "        return self._price\n",
    "    \n",
    "    @price.setter\n",
    "    def price(self,new_price):\n",
    "        if new_price<0:\n",
    "            raise ValueError(\"Nice try\")\n",
    "        self._price = new_price\n",
    "    \n",
    "        "
   ]
  },
  {
   "cell_type": "code",
   "execution_count": 13,
   "metadata": {},
   "outputs": [
    {
     "data": {
      "text/plain": [
       "42"
      ]
     },
     "execution_count": 13,
     "metadata": {},
     "output_type": "execute_result"
    }
   ],
   "source": [
    "t = Ticket(42)\n",
    "t.price"
   ]
  },
  {
   "cell_type": "code",
   "execution_count": 14,
   "metadata": {},
   "outputs": [
    {
     "ename": "ValueError",
     "evalue": "Nice try",
     "output_type": "error",
     "traceback": [
      "\u001b[1;31m---------------------------------------------------------------------------\u001b[0m",
      "\u001b[1;31mValueError\u001b[0m                                Traceback (most recent call last)",
      "\u001b[1;32mc:\\migo_python\\oop_related\\class_object_advanced\\01_property.ipynb Cell 21'\u001b[0m in \u001b[0;36m<module>\u001b[1;34m\u001b[0m\n\u001b[1;32m----> <a href='vscode-notebook-cell:/c%3A/migo_python/oop_related/class_object_advanced/01_property.ipynb#ch0000030?line=0'>1</a>\u001b[0m t\u001b[39m.\u001b[39mprice \u001b[39m=\u001b[39m \u001b[39m-\u001b[39m\u001b[39m1\u001b[39m\n",
      "\u001b[1;32mc:\\migo_python\\oop_related\\class_object_advanced\\01_property.ipynb Cell 19'\u001b[0m in \u001b[0;36mTicket.price\u001b[1;34m(self, new_price)\u001b[0m\n\u001b[0;32m      <a href='vscode-notebook-cell:/c%3A/migo_python/oop_related/class_object_advanced/01_property.ipynb#ch0000027?line=8'>9</a>\u001b[0m \u001b[39m@price\u001b[39m\u001b[39m.\u001b[39msetter\n\u001b[0;32m     <a href='vscode-notebook-cell:/c%3A/migo_python/oop_related/class_object_advanced/01_property.ipynb#ch0000027?line=9'>10</a>\u001b[0m \u001b[39mdef\u001b[39;00m \u001b[39mprice\u001b[39m(\u001b[39mself\u001b[39m,new_price):\n\u001b[0;32m     <a href='vscode-notebook-cell:/c%3A/migo_python/oop_related/class_object_advanced/01_property.ipynb#ch0000027?line=10'>11</a>\u001b[0m     \u001b[39mif\u001b[39;00m new_price\u001b[39m<\u001b[39m\u001b[39m0\u001b[39m:\n\u001b[1;32m---> <a href='vscode-notebook-cell:/c%3A/migo_python/oop_related/class_object_advanced/01_property.ipynb#ch0000027?line=11'>12</a>\u001b[0m         \u001b[39mraise\u001b[39;00m \u001b[39mValueError\u001b[39;00m(\u001b[39m\"\u001b[39m\u001b[39mNice try\u001b[39m\u001b[39m\"\u001b[39m)\n\u001b[0;32m     <a href='vscode-notebook-cell:/c%3A/migo_python/oop_related/class_object_advanced/01_property.ipynb#ch0000027?line=12'>13</a>\u001b[0m     \u001b[39mself\u001b[39m\u001b[39m.\u001b[39m_price \u001b[39m=\u001b[39m new_price\n",
      "\u001b[1;31mValueError\u001b[0m: Nice try"
     ]
    }
   ],
   "source": [
    "t.price = -1"
   ]
  },
  {
   "cell_type": "markdown",
   "metadata": {},
   "source": [
    "#### However...\n",
    "There is a defect in this new Ticket class.<br><br>\n",
    "The problem is that we CAN'T CHANGE the price to a negative value, But CAN CREATE a ticket with a negative price to begin with.\n",
    "\n",
    "The solution is to use the setter in the constructor instead. \n"
   ]
  },
  {
   "cell_type": "code",
   "execution_count": 15,
   "metadata": {},
   "outputs": [],
   "source": [
    "class Ticket:\n",
    "    def __init__(self, price):\n",
    "    # instead of \"self._price = price\"\n",
    "        self.price = price\n",
    "        \n",
    "    @property\n",
    "    def price(self):\n",
    "        return self._price\n",
    "    \n",
    "    @price.setter\n",
    "    def price(self, new_price):\n",
    "    # Only allow positive prices.\n",
    "        if new_price < 0:\n",
    "            raise ValueError(\"Nice try\")\n",
    "        self._price = new_price"
   ]
  },
  {
   "cell_type": "code",
   "execution_count": 16,
   "metadata": {},
   "outputs": [
    {
     "data": {
      "text/plain": [
       "42"
      ]
     },
     "execution_count": 16,
     "metadata": {},
     "output_type": "execute_result"
    }
   ],
   "source": [
    "a = Ticket(42)\n",
    "a.price"
   ]
  },
  {
   "cell_type": "markdown",
   "metadata": {},
   "source": [
    "Wait, \"a.price\" is supposed to call property but property returns self._price...<br>\n",
    "\n",
    "At initialization, we didn't put self._price..?\n",
    "<br>\n",
    "\n",
    "Yes, you can reference self.price in methods of the class. When we write :\n",
    "\n",
    "    self.price = price\n",
    "\n",
    "Python translates this to calling *price setter*. So it means ***self.price here refers to price setter method.***<br>\n",
    "\n",
    "So this final version of Ticket centralizes all reads AND writes of self._price.<br>\n",
    "\n",
    "It's a useful encapsulation principle in general. "
   ]
  },
  {
   "cell_type": "code",
   "execution_count": 17,
   "metadata": {},
   "outputs": [
    {
     "ename": "ValueError",
     "evalue": "Nice try",
     "output_type": "error",
     "traceback": [
      "\u001b[1;31m---------------------------------------------------------------------------\u001b[0m",
      "\u001b[1;31mValueError\u001b[0m                                Traceback (most recent call last)",
      "\u001b[1;32mc:\\migo_python\\oop_related\\class_object_advanced\\01_property.ipynb Cell 26'\u001b[0m in \u001b[0;36m<module>\u001b[1;34m\u001b[0m\n\u001b[1;32m----> <a href='vscode-notebook-cell:/c%3A/migo_python/oop_related/class_object_advanced/01_property.ipynb#ch0000037?line=0'>1</a>\u001b[0m b\u001b[39m=\u001b[39m Ticket(\u001b[39m-\u001b[39;49m\u001b[39m4\u001b[39;49m)\n",
      "\u001b[1;32mc:\\migo_python\\oop_related\\class_object_advanced\\01_property.ipynb Cell 23'\u001b[0m in \u001b[0;36mTicket.__init__\u001b[1;34m(self, price)\u001b[0m\n\u001b[0;32m      <a href='vscode-notebook-cell:/c%3A/migo_python/oop_related/class_object_advanced/01_property.ipynb#ch0000033?line=1'>2</a>\u001b[0m \u001b[39mdef\u001b[39;00m \u001b[39m__init__\u001b[39m(\u001b[39mself\u001b[39m, price):\n\u001b[0;32m      <a href='vscode-notebook-cell:/c%3A/migo_python/oop_related/class_object_advanced/01_property.ipynb#ch0000033?line=2'>3</a>\u001b[0m \u001b[39m# instead of \"self._price = price\"\u001b[39;00m\n\u001b[1;32m----> <a href='vscode-notebook-cell:/c%3A/migo_python/oop_related/class_object_advanced/01_property.ipynb#ch0000033?line=3'>4</a>\u001b[0m     \u001b[39mself\u001b[39m\u001b[39m.\u001b[39mprice \u001b[39m=\u001b[39m price\n",
      "\u001b[1;32mc:\\migo_python\\oop_related\\class_object_advanced\\01_property.ipynb Cell 23'\u001b[0m in \u001b[0;36mTicket.price\u001b[1;34m(self, new_price)\u001b[0m\n\u001b[0;32m      <a href='vscode-notebook-cell:/c%3A/migo_python/oop_related/class_object_advanced/01_property.ipynb#ch0000033?line=8'>9</a>\u001b[0m \u001b[39m@price\u001b[39m\u001b[39m.\u001b[39msetter\n\u001b[0;32m     <a href='vscode-notebook-cell:/c%3A/migo_python/oop_related/class_object_advanced/01_property.ipynb#ch0000033?line=9'>10</a>\u001b[0m \u001b[39mdef\u001b[39;00m \u001b[39mprice\u001b[39m(\u001b[39mself\u001b[39m, new_price):\n\u001b[0;32m     <a href='vscode-notebook-cell:/c%3A/migo_python/oop_related/class_object_advanced/01_property.ipynb#ch0000033?line=10'>11</a>\u001b[0m \u001b[39m# Only allow positive prices.\u001b[39;00m\n\u001b[0;32m     <a href='vscode-notebook-cell:/c%3A/migo_python/oop_related/class_object_advanced/01_property.ipynb#ch0000033?line=11'>12</a>\u001b[0m     \u001b[39mif\u001b[39;00m new_price \u001b[39m<\u001b[39m \u001b[39m0\u001b[39m:\n\u001b[1;32m---> <a href='vscode-notebook-cell:/c%3A/migo_python/oop_related/class_object_advanced/01_property.ipynb#ch0000033?line=12'>13</a>\u001b[0m         \u001b[39mraise\u001b[39;00m \u001b[39mValueError\u001b[39;00m(\u001b[39m\"\u001b[39m\u001b[39mNice try\u001b[39m\u001b[39m\"\u001b[39m)\n\u001b[0;32m     <a href='vscode-notebook-cell:/c%3A/migo_python/oop_related/class_object_advanced/01_property.ipynb#ch0000033?line=13'>14</a>\u001b[0m     \u001b[39mself\u001b[39m\u001b[39m.\u001b[39m_price \u001b[39m=\u001b[39m new_price\n",
      "\u001b[1;31mValueError\u001b[0m: Nice try"
     ]
    }
   ],
   "source": [
    "b= Ticket(-4)"
   ]
  },
  {
   "cell_type": "markdown",
   "metadata": {},
   "source": [
    "### Properties and Refactoring\n",
    "\n",
    "Properties are important in most Languages today. Imagine writing a simple money class. "
   ]
  },
  {
   "cell_type": "code",
   "execution_count": 18,
   "metadata": {},
   "outputs": [],
   "source": [
    "class Money:\n",
    "    def __init__(self,dollars,cents):\n",
    "        self.dollars = dollars\n",
    "        self.cents =cents "
   ]
  },
  {
   "cell_type": "markdown",
   "metadata": {},
   "source": [
    "Suppose you put this class in a library, which many developers are using. People on your current team, perhaps developers on different teams. Or maybe you release it as open-source, so developers around the world use and rely on this class.<br><br>\n",
    "\n",
    "Now, you realize many of Money's methods can be simpler and more straightforward if they operate on the total number of cents rather than dollar and cents separately. So you ***refactor*** the internal state: <br>\n"
   ]
  },
  {
   "cell_type": "code",
   "execution_count": 19,
   "metadata": {},
   "outputs": [],
   "source": [
    "class Money:\n",
    "    def __init__(self,dollars,cents):\n",
    "        self.total_cents = dollars *100 + cents"
   ]
  },
  {
   "cell_type": "markdown",
   "metadata": {},
   "source": [
    "This minor change creates a MAJOR maintainability issue.<br>\n",
    "\n",
    "Here is the trouble: your original Money has dollars and cents.<br>\n",
    "\n",
    "And since many developers already use them, changing to total_cents break all their code. <br>\n",
    "\n",
    "SO what do you do? \n",
    "\n",
    "You want to two things to happen:\n",
    "- Use ***total_cents*** internally\n",
    "- All code using dollars and cents continues to work, without modification.\n",
    "\n"
   ]
  },
  {
   "cell_type": "code",
   "execution_count": 20,
   "metadata": {},
   "outputs": [],
   "source": [
    "class Money:\n",
    "    def __init__(self,dollars,cents):\n",
    "        self.total_cents= dollars * 100 +cents \n",
    "    \n",
    "    #for dolloars\n",
    "    @property\n",
    "    def dollars(self):\n",
    "        return self.total_cents //100\n",
    "    \n",
    "    @dollars.setter\n",
    "    def dollars(self,new_dollars):\n",
    "        self.total_cents = 100*new_dollars + self.cents\n",
    "    \n",
    "    #for cents\n",
    "    @property\n",
    "    def cents(self):\n",
    "        return self.total_cents %100\n",
    "    @cents.setter\n",
    "    def cetns(self,new_cents):\n",
    "        self.total_cents= 100 * self.dollars + new_cents"
   ]
  },
  {
   "cell_type": "code",
   "execution_count": 21,
   "metadata": {},
   "outputs": [
    {
     "data": {
      "text/plain": [
       "2712"
      ]
     },
     "execution_count": 21,
     "metadata": {},
     "output_type": "execute_result"
    }
   ],
   "source": [
    "money = Money(27,12)\n",
    "money.total_cents"
   ]
  },
  {
   "cell_type": "code",
   "execution_count": 22,
   "metadata": {},
   "outputs": [
    {
     "data": {
      "text/plain": [
       "12"
      ]
     },
     "execution_count": 22,
     "metadata": {},
     "output_type": "execute_result"
    }
   ],
   "source": [
    "money.cents"
   ]
  },
  {
   "cell_type": "code",
   "execution_count": 25,
   "metadata": {},
   "outputs": [
    {
     "data": {
      "text/plain": [
       "3512"
      ]
     },
     "execution_count": 25,
     "metadata": {},
     "output_type": "execute_result"
    }
   ],
   "source": [
    "money.dollars=35\n",
    "money.total_cents"
   ]
  }
 ],
 "metadata": {
  "interpreter": {
   "hash": "3c774bbcc5b2f7006b3f86ef4be25d8d27188f10abfcd0877483362b5854f169"
  },
  "kernelspec": {
   "display_name": "Python 3.10.2 64-bit",
   "language": "python",
   "name": "python3"
  },
  "language_info": {
   "codemirror_mode": {
    "name": "ipython",
    "version": 3
   },
   "file_extension": ".py",
   "mimetype": "text/x-python",
   "name": "python",
   "nbconvert_exporter": "python",
   "pygments_lexer": "ipython3",
   "version": "3.10.2"
  },
  "orig_nbformat": 4
 },
 "nbformat": 4,
 "nbformat_minor": 2
}
