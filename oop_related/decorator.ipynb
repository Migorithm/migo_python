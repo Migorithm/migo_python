{
 "cells": [
  {
   "cell_type": "markdown",
   "metadata": {},
   "source": [
    "## Decorator\n",
    "\n",
    "### Closure"
   ]
  },
  {
   "cell_type": "code",
   "execution_count": 2,
   "metadata": {},
   "outputs": [],
   "source": [
    "def outer_function(): #Doesn't take any parameters\n",
    "    message = \"Hi\"\n",
    "\n",
    "    def inner_function():\n",
    "        print(message)  #Now, the message variable wasn't created within the inner function\n",
    "                        #but the inner function does have access to it. So we call this a free variable.\n",
    "    return inner_function()"
   ]
  },
  {
   "cell_type": "markdown",
   "metadata": {},
   "source": [
    "All the above function does is print *message* variable. \n"
   ]
  },
  {
   "cell_type": "code",
   "execution_count": 4,
   "metadata": {},
   "outputs": [
    {
     "name": "stdout",
     "output_type": "stream",
     "text": [
      "Hi\n"
     ]
    }
   ],
   "source": [
    "outer_function()"
   ]
  },
  {
   "cell_type": "code",
   "execution_count": 5,
   "metadata": {},
   "outputs": [],
   "source": [
    "#This time, let's instead return function without executing it. \n",
    "\n",
    "def outer_function():\n",
    "    message=\"Hi!\"\n",
    "    def inner_function():\n",
    "        print(message)\n",
    "    return inner_function"
   ]
  },
  {
   "cell_type": "code",
   "execution_count": 6,
   "metadata": {},
   "outputs": [],
   "source": [
    "#calling the above function will return function wating to be executed. \n",
    "\n",
    "my_func = outer_function() \n",
    "\n",
    "#Now, my_func is equal to inner_function wating to be executed. "
   ]
  },
  {
   "cell_type": "code",
   "execution_count": 7,
   "metadata": {},
   "outputs": [
    {
     "name": "stdout",
     "output_type": "stream",
     "text": [
      "Hi!\n",
      "Hi!\n",
      "Hi!\n"
     ]
    }
   ],
   "source": [
    "my_func()\n",
    "my_func()\n",
    "my_func()"
   ]
  },
  {
   "cell_type": "code",
   "execution_count": 8,
   "metadata": {},
   "outputs": [],
   "source": [
    "def outer_function(msg): # passing in parameter\n",
    "    message=msg\n",
    "    def inner_function():\n",
    "        print(message)\n",
    "    return inner_function"
   ]
  },
  {
   "cell_type": "code",
   "execution_count": 11,
   "metadata": {},
   "outputs": [],
   "source": [
    "hi_func = outer_function(\"Hi\")\n",
    "bye_func = outer_function(\"Bye\")"
   ]
  },
  {
   "cell_type": "code",
   "execution_count": 12,
   "metadata": {},
   "outputs": [
    {
     "name": "stdout",
     "output_type": "stream",
     "text": [
      "Hi\n",
      "Bye\n"
     ]
    }
   ],
   "source": [
    "hi_func()\n",
    "bye_func()"
   ]
  },
  {
   "cell_type": "markdown",
   "metadata": {},
   "source": [
    "### What is really a decorator?\n",
    "Decorator is a function that: \n",
    "- takes another function as an argument\n",
    "- adds some kind of functionality\n",
    "- returns another function."
   ]
  },
  {
   "cell_type": "code",
   "execution_count": 16,
   "metadata": {},
   "outputs": [],
   "source": [
    "def decorator_function(original_function): # passing in function as parameter\n",
    "    def wrapper_function():\n",
    "        return original_function()\n",
    "    return wrapper_function"
   ]
  },
  {
   "cell_type": "code",
   "execution_count": 14,
   "metadata": {},
   "outputs": [],
   "source": [
    "def display():\n",
    "    print(\"display function ran\")\n",
    "    "
   ]
  },
  {
   "cell_type": "code",
   "execution_count": 17,
   "metadata": {},
   "outputs": [],
   "source": [
    "decorated_display= decorator_function(display)"
   ]
  },
  {
   "cell_type": "code",
   "execution_count": 20,
   "metadata": {},
   "outputs": [
    {
     "name": "stdout",
     "output_type": "stream",
     "text": [
      "display function ran\n"
     ]
    }
   ],
   "source": [
    "decorated_display()"
   ]
  },
  {
   "cell_type": "markdown",
   "metadata": {},
   "source": [
    "### Why do we do this?\n",
    "Decorating our functions allows us to easily add functionality to our existing functions by addting that functionality inside the wrapper. "
   ]
  },
  {
   "cell_type": "code",
   "execution_count": 22,
   "metadata": {},
   "outputs": [],
   "source": [
    "#example\n",
    "def decorator_function(original_function): # passing in function as parameter\n",
    "    def wrapper_function():\n",
    "        print(\"wrapper executed this before {}\".format(original_function.__name__))\n",
    "        return original_function()\n",
    "    return wrapper_function\n",
    "\n",
    "def display():\n",
    "    print(\"display function ran\")\n",
    "\n",
    "\n",
    "decorated_display = decorator_function(display)"
   ]
  },
  {
   "cell_type": "code",
   "execution_count": 23,
   "metadata": {},
   "outputs": [
    {
     "name": "stdout",
     "output_type": "stream",
     "text": [
      "wrapper executed this before display\n",
      "display function ran\n"
     ]
    }
   ],
   "source": [
    "decorated_display()"
   ]
  },
  {
   "cell_type": "markdown",
   "metadata": {},
   "source": [
    "### Simpler way to implement the same thing"
   ]
  },
  {
   "cell_type": "code",
   "execution_count": 27,
   "metadata": {},
   "outputs": [],
   "source": [
    "@decorator_function\n",
    "def display():\n",
    "    print(\"display function ran\")"
   ]
  },
  {
   "cell_type": "code",
   "execution_count": 28,
   "metadata": {},
   "outputs": [
    {
     "name": "stdout",
     "output_type": "stream",
     "text": [
      "wrapper executed this before display\n",
      "display function ran\n"
     ]
    }
   ],
   "source": [
    "display() \n",
    "\n",
    "# This is the same as \n",
    "#\n",
    "# display = decorator_fucntion(display)\n",
    "#"
   ]
  },
  {
   "cell_type": "markdown",
   "metadata": {},
   "source": [
    "### Passing argument\n",
    "When we need to be able to pass any number of positional or keyword arguments to the wrapper, we add:\n",
    "- \\*args\n",
    "- \\*\\*kwargs\n"
   ]
  },
  {
   "cell_type": "code",
   "execution_count": 32,
   "metadata": {},
   "outputs": [],
   "source": [
    "def decorator_function(original_function):\n",
    "    def wrapper_function(*args,**kwargs):\n",
    "        print(\"Wrapper function executed this before {}\".format(original_function.__name__))\n",
    "        return original_function(*args,**kwargs)\n",
    "    return wrapper_function\n",
    "\n",
    "@decorator_function\n",
    "def display_info(name,age):\n",
    "    print(\"display_info ran with arguments ({}, {})\".format(name,age))"
   ]
  },
  {
   "cell_type": "code",
   "execution_count": 33,
   "metadata": {},
   "outputs": [
    {
     "name": "stdout",
     "output_type": "stream",
     "text": [
      "Wrapper function executed this before display_info\n",
      "display_info ran with arguments (John, 30)\n"
     ]
    }
   ],
   "source": [
    "display_info(\"John\",30)"
   ]
  },
  {
   "cell_type": "markdown",
   "metadata": {},
   "source": [
    "### Classes as decorators(Although not as popular as function one)"
   ]
  },
  {
   "cell_type": "code",
   "execution_count": 37,
   "metadata": {},
   "outputs": [],
   "source": [
    "#Implement the same functionality through class\n",
    "class decorator_class(object):\n",
    "    def __init__(self,original_function):\n",
    "        self.original_function = original_function #Tie the function with the instance of this class\n",
    "\n",
    "    def __call__(self,*args,**kwargs):\n",
    "        print(\"Call method executed this before {}\".format(self.original_function.__name__))\n",
    "        return self.original_function(*args,**kwargs)\n"
   ]
  },
  {
   "cell_type": "code",
   "execution_count": 40,
   "metadata": {},
   "outputs": [],
   "source": [
    "@decorator_class\n",
    "def display_info(name,age):\n",
    "    print(\"display_info ran with argument ({}, {})\".format(name,age))"
   ]
  },
  {
   "cell_type": "code",
   "execution_count": 41,
   "metadata": {},
   "outputs": [
    {
     "name": "stdout",
     "output_type": "stream",
     "text": [
      "Call method executed this before display_info\n",
      "display_info ran with argument (John, 353)\n"
     ]
    }
   ],
   "source": [
    "display_info(\"John\",353)"
   ]
  },
  {
   "cell_type": "markdown",
   "metadata": {},
   "source": [
    "### Pratical examples\n",
    "- One of the most common use cases for decorators in python is logging"
   ]
  },
  {
   "cell_type": "code",
   "execution_count": 42,
   "metadata": {},
   "outputs": [],
   "source": [
    "#logging\n",
    "def my_logger(orig_func):\n",
    "    import logging\n",
    "    #Setting up the logfile that matches the name of original function\n",
    "    logging.basicConfig(filename='{}.log'.format(orig_func.__name__),level=logging.INFO)\n",
    "\n",
    "    def wrapper(*args,**kwargs):\n",
    "        logging.info(\n",
    "            'Ran with args: {}, and kwargs: {}'.format(args,kwargs)\n",
    "        )\n",
    "        return orig_func(*args,**kwargs)\n",
    "    return wrapper"
   ]
  },
  {
   "cell_type": "code",
   "execution_count": 43,
   "metadata": {},
   "outputs": [
    {
     "name": "stdout",
     "output_type": "stream",
     "text": [
      "disply_info ran with arguments (John,25)\n"
     ]
    }
   ],
   "source": [
    "@my_logger\n",
    "def display_info(name,age):\n",
    "    print(\"disply_info ran with arguments ({},{})\".format(name,age))\n",
    "\n",
    "display_info(\"John\",25)"
   ]
  }
 ],
 "metadata": {
  "interpreter": {
   "hash": "aee8b7b246df8f9039afb4144a1f6fd8d2ca17a180786b69acc140d282b71a49"
  },
  "kernelspec": {
   "display_name": "Python 3.10.0 64-bit",
   "language": "python",
   "name": "python3"
  },
  "language_info": {
   "codemirror_mode": {
    "name": "ipython",
    "version": 3
   },
   "file_extension": ".py",
   "mimetype": "text/x-python",
   "name": "python",
   "nbconvert_exporter": "python",
   "pygments_lexer": "ipython3",
   "version": "3.10.0"
  },
  "orig_nbformat": 4
 },
 "nbformat": 4,
 "nbformat_minor": 2
}
