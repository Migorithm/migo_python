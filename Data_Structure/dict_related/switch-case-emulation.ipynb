{
 "cells": [
  {
   "cell_type": "markdown",
   "metadata": {},
   "source": [
    "### IF statement\n",
    "\n",
    "Because Python has first-class functions they can be used to emulate switch/case statements"
   ]
  },
  {
   "cell_type": "code",
   "execution_count": 1,
   "metadata": {},
   "outputs": [],
   "source": [
    "def dispatch_if(operator,x,y):\n",
    "    if operator ==\"add\":\n",
    "        return x+y\n",
    "    elif operator ==\"sub\":\n",
    "        return x-y\n",
    "    elif operator ==\"mul\":\n",
    "        return x*y\n",
    "    elif operator ==\"div\":\n",
    "        return x/y\n",
    "    else:\n",
    "        return None"
   ]
  },
  {
   "cell_type": "markdown",
   "metadata": {},
   "source": [
    "### Switch-emulation through dict in python"
   ]
  },
  {
   "cell_type": "code",
   "execution_count": 33,
   "metadata": {},
   "outputs": [],
   "source": [
    "#Switch-like operation in Python\n",
    "def dispatch_dict(operator,x,y):\n",
    "    return {\n",
    "        \"add\" : lambda:x+y,\n",
    "        \"sub\" : lambda:x-y,\n",
    "        \"mul\" : lambda:x*y,\n",
    "        \"div\" : lambda:x/y\n",
    "    }.get(operator,lambda:None)()"
   ]
  },
  {
   "cell_type": "markdown",
   "metadata": {},
   "source": []
  }
 ],
 "metadata": {
  "interpreter": {
   "hash": "aee8b7b246df8f9039afb4144a1f6fd8d2ca17a180786b69acc140d282b71a49"
  },
  "kernelspec": {
   "display_name": "Python 3.10.0 64-bit",
   "language": "python",
   "name": "python3"
  },
  "language_info": {
   "codemirror_mode": {
    "name": "ipython",
    "version": 3
   },
   "file_extension": ".py",
   "mimetype": "text/x-python",
   "name": "python",
   "nbconvert_exporter": "python",
   "pygments_lexer": "ipython3",
   "version": "3.10.0"
  },
  "orig_nbformat": 4
 },
 "nbformat": 4,
 "nbformat_minor": 2
}
