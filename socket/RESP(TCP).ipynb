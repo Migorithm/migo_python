{
 "cells": [
  {
   "cell_type": "code",
   "execution_count": 2,
   "metadata": {},
   "outputs": [],
   "source": [
    "import socket,time"
   ]
  },
  {
   "cell_type": "code",
   "execution_count": 22,
   "metadata": {},
   "outputs": [
    {
     "name": "stdout",
     "output_type": "stream",
     "text": [
      "b'+OK\\r\\n'\n",
      "b'+PONG\\r\\n'\n"
     ]
    }
   ],
   "source": [
    "HOST = \"10.107.11.59\"\n",
    "PORT = 6379\n",
    "\n",
    "with open(\"auth\") as auth:\n",
    "    auth= auth.read()\n",
    "\n",
    "with socket.socket(socket.AF_INET,socket.SOCK_STREAM) as s:\n",
    "    s.connect((HOST,PORT))\n",
    "    s.setsockopt(socket.IPPROTO_TCP,socket.TCP_NODELAY,1) \n",
    "    #The setsockopt() function provides an application program with the means to control socket behavior.\n",
    "    #socket.IPPROTO_TCP is to specify the protocol to be used; tcp\n",
    "    \n",
    "    #time.sleep(2)\n",
    "    s.sendall(f\"auth {auth}\\r\\n\".encode())\n",
    "    \n",
    "    print(s.recv(1024))\n",
    "    \n",
    "    s.sendall(b\"ping\\r\\n\")\n",
    "    #if s.recv(1024) == b\"+PONG\\r\\n\":\n",
    "    #    print(\"OK\")\n",
    "    print(s.recv(1024))\n",
    "    \n",
    "\n",
    "\n",
    "    "
   ]
  },
  {
   "cell_type": "code",
   "execution_count": 32,
   "metadata": {},
   "outputs": [
    {
     "name": "stdout",
     "output_type": "stream",
     "text": [
      "6\n",
      "<class 'tuple'> ('10.107.11.66', 6379)\n",
      "b'+OK\\r\\n'\n",
      "<class 'tuple'> ('10.107.11.56', 6379)\n",
      "b'+OK\\r\\n'\n",
      "<class 'tuple'> ('10.107.11.59', 6379)\n",
      "b'+OK\\r\\n'\n",
      "<class 'tuple'> ('10.107.11.66', 6380)\n",
      "b'+OK\\r\\n'\n",
      "<class 'tuple'> ('10.107.11.56', 6380)\n",
      "b'+OK\\r\\n'\n",
      "<class 'tuple'> ('10.107.11.59', 6380)\n",
      "[ERROR] Connection to ('10.107.11.59', 6380) failed.\n"
     ]
    },
    {
     "data": {
      "text/plain": [
       "False"
      ]
     },
     "execution_count": 32,
     "metadata": {},
     "output_type": "execute_result"
    }
   ],
   "source": [
    "def ClusterHealthCheck(agents):\n",
    "    import socket\n",
    "    success=[]\n",
    "    for node in agents:\n",
    "        print(type(node),node)\n",
    "        with socket.socket(socket.AF_INET,socket.SOCK_STREAM) as sock:\n",
    "            try:\n",
    "                sock.connect(node) #tuple type\n",
    "                sock.setsockopt(socket.IPPROTO_TCP,socket.TCP_NODELAY,1)\n",
    "                if auth:\n",
    "                    sock.sendall(f\"auth {auth}\\r\\n\".encode())\n",
    "                    print(sock.recv(1024))\n",
    "                sock.sendall(b\"ping\\r\\n\")\n",
    "                if sock.recv(1024) == b\"+PONG\\r\\n\":\n",
    "                    success.append(True)\n",
    "                else:\n",
    "                    success.append(False)\n",
    "            except Exception as e:\n",
    "                print(f\"[ERROR] Connection to {node} failed.\")\n",
    "                success.append(False)\n",
    "    if all(success):\n",
    "        return True\n",
    "    else:\n",
    "        return False\n",
    "    \n",
    "agents=[(\"10.107.11.66\",6379),(\"10.107.11.56\",6379),(\"10.107.11.59\",6379),(\"10.107.11.66\",6380),(\"10.107.11.56\",6380),(\"10.107.11.59\",6380)]\n",
    "print(len(agents))\n",
    "\n",
    "ClusterHealthCheck(agents)"
   ]
  },
  {
   "cell_type": "markdown",
   "metadata": {},
   "source": [
    "#### AF_INET?\n",
    "\n",
    "AF_INET is an address family that is used to designate the type of addresses that your socket can communicate with (in this case, ***Internet Protocol v4*** addresses).<br><br> \n",
    "\n",
    "When you create a socket, you have to specify its address family, and then you can only use addresses of that type with the socket.<br><br>\n",
    "\n",
    "AF_INET's address format is basically host and port number whereas AF_UNIX's one is UNIX pathname.\n",
    "<br><br>\n",
    "\n",
    "For the most part, sticking with AF_INET for socket programming over a network is the safest option.<br>\n",
    "There is also AF_INET6 for Internet Protocol v6 addresses.<br>\n",
    "\n",
    "\n",
    "### SOCK_STREAM?\n",
    "Socket type. default is set to TCP.<br>\n",
    "In contrast, User Datagram Protocol(UDP) sockets created with socket.SOCK_DGRAM are not reliable<br>\n",
    "and data read by the receiver can be out-of-order from sender's writes. <br><br>\n",
    "\n",
    "\n",
    "### TCP_NODELAY\n",
    "The TCP_NODELAY socket option allows your network to bypass \"Nagle Delays\" by disabling Nagle's algorithm, and sending the data as soon as it's available. Enabling TCP_NODELAY forces a socket to send the data in its buffer, whatever the packet size.\n",
    "\n",
    "#### Nagle Delays?\n",
    "This is means of improving the efficiency of TCP/IP networks by reducing the number of packets that need to be sent over the network. Reducing here means to store data and sent it once(buffering).\n",
    "\n"
   ]
  },
  {
   "cell_type": "code",
   "execution_count": 65,
   "metadata": {},
   "outputs": [],
   "source": [
    "from itsdangerous import TimedJSONWebSignatureSerializer as Serializer\n",
    "import requests\n",
    "\n",
    "class Redis:\n",
    "    def __init__(self,nodes,auth=None):\n",
    "        self.nodes=nodes\n",
    "        self.auth = auth\n",
    "        self.agents=[]\n",
    "        for node in self.nodes: #10.107.11.66:6379\n",
    "            agent = node.split(\":\")\n",
    "            self.agents.append((agent[0],int(agent[1])))\n",
    "            \"AGENT_KEY\"\n",
    "    def connector(self): #custom context manager?\n",
    "        pass\n",
    "    \n",
    "        \n",
    "    @staticmethod\n",
    "    def token_generator() -> str:\n",
    "        serializer= Serializer(\"AGENT_KEY\",300)\n",
    "        return serializer.dumps({\"confirm\":True}).decode(\"utf-8\")\n",
    "    \n",
    "    def ClusterHealthCheck(self):\n",
    "        import socket\n",
    "        success=[]\n",
    "        for node in self.agents:\n",
    "            with socket.socket(socket.AF_INET,socket.SOCK_STREAM) as sock:\n",
    "                try:\n",
    "                    sock.connect(node) #tuple type\n",
    "                    sock.setsockopt(socket.IPPROTO_TCP,socket.TCP_NODELAY,1)\n",
    "                    if self.auth:\n",
    "                        sock.sendall(f\"auth {self.auth}\\r\\n\".encode())\n",
    "                        sock.recv(1024)\n",
    "                    sock.sendall(b\"ping\\r\\n\")\n",
    "                    if sock.recv(1024) == b\"+PONG\\r\\n\":\n",
    "                        success.append(True)\n",
    "                    else:\n",
    "                        #print(f\"[ERROR] Connection to {node} failed!\")\n",
    "                        success.append(False)\n",
    "                except Exception as e:\n",
    "                    #print(f\"[ERROR] Connection to {node} failed!\")\n",
    "                    success.append(False)\n",
    "        if all(success):\n",
    "            return True\n",
    "        else:\n",
    "            return False\n",
    "                    \n",
    "        \n",
    "    def RollingRestart(self):\n",
    "        for node in self.agents:\n",
    "            while True:\n",
    "                try :\n",
    "                    if self.ClusterHealthCheck():\n",
    "                        print(\"Cluster health green! Continue rolling restart...\")\n",
    "                        token = Redis.token_generator()\n",
    "                        res = requests.post(\"http://\"+node[0]+\":5000/redis/command/restart\",json={\"token\":token,\"port\":node[1]})\n",
    "                        if res.status_code==200:\n",
    "                            print(f\"[SUCCESS] Agent : {node} executed Restart...\")\n",
    "                            time.sleep(10) \n",
    "                        else:\n",
    "                            print(f\"[ERROR] Agent : {node} restart failed...\")\n",
    "                    else:\n",
    "                        raise Exception(f\"Connection to {node} failed!\")\n",
    "                except Exception as e:\n",
    "                    print(f\"[ERROR] {e}\")\n",
    "                    return False\n",
    "                else: # If successful, \n",
    "                    cnt =0\n",
    "                    MAXTRIAL= 5\n",
    "                    while not self.ClusterHealthCheck() and cnt < MAXTRIAL:\n",
    "                        \n",
    "                        print(\"Cluster health not green! give it a little sec\")\n",
    "                        time.sleep(5)\n",
    "                        cnt+=1\n",
    "                        print(f\"Tried {cnt} times...\")\n",
    "                        print(f\"The most recent execution was on {node}\")\n",
    "                        continue\n",
    "                    if not cnt < MAXTRIAL:\n",
    "                        return False\n",
    "                    else:\n",
    "                        break\n",
    "        return True"
   ]
  },
  {
   "cell_type": "code",
   "execution_count": 66,
   "metadata": {},
   "outputs": [
    {
     "name": "stdout",
     "output_type": "stream",
     "text": [
      "Cluster health green! Continue rolling restart...\n",
      "[SUCCESS] Agent : ('10.107.11.66', 6379) executed Restart...\n",
      "Cluster health green! Continue rolling restart...\n",
      "[SUCCESS] Agent : ('10.107.11.66', 6380) executed Restart...\n"
     ]
    },
    {
     "data": {
      "text/plain": [
       "True"
      ]
     },
     "execution_count": 66,
     "metadata": {},
     "output_type": "execute_result"
    }
   ],
   "source": [
    "agents=[\"10.107.11.66:6379\",#\"10.107.11.56:6379\",\"10.107.11.59:6379\",\n",
    "        \"10.107.11.66:6380\"]#\"10.107.11.56:6380\",\"10.107.11.59:6380\"]\n",
    "\n",
    "\n",
    "\n",
    "redis = Redis(agents,auth=1234)\n",
    "redis.RollingRestart()"
   ]
  }
 ],
 "metadata": {
  "interpreter": {
   "hash": "3c774bbcc5b2f7006b3f86ef4be25d8d27188f10abfcd0877483362b5854f169"
  },
  "kernelspec": {
   "display_name": "Python 3.10.2 64-bit",
   "language": "python",
   "name": "python3"
  },
  "language_info": {
   "codemirror_mode": {
    "name": "ipython",
    "version": 3
   },
   "file_extension": ".py",
   "mimetype": "text/x-python",
   "name": "python",
   "nbconvert_exporter": "python",
   "pygments_lexer": "ipython3",
   "version": "3.10.2"
  },
  "orig_nbformat": 4
 },
 "nbformat": 4,
 "nbformat_minor": 2
}
