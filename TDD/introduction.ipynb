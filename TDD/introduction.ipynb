{
 "cells": [
  {
   "cell_type": "markdown",
   "metadata": {},
   "source": [
    "### Test-Driven Development?\n",
    "\n",
    "Test-Driven development means you start working on each new feature or bugfix by writing the automated test for it **FIRST**.<br>\n",
    "\n",
    "You run the test, verify it fails and only then do you write the actual code for the feature. <br>\n",
    "\n",
    "This is DIFFERENT process from implementing the feature FIRST, then writing a test for it after.<br>\n",
    "\n",
    "Writing the test first forces you to think through the interfaces of your code, answering the question \"how will I know my code is working?\"<br>\n",
    "\n",
    "**The greatest mid_term benefits are mostly cognitive.**<br>\n",
    "\n",
    "But the real great benefits emerge over time. We've all done substantial refactoring of a large code base, changing fundamental aspects of its architecture.<br> \n",
    "\n",
    "Such refactorings become straightforward and safe using TDD.<br>\n",
    "\n",
    "You take the existing body of tests, updating where needed and introducing new tests as appropritate. "
   ]
  },
  {
   "cell_type": "markdown",
   "metadata": {},
   "source": [
    "### Unittest\n",
    "Python's unittest maps almost exactly to xUnit libraries used in many other languages. If you are already familiar with Python, and have used JUnit, PHPUnit, or any other xUnit library in any language, you will feel right at home with unittest. That said, unittest has some unique tools and idioms."
   ]
  }
 ],
 "metadata": {
  "language_info": {
   "name": "python"
  },
  "orig_nbformat": 4
 },
 "nbformat": 4,
 "nbformat_minor": 2
}
