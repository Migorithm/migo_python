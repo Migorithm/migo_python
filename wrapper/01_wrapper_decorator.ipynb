{
 "cells": [
  {
   "cell_type": "markdown",
   "metadata": {},
   "source": [
    "## Decorator \n",
    "\n",
    "### Closure\n"
   ]
  },
  {
   "cell_type": "code",
   "execution_count": 1,
   "metadata": {},
   "outputs": [],
   "source": [
    "def outer_function(): #Doesn't take any parameters\n",
    "    message = \"Hi\"\n",
    "\n",
    "    def inner_function():\n",
    "        print(message)  #Now, the message variable wasn't created within the inner function\n",
    "                        #but the inner function does have access to it. So we call this a free variable.\n",
    "    return inner_function()"
   ]
  },
  {
   "cell_type": "code",
   "execution_count": 3,
   "metadata": {},
   "outputs": [
    {
     "name": "stdout",
     "output_type": "stream",
     "text": [
      "Hi\n"
     ]
    }
   ],
   "source": [
    "outer_function()"
   ]
  },
  {
   "cell_type": "code",
   "execution_count": 4,
   "metadata": {},
   "outputs": [],
   "source": [
    "#This time, let's instead return function without executing it. \n",
    "\n",
    "def outer_function():\n",
    "    message=\"Hi!\"\n",
    "    def inner_function():\n",
    "        print(message)\n",
    "    return inner_function"
   ]
  },
  {
   "cell_type": "code",
   "execution_count": 5,
   "metadata": {},
   "outputs": [],
   "source": [
    "#calling the above function will return function wating to be executed. \n",
    "\n",
    "my_func = outer_function() \n",
    "\n",
    "#Now, my_func is equal to inner_function wating to be executed. "
   ]
  },
  {
   "cell_type": "code",
   "execution_count": 6,
   "metadata": {},
   "outputs": [
    {
     "name": "stdout",
     "output_type": "stream",
     "text": [
      "Hi!\n",
      "Hi!\n",
      "Hi!\n"
     ]
    }
   ],
   "source": [
    "my_func()\n",
    "my_func()\n",
    "my_func()"
   ]
  },
  {
   "cell_type": "code",
   "execution_count": 7,
   "metadata": {},
   "outputs": [],
   "source": [
    "def outer_function(msg): # passing in parameter\n",
    "    message=msg\n",
    "    def inner_function():\n",
    "        print(message)\n",
    "    return inner_function"
   ]
  },
  {
   "cell_type": "code",
   "execution_count": 8,
   "metadata": {},
   "outputs": [],
   "source": [
    "hi_func = outer_function(\"Hi\")\n",
    "bye_func = outer_function(\"Bye\")"
   ]
  },
  {
   "cell_type": "code",
   "execution_count": 9,
   "metadata": {},
   "outputs": [
    {
     "name": "stdout",
     "output_type": "stream",
     "text": [
      "Hi\n",
      "Bye\n"
     ]
    }
   ],
   "source": [
    "hi_func()\n",
    "bye_func()"
   ]
  },
  {
   "cell_type": "markdown",
   "metadata": {},
   "source": [
    "### What is really a decorator?\n",
    "Decorator is a function that:\n",
    "\n",
    "- takes another function as an argument\n",
    "- adds some kind of functionality\n",
    "- returns another function."
   ]
  },
  {
   "cell_type": "code",
   "execution_count": 10,
   "metadata": {},
   "outputs": [],
   "source": [
    "def decorator_function(original_function): # passing in function as parameter\n",
    "    def wrapper_function():\n",
    "        return original_function()\n",
    "    return wrapper_function"
   ]
  },
  {
   "cell_type": "code",
   "execution_count": 11,
   "metadata": {},
   "outputs": [],
   "source": [
    "def display():\n",
    "    print(\"display function ran\")"
   ]
  },
  {
   "cell_type": "code",
   "execution_count": 12,
   "metadata": {},
   "outputs": [],
   "source": [
    "decorated_display= decorator_function(display)"
   ]
  },
  {
   "cell_type": "code",
   "execution_count": 13,
   "metadata": {},
   "outputs": [
    {
     "name": "stdout",
     "output_type": "stream",
     "text": [
      "display function ran\n"
     ]
    }
   ],
   "source": [
    "decorated_display()"
   ]
  },
  {
   "cell_type": "markdown",
   "metadata": {},
   "source": [
    "### Why do we do this?\n",
    "Decorating our functions allows us to easily add functionality to our existing functions by addting that functionality inside the wrapper."
   ]
  },
  {
   "cell_type": "code",
   "execution_count": 14,
   "metadata": {},
   "outputs": [],
   "source": [
    "#example\n",
    "def decorator_function(original_function): # passing in function as parameter\n",
    "    def wrapper_function():\n",
    "        print(\"wrapper executed this before {}\".format(original_function.__name__))\n",
    "        return original_function()\n",
    "    return wrapper_function\n",
    "\n",
    "def display():\n",
    "    print(\"display function ran\")\n",
    "\n",
    "\n",
    "decorated_display = decorator_function(display)"
   ]
  },
  {
   "cell_type": "code",
   "execution_count": 16,
   "metadata": {},
   "outputs": [
    {
     "name": "stdout",
     "output_type": "stream",
     "text": [
      "wrapper executed this before display\n",
      "display function ran\n"
     ]
    }
   ],
   "source": [
    "decorated_display()"
   ]
  },
  {
   "cell_type": "markdown",
   "metadata": {},
   "source": [
    "### Wrapper"
   ]
  },
  {
   "cell_type": "code",
   "execution_count": 17,
   "metadata": {},
   "outputs": [],
   "source": [
    "#Simpler way to implement the same thing\n",
    "@decorator_function\n",
    "def display():\n",
    "    print(\"display function ran\")"
   ]
  },
  {
   "cell_type": "code",
   "execution_count": 18,
   "metadata": {},
   "outputs": [
    {
     "name": "stdout",
     "output_type": "stream",
     "text": [
      "wrapper executed this before display\n",
      "display function ran\n"
     ]
    }
   ],
   "source": [
    "display() \n",
    "\n",
    "# This is the same as \n",
    "#\n",
    "# display = decorator_fucntion(display)\n",
    "#"
   ]
  },
  {
   "cell_type": "markdown",
   "metadata": {},
   "source": [
    "### Passing argument\n",
    "When we need to be able to pass any number of positional or keyword arguments to the wrapper, we add:\n",
    "\n",
    "*args\n",
    "**kwargs"
   ]
  },
  {
   "cell_type": "code",
   "execution_count": 19,
   "metadata": {},
   "outputs": [],
   "source": [
    "def decorator_function(original_function):\n",
    "    def wrapper_function(*args,**kwargs):\n",
    "        print(\"Wrapper function executed this before {}\".format(original_function.__name__))\n",
    "        return original_function(*args,**kwargs)\n",
    "    return wrapper_function\n",
    "\n",
    "@decorator_function\n",
    "def display_info(name,age):\n",
    "    print(\"display_info ran with arguments ({}, {})\".format(name,age))"
   ]
  },
  {
   "cell_type": "code",
   "execution_count": 20,
   "metadata": {},
   "outputs": [
    {
     "name": "stdout",
     "output_type": "stream",
     "text": [
      "Wrapper function executed this before display_info\n",
      "display_info ran with arguments (John, 30)\n"
     ]
    }
   ],
   "source": [
    "display_info(\"John\",30)"
   ]
  },
  {
   "cell_type": "markdown",
   "metadata": {},
   "source": [
    "### Classes as decorators(Although not as popular as function one)"
   ]
  },
  {
   "cell_type": "code",
   "execution_count": 21,
   "metadata": {},
   "outputs": [],
   "source": [
    "#Implement the same functionality through class\n",
    "class decorator_class(object):\n",
    "    def __init__(self,original_function):\n",
    "        self.original_function = original_function #Tie the function with the instance of this class\n",
    "\n",
    "    def __call__(self,*args,**kwargs):\n",
    "        print(\"Call method executed this before {}\".format(self.original_function.__name__))\n",
    "        return self.original_function(*args,**kwargs)"
   ]
  },
  {
   "cell_type": "code",
   "execution_count": 22,
   "metadata": {},
   "outputs": [],
   "source": [
    "@decorator_class\n",
    "def display_info(name,age):\n",
    "    print(\"display_info ran with argument ({}, {})\".format(name,age))"
   ]
  },
  {
   "cell_type": "code",
   "execution_count": 23,
   "metadata": {},
   "outputs": [
    {
     "name": "stdout",
     "output_type": "stream",
     "text": [
      "Call method executed this before display_info\n",
      "display_info ran with argument (John, 353)\n"
     ]
    }
   ],
   "source": [
    "display_info(\"John\",353)"
   ]
  },
  {
   "cell_type": "markdown",
   "metadata": {},
   "source": [
    "### Pratical examples\n",
    "- One of the most common use cases for decorators in python is logging\n",
    "- and Timing how long functions run"
   ]
  },
  {
   "cell_type": "code",
   "execution_count": 24,
   "metadata": {},
   "outputs": [],
   "source": [
    "#logging\n",
    "def my_logger(orig_func):\n",
    "    import logging\n",
    "    #Setting up the logfile that matches the name of original function\n",
    "    logging.basicConfig(filename='{}.log'.format(orig_func.__name__),level=logging.INFO)\n",
    "\n",
    "    def wrapper(*args,**kwargs):\n",
    "        logging.info(\n",
    "            'Ran with args: {}, and kwargs: {}'.format(args,kwargs)\n",
    "        )\n",
    "        return orig_func(*args,**kwargs)\n",
    "    return wrapper"
   ]
  },
  {
   "cell_type": "code",
   "execution_count": 25,
   "metadata": {},
   "outputs": [
    {
     "name": "stdout",
     "output_type": "stream",
     "text": [
      "disply_info ran with arguments (John,25)\n"
     ]
    }
   ],
   "source": [
    "@my_logger\n",
    "def display_info(name,age):\n",
    "    print(\"disply_info ran with arguments ({},{})\".format(name,age))\n",
    "\n",
    "display_info(\"John\",25)"
   ]
  },
  {
   "cell_type": "code",
   "execution_count": 26,
   "metadata": {},
   "outputs": [],
   "source": [
    "#Timing how long functions run\n",
    "def my_timer(orig_func):\n",
    "    import time\n",
    "    def wrapper(*args,**kwagrs):\n",
    "        t1=time.time()\n",
    "        result = orig_func(*args,**kwagrs)\n",
    "        t2 = time.time() -t1\n",
    "        print(\"{} ran in: {} sec\".format(orig_func.__name__,t2))\n",
    "        return result\n",
    "    return wrapper"
   ]
  },
  {
   "cell_type": "code",
   "execution_count": 27,
   "metadata": {},
   "outputs": [
    {
     "name": "stdout",
     "output_type": "stream",
     "text": [
      "display_info ran with arguments (Migo, 32)\n",
      "display_info ran in: 1.0026862621307373 sec\n"
     ]
    }
   ],
   "source": [
    "import time\n",
    "@my_timer\n",
    "def display_info(name,age):\n",
    "    time.sleep(1)\n",
    "    print(\"display_info ran with arguments ({}, {})\".format(name,age))\n",
    "\n",
    "display_info(\"Migo\",32)"
   ]
  },
  {
   "cell_type": "markdown",
   "metadata": {},
   "source": [
    "### What if you want to apply two decorator to one function?\n",
    "You can just STACK them"
   ]
  },
  {
   "cell_type": "code",
   "execution_count": 28,
   "metadata": {},
   "outputs": [
    {
     "name": "stdout",
     "output_type": "stream",
     "text": [
      "display_info ran with arguments (Laco, 22)\n",
      "display_info ran in: 1.0036699771881104 sec\n"
     ]
    }
   ],
   "source": [
    "@my_logger\n",
    "@my_timer\n",
    "def display_info(name,age):\n",
    "    time.sleep(1)\n",
    "    print(\"display_info ran with arguments ({}, {})\".format(name,age))\n",
    "\n",
    "display_info(\"Laco\",22)"
   ]
  },
  {
   "cell_type": "markdown",
   "metadata": {},
   "source": [
    "### Here is a caveat\n",
    "When you use two wrappers, the chances are you can't refer to original function's name because:\n",
    "\n",
    "    outer wrapper will get the name of the function it wraps based on the return value from the inner wrapper.\n",
    "    Let's take an example."
   ]
  },
  {
   "cell_type": "code",
   "execution_count": 29,
   "metadata": {},
   "outputs": [
    {
     "name": "stdout",
     "output_type": "stream",
     "text": [
      "display_info ran with arguments (John, 30)\n",
      "display_info ran in: 1.0015292167663574 sec\n"
     ]
    }
   ],
   "source": [
    "@my_logger\n",
    "@my_timer\n",
    "def display_info(name,age):\n",
    "    time.sleep(1)\n",
    "    print(\"display_info ran with arguments ({}, {})\".format(name,age))\n",
    "\n",
    "display_info(\"John\",30)\n",
    "# This is equivalent to "
   ]
  },
  {
   "cell_type": "code",
   "execution_count": 30,
   "metadata": {},
   "outputs": [
    {
     "name": "stdout",
     "output_type": "stream",
     "text": [
      "wrapper\n"
     ]
    }
   ],
   "source": [
    "# But the result of my_timer(display_info) is wrapper function. \n",
    "def display_info(name,age):\n",
    "    time.sleep(1)\n",
    "    print(\"display_info ran with arguments ({}, {})\".format(name,age))\n",
    "\n",
    "display_info = my_timer(display_info)\n",
    "print(display_info.__name__)"
   ]
  },
  {
   "cell_type": "markdown",
   "metadata": {},
   "source": [
    "So, it makes sense logger wrapper gets the name of function as \"wrapper\", resulting in wrapper.log file.<br>\n",
    "Then, How do we fix something like this?<br>\n",
    "\n",
    "It's alwasy good idea to preserve the information of our original function whenever we use decorator. <br>\n",
    "We can do that by using the functool module's wrap decorator."
   ]
  },
  {
   "cell_type": "code",
   "execution_count": 31,
   "metadata": {},
   "outputs": [],
   "source": [
    "from functools import wraps\n",
    "\n",
    "#All wa have to do is decorate all of our wrappers with 'wraps' decorator\n",
    "#See thw following example.\n",
    "\n",
    "def my_logger(orig_func):\n",
    "    import logging\n",
    "    logging.basicConfig(filename='{}.log'.format(orig_func.__name__),level=logging.INFO)\n",
    "\n",
    "    #we just wrap this orignal function \n",
    "    @wraps(orig_func)\n",
    "    def wrapper(*args,**kwargs):\n",
    "        logging.info(\n",
    "            \"Ran with args: {}, nd kwargs: {}\".format(args,kwargs))\n",
    "        return orig_func(*args,**kwargs)\n",
    "    return wrapper\n",
    "\n",
    "def my_timer(orig_func):\n",
    "    import time\n",
    "    @wraps(orig_func)\n",
    "    def wrapper(*args,**kwagrs):\n",
    "        t1=time.time()\n",
    "        result = orig_func(*args,**kwagrs)\n",
    "        t2 = time.time() -t1\n",
    "        print(\"{} ran in: {} sec\".format(orig_func.__name__,t2))\n",
    "        return result\n",
    "    return wrapper"
   ]
  },
  {
   "cell_type": "code",
   "execution_count": 32,
   "metadata": {},
   "outputs": [
    {
     "name": "stdout",
     "output_type": "stream",
     "text": [
      "display_info ran with arguments (Hank, 30)\n",
      "display_info ran in: 1.0046803951263428 sec\n"
     ]
    }
   ],
   "source": [
    "@my_logger\n",
    "@my_timer\n",
    "def display_info(name,age):\n",
    "    time.sleep(1)\n",
    "    print(\"display_info ran with arguments ({}, {})\".format(name,age))\n",
    "\n",
    "display_info(\"Hank\",30)"
   ]
  },
  {
   "cell_type": "code",
   "execution_count": 33,
   "metadata": {},
   "outputs": [
    {
     "name": "stdout",
     "output_type": "stream",
     "text": [
      "display_info\n"
     ]
    }
   ],
   "source": [
    "def display_info(name,age):\n",
    "    time.sleep(1)\n",
    "    print(\"display_info ran with arguments ({}, {})\".format(name,age))\n",
    "\n",
    "display_info = my_timer(display_info)\n",
    "print(display_info.__name__)"
   ]
  },
  {
   "cell_type": "markdown",
   "metadata": {},
   "source": [
    "Now you can see it prints ***display_info*** instead of ***\"wrapper\"***<br>\n",
    "The same logic goes for when you want to keep docstring of function."
   ]
  },
  {
   "cell_type": "code",
   "execution_count": null,
   "metadata": {},
   "outputs": [],
   "source": []
  }
 ],
 "metadata": {
  "interpreter": {
   "hash": "f22a20af907fde35ff19e1e892fdb271353fb19b11c7ebd774491472e685293c"
  },
  "kernelspec": {
   "display_name": "Python 3.9.7 64-bit",
   "language": "python",
   "name": "python3"
  },
  "language_info": {
   "codemirror_mode": {
    "name": "ipython",
    "version": 3
   },
   "file_extension": ".py",
   "mimetype": "text/x-python",
   "name": "python",
   "nbconvert_exporter": "python",
   "pygments_lexer": "ipython3",
   "version": "3.9.7"
  },
  "orig_nbformat": 4
 },
 "nbformat": 4,
 "nbformat_minor": 2
}
