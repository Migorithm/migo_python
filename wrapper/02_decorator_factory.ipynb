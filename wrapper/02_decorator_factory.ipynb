{
 "cells": [
  {
   "cell_type": "markdown",
   "metadata": {},
   "source": [
    "### Decorator Factory (Decorators with arguments)\n",
    "A decorator factory is a function that returns a decorator.<br> \n",
    "Instead of returning a function (inner in our case), we will return a decorator (named “dec”).<br> \n",
    "Lets see this:"
   ]
  },
  {
   "cell_type": "code",
   "execution_count": 2,
   "metadata": {},
   "outputs": [
    {
     "name": "stdout",
     "output_type": "stream",
     "text": [
      "Executed before\n",
      "display_info ran with arguments (John, 90)\n",
      "Executed before\n"
     ]
    }
   ],
   "source": [
    "#simple wrapper\n",
    "from functools import wraps\n",
    "def decorator_function(orig_func):\n",
    "    @wraps(orig_func)\n",
    "    def wrapper_function(*args,**kwargs):\n",
    "        print(\"Executed before\")\n",
    "        result = orig_func(*args,**kwargs)\n",
    "        print(\"Executed before\")\n",
    "        return result\n",
    "    return wrapper_function\n",
    "\n",
    "@decorator_function\n",
    "def display_info(name,age):\n",
    "    print(\"display_info ran with arguments ({}, {})\".format(name,age))\n",
    "\n",
    "display_info(\"John\",90)\n"
   ]
  },
  {
   "cell_type": "code",
   "execution_count": 3,
   "metadata": {},
   "outputs": [
    {
     "name": "stdout",
     "output_type": "stream",
     "text": [
      "Log: Executed before\n",
      "display_info ran with arguments (John, 25)\n",
      "Log: Executed before\n"
     ]
    }
   ],
   "source": [
    "#Let's get our decorator function to accept arguments\n",
    "\n",
    "def prefix_decorator(prefix):\n",
    "    def decorator_function(orig_func):\n",
    "        @wraps(orig_func)\n",
    "        def wrapper_function(*args,**kwargs):\n",
    "            print(prefix, \"Executed before\")\n",
    "            result = orig_func(*args,**kwargs)\n",
    "            print(prefix, \"Executed before\")\n",
    "            return result\n",
    "        return wrapper_function\n",
    "    return decorator_function\n",
    "\n",
    "@prefix_decorator('Log:')\n",
    "def display_info(name,age):\n",
    "    print(\"display_info ran with arguments ({}, {})\".format(name,age))\n",
    "\n",
    "display_info(\"John\",25)"
   ]
  },
  {
   "cell_type": "markdown",
   "metadata": {},
   "source": [
    "## Class Decorator Factory\n",
    "Lets now look at an alternative way to generate the same behavior, but with a class.<br>\n",
    "\n",
    "A class is sometimes easier to make more complicated operations with,<br>\n",
    "\n",
    "and so its an important tool to have.<br>\n",
    "\n",
    "Lets do exactly what we did with the decorator factory function, this time with a class."
   ]
  },
  {
   "cell_type": "code",
   "execution_count": 8,
   "metadata": {},
   "outputs": [],
   "source": [
    "from time import perf_counter\n",
    "class Decorator_Factory_Class:\n",
    "    def __init__(self, num_loops):\n",
    "        self.num_loops = num_loops\n",
    "    def __call__(self, fn):\n",
    "          def inner(num):   \n",
    "            total_elapsed = 0\n",
    "            for i in range(self.num_loops):\n",
    "                start = perf_counter()\n",
    "                result = fn(num)\n",
    "                end = perf_counter()\n",
    "                total_elapsed += end - start\n",
    "            avg_run_time = total_elapsed/self.num_loops\n",
    "            print('num of loops is', self.num_loops)\n",
    "            return result\n",
    "          return inner"
   ]
  },
  {
   "cell_type": "code",
   "execution_count": 9,
   "metadata": {},
   "outputs": [
    {
     "name": "stdout",
     "output_type": "stream",
     "text": [
      "num of loops is 5\n"
     ]
    },
    {
     "data": {
      "text/plain": [
       "24"
      ]
     },
     "execution_count": 9,
     "metadata": {},
     "output_type": "execute_result"
    }
   ],
   "source": [
    "@Decorator_Factory_Class(5)\n",
    "def calc_factorial2(num):\n",
    "    if num < 0:\n",
    "        raise ValueError('Please use a number not smaller than 0')\n",
    "    product = 1\n",
    "    for i in range(num):\n",
    "        product = product * (i+1)\n",
    "    return product\n",
    "calc_factorial2(4)"
   ]
  },
  {
   "cell_type": "markdown",
   "metadata": {},
   "source": [
    "### Passing argument to wrapped function"
   ]
  },
  {
   "cell_type": "code",
   "execution_count": 10,
   "metadata": {},
   "outputs": [
    {
     "name": "stdout",
     "output_type": "stream",
     "text": [
      "a: 5\n",
      "b: 3\n"
     ]
    }
   ],
   "source": [
    "\n",
    "from functools import wraps\n",
    "\n",
    "def inject_variables(context):\n",
    "    \"\"\" Decorator factory. \"\"\"\n",
    "\n",
    "    def variable_injector(func):\n",
    "        \"\"\" Decorator. \"\"\"\n",
    "        @wraps(func)\n",
    "        def decorator(*args, **kwargs):\n",
    "            func_globals = func.__globals__\n",
    "\n",
    "            # Save copy of any global values that will be replaced.\n",
    "            saved_values = {key: func_globals[key] for key in context\n",
    "                                                        if key in func_globals}\n",
    "            func_globals.update(context)\n",
    "            try:\n",
    "                result = func(*args, **kwargs)\n",
    "            finally:\n",
    "                func_globals.update(saved_values)  # Restore replaced globals.\n",
    "\n",
    "            return result\n",
    "\n",
    "        return decorator\n",
    "\n",
    "    return variable_injector\n",
    "\n",
    "\n",
    "\n",
    "namespace = dict(a=5, b=3)\n",
    "\n",
    "@inject_variables(namespace)\n",
    "def test():\n",
    "    print('a:', a)\n",
    "    print('b:', b)\n",
    "\n",
    "test()"
   ]
  }
 ],
 "metadata": {
  "interpreter": {
   "hash": "f22a20af907fde35ff19e1e892fdb271353fb19b11c7ebd774491472e685293c"
  },
  "kernelspec": {
   "display_name": "Python 3.9.7 64-bit",
   "language": "python",
   "name": "python3"
  },
  "language_info": {
   "codemirror_mode": {
    "name": "ipython",
    "version": 3
   },
   "file_extension": ".py",
   "mimetype": "text/x-python",
   "name": "python",
   "nbconvert_exporter": "python",
   "pygments_lexer": "ipython3",
   "version": "3.8.10"
  },
  "orig_nbformat": 4
 },
 "nbformat": 4,
 "nbformat_minor": 2
}
