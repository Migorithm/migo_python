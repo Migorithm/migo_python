{
 "cells": [
  {
   "cell_type": "markdown",
   "metadata": {},
   "source": [
    "### JSON Web Signature (JWS) \n",
    "\n"
   ]
  },
  {
   "cell_type": "code",
   "execution_count": null,
   "metadata": {},
   "outputs": [],
   "source": [
    "from itsdangerous import TimedJSONWebSignatureSerializer as Serializer"
   ]
  },
  {
   "cell_type": "code",
   "execution_count": 1,
   "metadata": {},
   "outputs": [],
   "source": [
    "def generate_confirmation_token(self,expiration=300):\n",
    "    s = Serializer(\"SECRET_KEY\",expiration)\n",
    "    return s.dumps({\"confirm\":self.id}).decode(\"utf-8\") #PK of this instance\n"
   ]
  },
  {
   "cell_type": "code",
   "execution_count": 6,
   "metadata": {},
   "outputs": [
    {
     "ename": "AttributeError",
     "evalue": "type object 'auth' has no attribute 'route'",
     "output_type": "error",
     "traceback": [
      "\u001b[1;31m---------------------------------------------------------------------------\u001b[0m",
      "\u001b[1;31mAttributeError\u001b[0m                            Traceback (most recent call last)",
      "\u001b[1;32mc:\\migo_python\\system_related\\jwt_.ipynb Cell 4'\u001b[0m in \u001b[0;36m<module>\u001b[1;34m\u001b[0m\n\u001b[0;32m     <a href='vscode-notebook-cell:/c%3A/migo_python/system_related/jwt_.ipynb#ch0000003?line=9'>10</a>\u001b[0m db \u001b[39m=\u001b[39m SQLAlchemy()\n\u001b[0;32m     <a href='vscode-notebook-cell:/c%3A/migo_python/system_related/jwt_.ipynb#ch0000003?line=10'>11</a>\u001b[0m user\u001b[39m=\u001b[39m User()\n\u001b[1;32m---> <a href='vscode-notebook-cell:/c%3A/migo_python/system_related/jwt_.ipynb#ch0000003?line=12'>13</a>\u001b[0m \u001b[39m@auth\u001b[39m\u001b[39m.\u001b[39;49mroute(\u001b[39m'\u001b[39m\u001b[39m/register\u001b[39m\u001b[39m'\u001b[39m,methods\u001b[39m=\u001b[39m[\u001b[39m\"\u001b[39m\u001b[39mGET\u001b[39m\u001b[39m\"\u001b[39m,\u001b[39m\"\u001b[39m\u001b[39mPOST\u001b[39m\u001b[39m\"\u001b[39m])\n\u001b[0;32m     <a href='vscode-notebook-cell:/c%3A/migo_python/system_related/jwt_.ipynb#ch0000003?line=13'>14</a>\u001b[0m \u001b[39mdef\u001b[39;00m \u001b[39mregister\u001b[39m():\n\u001b[0;32m     <a href='vscode-notebook-cell:/c%3A/migo_python/system_related/jwt_.ipynb#ch0000003?line=14'>15</a>\u001b[0m     form \u001b[39m=\u001b[39m RegistrationForm()\n\u001b[0;32m     <a href='vscode-notebook-cell:/c%3A/migo_python/system_related/jwt_.ipynb#ch0000003?line=15'>16</a>\u001b[0m     \u001b[39mif\u001b[39;00m form\u001b[39m.\u001b[39mvalidate_on_submit():\n",
      "\u001b[1;31mAttributeError\u001b[0m: type object 'auth' has no attribute 'route'"
     ]
    }
   ],
   "source": [
    "class RegistrationForm():\n",
    "    def validate_on_submit():\n",
    "        pass\n",
    "class User:\n",
    "    pass\n",
    "class SQLAlchemy:\n",
    "    pass\n",
    "class auth:\n",
    "    @staticmethod\n",
    "    def route():\n",
    "        pass\n",
    "db = SQLAlchemy()\n",
    "user= User()\n",
    "\n",
    "@auth.route('/register',methods=[\"GET\",\"POST\"])\n",
    "def register():\n",
    "    form = RegistrationForm()\n",
    "    if form.validate_on_submit():\n",
    "        user = User(email=form.email.data,\n",
    "                    password=form.password.data,\n",
    "                    username=form.username.data)\n",
    "        db.session.add(user)\n",
    "        db.session.commit()\n",
    "        token = user.generate_confirmation_token()\n",
    "        send_email(user.email,\"Confirm Your account\",\"auth/email/confirm\",user=user,token=token)\n",
    "\n"
   ]
  },
  {
   "cell_type": "code",
   "execution_count": null,
   "metadata": {},
   "outputs": [],
   "source": [
    "from flask import Flask\n",
    "from flask import render_template\n",
    "class Message:\n",
    "    pass\n",
    "class mail:\n",
    "    def send(self,msg):\n",
    "        pass\n",
    "\n",
    "\n",
    "app = Flask(__name__)\n",
    "\n",
    "def send_email(to,subject,template,**kwargs):\n",
    "    app = app\n",
    "   \n",
    "    msg = Message(app.config[\"MAIL_SUBJECT_PREFIX\"]+ subject,\n",
    "                  sender=app.config[\"MAIL_SENDER\"],recipients=[to])\n",
    "    msg.body = render_template(template+\".txt\", **kwargs)\n",
    "    msg.html = render_template(template+\".html\", **kwargs)   #Here, we gonna look into /auth/email/confirm.txt and ~.html\n",
    "   \n",
    "    mail.send(msg)\n",
    "    return \n"
   ]
  },
  {
   "cell_type": "code",
   "execution_count": 3,
   "metadata": {},
   "outputs": [
    {
     "ename": "SyntaxError",
     "evalue": "invalid syntax (3864199204.py, line 1)",
     "output_type": "error",
     "traceback": [
      "\u001b[1;36m  Input \u001b[1;32mIn [3]\u001b[1;36m\u001b[0m\n\u001b[1;33m    <!-- /auth/email/confirm.html-->\u001b[0m\n\u001b[1;37m    ^\u001b[0m\n\u001b[1;31mSyntaxError\u001b[0m\u001b[1;31m:\u001b[0m invalid syntax\n"
     ]
    }
   ],
   "source": [
    "<!-- /auth/email/confirm.html -->\n",
    "\n",
    "<p>Dear {{ user.username }},</p>\n",
    "<p>Welcome to <b>Vertica Project</b>!</p>\n",
    "<p>To confirm your account please <a href=\"{{ url_for('auth.confirm', token=token, _external=True) }}\">click here</a>.</p> ### Here we attached token at the end of url.\n",
    "<p>Alternatively, you can paste the following link in your browser address bar:</p>\n",
    "<p>{{ url_for('auth.confirm', token=token, _external=True) }}</p>\n",
    "<p>Sincerely,</p>\n",
    "<p>The Flasky Team</p>\n",
    "<p><small>Note: replies to this email address are not monitored.</small></p>\n"
   ]
  },
  {
   "cell_type": "code",
   "execution_count": null,
   "metadata": {},
   "outputs": [],
   "source": [
    "@auth.route(\"confirm/<token>\")\n",
    "def confirm(token):\n",
    "    if current_user.confirmed:\n",
    "        return redirect(url_for('main.index'))\n",
    "    if current_user.confirm(token):\n",
    "        db.session.commit()\n",
    "        flash(\"You've confirmed your account!\")\n",
    "    else:\n",
    "        flash(\"The confirmation link is invalid or has expired\")\n",
    "    return redirect(url_for('main.index'))\n"
   ]
  },
  {
   "cell_type": "code",
   "execution_count": null,
   "metadata": {},
   "outputs": [],
   "source": []
  },
  {
   "cell_type": "code",
   "execution_count": 4,
   "metadata": {},
   "outputs": [],
   "source": [
    "def confirm(self,token):\n",
    "    s = Serializer(\"SECRET_KEY\") #use the same secret key\n",
    "    try:\n",
    "        data = s.loads(token.encode('utf-8'))\n",
    "    except:\n",
    "        return False\n",
    "    if data.get('confirm') != self.id:\n",
    "        return False\n",
    "    self.confirmed = True  #confirmed. Not confirm.\n",
    "    db.session.add(self)\n",
    "    return True\n",
    "\n"
   ]
  },
  {
   "cell_type": "code",
   "execution_count": null,
   "metadata": {},
   "outputs": [],
   "source": []
  }
 ],
 "metadata": {
  "interpreter": {
   "hash": "3c774bbcc5b2f7006b3f86ef4be25d8d27188f10abfcd0877483362b5854f169"
  },
  "kernelspec": {
   "display_name": "Python 3.10.2 64-bit",
   "language": "python",
   "name": "python3"
  },
  "language_info": {
   "codemirror_mode": {
    "name": "ipython",
    "version": 3
   },
   "file_extension": ".py",
   "mimetype": "text/x-python",
   "name": "python",
   "nbconvert_exporter": "python",
   "pygments_lexer": "ipython3",
   "version": "3.10.2"
  },
  "orig_nbformat": 4
 },
 "nbformat": 4,
 "nbformat_minor": 2
}
